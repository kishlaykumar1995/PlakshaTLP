{
  "nbformat": 4,
  "nbformat_minor": 0,
  "metadata": {
    "colab": {
      "provenance": [],
      "collapsed_sections": []
    },
    "kernelspec": {
      "name": "python3",
      "display_name": "Python 3"
    },
    "language_info": {
      "name": "python"
    }
  },
  "cells": [
    {
      "cell_type": "code",
      "execution_count": 1,
      "metadata": {
        "id": "fJNYVdxmsm8F"
      },
      "outputs": [],
      "source": [
        "# Imports\n",
        "import math\n",
        "import torch\n",
        "import numpy as np\n",
        "import pandas as pd\n",
        "import matplotlib.pyplot as plt"
      ]
    },
    {
      "cell_type": "markdown",
      "source": [
        "### Task 1: Creating the single layer perceptron (3 points)\n",
        "\n",
        "In this lab we will focus on the perceptron, and how it can be used to model logic gates. Further, this same idea can be extended further due to perceptrons being a universal function approximator"
      ],
      "metadata": {
        "id": "ZxYOhSDgTJ5z"
      }
    },
    {
      "cell_type": "markdown",
      "source": [
        "**Implement the `sigmoid` function** *(1 point)*\n",
        "\n",
        "$𝑆(x) = \\frac{1}{1 + e^{-x}}$\n",
        "\n"
      ],
      "metadata": {
        "id": "fgU5WY3TV-GM"
      }
    },
    {
      "cell_type": "code",
      "source": [
        "def sigmoid(x):\n",
        "  '''\n",
        "    Applies the sigmoid function to the given input\n",
        "\n",
        "    Parameters\n",
        "    ----------\n",
        "    x: torch.Tensor\n",
        "        Input array/tensor\n",
        "\n",
        "    Returns\n",
        "    -------\n",
        "    out: torch.Tensor\n",
        "        Tensor after applying sigmoid function to it\n",
        "  '''\n",
        "  return 1/(1+torch.exp(-x))"
      ],
      "metadata": {
        "id": "44NvwA86iYS5"
      },
      "execution_count": 2,
      "outputs": []
    },
    {
      "cell_type": "markdown",
      "source": [
        "**Implement the `perceptron` function** *(1 point)*\n",
        "\n",
        "$y' = x \\bullet W^t + b$"
      ],
      "metadata": {
        "id": "J-Tunf1PWDRG"
      }
    },
    {
      "cell_type": "code",
      "source": [
        "def perceptron(inputs, weights, bias):\n",
        "  '''\n",
        "    Defines the single layer perceptron model\n",
        "  '''\n",
        "  return sigmoid(torch.matmul(inputs, weights.T) + bias)"
      ],
      "metadata": {
        "id": "8wzx5Zt-haY8"
      },
      "execution_count": 3,
      "outputs": []
    },
    {
      "cell_type": "markdown",
      "source": [
        "**Implement the `binary_cross_entropy` function** *(1 point)*\n",
        "\n",
        "$\\mathrm{Loss} = - \\frac{1}{\\mathrm{N}} \\sum_{i=1}^{\\mathrm{N}} y_i \\cdot \\mathrm{log}\\; {\\hat{y}}_i + (1-y_i) \\cdot \\mathrm{log}\\; (1-{\\hat{y}}_i)$"
      ],
      "metadata": {
        "id": "STk3yf2tWFM3"
      }
    },
    {
      "cell_type": "code",
      "source": [
        "def binary_cross_entropy(preds, targets):\n",
        "  '''\n",
        "    Applies binary cross entropy given predictions and ground truth\n",
        "  '''\n",
        "  return -torch.mean(targets*torch.log(preds) + (1-targets)*torch.log(1-preds))"
      ],
      "metadata": {
        "id": "lAg5YyfPiL9i"
      },
      "execution_count": 4,
      "outputs": []
    },
    {
      "cell_type": "markdown",
      "source": [
        "## AND Gate"
      ],
      "metadata": {
        "id": "PitABqssebNz"
      }
    },
    {
      "cell_type": "code",
      "source": [
        "and_data = np.array([[0,0,0],\n",
        "                     [0,1,0],\n",
        "                     [1,0,0],\n",
        "                     [1,1,1]])\n",
        "\n",
        "# Creating a PyTorch tensor\n",
        "and_data = torch.Tensor(and_data)"
      ],
      "metadata": {
        "id": "9pVPVp6WeJfu"
      },
      "execution_count": 5,
      "outputs": []
    },
    {
      "cell_type": "code",
      "source": [
        "# Same slicing as np arrays\n",
        "X = and_data[:,:-1]\n",
        "y = and_data[:,-1:]"
      ],
      "metadata": {
        "id": "miB9u_0yfGWf"
      },
      "execution_count": 6,
      "outputs": []
    },
    {
      "cell_type": "code",
      "source": [
        "W = torch.randn((1,2), requires_grad=True)\n",
        "b = torch.randn((1,1), requires_grad=True)"
      ],
      "metadata": {
        "id": "zt5YcThwf_3f"
      },
      "execution_count": 7,
      "outputs": []
    },
    {
      "cell_type": "markdown",
      "source": [
        "**Create the training loop** *(1 point)*"
      ],
      "metadata": {
        "id": "thpCI3K1WID_"
      }
    },
    {
      "cell_type": "code",
      "source": [
        "n_epochs = 100\n",
        "lr = 5e-1\n",
        "losses = []\n",
        "for _ in range(n_epochs):\n",
        "  # Define the Training Loop here\n",
        "  # \n",
        "  # Get predictions\n",
        "  # Calculate Loss\n",
        "  # Do a backward step (to calculate gradients)\n",
        "  # Update Weights\n",
        "  # Append Loss\n",
        "  pred = perceptron(X, W, b)\n",
        "  loss = binary_cross_entropy(pred, y)\n",
        "  losses.append(loss.item())\n",
        "  loss.backward()         # Propagate the loss backwards (Stored in W.grad and b.grad)\n",
        "\n",
        "  \n",
        "  with torch.no_grad():          # Gradients must be detached from computational graph         \n",
        "    W = W.subtract(lr*W.grad)\n",
        "    b = b.subtract(lr*b.grad)\n",
        "  \n",
        "  '''\n",
        "  with torch.no_grad():\n",
        "    W -= lr*W.grad\n",
        "    b -= lr*b.grad\n",
        "  '''\n",
        "  \n",
        "  W.requires_grad = True         # Need to reset requires_grad since the variables 'W' and 'b' have now been modified\n",
        "  b.requires_grad = True\n",
        "  #print(W, W.grad)\n",
        "\n",
        "W,b"
      ],
      "metadata": {
        "id": "Htp_t7erfnY-",
        "colab": {
          "base_uri": "https://localhost:8080/"
        },
        "outputId": "e8cff494-3a51-4e9a-ca8a-42f091117631"
      },
      "execution_count": 8,
      "outputs": [
        {
          "output_type": "execute_result",
          "data": {
            "text/plain": [
              "(tensor([[2.1216, 1.8911]], requires_grad=True),\n",
              " tensor([[-3.2808]], requires_grad=True))"
            ]
          },
          "metadata": {},
          "execution_count": 8
        }
      ]
    },
    {
      "cell_type": "code",
      "source": [
        "plt.plot(losses)"
      ],
      "metadata": {
        "id": "ZhGdWNaNkIJK",
        "colab": {
          "base_uri": "https://localhost:8080/",
          "height": 282
        },
        "outputId": "d3ad15fc-5663-43a8-c00d-16ed08aeb2bc"
      },
      "execution_count": 9,
      "outputs": [
        {
          "output_type": "execute_result",
          "data": {
            "text/plain": [
              "[<matplotlib.lines.Line2D at 0x7ff1c8dc0f10>]"
            ]
          },
          "metadata": {},
          "execution_count": 9
        },
        {
          "output_type": "display_data",
          "data": {
            "text/plain": [
              "<Figure size 432x288 with 1 Axes>"
            ],
            "image/png": "[encoded data removed]"
          },
          "metadata": {
            "needs_background": "light"
          }
        }
      ]
    },
    {
      "cell_type": "code",
      "source": [
        "with torch.no_grad():\n",
        "  print((perceptron(X, W, b) > 0.5).int())"
      ],
      "metadata": {
        "colab": {
          "base_uri": "https://localhost:8080/"
        },
        "id": "_AFaaDwkkbWK",
        "outputId": "8e5c0bb9-643e-4e8e-dc5f-8c69e7b7f86c"
      },
      "execution_count": 10,
      "outputs": [
        {
          "output_type": "stream",
          "name": "stdout",
          "text": [
            "tensor([[0],\n",
            "        [0],\n",
            "        [0],\n",
            "        [1]], dtype=torch.int32)\n"
          ]
        }
      ]
    },
    {
      "cell_type": "markdown",
      "source": [
        "## OR Gate"
      ],
      "metadata": {
        "id": "nxayZJ1UlLhR"
      }
    },
    {
      "cell_type": "code",
      "source": [
        "or_data = np.array([[0,0,0],\n",
        "                     [0,1,1],\n",
        "                     [1,0,1],\n",
        "                     [1,1,1]])\n",
        "\n",
        "# Creating a PyTorch tensor\n",
        "or_data = torch.Tensor(or_data)"
      ],
      "metadata": {
        "id": "O-C34mEjlFmj"
      },
      "execution_count": 11,
      "outputs": []
    },
    {
      "cell_type": "code",
      "source": [
        "# Same slicing as np arrays\n",
        "X = or_data[:,:-1]\n",
        "y = or_data[:,-1:]"
      ],
      "metadata": {
        "id": "vxOYpywhlVMm"
      },
      "execution_count": 12,
      "outputs": []
    },
    {
      "cell_type": "code",
      "source": [
        "W = torch.randn((1,2), requires_grad=True)\n",
        "b = torch.randn((1,1), requires_grad=True)"
      ],
      "metadata": {
        "id": "unqZ4I0vlVPB"
      },
      "execution_count": 13,
      "outputs": []
    },
    {
      "cell_type": "markdown",
      "source": [
        "**Reuse the training loop**"
      ],
      "metadata": {
        "id": "Nh9u6mxAWNhn"
      }
    },
    {
      "cell_type": "code",
      "source": [
        "n_epochs = 100\n",
        "lr = 5e-1\n",
        "losses = []\n",
        "for _ in range(n_epochs):\n",
        "  # Define the Training Loop here\n",
        "  # \n",
        "  # Get predictions\n",
        "  # Calculate Loss\n",
        "  # Do a backward step (to calculate gradients)\n",
        "  # Update Weights\n",
        "  # Append Loss\n",
        "  pred = perceptron(X, W, b)\n",
        "  loss = binary_cross_entropy(pred, y)\n",
        "  losses.append(loss.item())\n",
        "  loss.backward()\n",
        "  \n",
        "  with torch.no_grad():\n",
        "    W = W.subtract(lr*W.grad)\n",
        "    b = b.subtract(lr*b.grad)\n",
        "  \n",
        "  W.requires_grad = True\n",
        "  b.requires_grad = True\n",
        "\n",
        "W,b"
      ],
      "metadata": {
        "id": "L0KkuJdhlVRV",
        "outputId": "2cb75e9d-1de8-4036-d44d-8c2891699001",
        "colab": {
          "base_uri": "https://localhost:8080/"
        }
      },
      "execution_count": 14,
      "outputs": [
        {
          "output_type": "execute_result",
          "data": {
            "text/plain": [
              "(tensor([[2.5857, 2.9174]], requires_grad=True),\n",
              " tensor([[-0.7324]], requires_grad=True))"
            ]
          },
          "metadata": {},
          "execution_count": 14
        }
      ]
    },
    {
      "cell_type": "code",
      "source": [
        "plt.plot(losses)"
      ],
      "metadata": {
        "id": "mNDDOtiblVTt",
        "colab": {
          "base_uri": "https://localhost:8080/",
          "height": 282
        },
        "outputId": "316212ce-944c-4ab0-99b5-1efff4f33e1f"
      },
      "execution_count": 15,
      "outputs": [
        {
          "output_type": "execute_result",
          "data": {
            "text/plain": [
              "[<matplotlib.lines.Line2D at 0x7ff1c88b6cd0>]"
            ]
          },
          "metadata": {},
          "execution_count": 15
        },
        {
          "output_type": "display_data",
          "data": {
            "text/plain": [
              "<Figure size 432x288 with 1 Axes>"
            ],
            "image/png": "[encoded data removed]"
          },
          "metadata": {
            "needs_background": "light"
          }
        }
      ]
    },
    {
      "cell_type": "code",
      "source": [
        "with torch.no_grad():\n",
        "  print((perceptron(X, W, b) > 0.5).int())"
      ],
      "metadata": {
        "id": "X3UCWJUXlVV5",
        "outputId": "5e8a8236-a81a-45c9-c243-1d287ab73209",
        "colab": {
          "base_uri": "https://localhost:8080/"
        }
      },
      "execution_count": 16,
      "outputs": [
        {
          "output_type": "stream",
          "name": "stdout",
          "text": [
            "tensor([[0],\n",
            "        [1],\n",
            "        [1],\n",
            "        [1]], dtype=torch.int32)\n"
          ]
        }
      ]
    },
    {
      "cell_type": "markdown",
      "source": [
        "## XOR Gate"
      ],
      "metadata": {
        "id": "wiDm-OVLmPbJ"
      }
    },
    {
      "cell_type": "code",
      "source": [
        "xor_data = np.array([[0,0,0],\n",
        "                     [0,1,1],\n",
        "                     [1,0,1],\n",
        "                     [1,1,0]])\n",
        "\n",
        "# Creating a PyTorch tensor\n",
        "xor_data = torch.Tensor(xor_data)"
      ],
      "metadata": {
        "id": "OKEcg3LhmO96"
      },
      "execution_count": 17,
      "outputs": []
    },
    {
      "cell_type": "code",
      "source": [
        "# Same slicing as np arrays\n",
        "X = xor_data[:,:-1]\n",
        "y = xor_data[:,-1:]"
      ],
      "metadata": {
        "id": "zKIahsfhmdlZ"
      },
      "execution_count": 18,
      "outputs": []
    },
    {
      "cell_type": "code",
      "source": [
        "W = torch.randn((1,2), requires_grad=True)\n",
        "b = torch.randn((1,1), requires_grad=True)"
      ],
      "metadata": {
        "id": "OoSEcw4_mgX_"
      },
      "execution_count": 19,
      "outputs": []
    },
    {
      "cell_type": "markdown",
      "source": [
        "**Reuse the training loop**"
      ],
      "metadata": {
        "id": "pnwosFetWV0g"
      }
    },
    {
      "cell_type": "code",
      "source": [
        "n_epochs = 100\n",
        "lr = 5e-1\n",
        "losses = []\n",
        "for _ in range(n_epochs):\n",
        "  # Define the Training Loop here\n",
        "  # \n",
        "  # Get predictions\n",
        "  # Calculate Loss\n",
        "  # Do a backward step (to calculate gradients)\n",
        "  # Update Weights\n",
        "  # Append Loss\n",
        "  pred = perceptron(X, W, b)\n",
        "  loss = binary_cross_entropy(pred, y)\n",
        "  losses.append(loss.item())\n",
        "  loss.backward()\n",
        "  \n",
        "  with torch.no_grad():\n",
        "    W = W.subtract(lr*W.grad)\n",
        "    b = b.subtract(lr*b.grad)\n",
        "  \n",
        "  W.requires_grad = True\n",
        "  b.requires_grad = True\n",
        "\n",
        "W,b"
      ],
      "metadata": {
        "id": "wSqYPKw1miXl",
        "outputId": "5b95083b-36da-4fd5-ccf0-c4af5d0ecd78",
        "colab": {
          "base_uri": "https://localhost:8080/"
        }
      },
      "execution_count": 20,
      "outputs": [
        {
          "output_type": "execute_result",
          "data": {
            "text/plain": [
              "(tensor([[0.0101, 0.1068]], requires_grad=True),\n",
              " tensor([[-0.0694]], requires_grad=True))"
            ]
          },
          "metadata": {},
          "execution_count": 20
        }
      ]
    },
    {
      "cell_type": "code",
      "source": [
        "plt.plot(losses)"
      ],
      "metadata": {
        "id": "yxOtiWiamnvE",
        "colab": {
          "base_uri": "https://localhost:8080/",
          "height": 282
        },
        "outputId": "e8cd29bc-0bc0-4d2e-e4f0-0a9667473b4b"
      },
      "execution_count": 21,
      "outputs": [
        {
          "output_type": "execute_result",
          "data": {
            "text/plain": [
              "[<matplotlib.lines.Line2D at 0x7ff1c883f210>]"
            ]
          },
          "metadata": {},
          "execution_count": 21
        },
        {
          "output_type": "display_data",
          "data": {
            "text/plain": [
              "<Figure size 432x288 with 1 Axes>"
            ],
            "image/png": "[encoded data removed]"
          },
          "metadata": {
            "needs_background": "light"
          }
        }
      ]
    },
    {
      "cell_type": "code",
      "source": [
        "# Even though the loss function converges, the results are wrong because XOR is not linearly seperable\n",
        "with torch.no_grad():\n",
        "  print((perceptron(X, W, b) > 0.5).int())"
      ],
      "metadata": {
        "colab": {
          "base_uri": "https://localhost:8080/"
        },
        "id": "cG7JSCcKmpHq",
        "outputId": "38d1624e-237d-4d0a-86ae-3b09cd70eec8"
      },
      "execution_count": 22,
      "outputs": [
        {
          "output_type": "stream",
          "name": "stdout",
          "text": [
            "tensor([[0],\n",
            "        [1],\n",
            "        [0],\n",
            "        [1]], dtype=torch.int32)\n"
          ]
        }
      ]
    },
    {
      "cell_type": "markdown",
      "source": [
        "## Need for MLP\n",
        "\n",
        "As seen above, we are unable to model the XOR gate using a single layer perceptron, so we need to add a hidden layer."
      ],
      "metadata": {
        "id": "likiWP34nI7w"
      }
    },
    {
      "cell_type": "code",
      "source": [
        "W1 = torch.randn((10,2), requires_grad=True)\n",
        "W2 = torch.randn((1,10), requires_grad=True)\n",
        "b1 = torch.randn((1,10), requires_grad=True)\n",
        "b2 = torch.randn((1,1), requires_grad=True)"
      ],
      "metadata": {
        "id": "5EAfHk5EmrWx"
      },
      "execution_count": 23,
      "outputs": []
    },
    {
      "cell_type": "markdown",
      "source": [
        "**Implement the `mlp` function** *(1 point)*"
      ],
      "metadata": {
        "id": "IgLcqBZvWiBB"
      }
    },
    {
      "cell_type": "code",
      "source": [
        "def mlp(inputs, W1, W2, b1, b2):\n",
        "  '''\n",
        "    Defines the multi-layer perceptron model\n",
        "\n",
        "    Note: Only 1 hidden layer\n",
        "  '''\n",
        "  l1_out = sigmoid(torch.matmul(inputs, W1.T) + b1)   # Perform linear combination on input layer, followed by activation function and pass the result to the second layer\n",
        "  l2_out = sigmoid(torch.matmul(l1_out, W2.T) + b2)\n",
        "  return l2_out"
      ],
      "metadata": {
        "id": "HPkqgXl0nTOu"
      },
      "execution_count": 24,
      "outputs": []
    },
    {
      "cell_type": "markdown",
      "source": [
        "**Reuse the training loop**\n",
        "\n",
        "NOTE: It will require slight modification due to the hidden layer"
      ],
      "metadata": {
        "id": "WSYnvKmHWXwx"
      }
    },
    {
      "cell_type": "code",
      "source": [
        "n_epochs = 1000\n",
        "lr = 5e-1\n",
        "losses = []\n",
        "for _ in range(n_epochs):\n",
        "  # Define the Training Loop here\n",
        "  # \n",
        "  # Get predictions\n",
        "  # Calculate Loss\n",
        "  # Do a backward step (to calculate gradients)\n",
        "  # Update Weights\n",
        "  # Append Loss\n",
        "  pred = mlp(X, W1, W2, b1, b2)\n",
        "  loss = binary_cross_entropy(pred, y)\n",
        "  losses.append(loss.item())\n",
        "  loss.backward()\n",
        "  \n",
        "  with torch.no_grad():             # Update the weights and biases of both layers\n",
        "    W2 = W2.subtract(lr*W2.grad)\n",
        "    b2 = b2.subtract(lr*b2.grad)\n",
        "    W1 = W1.subtract(lr*W1.grad)\n",
        "    b1 = b1.subtract(lr*b1.grad)\n",
        "  \n",
        "  W2.requires_grad = True\n",
        "  b2.requires_grad = True\n",
        "  W1.requires_grad = True\n",
        "  b1.requires_grad = True\n",
        "\n",
        "\n",
        "W1,W2,b1,b2"
      ],
      "metadata": {
        "id": "CGNWK3rvn4YA",
        "colab": {
          "base_uri": "https://localhost:8080/"
        },
        "outputId": "c0de1827-9df3-4bc8-f4ab-3f6e0d60a798"
      },
      "execution_count": 25,
      "outputs": [
        {
          "output_type": "execute_result",
          "data": {
            "text/plain": [
              "(tensor([[ 4.7904, -3.5268],\n",
              "         [ 0.8887, -1.4294],\n",
              "         [-3.8022, -4.5976],\n",
              "         [ 0.7859, -0.5554],\n",
              "         [-2.8257,  1.2470],\n",
              "         [ 1.5147,  0.2531],\n",
              "         [ 2.5219, -1.0451],\n",
              "         [ 4.8832, -5.6945],\n",
              "         [ 2.6242, -3.4807],\n",
              "         [-0.7692, -0.9287]], requires_grad=True),\n",
              " tensor([[-5.5917,  1.1680, -5.0610, -0.2323,  3.0780, -1.0881, -1.8628,  7.2356,\n",
              "           3.0266, -0.9186]], requires_grad=True),\n",
              " tensor([[ 1.5154, -1.1843,  1.1877,  0.1159, -0.1618, -1.2904,  0.0525, -2.5633,\n",
              "          -1.5478, -1.9227]], requires_grad=True),\n",
              " tensor([[2.9189]], requires_grad=True))"
            ]
          },
          "metadata": {},
          "execution_count": 25
        }
      ]
    },
    {
      "cell_type": "code",
      "source": [
        "plt.plot(losses)"
      ],
      "metadata": {
        "id": "aCQ1ytUQn7rR",
        "colab": {
          "base_uri": "https://localhost:8080/",
          "height": 282
        },
        "outputId": "373eae3a-51de-4be8-deef-9add521ba6eb"
      },
      "execution_count": 26,
      "outputs": [
        {
          "output_type": "execute_result",
          "data": {
            "text/plain": [
              "[<matplotlib.lines.Line2D at 0x7ff1c882a790>]"
            ]
          },
          "metadata": {},
          "execution_count": 26
        },
        {
          "output_type": "display_data",
          "data": {
            "text/plain": [
              "<Figure size 432x288 with 1 Axes>"
            ],
            "image/png": "[encoded data removed]"
          },
          "metadata": {
            "needs_background": "light"
          }
        }
      ]
    },
    {
      "cell_type": "code",
      "source": [
        "with torch.no_grad():\n",
        "  print((mlp(X, W1, W2, b1, b2) > 0.5).int())"
      ],
      "metadata": {
        "colab": {
          "base_uri": "https://localhost:8080/"
        },
        "id": "f79jOcDZoXwl",
        "outputId": "c7f8bc4b-72b5-4995-a8e4-019016bdcb2c"
      },
      "execution_count": 27,
      "outputs": [
        {
          "output_type": "stream",
          "name": "stdout",
          "text": [
            "tensor([[0],\n",
            "        [1],\n",
            "        [1],\n",
            "        [0]], dtype=torch.int32)\n"
          ]
        }
      ]
    },
    {
      "cell_type": "code",
      "source": [],
      "metadata": {
        "id": "BjnbcW39tfOh"
      },
      "execution_count": 27,
      "outputs": []
    }
  ]
}