{
  "nbformat": 4,
  "nbformat_minor": 0,
  "metadata": {
    "colab": {
      "provenance": [],
      "collapsed_sections": []
    },
    "kernelspec": {
      "name": "python3",
      "display_name": "Python 3"
    },
    "language_info": {
      "name": "python"
    }
  },
  "cells": [
    {
      "cell_type": "code",
      "source": [
        "from collections import deque\n",
        "\n",
        "class Graph:\n",
        "    # example of adjacency list (or rather map) containing node: (neigbhor node, weight of edge)\n",
        "    # adjacency_list = {\n",
        "    # 'A': [('B', 1), ('C', 3), ('D', 7)],\n",
        "    # 'B': [('D', 5)],\n",
        "    # 'C': [('D', 12)]\n",
        "    # }\n",
        "\n",
        "    # initialises object with the given node: neighbor list\n",
        "    def __init__(self, adjacency_list):\n",
        "        self.adjacency_list = adjacency_list\n",
        "\n",
        "    # gets the neighbor of a given node v from the list\n",
        "    def get_neighbors(self, v):\n",
        "        return self.adjacency_list[v]\n",
        "\n",
        "    # heuristic function with values for all nodes\n",
        "    def h(self, n):\n",
        "        H_dist = {\n",
        "            'A': 11,\n",
        "            'B': 6,\n",
        "            'C': 99,\n",
        "            'D': 1,\n",
        "            'E': 7,\n",
        "            'G': 0,    \n",
        "        }\n",
        "        return H_dist[n]\n",
        "\n",
        "    def a_star(self, start_node, stop_node):\n",
        "        # store visited nodes with uninspected neighbors in open_list, starting with the start node\n",
        "        # store visited nodes with inspected neighbors in closed_list\n",
        "        open_list = set([start_node])\n",
        "        closed_list = set([])\n",
        "\n",
        "        # g contains current distances from start_node to all other nodes\n",
        "        # the default value (if it's not found in the map) is +infinity\n",
        "        g = {}\n",
        "\n",
        "        g[start_node] = 0\n",
        "        for node in ['B','C','D','E','G']:\n",
        "          g[node] = float('inf')\n",
        "\n",
        "        # parents contains an adjacency map of all nodes\n",
        "        parents = {}\n",
        "        parents[start_node] = start_node\n",
        "\n",
        "        # Overall cost variable\n",
        "        f = {}\n",
        "        f[start_node] = g[start_node] + self.h(start_node)\n",
        "\n",
        "        while len(open_list) > 0:\n",
        "            # your code here\n",
        "            q, cost_q = None, float('inf')     # To extract the correct node\n",
        "            for node in open_list:\n",
        "              if f[node] < cost_q:\n",
        "                q, cost_q = node, f[node]\n",
        "              \n",
        "            open_list.remove(q)\n",
        "            for child,cost in self.get_neighbors(q):\n",
        "              cur_g = g[q] + cost\n",
        "              cur_f = cur_g + self.h(child)\n",
        "\n",
        "              if child in open_list and cur_f > f[child]:\n",
        "                continue\n",
        "              \n",
        "              elif child in closed_list and cur_f > f[child]:\n",
        "                continue\n",
        "              \n",
        "              else:\n",
        "                parents[child] = q\n",
        "                g[child] = cur_g\n",
        "                f[child] = cur_f\n",
        "                open_list.add(child)\n",
        "              \n",
        "            closed_list.add(q)\n",
        "            \n",
        "        return g"
      ],
      "metadata": {
        "id": "-Xj3sjW0oPRg"
      },
      "execution_count": null,
      "outputs": []
    },
    {
      "cell_type": "code",
      "source": [
        "adjacency_list = {\n",
        "    'A': [('B', 1), ('C', 3), ('D', 7)],\n",
        "    'B': [('D', 5)],\n",
        "    'C': [('D', 12)],\n",
        "    'D': [],\n",
        "    'E': [],\n",
        "    'F': [],\n",
        "}\n",
        "\n",
        "# Driver code for the given graph\n",
        "graph = Graph(adjacency_list)\n",
        "graph.a_star('A', 'D')"
      ],
      "metadata": {
        "id": "nKO-FFgL8YUA",
        "colab": {
          "base_uri": "https://localhost:8080/"
        },
        "outputId": "88ad4c2d-3d1f-49e4-e626-655effb1aad9"
      },
      "execution_count": null,
      "outputs": [
        {
          "output_type": "execute_result",
          "data": {
            "text/plain": [
              "{'A': 0, 'B': 1, 'C': 3, 'D': 6, 'E': inf, 'G': inf}"
            ]
          },
          "metadata": {},
          "execution_count": 40
        }
      ]
    },
    {
      "cell_type": "code",
      "source": [
        "from collections import deque\n",
        "\n",
        "class Graph:\n",
        "    # example of adjacency list (or rather map) containing node: (neigbhor node, weight of edge)\n",
        "    # adjacency_list = {\n",
        "    # 'A': [('B', 1), ('C', 3), ('D', 7)],\n",
        "    # 'B': [('D', 5)],\n",
        "    # 'C': [('D', 12)]\n",
        "    # }\n",
        "\n",
        "    # initialises object with the given node: neighbor list\n",
        "    def __init__(self, adjacency_list):\n",
        "        self.adjacency_list = adjacency_list\n",
        "\n",
        "    # gets the neighbor of a given node v from the list\n",
        "    def get_neighbors(self, v):\n",
        "        return self.adjacency_list[v]\n",
        "\n",
        "    # heuristic function with values for all nodes\n",
        "    def h(self, n):\n",
        "        H_dist = {\n",
        "            'S': 10,\n",
        "            'A': 9,\n",
        "            'B': 7,\n",
        "            'C': 8,\n",
        "            'D': 8,\n",
        "            'E': 0,\n",
        "            'F': 6,\n",
        "            'G': 3,\n",
        "            'H': 6, \n",
        "            'I': 4, \n",
        "            'J': 4, \n",
        "            'K': 3,     \n",
        "            'L': 6 \n",
        "        }\n",
        "        return H_dist[n]\n",
        "\n",
        "    def a_star(self, start_node, stop_node):\n",
        "        # store visited nodes with uninspected neighbors in open_list, starting with the start node\n",
        "        # store visited nodes with inspected neighbors in closed_list\n",
        "        open_list = set([start_node])\n",
        "        closed_list = set([])\n",
        "\n",
        "        # g contains current distances from start_node to all other nodes\n",
        "        # the default value (if it's not found in the map) is +infinity\n",
        "        g = {}\n",
        "\n",
        "        g[start_node] = 0\n",
        "        for node in ['B','C','D','E','G']:\n",
        "          g[node] = float('inf')\n",
        "\n",
        "        # parents contains an adjacency map of all nodes\n",
        "        parents = {}\n",
        "        parents[start_node] = start_node\n",
        "\n",
        "        # Overall cost variable\n",
        "        f = {}\n",
        "        f[start_node] = g[start_node] + self.h(start_node)\n",
        "\n",
        "        while len(open_list) > 0:\n",
        "            # your code here\n",
        "            q, cost_q = None, float('inf')     # To extract the correct node\n",
        "            for node in open_list:\n",
        "              if f[node] < cost_q:\n",
        "                q, cost_q = node, f[node]\n",
        "              \n",
        "            open_list.remove(q)\n",
        "            for child,cost in self.get_neighbors(q):\n",
        "              cur_g = g[q] + cost\n",
        "              cur_f = cur_g + self.h(child)\n",
        "\n",
        "              if child in open_list and cur_f > f[child]:\n",
        "                continue\n",
        "              \n",
        "              elif child in closed_list and cur_f > f[child]:\n",
        "                continue\n",
        "              \n",
        "              else:\n",
        "                parents[child] = q\n",
        "                g[child] = cur_g\n",
        "                f[child] = cur_f\n",
        "                open_list.add(child)\n",
        "              \n",
        "            closed_list.add(q)\n",
        "            \n",
        "        return g"
      ],
      "metadata": {
        "id": "0M1-b9-TF3ud"
      },
      "execution_count": null,
      "outputs": []
    },
    {
      "cell_type": "code",
      "source": [
        "adjacency_list = {\n",
        "    'S': [('A', 7), ('B', 2), ('C',  3)],\n",
        "    'A': [('D', 4)],\n",
        "    'B': [('A', 3), ('D', 4), ('H', 1)],\n",
        "    'C': [('L', 2)],\n",
        "    'D': [('F', 5)],\n",
        "    'E': [],\n",
        "    'F': [],\n",
        "    'G': [('E', 2)],\n",
        "    'H': [('F', 3), ('G', 2)],\n",
        "    'I': [('K', 4)],\n",
        "    'J': [('K', 4)],\n",
        "    'K': [('E', 5)],\n",
        "    'L': [('I', 4), ('J', 4)]\n",
        "}\n",
        "\n",
        "# Driver code for the given graph\n",
        "graph = Graph(adjacency_list)\n",
        "graph.a_star('S', 'E')"
      ],
      "metadata": {
        "colab": {
          "base_uri": "https://localhost:8080/"
        },
        "id": "DOwsNzF3F4r2",
        "outputId": "791ae6da-ed1f-43bf-f7f7-ca0e8d572447"
      },
      "execution_count": null,
      "outputs": [
        {
          "output_type": "execute_result",
          "data": {
            "text/plain": [
              "{'S': 0,\n",
              " 'B': 2,\n",
              " 'C': 3,\n",
              " 'D': 6,\n",
              " 'E': 7,\n",
              " 'G': 5,\n",
              " 'A': 5,\n",
              " 'H': 3,\n",
              " 'F': 6,\n",
              " 'L': 5,\n",
              " 'I': 9,\n",
              " 'J': 9,\n",
              " 'K': 13}"
            ]
          },
          "metadata": {},
          "execution_count": 8
        }
      ]
    },
    {
      "cell_type": "code",
      "source": [],
      "metadata": {
        "id": "h_-fLQDCLe3x"
      },
      "execution_count": null,
      "outputs": []
    }
  ]
}