{
 "cells": [
  {
   "cell_type": "code",
   "execution_count": 13,
   "metadata": {},
   "outputs": [
    {
     "name": "stdout",
     "output_type": "stream",
     "text": [
      "['a,c,d,e,g,h,k', 'k+l+m=>i', 'i+l+j=>q', 'c+d+e=>b', 'a+b=>q', 'l+n+o+p=>q', 'c+h=>r', 'r+j+m=>s', 'f+h=>b', 'g=>f', 'q']\n"
     ]
    }
   ],
   "source": [
    "# Open file and read all the data into a list\n",
    "with open('file.txt','r') as f:\n",
    "    lines = f.readlines()\n",
    "    lines = [line.replace('\\n','') for line in lines]      # Remove newline characters\n",
    "\n",
    "# Filter all empty strings\n",
    "lines = list(filter(lambda x: x!='', lines))    \n",
    "print(lines)"
   ]
  },
  {
   "cell_type": "code",
   "execution_count": 14,
   "metadata": {},
   "outputs": [
    {
     "name": "stdout",
     "output_type": "stream",
     "text": [
      "{'c', 'a', 'k', 'e', 'g', 'd', 'h'}\n"
     ]
    }
   ],
   "source": [
    "# Read all antecedents into the knowledge base\n",
    "knowledge_base = set([kn for kn in lines[0].split(',')])\n",
    "print(knowledge_base)"
   ]
  },
  {
   "cell_type": "code",
   "execution_count": 15,
   "metadata": {},
   "outputs": [
    {
     "name": "stdout",
     "output_type": "stream",
     "text": [
      "{('k', 'l', 'm'): 'i', ('i', 'l', 'j'): 'q', ('c', 'd', 'e'): 'b', ('a', 'b'): 'q', ('l', 'n', 'o', 'p'): 'q', ('c', 'h'): 'r', ('r', 'j', 'm'): 's', ('f', 'h'): 'b', ('g',): 'f'}\n",
      "{'i': [('k', 'l', 'm')], 'q': [('i', 'l', 'j'), ('a', 'b'), ('l', 'n', 'o', 'p')], 'b': [('c', 'd', 'e'), ('f', 'h')], 'r': [('c', 'h')], 's': [('r', 'j', 'm')], 'f': [('g',)]}\n"
     ]
    }
   ],
   "source": [
    "# Rule base creation\n",
    "rule_base_rev = {tuple(rule_line.split('=>')[0].split('+')):rule_line.split('=>')[1] for rule_line in lines[1:-1]}  # Split first the premise based on '=>' and then the antecedents based on '+'\n",
    "\n",
    "# Reverse the rule base (for easier access in backward chaining)\n",
    "rule_base = {val:[] for val in rule_base_rev.values()}\n",
    "for key,val in rule_base_rev.items():\n",
    "    rule_base[val].append(key)\n",
    "print(rule_base_rev)\n",
    "print(rule_base)"
   ]
  },
  {
   "cell_type": "code",
   "execution_count": 16,
   "metadata": {},
   "outputs": [
    {
     "name": "stdout",
     "output_type": "stream",
     "text": [
      "q\n"
     ]
    }
   ],
   "source": [
    "# Extract the goal variable\n",
    "goal_var = lines[-1]\n",
    "print(goal_var)"
   ]
  },
  {
   "cell_type": "code",
   "execution_count": 17,
   "metadata": {},
   "outputs": [
    {
     "name": "stdout",
     "output_type": "stream",
     "text": [
      "Initial Knowledge: {'c', 'a', 'k', 'e', 'g', 'd', 'h'}\n",
      "Final Knowledge: {'c', 'q', 'r', 'b', 'k', 'f', 'd', 'h', 'a', 'e', 'g'}\n",
      "Knowledge Added: {'f', 'q', 'r', 'b'}\n"
     ]
    }
   ],
   "source": [
    "# Forward Chaining\n",
    "def forward_chaining(knowledge_base, rule_base):\n",
    "    new_knowledge_base = knowledge_base.copy()    # Create a copy of the knowledge base to update with new rules\n",
    "    prev_len = len(new_knowledge_base)            \n",
    "    while True:\n",
    "        # Iterate over the rule base each time to see if you gain any new insights(conclusion)\n",
    "        for conclusion,premises_list in rule_base.items():\n",
    "            for premises in premises_list:\n",
    "                if all([premise in new_knowledge_base for premise in premises]) :\n",
    "                    new_knowledge_base.update(conclusion)\n",
    "\n",
    "        # If no new conclusion is added, break\n",
    "        if prev_len == len(new_knowledge_base):\n",
    "            break\n",
    "        prev_len = len(new_knowledge_base)\n",
    "    return new_knowledge_base\n",
    "\n",
    "print('Initial Knowledge:', knowledge_base)\n",
    "print('Final Knowledge:', forward_chaining(knowledge_base, rule_base))\n",
    "print('Knowledge Added:', forward_chaining(knowledge_base, rule_base) - knowledge_base)"
   ]
  },
  {
   "cell_type": "code",
   "execution_count": 20,
   "metadata": {},
   "outputs": [
    {
     "name": "stdout",
     "output_type": "stream",
     "text": [
      "Goal state is a valid conclusion. Proved Path: ['a', 'c', 'd', 'e', \"('c', 'd', 'e')=>b\", \"('a', 'b')=>q\"]\n"
     ]
    }
   ],
   "source": [
    "# Backward chaining\n",
    "def backward_chaining(knowledge_base, rule_base, goal_var):\n",
    "    # Globals to trace path. \n",
    "    global paths # Paths variable will have all the existing antecedents in the knowledge base and the path backward from goal state.\n",
    "    global initial_goal_state\n",
    "    \n",
    "    # Return path if goal is already in the knowledge base\n",
    "    if goal_var in knowledge_base:\n",
    "        # If goal variable is already in the knowledge base add it to the path\n",
    "        if len(paths)==0:\n",
    "            paths.append([goal_var])\n",
    "        else:\n",
    "            paths[-1].append(goal_var)\n",
    "        return True\n",
    "    \n",
    "    # If goal is in the rule base then recurse backward for each antecedent in the rule base and perform backward chaining for each one\n",
    "    if goal_var in rule_base:\n",
    "        for premises in rule_base[goal_var]:\n",
    "            if goal_var==initial_goal_state:\n",
    "                # Add new list for each route back from goal state to store new paths\n",
    "                paths.append([])\n",
    "            all_satisfied=True\n",
    "            for premise in premises:\n",
    "                if not backward_chaining(knowledge_base, rule_base, premise):\n",
    "                    all_satisfied=False\n",
    "                    break\n",
    "            if all_satisfied:\n",
    "                # Update knowledge base and latest path list if each antecedent is found to be a valid conclusion from recursive backward chaining\n",
    "                knowledge_base.update(goal_var)\n",
    "                paths[-1].append(str(premises)+'=>'+goal_var)\n",
    "                return True\n",
    "                \n",
    "    return False\n",
    "\n",
    "paths = []\n",
    "initial_goal_state = goal_var\n",
    "res = backward_chaining(knowledge_base.copy(), rule_base, goal_var)\n",
    "# if goal is a valid conclusion, print the valid path that exists\n",
    "if res:\n",
    "    print('Goal state is a valid conclusion. Proved Path:', paths[-1])\n",
    "else:\n",
    "    print('Goal state is not a valid conclusion.')"
   ]
  },
  {
   "cell_type": "code",
   "execution_count": 22,
   "metadata": {},
   "outputs": [
    {
     "name": "stdout",
     "output_type": "stream",
     "text": [
      "Goal state is not a valid conclusion.\n"
     ]
    }
   ],
   "source": [
    "res = backward_chaining(knowledge_base.copy(), rule_base, 'l')     # Check for different goal state\n",
    "if res:\n",
    "    print('Goal state is a valid conclusion. Proved Path:', paths[-1])\n",
    "else:\n",
    "    print('Goal state is not a valid conclusion.')"
   ]
  }
 ],
 "metadata": {
  "kernelspec": {
   "display_name": "Python 3.10.8 64-bit (microsoft store)",
   "language": "python",
   "name": "python3"
  },
  "language_info": {
   "codemirror_mode": {
    "name": "ipython",
    "version": 3
   },
   "file_extension": ".py",
   "mimetype": "text/x-python",
   "name": "python",
   "nbconvert_exporter": "python",
   "pygments_lexer": "ipython3",
   "version": "3.10.8"
  },
  "orig_nbformat": 4,
  "vscode": {
   "interpreter": {
    "hash": "71378fec4b9b0ae51f784db9960b5ea07fb9042b7f7d69b6f196c430cecf08e0"
   }
  }
 },
 "nbformat": 4,
 "nbformat_minor": 2
}
