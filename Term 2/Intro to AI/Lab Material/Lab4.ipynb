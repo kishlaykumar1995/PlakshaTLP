{
 "cells": [
  {
   "cell_type": "code",
   "execution_count": 1,
   "metadata": {},
   "outputs": [
    {
     "name": "stdout",
     "output_type": "stream",
     "text": [
      "['a,c,d,e,g,h,k', 'k+l+m=>i', 'i+l+j=>q', 'c+d+e=>b', 'a+b=>q', 'l+n+o+p=>q', 'c+h=>r', 'r+j+m=>s', 'f+h=>b', 'g=>f', 'q']\n"
     ]
    }
   ],
   "source": [
    "'''\n",
    "with open('file.txt','r') as f:\n",
    "    lines = f.readlines()\n",
    "    for i in range(len(lines)):\n",
    "        if lines[i][-1] == '\\n':\n",
    "            lines[i] = lines[i][:-1]\n",
    "'''\n",
    "\n",
    "with open('file.txt','r') as f:\n",
    "    lines = f.readlines()\n",
    "    lines = [line.replace('\\n','') for line in lines]\n",
    "\n",
    "lines = list(filter(lambda x: x!='', lines))    \n",
    "print(lines)"
   ]
  },
  {
   "cell_type": "code",
   "execution_count": 2,
   "metadata": {},
   "outputs": [
    {
     "name": "stdout",
     "output_type": "stream",
     "text": [
      "{'e', 'd', 'c', 'k', 'a', 'h', 'g'}\n"
     ]
    }
   ],
   "source": [
    "knowledge_base = set([kn for kn in lines[0].split(',')])\n",
    "print(knowledge_base)"
   ]
  },
  {
   "cell_type": "code",
   "execution_count": 3,
   "metadata": {},
   "outputs": [
    {
     "name": "stdout",
     "output_type": "stream",
     "text": [
      "{('k', 'l', 'm'): 'i', ('i', 'l', 'j'): 'q', ('c', 'd', 'e'): 'b', ('a', 'b'): 'q', ('l', 'n', 'o', 'p'): 'q', ('c', 'h'): 'r', ('r', 'j', 'm'): 's', ('f', 'h'): 'b', ('g',): 'f'}\n"
     ]
    }
   ],
   "source": [
    "rule_base = {tuple(rule_line.split('=>')[0].split('+')):rule_line.split('=>')[1] for rule_line in lines[1:-1]}\n",
    "print(rule_base)"
   ]
  },
  {
   "cell_type": "code",
   "execution_count": 4,
   "metadata": {},
   "outputs": [
    {
     "name": "stdout",
     "output_type": "stream",
     "text": [
      "q\n"
     ]
    }
   ],
   "source": [
    "goal_var = lines[-1]\n",
    "print(goal_var)"
   ]
  },
  {
   "cell_type": "code",
   "execution_count": 5,
   "metadata": {},
   "outputs": [
    {
     "name": "stdout",
     "output_type": "stream",
     "text": [
      "{'e', 'd', 'c', 'h', 'a', 'k', 'g'}\n",
      "{'e', 'h', 'r', 'g', 'f', 'q', 'd', 'b', 'c', 'k', 'a'}\n"
     ]
    }
   ],
   "source": [
    "# Forward Chaining\n",
    "def forward_chaining(knowledge_base, rule_base):\n",
    "    new_knowledge_base = knowledge_base.copy()\n",
    "    print(new_knowledge_base)\n",
    "    prev_len = len(new_knowledge_base)\n",
    "    while True:\n",
    "        for premise,conclusion in rule_base.items():\n",
    "            if all([premise_k in new_knowledge_base for premise_k in premise]) :\n",
    "                new_knowledge_base.update(conclusion)\n",
    "        if prev_len == len(new_knowledge_base):\n",
    "            break\n",
    "        prev_len = len(new_knowledge_base)\n",
    "    print(new_knowledge_base)\n",
    "\n",
    "forward_chaining(knowledge_base, rule_base)"
   ]
  },
  {
   "cell_type": "code",
   "execution_count": 7,
   "metadata": {},
   "outputs": [
    {
     "name": "stdout",
     "output_type": "stream",
     "text": [
      "True [(('c', 'd', 'e'), 'b'), (('a', 'b'), 'q')]\n"
     ]
    }
   ],
   "source": [
    "# Backward chaining\n",
    "def backward_chaining(knowledge_base, rule_base, goal_var):\n",
    "    if goal_var in knowledge_base:\n",
    "        return True\n",
    "    for premise,conclusion in rule_base.items():\n",
    "        if conclusion==goal_var:\n",
    "            premise_truth_vals = []\n",
    "            if goal_var == initial_goal_state:\n",
    "                paths.append([])\n",
    "            for var in premise:\n",
    "                premise_truth_vals.append(backward_chaining(knowledge_base, rule_base, var))\n",
    "            if all(premise_truth_vals):\n",
    "                knowledge_base.update(goal_var)\n",
    "                paths[-1].append((premise, conclusion))\n",
    "                return True\n",
    "    return False\n",
    "\n",
    "paths = []\n",
    "initial_goal_state = goal_var\n",
    "print(backward_chaining(knowledge_base.copy(), rule_base, goal_var), paths[-1])"
   ]
  },
  {
   "cell_type": "code",
   "execution_count": null,
   "metadata": {},
   "outputs": [],
   "source": []
  }
 ],
 "metadata": {
  "kernelspec": {
   "display_name": "Python 3.10.8 64-bit (microsoft store)",
   "language": "python",
   "name": "python3"
  },
  "language_info": {
   "codemirror_mode": {
    "name": "ipython",
    "version": 3
   },
   "file_extension": ".py",
   "mimetype": "text/x-python",
   "name": "python",
   "nbconvert_exporter": "python",
   "pygments_lexer": "ipython3",
   "version": "3.10.8"
  },
  "orig_nbformat": 4,
  "vscode": {
   "interpreter": {
    "hash": "71378fec4b9b0ae51f784db9960b5ea07fb9042b7f7d69b6f196c430cecf08e0"
   }
  }
 },
 "nbformat": 4,
 "nbformat_minor": 2
}
