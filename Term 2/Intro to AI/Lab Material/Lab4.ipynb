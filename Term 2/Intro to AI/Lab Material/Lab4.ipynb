{
 "cells": [
  {
   "cell_type": "code",
   "execution_count": 1,
   "metadata": {},
   "outputs": [
    {
     "name": "stdout",
     "output_type": "stream",
     "text": [
      "['a,c,d,e,g,h,k', 'k+l+m=>i', 'i+l+j=>q', 'c+d+e=>b', 'a+b=>q', 'l+n+o+p=>q', 'c+h=>r', 'r+j+m=>s', 'f+h=>b', 'g=>f', 'q']\n"
     ]
    }
   ],
   "source": [
    "'''\n",
    "with open('file.txt','r') as f:\n",
    "    lines = f.readlines()\n",
    "    for i in range(len(lines)):\n",
    "        if lines[i][-1] == '\\n':\n",
    "            lines[i] = lines[i][:-1]\n",
    "'''\n",
    "\n",
    "with open('file.txt','r') as f:\n",
    "    lines = f.readlines()\n",
    "    lines = [line.replace('\\n','') for line in lines]\n",
    "\n",
    "lines = list(filter(lambda x: x!='', lines))    \n",
    "print(lines)"
   ]
  },
  {
   "cell_type": "code",
   "execution_count": 2,
   "metadata": {},
   "outputs": [
    {
     "name": "stdout",
     "output_type": "stream",
     "text": [
      "{'h', 'd', 'g', 'a', 'e', 'c', 'k'}\n"
     ]
    }
   ],
   "source": [
    "knowledge_base = set([kn for kn in lines[0].split(',')])\n",
    "print(knowledge_base)"
   ]
  },
  {
   "cell_type": "code",
   "execution_count": 3,
   "metadata": {},
   "outputs": [
    {
     "name": "stdout",
     "output_type": "stream",
     "text": [
      "{('k', 'l', 'm'): 'i', ('i', 'l', 'j'): 'q', ('c', 'd', 'e'): 'b', ('a', 'b'): 'q', ('l', 'n', 'o', 'p'): 'q', ('c', 'h'): 'r', ('r', 'j', 'm'): 's', ('f', 'h'): 'b', ('g',): 'f'}\n",
      "{'i': [('k', 'l', 'm')], 'q': [('i', 'l', 'j'), ('a', 'b'), ('l', 'n', 'o', 'p')], 'b': [('c', 'd', 'e'), ('f', 'h')], 'r': [('c', 'h')], 's': [('r', 'j', 'm')], 'f': [('g',)]}\n"
     ]
    }
   ],
   "source": [
    "rule_base_rev = {tuple(rule_line.split('=>')[0].split('+')):rule_line.split('=>')[1] for rule_line in lines[1:-1]}\n",
    "rule_base = {val:[] for val in rule_base_rev.values()}\n",
    "for key,val in rule_base_rev.items():\n",
    "    rule_base[val].append(key)\n",
    "print(rule_base_rev)\n",
    "print(rule_base)"
   ]
  },
  {
   "cell_type": "code",
   "execution_count": 4,
   "metadata": {},
   "outputs": [
    {
     "name": "stdout",
     "output_type": "stream",
     "text": [
      "q\n"
     ]
    }
   ],
   "source": [
    "goal_var = lines[-1]\n",
    "print(goal_var)"
   ]
  },
  {
   "cell_type": "code",
   "execution_count": 5,
   "metadata": {},
   "outputs": [],
   "source": [
    "'''\n",
    "# Forward Chaining\n",
    "def forward_chaining(knowledge_base, rule_base):\n",
    "    new_knowledge_base = knowledge_base.copy()\n",
    "    print(new_knowledge_base)\n",
    "    prev_len = len(new_knowledge_base)\n",
    "    while True:\n",
    "        for premise,conclusion in rule_base.items():\n",
    "            if all([premise_k in new_knowledge_base for premise_k in premise]) :\n",
    "                new_knowledge_base.update(conclusion)\n",
    "        if prev_len == len(new_knowledge_base):\n",
    "            break\n",
    "        prev_len = len(new_knowledge_base)\n",
    "    print(new_knowledge_base)\n",
    "\n",
    "forward_chaining(knowledge_base, rule_base)\n",
    "'''\n",
    "pass"
   ]
  },
  {
   "cell_type": "code",
   "execution_count": 6,
   "metadata": {},
   "outputs": [],
   "source": [
    "'''\n",
    "# Backward chaining\n",
    "def backward_chaining(knowledge_base, rule_base, goal_var):\n",
    "    if goal_var in knowledge_base:\n",
    "        return True\n",
    "    for premise,conclusion in rule_base.items():\n",
    "        if conclusion==goal_var:\n",
    "            premise_truth_vals = []\n",
    "            if goal_var == initial_goal_state:\n",
    "                paths.append([])\n",
    "            for var in premise:\n",
    "                premise_truth_vals.append(backward_chaining(knowledge_base, rule_base, var))\n",
    "            if all(premise_truth_vals):\n",
    "                knowledge_base.update(goal_var)\n",
    "                paths[-1].append((premise, conclusion))\n",
    "                return True\n",
    "    return False\n",
    "\n",
    "paths = []\n",
    "initial_goal_state = goal_var\n",
    "print(backward_chaining(knowledge_base.copy(), rule_base, goal_var), paths[-1])\n",
    "'''\n",
    "pass"
   ]
  },
  {
   "cell_type": "code",
   "execution_count": 13,
   "metadata": {},
   "outputs": [
    {
     "name": "stdout",
     "output_type": "stream",
     "text": [
      "Initial Knowledge: {'h', 'd', 'g', 'a', 'e', 'c', 'k'}\n",
      "Final Knowledge: {'h', 'q', 'f', 'd', 'g', 'a', 'e', 'b', 'r', 'c', 'k'}\n",
      "Knowledge Added: {'f', 'b', 'r', 'q'}\n"
     ]
    }
   ],
   "source": [
    "# Forward Chaining\n",
    "def forward_chaining(knowledge_base, rule_base):\n",
    "    new_knowledge_base = knowledge_base.copy()\n",
    "    prev_len = len(new_knowledge_base)\n",
    "    while True:\n",
    "        for conclusion,premises_list in rule_base.items():\n",
    "            for premises in premises_list:\n",
    "                if all([premise in new_knowledge_base for premise in premises]) :\n",
    "                    new_knowledge_base.update(conclusion)\n",
    "        if prev_len == len(new_knowledge_base):\n",
    "            break\n",
    "        prev_len = len(new_knowledge_base)\n",
    "    return new_knowledge_base\n",
    "\n",
    "print('Initial Knowledge:', knowledge_base)\n",
    "print('Final Knowledge:', forward_chaining(knowledge_base, rule_base))\n",
    "print('Knowledge Added:', forward_chaining(knowledge_base, rule_base) - knowledge_base)"
   ]
  },
  {
   "cell_type": "code",
   "execution_count": 10,
   "metadata": {},
   "outputs": [
    {
     "name": "stdout",
     "output_type": "stream",
     "text": [
      "Proved Path: ['a', 'c', 'd', 'e', \"('c', 'd', 'e')=>b\", \"('a', 'b')=>q\"]\n"
     ]
    }
   ],
   "source": [
    "# Backward chaining\n",
    "def backward_chaining(knowledge_base, rule_base, goal_var):\n",
    "    # Globals to trace path\n",
    "    global paths\n",
    "    global initial_goal_state\n",
    "    \n",
    "    if goal_var in knowledge_base:\n",
    "        if len(paths)==0:\n",
    "            paths.append([goal_var])\n",
    "        else:\n",
    "            paths[-1].append(goal_var)\n",
    "        return True\n",
    "    \n",
    "    if goal_var in rule_base:\n",
    "        for premises in rule_base[goal_var]:\n",
    "            if goal_var==initial_goal_state:\n",
    "                paths.append([])\n",
    "            all_satisfied=True\n",
    "            for premise in premises:\n",
    "                if not backward_chaining(knowledge_base, rule_base, premise):\n",
    "                    all_satisfied=False\n",
    "                    break\n",
    "            if all_satisfied:\n",
    "                knowledge_base.update(goal_var)\n",
    "                paths[-1].append(str(premises)+'=>'+goal_var)\n",
    "                return True\n",
    "                \n",
    "    return False\n",
    "\n",
    "paths = []\n",
    "initial_goal_state = goal_var\n",
    "res = backward_chaining(knowledge_base.copy(), rule_base, goal_var)\n",
    "if res:\n",
    "    print('Proved Path:', paths[-1])"
   ]
  }
 ],
 "metadata": {
  "kernelspec": {
   "display_name": "Python 3.10.8 64-bit (microsoft store)",
   "language": "python",
   "name": "python3"
  },
  "language_info": {
   "codemirror_mode": {
    "name": "ipython",
    "version": 3
   },
   "file_extension": ".py",
   "mimetype": "text/x-python",
   "name": "python",
   "nbconvert_exporter": "python",
   "pygments_lexer": "ipython3",
   "version": "3.10.8"
  },
  "orig_nbformat": 4,
  "vscode": {
   "interpreter": {
    "hash": "71378fec4b9b0ae51f784db9960b5ea07fb9042b7f7d69b6f196c430cecf08e0"
   }
  }
 },
 "nbformat": 4,
 "nbformat_minor": 2
}
