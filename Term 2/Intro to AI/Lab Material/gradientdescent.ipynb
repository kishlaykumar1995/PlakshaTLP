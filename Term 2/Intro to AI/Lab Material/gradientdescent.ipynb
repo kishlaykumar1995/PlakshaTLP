{
 "cells": [
  {
   "cell_type": "code",
   "execution_count": 10,
   "metadata": {},
   "outputs": [],
   "source": [
    "import numpy as np"
   ]
  },
  {
   "cell_type": "code",
   "execution_count": 11,
   "metadata": {},
   "outputs": [
    {
     "name": "stdout",
     "output_type": "stream",
     "text": [
      "0.546875\n",
      "0.24774169921875\n",
      "-0.0800971882417798\n",
      "-0.28523692444771054\n",
      "-0.33159838492256355\n",
      "-0.3333310757988423\n",
      "-0.333333333329511\n"
     ]
    },
    {
     "data": {
      "text/plain": [
       "-0.333333333329511"
      ]
     },
     "execution_count": 11,
     "metadata": {},
     "output_type": "execute_result"
    }
   ],
   "source": [
    "def gradient_descent(x=1.0, eta=0.2):\n",
    "    d_fx = 3*x**2 - 2*x - 1\n",
    "    x_prev = x\n",
    "    x = x + eta*d_fx\n",
    "    while True:\n",
    "        print(x)\n",
    "        if abs(x - x_prev) < 0.001:\n",
    "            return x\n",
    "        d_fx = 3*x**2 - 2*x - 1\n",
    "        x_prev = x\n",
    "        x = x + eta*d_fx\n",
    "gradient_descent(0.75, 0.25)"
   ]
  },
  {
   "cell_type": "code",
   "execution_count": 12,
   "metadata": {},
   "outputs": [
    {
     "name": "stdout",
     "output_type": "stream",
     "text": [
      "[-0.6 -0.6]\n",
      "[-0.2  -0.36]\n",
      "[ 0.136 -0.152]\n",
      "[0.4208 0.024 ]\n",
      "[0.66208 0.17312]\n",
      "[0.866496 0.299456]\n",
      "[1.03968   0.4064896]\n",
      "[1.18640384 0.49716992]\n",
      "[1.31071027 0.57399552]\n",
      "[1.41602437 0.63908321]\n",
      "[1.50524791 0.69422639]\n",
      "[1.5808393  0.74094444]\n",
      "[1.64488136 0.78052461]\n",
      "[1.69913866 0.81405746]\n",
      "[1.74510618 0.84246696]\n",
      "[1.78405049 0.86653586]\n",
      "[1.81704464 0.88692737]\n",
      "[1.84499773 0.90420333]\n",
      "[1.86867997 0.91883976]\n",
      "[1.88874389 0.93123994]\n",
      "[1.90574231 0.94174554]\n",
      "[1.9201436  0.95064603]\n",
      "[1.93234457 0.95818665]\n",
      "[1.9426814  0.96457516]\n",
      "[1.95143891 0.96998759]\n",
      "[1.95885838 0.97457308]\n",
      "[1.96514426 0.97845797]\n",
      "[1.97046974 0.9817493 ]\n",
      "[1.97498157 0.98453776]\n",
      "[1.97880404 0.98690018]\n",
      "[1.9820425  0.98890165]\n",
      "[1.98478616 0.99059733]\n",
      "[1.98711063 0.99203393]\n",
      "[1.98907995 0.99325104]\n",
      "[1.99074838 0.99428219]\n",
      "[1.9921619  0.99515579]\n",
      "[1.99335946 0.99589592]\n",
      "[1.99437404 0.99652297]\n",
      "[1.99523361 0.99705421]\n",
      "[1.99596185 0.99750429]\n",
      "[1.99657883 0.9978856 ]\n"
     ]
    },
    {
     "data": {
      "text/plain": [
       "array([1.99657883, 0.9978856 ])"
      ]
     },
     "execution_count": 12,
     "metadata": {},
     "output_type": "execute_result"
    }
   ],
   "source": [
    "def gradient_descent_2d(p, eta=0.2):\n",
    "    p_prev = p\n",
    "    p = p + eta*np.array([-2*p[0] + 2*p[1] + 2, 2*p[0] - 4*p[1]])\n",
    "    while True:\n",
    "        print(p)\n",
    "        if np.sum([np.sqrt((i-j)**2) for i,j in list(zip(p,p_prev))]) < 0.001:\n",
    "            return p\n",
    "        p_prev = p\n",
    "        p = p + eta*np.array([-2*p[0] + 2*p[1] + 2, 2*p[0] - 4*p[1]])\n",
    "gradient_descent_2d(np.array([-1, -1]), 0.2)"
   ]
  },
  {
   "cell_type": "code",
   "execution_count": 1,
   "metadata": {},
   "outputs": [],
   "source": [
    "import matplotlib.pyplot as plt\n",
    "import seaborn as sns\n",
    "sns.set_style('whitegrid')"
   ]
  },
  {
   "cell_type": "code",
   "execution_count": 3,
   "metadata": {},
   "outputs": [
    {
     "data": {
      "text/plain": [
       "([<matplotlib.patches.Wedge at 0x21c1675c280>,\n",
       "  <matplotlib.patches.Wedge at 0x21c1675c9a0>],\n",
       " [Text(-0.46835717599151955, 0.995309778760989, 'Spent'),\n",
       "  Text(0.468357175991519, -0.9953097787609894, 'Remaining')],\n",
       " [Text(-0.2554675505408288, 0.5428962429605394, '64%'),\n",
       "  Text(0.2554675505408285, -0.5428962429605396, '36%')])"
      ]
     },
     "execution_count": 3,
     "metadata": {},
     "output_type": "execute_result"
    },
    {
     "data": {
      "image/png": "[encoded data removed]",
      "text/plain": [
       "<Figure size 640x480 with 1 Axes>"
      ]
     },
     "metadata": {},
     "output_type": "display_data"
    }
   ],
   "source": [
    "plt.pie([3200,1800], labels=['Spent', 'Remaining'], autopct='%.0f%%')"
   ]
  },
  {
   "cell_type": "markdown",
   "metadata": {},
   "source": [
    "$Backpropogation$"
   ]
  },
  {
   "cell_type": "markdown",
   "metadata": {},
   "source": []
  }
 ],
 "metadata": {
  "kernelspec": {
   "display_name": "Python 3.10.7 64-bit (microsoft store)",
   "language": "python",
   "name": "python3"
  },
  "language_info": {
   "codemirror_mode": {
    "name": "ipython",
    "version": 3
   },
   "file_extension": ".py",
   "mimetype": "text/x-python",
   "name": "python",
   "nbconvert_exporter": "python",
   "pygments_lexer": "ipython3",
   "version": "3.10.8"
  },
  "orig_nbformat": 4,
  "vscode": {
   "interpreter": {
    "hash": "71378fec4b9b0ae51f784db9960b5ea07fb9042b7f7d69b6f196c430cecf08e0"
   }
  }
 },
 "nbformat": 4,
 "nbformat_minor": 2
}
