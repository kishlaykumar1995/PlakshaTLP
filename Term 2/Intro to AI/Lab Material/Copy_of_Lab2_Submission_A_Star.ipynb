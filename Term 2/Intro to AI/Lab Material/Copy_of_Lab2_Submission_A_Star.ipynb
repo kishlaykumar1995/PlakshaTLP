{
  "cells": [
    {
      "cell_type": "code",
      "execution_count": 3,
      "metadata": {
        "id": "-Xj3sjW0oPRg"
      },
      "outputs": [],
      "source": [
        "from collections import deque\n",
        "\n",
        "class Graph:\n",
        "    # example of adjacency list (or rather map) containing node: (neigbhor node, weight of edge)\n",
        "    # adjacency_list = {\n",
        "    # 'A': [('B', 1), ('C', 3), ('D', 7)],\n",
        "    # 'B': [('D', 5)],\n",
        "    # 'C': [('D', 12)]\n",
        "    # }\n",
        "\n",
        "    # initialises object with the given node: neighbor list\n",
        "    def __init__(self, adjacency_list):\n",
        "        self.adjacency_list = adjacency_list\n",
        "\n",
        "    # gets the neighbor of a given node v from the list\n",
        "    def get_neighbors(self, v):\n",
        "        return self.adjacency_list[v]\n",
        "\n",
        "    # heuristic function with values for all nodes\n",
        "    def h(self, n):\n",
        "        H_dist = {\n",
        "            'A': 11,\n",
        "            'B': 6,\n",
        "            'C': 99,\n",
        "            'D': 1,\n",
        "            'E': 7,\n",
        "            'G': 0,    \n",
        "        }\n",
        "        return H_dist[n]\n",
        "\n",
        "    def a_star(self, start_node, stop_node):\n",
        "        # store visited nodes with uninspected neighbors in open_list, starting with the start node\n",
        "        # store visited nodes with inspected neighbors in closed_list\n",
        "        open_list = set([start_node])\n",
        "        closed_list = set([])\n",
        "\n",
        "        # g contains current distances from start_node to all other nodes\n",
        "        # the default value (if it's not found in the map) is +infinity\n",
        "        g = {}\n",
        "\n",
        "        g[start_node] = 0\n",
        "        for node in ['B','C','D','E','G']:\n",
        "          g[node] = float('inf')\n",
        "\n",
        "        # parents contains an adjacency map of all nodes\n",
        "        parents = {}\n",
        "        parents[start_node] = start_node\n",
        "\n",
        "        # Overall cost variable f= g+h\n",
        "        f = {}\n",
        "        f[start_node] = g[start_node] + self.h(start_node)\n",
        "\n",
        "        while len(open_list) > 0:              \n",
        "            # your code here\n",
        "            q, cost_q = None, float('inf')     # To extract the correct node\n",
        "            for node in open_list:             # Select least cost node in open list\n",
        "              if f[node] < cost_q:\n",
        "                q, cost_q = node, f[node]\n",
        "              \n",
        "            open_list.remove(q)\n",
        "\n",
        "            if q not in self.adjacency_list:\n",
        "              self.adjacency_list[q] = []\n",
        "\n",
        "            \n",
        "            for child,cost in self.get_neighbors(q):\n",
        "              cur_g = g[q] + cost\n",
        "              cur_f = cur_g + self.h(child)\n",
        "\n",
        "              # Check if a node is in the open list and if it follows the least cost path.\n",
        "              #If yes continue, else add/update the new costs and path\n",
        "              if child in open_list and cur_f > f[child]:\n",
        "                continue\n",
        "              \n",
        "              elif child in closed_list and cur_f > f[child]:\n",
        "                continue\n",
        "              \n",
        "              else:\n",
        "                parents[child] = q\n",
        "                g[child] = cur_g\n",
        "                f[child] = cur_f\n",
        "                open_list.add(child)\n",
        "              \n",
        "            closed_list.add(q)            # Push the node whose all children have been added to openlist in the closed list\n",
        "            if stop_node in closed_list:  # If goal node is in the closed list; break\n",
        "              break\n",
        "        \n",
        "        path = [stop_node]\n",
        "        node = parents[stop_node]\n",
        "        while node != start_node:\n",
        "          path.insert(0, node)\n",
        "          node = parents[node]\n",
        "        path.insert(0, start_node)\n",
        "\n",
        "        return path"
      ]
    },
    {
      "cell_type": "code",
      "execution_count": 4,
      "metadata": {
        "colab": {
          "base_uri": "https://localhost:8080/"
        },
        "id": "nKO-FFgL8YUA",
        "outputId": "d3962303-4d5b-4b02-c83b-556b2d3b7268"
      },
      "outputs": [
        {
          "data": {
            "text/plain": [
              "['A', 'B', 'D']"
            ]
          },
          "execution_count": 4,
          "metadata": {},
          "output_type": "execute_result"
        }
      ],
      "source": [
        "adjacency_list = {\n",
        "    'A': [('B', 1), ('C', 3), ('D', 7)],\n",
        "    'B': [('D', 5)],\n",
        "    'C': [('D', 12)]\n",
        "}\n",
        "\n",
        "# Driver code for the given graph\n",
        "graph = Graph(adjacency_list)\n",
        "graph.a_star('A', 'D')"
      ]
    }
  ],
  "metadata": {
    "colab": {
      "collapsed_sections": [],
      "provenance": []
    },
    "kernelspec": {
      "display_name": "Python 3.10.8 64-bit (microsoft store)",
      "language": "python",
      "name": "python3"
    },
    "language_info": {
      "codemirror_mode": {
        "name": "ipython",
        "version": 3
      },
      "file_extension": ".py",
      "mimetype": "text/x-python",
      "name": "python",
      "nbconvert_exporter": "python",
      "pygments_lexer": "ipython3",
      "version": "3.10.8"
    },
    "vscode": {
      "interpreter": {
        "hash": "71378fec4b9b0ae51f784db9960b5ea07fb9042b7f7d69b6f196c430cecf08e0"
      }
    }
  },
  "nbformat": 4,
  "nbformat_minor": 0
}
