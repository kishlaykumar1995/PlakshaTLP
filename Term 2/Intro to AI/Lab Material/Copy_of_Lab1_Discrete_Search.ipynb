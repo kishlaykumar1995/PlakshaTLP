{
  "cells": [
    {
      "cell_type": "code",
      "execution_count": 1,
      "metadata": {
        "id": "PrONTzPBmKbr"
      },
      "outputs": [],
      "source": [
        "import networkx as nx\n",
        "from collections import deque\n",
        "import matplotlib.pyplot as plt\n",
        "\n",
        "class Node:\n",
        "    def __init__(self, val):\n",
        "        self.val = val\n",
        "        self.edges = []\n",
        "\n",
        "    def __eq__(self, other):\n",
        "        return self.val == other.val\n",
        "\n",
        "    def __hash__(self):\n",
        "        return hash(self.val)"
      ]
    },
    {
      "cell_type": "code",
      "execution_count": 2,
      "metadata": {
        "id": "fVcKOZpEmSxQ"
      },
      "outputs": [],
      "source": [
        "class G:\n",
        "    def __init__(self, nodes=[]):\n",
        "        self.nodes = nodes\n",
        "        self.visual = []\n",
        "\n",
        "    def add_node(self, val):\n",
        "        new_node = Node(val)\n",
        "        self.nodes.append(new_node)\n",
        "\n",
        "    def add_edge(self, node1, node2):\n",
        "        node1.edges.append(node2)\n",
        "        node2.edges.append(node1)\n",
        "        self.visual.append([node1.val, node2.val])\n",
        "\n",
        "    def create_graph(self, graph_dict):\n",
        "        for node in graph_dict:\n",
        "            new_node = Node(node)\n",
        "            self.nodes.append(new_node)\n",
        "        for node in self.nodes:\n",
        "            for edge in graph_dict[node.val]:\n",
        "                node.edges.append(self.nodes[edge])\n",
        "                self.nodes[edge].edges.append(node)\n",
        "                self.visual.append([node.val, self.nodes[edge].val])\n",
        "\n",
        "    def print_graph(self):\n",
        "        for node in self.nodes:\n",
        "            print('Node value:', node.val)\n",
        "            for edge in node.edges:\n",
        "                print('\\tEdge value:', edge.val)\n",
        "\n",
        "    def visualize(self):\n",
        "        G = nx.Graph()\n",
        "        G.add_edges_from(self.visual)\n",
        "        nx.draw_networkx(G)\n",
        "        plt.show()"
      ]
    },
    {
      "cell_type": "code",
      "execution_count": 3,
      "metadata": {
        "id": "iDJFDwV5xVuh"
      },
      "outputs": [],
      "source": [
        "class Traversal(G):\n",
        "    def __init__(self):\n",
        "         G.__init__(self)\n",
        "\n",
        "    # To traverse the entire graph breadth_first\n",
        "    def bfs(self):\n",
        "        # your code here\n",
        "        qu = deque()\n",
        "        visited = []\n",
        "        res = []\n",
        "        qu.append(self.nodes[0])\n",
        "        while len(qu) > 0:\n",
        "            cur_node = qu.popleft()\n",
        "            if hash(cur_node) in visited:\n",
        "                continue\n",
        "            visited.append(hash(cur_node))\n",
        "            res.append(cur_node)\n",
        "            for frontier in cur_node.edges:\n",
        "                if hash(frontier) in visited:\n",
        "                    continue\n",
        "                else:\n",
        "                    qu.append(frontier)\n",
        "        return res\n",
        "\n",
        "    # To traverse the entire graph depth_first\n",
        "    def dfs(self):\n",
        "        # your code here\n",
        "        st = deque()\n",
        "        visited = []\n",
        "        res = []\n",
        "        st.append(self.nodes[0])\n",
        "        while len(st) > 0:\n",
        "            cur_node = st.pop()\n",
        "            if hash(cur_node) in visited:\n",
        "                continue\n",
        "            visited.append(hash(cur_node))\n",
        "            res.append(cur_node)\n",
        "            for frontier in cur_node.edges:\n",
        "                if hash(frontier) in visited:\n",
        "                    continue\n",
        "                else:\n",
        "                    st.append(frontier)\n",
        "        return res\n",
        "\n",
        "    # To find all paths between a start node and goal node\n",
        "    def all_paths(self, start, goal):\n",
        "        # your code here\n",
        "        res = []\n",
        "        paths = deque()\n",
        "        paths.append([start])\n",
        "        while len(paths) > 0:\n",
        "            path = paths.popleft()\n",
        "            cur_node = path[-1]\n",
        "            if hash(cur_node) == hash(goal):\n",
        "                res.append(path)\n",
        "            for neighbor in cur_node.edges:\n",
        "                if hash(neighbor) == hash(cur_node):\n",
        "                    continue\n",
        "                elif neighbor in path:\n",
        "                    continue\n",
        "                else:\n",
        "                    n_path = list(path)\n",
        "                    n_path.append(neighbor)\n",
        "                    paths.append(n_path)\n",
        "        return res\n",
        "\n",
        "    # To find the shortest path between a start state and goal state\n",
        "    def shortest_path(self, start, goal):\n",
        "        # your code here\n",
        "        all_paths = self.all_paths(start, goal)\n",
        "        shortest = all_paths[0]\n",
        "        shortest_len = len(all_paths[0])\n",
        "        for path in all_paths[1:]:\n",
        "            if shortest_len > len(path):\n",
        "                shortest = path\n",
        "                shortest_len = len(path)\n",
        "        return shortest"
      ]
    },
    {
      "cell_type": "code",
      "execution_count": 11,
      "metadata": {
        "colab": {
          "base_uri": "https://localhost:8080/",
          "height": 577
        },
        "id": "MYn8ilt0MrHU",
        "outputId": "74b70753-77c3-408d-fc6c-d8b59ab5cef4"
      },
      "outputs": [
        {
          "name": "stdout",
          "output_type": "stream",
          "text": [
            "Node value: A\n",
            "\tEdge value: B\n",
            "\tEdge value: C\n",
            "Node value: B\n",
            "\tEdge value: A\n",
            "\tEdge value: D\n",
            "\tEdge value: E\n",
            "Node value: C\n",
            "\tEdge value: A\n",
            "\tEdge value: F\n",
            "Node value: D\n",
            "\tEdge value: B\n",
            "Node value: E\n",
            "\tEdge value: B\n",
            "\tEdge value: F\n",
            "Node value: F\n",
            "\tEdge value: C\n",
            "\tEdge value: E\n"
          ]
        },
        {
          "data": {
            "image/png": "[encoded data removed]",
            "text/plain": [
              "<Figure size 640x480 with 1 Axes>"
            ]
          },
          "metadata": {},
          "output_type": "display_data"
        }
      ],
      "source": [
        "graph_dict = {'A': [1, 2],\n",
        "              'B': [3, 4],\n",
        "              'C': [5],\n",
        "              'D': [],\n",
        "              'E': [5],\n",
        "              'F': []\n",
        "              }\n",
        "\n",
        "graph = Traversal()\n",
        "graph.create_graph(graph_dict)\n",
        "graph.print_graph()\n",
        "graph.visualize()"
      ]
    },
    {
      "cell_type": "code",
      "execution_count": 4,
      "metadata": {
        "id": "HNwbXuca3amE"
      },
      "outputs": [
        {
          "ename": "NameError",
          "evalue": "name 'graph' is not defined",
          "output_type": "error",
          "traceback": [
            "\u001b[1;31m---------------------------------------------------------------------------\u001b[0m",
            "\u001b[1;31mNameError\u001b[0m                                 Traceback (most recent call last)",
            "Cell \u001b[1;32mIn [4], line 1\u001b[0m\n\u001b[1;32m----> 1\u001b[0m dfs_result \u001b[39m=\u001b[39m graph\u001b[39m.\u001b[39mdfs()\n\u001b[0;32m      2\u001b[0m bfs_result \u001b[39m=\u001b[39m graph\u001b[39m.\u001b[39mbfs()\n\u001b[0;32m      3\u001b[0m all_paths \u001b[39m=\u001b[39m graph\u001b[39m.\u001b[39mall_paths(graph\u001b[39m.\u001b[39mnodes[\u001b[39m0\u001b[39m], graph\u001b[39m.\u001b[39mnodes[\u001b[39m3\u001b[39m])\n",
            "\u001b[1;31mNameError\u001b[0m: name 'graph' is not defined"
          ]
        }
      ],
      "source": [
        "dfs_result = graph.dfs()\n",
        "bfs_result = graph.bfs()\n",
        "all_paths = graph.all_paths(graph.nodes[0], graph.nodes[3])\n",
        "shortest_path = graph.shortest_path(graph.nodes[0], graph.nodes[3])\n",
        "\n",
        "print(\"\\nDFS\")\n",
        "for i in range(len(dfs_result)):\n",
        "    print(dfs_result[i].val, end=' ')\n",
        "    \n",
        "print(\"\\nBFS\")\n",
        "for i in range(len(bfs_result)):\n",
        "    print(bfs_result[i].val, end=' ')\n",
        "\n",
        "print(\"\\nAll Paths\")\n",
        "for path in all_paths:\n",
        "    for node in path:\n",
        "        print(node.val, end=' ')\n",
        "    print()\n",
        "\n",
        "print(\"Shortest Path\")\n",
        "for node in shortest_path:\n",
        "    print(node.val, end=' ')"
      ]
    },
    {
      "cell_type": "code",
      "execution_count": 4,
      "metadata": {
        "id": "6y9L3uMOOHHy"
      },
      "outputs": [],
      "source": [
        "graph_dict2 = {'A': [1, 2],\n",
        "               'B': [3, 4],\n",
        "               'C': [5],\n",
        "               'D': [11],\n",
        "               'E': [5],\n",
        "               'F': [6, 10],\n",
        "               'G': [8],\n",
        "               'H': [10],\n",
        "               'I': [12],\n",
        "               'J': [7],\n",
        "               'K': [9],\n",
        "               'L': [1],\n",
        "               'M': [2]\n",
        "               }"
      ]
    },
    {
      "cell_type": "code",
      "execution_count": 5,
      "metadata": {
        "id": "4ZZ6dFIiO0Lv"
      },
      "outputs": [
        {
          "data": {
            "image/png": "[encoded data removed]",
            "text/plain": [
              "<Figure size 640x480 with 1 Axes>"
            ]
          },
          "metadata": {},
          "output_type": "display_data"
        }
      ],
      "source": [
        "graph2 = Traversal()\n",
        "graph2.create_graph(graph_dict2)\n",
        "# graph2.print_graph()\n",
        "graph2.visualize()"
      ]
    },
    {
      "cell_type": "code",
      "execution_count": 6,
      "metadata": {},
      "outputs": [
        {
          "name": "stdout",
          "output_type": "stream",
          "text": [
            "\n",
            "DFS\n",
            "A C M I G F K J H E B L D \n",
            "BFS\n",
            "A B C D E L F M G K I H J \n",
            "All Paths\n",
            "A B D \n",
            "A B L D \n",
            "A C F E B D \n",
            "A C F E B L D \n",
            "A C M I G F E B D \n",
            "A C M I G F E B L D \n",
            "Shortest Path\n",
            "A B D "
          ]
        }
      ],
      "source": [
        "dfs_result = graph2.dfs()\n",
        "bfs_result = graph2.bfs()\n",
        "all_paths = graph2.all_paths(graph2.nodes[0], graph2.nodes[3])\n",
        "shortest_path = graph2.shortest_path(graph2.nodes[0], graph2.nodes[3])\n",
        "\n",
        "print(\"\\nDFS\")\n",
        "for i in range(len(dfs_result)):\n",
        "    print(dfs_result[i].val, end=' ')\n",
        "    \n",
        "print(\"\\nBFS\")\n",
        "for i in range(len(bfs_result)):\n",
        "    print(bfs_result[i].val, end=' ')\n",
        "\n",
        "print(\"\\nAll Paths\")\n",
        "for path in all_paths:\n",
        "    for node in path:\n",
        "        print(node.val, end=' ')\n",
        "    print()\n",
        "\n",
        "print(\"Shortest Path\")\n",
        "for node in shortest_path:\n",
        "    print(node.val, end=' ')"
      ]
    },
    {
      "cell_type": "code",
      "execution_count": null,
      "metadata": {
        "id": "6NTX4qhOWdBY"
      },
      "outputs": [],
      "source": [
        "import time \n",
        "\n",
        "start=time.time()\n",
        "\n",
        "# functioncall here\n",
        "\n",
        "end = time.time()\n"
      ]
    }
  ],
  "metadata": {
    "colab": {
      "collapsed_sections": [],
      "provenance": []
    },
    "kernelspec": {
      "display_name": "Python 3.10.7 64-bit (microsoft store)",
      "language": "python",
      "name": "python3"
    },
    "language_info": {
      "codemirror_mode": {
        "name": "ipython",
        "version": 3
      },
      "file_extension": ".py",
      "mimetype": "text/x-python",
      "name": "python",
      "nbconvert_exporter": "python",
      "pygments_lexer": "ipython3",
      "version": "3.10.8"
    },
    "vscode": {
      "interpreter": {
        "hash": "71378fec4b9b0ae51f784db9960b5ea07fb9042b7f7d69b6f196c430cecf08e0"
      }
    }
  },
  "nbformat": 4,
  "nbformat_minor": 0
}
