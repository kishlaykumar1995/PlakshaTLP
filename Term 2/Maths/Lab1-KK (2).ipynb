{
 "cells": [
  {
   "cell_type": "code",
   "execution_count": 64,
   "metadata": {},
   "outputs": [],
   "source": [
    "import pandas as pd \n",
    "import numpy as np\n",
    "import scipy.stats as stats"
   ]
  },
  {
   "cell_type": "markdown",
   "metadata": {},
   "source": [
    "## Data Loading"
   ]
  },
  {
   "cell_type": "code",
   "execution_count": 65,
   "metadata": {},
   "outputs": [
    {
     "name": "stdout",
     "output_type": "stream",
     "text": [
      "   customer_id  campaign_name campaign_date mailer_type  signup_flag\n",
      "0           74  delivery_club    2020-07-01     Mailer1            1\n",
      "1          524  delivery_club    2020-07-01     Mailer1            1\n",
      "2          607  delivery_club    2020-07-01     Mailer2            1\n",
      "3          343  delivery_club    2020-07-01     Mailer1            0\n",
      "4          322  delivery_club    2020-07-01     Mailer2            1\n"
     ]
    }
   ],
   "source": [
    "# Importing campaign data and remove \"Control\" mailer type\n",
    "campaign_data = pd.read_excel(\"grocery_database.xlsx\", sheet_name= \"campaign_data\")\n",
    "\n",
    "campaign_data = campaign_data[campaign_data['mailer_type'] != \"Control\"]\n",
    "print(campaign_data.head())"
   ]
  },
  {
   "cell_type": "markdown",
   "metadata": {},
   "source": [
    "## Calculating signup rates"
   ]
  },
  {
   "cell_type": "code",
   "execution_count": 66,
   "metadata": {},
   "outputs": [
    {
     "name": "stdout",
     "output_type": "stream",
     "text": [
      "signup_flag    0    1\n",
      "mailer_type          \n",
      "Mailer1      252  123\n",
      "Mailer2      209  127\n",
      "\n",
      "Mailer1 signup rate: 0.328\n",
      "Mailer2 signup rate: 0.37797619047619047\n"
     ]
    }
   ],
   "source": [
    "#Create contingency table\n",
    "contingency_table = campaign_data.groupby(by='mailer_type')['signup_flag'].value_counts().unstack(level=1)\n",
    "\n",
    "# Row sum, column sums and signup rates\n",
    "row_sum = contingency_table[0] + contingency_table[1]\n",
    "column_sum = contingency_table.iloc[0] + contingency_table.iloc[1]\n",
    "signup_rates = contingency_table[1]/row_sum\n",
    "total_observations = sum(row_sum)\n",
    "\n",
    "print(contingency_table)\n",
    "print(\"\\nMailer1 signup rate:\", (signup_rates[0]))\n",
    "print(\"Mailer2 signup rate:\", (signup_rates[1]))"
   ]
  },
  {
   "cell_type": "markdown",
   "metadata": {},
   "source": [
    "## Chisquare test of independence"
   ]
  },
  {
   "cell_type": "markdown",
   "metadata": {},
   "source": [
    "Null Hypothesis ($H_0$): There is no significant relationship between mailer_type and signup_flag.\n",
    "\n",
    "Alternate Hypothesis $(H_1)$: There is a significant relationship between mailer_type and signup_flag."
   ]
  },
  {
   "cell_type": "code",
   "execution_count": 67,
   "metadata": {},
   "outputs": [
    {
     "name": "stdout",
     "output_type": "stream",
     "text": [
      "Chisquare critical value:  3.841458820694124\n",
      "Chisquare observed value:  1.728424144871394\n",
      "Chisquare p-value:  0.1886122739808747\n"
     ]
    }
   ],
   "source": [
    "# Using scipy.stats.chi2_contingency\n",
    "stat, p, dof, expected = stats.chi2_contingency(contingency_table)\n",
    "\n",
    "print(\"Chisquare critical value: \", stats.chi2.ppf(0.95, df=dof))\n",
    "print(\"Chisquare observed value: \", stat)\n",
    "print(\"Chisquare p-value: \",p)"
   ]
  },
  {
   "cell_type": "markdown",
   "metadata": {},
   "source": [
    "## Conclusion"
   ]
  },
  {
   "cell_type": "markdown",
   "metadata": {},
   "source": [
    "Since the p-value is 0.18 which is greater than 0.05 or chisquare value is less than critical value, we can not reject the null hypothesis. Hence, there is no significant relationship between mailer_type and signup_flag."
   ]
  },
  {
   "cell_type": "markdown",
   "metadata": {},
   "source": [
    "## Bonus: Why are we using chi-square distribution in this case?"
   ]
  },
  {
   "cell_type": "markdown",
   "metadata": {},
   "source": [
    "Reasons:\n",
    "1. There are 1 (or more) categorical variables(like mailer_type).\n",
    "2. All the observations in the given dataset are independent of each other.\n",
    "3. The given set of categorical variables in the dataset are mutually exclusive."
   ]
  },
  {
   "cell_type": "markdown",
   "metadata": {},
   "source": [
    "\n",
    "#### Gaussian Distribution"
   ]
  },
  {
   "cell_type": "markdown",
   "metadata": {},
   "source": [
    "1. Before we use Gaussian distribution, we need to check if the data is actually following normal distibution.\n",
    "2. Gaussian distribution is typically used to compare a variable with a value. (like when a variable is compared to population mean) For this dataset, we are comparing 2 different variables (mailer1 and mailer2)."
   ]
  }
 ],
 "metadata": {
  "kernelspec": {
   "display_name": "Python 3.10.8 64-bit (microsoft store)",
   "language": "python",
   "name": "python3"
  },
  "language_info": {
   "codemirror_mode": {
    "name": "ipython",
    "version": 3
   },
   "file_extension": ".py",
   "mimetype": "text/x-python",
   "name": "python",
   "nbconvert_exporter": "python",
   "pygments_lexer": "ipython3",
   "version": "3.10.8"
  },
  "orig_nbformat": 4,
  "vscode": {
   "interpreter": {
    "hash": "71378fec4b9b0ae51f784db9960b5ea07fb9042b7f7d69b6f196c430cecf08e0"
   }
  }
 },
 "nbformat": 4,
 "nbformat_minor": 2
}
