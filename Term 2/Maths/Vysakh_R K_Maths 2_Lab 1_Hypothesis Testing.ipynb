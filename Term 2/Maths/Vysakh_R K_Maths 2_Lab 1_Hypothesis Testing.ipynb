{
 "cells": [
  {
   "cell_type": "markdown",
   "metadata": {},
   "source": [
    "## <font color = 'orange'> Lab 1: Probability & Hypothesis testing</font>\n",
    "![](https://www.investopedia.com/thmb/Sdwxmoh4uBSXo4CFUxI3UDpUfr8=/1500x0/filters:no_upscale():max_bytes(150000):strip_icc():format(webp)/Chi-SquareStatistic_Final_4199464-d0a8ed6adfdf4e68b1619b022098d069.png)"
   ]
  },
  {
   "cell_type": "code",
   "execution_count": 1,
   "metadata": {},
   "outputs": [],
   "source": [
    "from numpy.core.fromnumeric import shape\n",
    "import pandas as pd\n",
    "import matplotlib.pyplot as plt\n",
    "import scipy.stats as scst"
   ]
  },
  {
   "cell_type": "markdown",
   "metadata": {},
   "source": [
    "Reading data from the campaign data from the excel databse given"
   ]
  },
  {
   "cell_type": "code",
   "execution_count": 2,
   "metadata": {},
   "outputs": [],
   "source": [
    "campaign_data = pd.read_excel('./grocery_database.xlsx', sheet_name = \"campaign_data\", engine =\"openpyxl\")"
   ]
  },
  {
   "cell_type": "markdown",
   "metadata": {},
   "source": [
    "Showing the campaign data"
   ]
  },
  {
   "cell_type": "code",
   "execution_count": 3,
   "metadata": {},
   "outputs": [
    {
     "data": {
      "text/html": [
       "<div>\n",
       "<style scoped>\n",
       "    .dataframe tbody tr th:only-of-type {\n",
       "        vertical-align: middle;\n",
       "    }\n",
       "\n",
       "    .dataframe tbody tr th {\n",
       "        vertical-align: top;\n",
       "    }\n",
       "\n",
       "    .dataframe thead th {\n",
       "        text-align: right;\n",
       "    }\n",
       "</style>\n",
       "<table border=\"1\" class=\"dataframe\">\n",
       "  <thead>\n",
       "    <tr style=\"text-align: right;\">\n",
       "      <th></th>\n",
       "      <th>customer_id</th>\n",
       "      <th>campaign_name</th>\n",
       "      <th>campaign_date</th>\n",
       "      <th>mailer_type</th>\n",
       "      <th>signup_flag</th>\n",
       "    </tr>\n",
       "  </thead>\n",
       "  <tbody>\n",
       "    <tr>\n",
       "      <th>0</th>\n",
       "      <td>74</td>\n",
       "      <td>delivery_club</td>\n",
       "      <td>2020-07-01</td>\n",
       "      <td>Mailer1</td>\n",
       "      <td>1</td>\n",
       "    </tr>\n",
       "    <tr>\n",
       "      <th>1</th>\n",
       "      <td>524</td>\n",
       "      <td>delivery_club</td>\n",
       "      <td>2020-07-01</td>\n",
       "      <td>Mailer1</td>\n",
       "      <td>1</td>\n",
       "    </tr>\n",
       "    <tr>\n",
       "      <th>2</th>\n",
       "      <td>607</td>\n",
       "      <td>delivery_club</td>\n",
       "      <td>2020-07-01</td>\n",
       "      <td>Mailer2</td>\n",
       "      <td>1</td>\n",
       "    </tr>\n",
       "    <tr>\n",
       "      <th>3</th>\n",
       "      <td>343</td>\n",
       "      <td>delivery_club</td>\n",
       "      <td>2020-07-01</td>\n",
       "      <td>Mailer1</td>\n",
       "      <td>0</td>\n",
       "    </tr>\n",
       "    <tr>\n",
       "      <th>4</th>\n",
       "      <td>322</td>\n",
       "      <td>delivery_club</td>\n",
       "      <td>2020-07-01</td>\n",
       "      <td>Mailer2</td>\n",
       "      <td>1</td>\n",
       "    </tr>\n",
       "    <tr>\n",
       "      <th>...</th>\n",
       "      <td>...</td>\n",
       "      <td>...</td>\n",
       "      <td>...</td>\n",
       "      <td>...</td>\n",
       "      <td>...</td>\n",
       "    </tr>\n",
       "    <tr>\n",
       "      <th>865</th>\n",
       "      <td>372</td>\n",
       "      <td>delivery_club</td>\n",
       "      <td>2020-07-01</td>\n",
       "      <td>Mailer2</td>\n",
       "      <td>1</td>\n",
       "    </tr>\n",
       "    <tr>\n",
       "      <th>866</th>\n",
       "      <td>104</td>\n",
       "      <td>delivery_club</td>\n",
       "      <td>2020-07-01</td>\n",
       "      <td>Mailer1</td>\n",
       "      <td>1</td>\n",
       "    </tr>\n",
       "    <tr>\n",
       "      <th>867</th>\n",
       "      <td>393</td>\n",
       "      <td>delivery_club</td>\n",
       "      <td>2020-07-01</td>\n",
       "      <td>Mailer2</td>\n",
       "      <td>1</td>\n",
       "    </tr>\n",
       "    <tr>\n",
       "      <th>868</th>\n",
       "      <td>373</td>\n",
       "      <td>delivery_club</td>\n",
       "      <td>2020-07-01</td>\n",
       "      <td>Control</td>\n",
       "      <td>0</td>\n",
       "    </tr>\n",
       "    <tr>\n",
       "      <th>869</th>\n",
       "      <td>712</td>\n",
       "      <td>delivery_club</td>\n",
       "      <td>2020-07-01</td>\n",
       "      <td>Control</td>\n",
       "      <td>0</td>\n",
       "    </tr>\n",
       "  </tbody>\n",
       "</table>\n",
       "<p>870 rows × 5 columns</p>\n",
       "</div>"
      ],
      "text/plain": [
       "     customer_id  campaign_name campaign_date mailer_type  signup_flag\n",
       "0             74  delivery_club    2020-07-01     Mailer1            1\n",
       "1            524  delivery_club    2020-07-01     Mailer1            1\n",
       "2            607  delivery_club    2020-07-01     Mailer2            1\n",
       "3            343  delivery_club    2020-07-01     Mailer1            0\n",
       "4            322  delivery_club    2020-07-01     Mailer2            1\n",
       "..           ...            ...           ...         ...          ...\n",
       "865          372  delivery_club    2020-07-01     Mailer2            1\n",
       "866          104  delivery_club    2020-07-01     Mailer1            1\n",
       "867          393  delivery_club    2020-07-01     Mailer2            1\n",
       "868          373  delivery_club    2020-07-01     Control            0\n",
       "869          712  delivery_club    2020-07-01     Control            0\n",
       "\n",
       "[870 rows x 5 columns]"
      ]
     },
     "execution_count": 3,
     "metadata": {},
     "output_type": "execute_result"
    }
   ],
   "source": [
    "campaign_data"
   ]
  },
  {
   "cell_type": "markdown",
   "metadata": {},
   "source": [
    "Now we are grouping the above table into groups based on the mailer type as well see the count of each type based on the signup flag"
   ]
  },
  {
   "cell_type": "code",
   "execution_count": 4,
   "metadata": {},
   "outputs": [
    {
     "data": {
      "text/plain": [
       "mailer_type  signup_flag\n",
       "Control      0              140\n",
       "             1               19\n",
       "Mailer1      0              252\n",
       "             1              123\n",
       "Mailer2      0              209\n",
       "             1              127\n",
       "Name: signup_flag, dtype: int64"
      ]
     },
     "execution_count": 4,
     "metadata": {},
     "output_type": "execute_result"
    }
   ],
   "source": [
    "campaign_data.groupby(\"mailer_type\")[\"signup_flag\"].value_counts()"
   ]
  },
  {
   "cell_type": "markdown",
   "metadata": {},
   "source": [
    "Deleting the mailer_type which is Control, that is not asked in the question and grouping the table again based on the mailer type"
   ]
  },
  {
   "cell_type": "code",
   "execution_count": 5,
   "metadata": {},
   "outputs": [
    {
     "data": {
      "text/plain": [
       "mailer_type  signup_flag\n",
       "Mailer1      0              252\n",
       "             1              123\n",
       "Mailer2      0              209\n",
       "             1              127\n",
       "Name: signup_flag, dtype: int64"
      ]
     },
     "execution_count": 5,
     "metadata": {},
     "output_type": "execute_result"
    }
   ],
   "source": [
    "campaign_data = campaign_data.loc[campaign_data[\"mailer_type\"] != \"Control\"]\n",
    "chi2_data_table = campaign_data.groupby(\"mailer_type\")[\"signup_flag\"].value_counts()\n",
    "chi2_data_table"
   ]
  },
  {
   "cell_type": "markdown",
   "metadata": {},
   "source": [
    "Now the signup rate for mailer 1 and mailer 2 is being calculated inorder to establish the null hypothesis"
   ]
  },
  {
   "cell_type": "code",
   "execution_count": 6,
   "metadata": {},
   "outputs": [
    {
     "name": "stdout",
     "output_type": "stream",
     "text": [
      "0.328 0.37797619047619047\n"
     ]
    }
   ],
   "source": [
    "mailer1_signup_rate = 123 / (252+123)\n",
    "mailer2_signup_rate = 127 / (209+127)\n",
    "\n",
    "print(mailer1_signup_rate, mailer2_signup_rate)"
   ]
  },
  {
   "cell_type": "markdown",
   "metadata": {},
   "source": [
    "Now establishing the Null hypothesis and alternate hypothesis:\n",
    "\n",
    "Null Hypothesis:\n",
    "Mailer 1 signup rate is independent and have no association Mailer 2 signup rate\n",
    "\n",
    "Alternate Hypothesis:\n",
    "Mailer 1 signup rate is not independent or in other words, have association with Mailer 2 signup rate\n",
    "\n",
    "Acceptance Criteria:\n",
    "If P value obtained is less than or equal to significance value taken == Null Hypothesis is rejected else accepted."
   ]
  },
  {
   "cell_type": "code",
   "execution_count": 7,
   "metadata": {},
   "outputs": [],
   "source": [
    "from scipy.stats import chi2_contingency"
   ]
  },
  {
   "cell_type": "markdown",
   "metadata": {},
   "source": [
    "Defining the contingency table for the chi2 test"
   ]
  },
  {
   "cell_type": "code",
   "execution_count": 8,
   "metadata": {},
   "outputs": [
    {
     "name": "stdout",
     "output_type": "stream",
     "text": [
      "Flag           0    1  Side_total\n",
      "mailer_type                      \n",
      "Mailer1      252  123         375\n",
      "Mailer2      209  127         336\n",
      "Side_total   461  250         711\n"
     ]
    }
   ],
   "source": [
    "#The data to created contingency table based on the grouped above\n",
    "chi2_data = [['Mailer1', '0'] for i in range(252)] + [['Mailer1', '1'] for i in range(123)]+\\\n",
    "            [['Mailer2', '0'] for i in range(209)] + [['Mailer2', '1'] for i in range(127)] \n",
    "\n",
    "\n",
    "df = pd.DataFrame(chi2_data, columns = ['mailer_type', 'Flag'])\n",
    "\n",
    "#Contingency Table\n",
    "chi2_data_final = pd.crosstab(df['mailer_type'],df['Flag'], margins = True,\n",
    "                            margins_name= \"Side_total\")\n",
    "\n",
    "#The frequency table to do all the calculations in the chi2 test\n",
    "print(chi2_data_final)"
   ]
  },
  {
   "cell_type": "markdown",
   "metadata": {},
   "source": [
    "Significance Level is taken as 5% or 0.05 as we use the same in all cases"
   ]
  },
  {
   "cell_type": "code",
   "execution_count": 9,
   "metadata": {},
   "outputs": [],
   "source": [
    "alpha = 0.05"
   ]
  },
  {
   "cell_type": "markdown",
   "metadata": {},
   "source": [
    "As given in the question, we are finding the chi square value in this section as given in the theory"
   ]
  },
  {
   "cell_type": "code",
   "execution_count": 10,
   "metadata": {},
   "outputs": [
    {
     "data": {
      "text/plain": [
       "1.9414468614812481"
      ]
     },
     "execution_count": 10,
     "metadata": {},
     "output_type": "execute_result"
    }
   ],
   "source": [
    "calculated_value = 0\n",
    "x = df['mailer_type'].unique()\n",
    "y = df['Flag'].unique()\n",
    "\n",
    "for i in y:\n",
    "    for j in x:\n",
    "        observed = chi2_data_final[i][j]\n",
    "        expected = chi2_data_final[i]['Side_total'] * chi2_data_final['Side_total'][j] / chi2_data_final['Side_total']['Side_total']\n",
    "        #Net chi2 value for the data\n",
    "        calculated_value += (observed-expected)**2/expected  \n",
    "\n",
    "calculated_value     "
   ]
  },
  {
   "cell_type": "markdown",
   "metadata": {},
   "source": [
    "P-value is found out using the scipy library"
   ]
  },
  {
   "cell_type": "code",
   "execution_count": 11,
   "metadata": {},
   "outputs": [
    {
     "name": "stdout",
     "output_type": "stream",
     "text": [
      "P value is: 0.1886122739808747\n"
     ]
    }
   ],
   "source": [
    "chi2_data = [[252,123],[209,127]]\n",
    "\n",
    "#Below returns stat = test statistics, p value for the chi2 test, degree of freedom ( (rows-1)*(columns-1)) and the expected value of each content based on the theory\n",
    "stat, p_value, dof, expected= chi2_contingency(chi2_data) \n",
    "print(\"P value is:\", p_value)"
   ]
  },
  {
   "cell_type": "markdown",
   "metadata": {},
   "source": [
    "Checking if the null hypothesis is rejected or not\n",
    "If P value is less than or equal to significance value == Null Hypothesis is rejected\n",
    "Else it is accepted"
   ]
  },
  {
   "cell_type": "code",
   "execution_count": 12,
   "metadata": {},
   "outputs": [
    {
     "name": "stdout",
     "output_type": "stream",
     "text": [
      "Conclusion: The Null hyphothesis is accepted\n"
     ]
    }
   ],
   "source": [
    "if p_value <= alpha:\n",
    "    print(\"Conclusion: The Null hyphothesis is rejected\")\n",
    "else:\n",
    "    print(\"Conclusion: The Null hyphothesis is accepted\")"
   ]
  },
  {
   "cell_type": "markdown",
   "metadata": {},
   "source": [
    "#### Conclusion: The Null hyphothesis is accepted"
   ]
  },
  {
   "cell_type": "markdown",
   "metadata": {},
   "source": [
    "### <u>Bonus Question</u>"
   ]
  },
  {
   "cell_type": "markdown",
   "metadata": {},
   "source": [
    "#### Why are we using chi-square in this case? How would it look like with another distribution (like gaussian)? "
   ]
  },
  {
   "cell_type": "markdown",
   "metadata": {},
   "source": [
    "1. Chi square is very easy to compute than another distribution, like gaussian, student-t, as the computation is very tough and time consuming.\n",
    "\n",
    "2. In chi square method, no approximation is done whereas in other distributions like Gaussian, certain features of the distribution like the normality feature is approximated.\n",
    "\n",
    "3. It can be used find the difference between two or more groups in the dataset, like the data given in the above example.\n",
    "\n",
    "4. Number of observations are 20+.\n",
    "\n",
    "5. By the above features, Chi square test of independence has more flexibility.\n"
   ]
  },
  {
   "cell_type": "markdown",
   "metadata": {},
   "source": []
  }
 ],
 "metadata": {
  "kernelspec": {
   "display_name": "Python 3.9.12 ('base')",
   "language": "python",
   "name": "python3"
  },
  "language_info": {
   "codemirror_mode": {
    "name": "ipython",
    "version": 3
   },
   "file_extension": ".py",
   "mimetype": "text/x-python",
   "name": "python",
   "nbconvert_exporter": "python",
   "pygments_lexer": "ipython3",
   "version": "3.9.12"
  },
  "orig_nbformat": 4,
  "vscode": {
   "interpreter": {
    "hash": "9bea887aebbe5fe39094061bcdc28ca32d0cf063452203d777d9e7752b00e9c3"
   }
  }
 },
 "nbformat": 4,
 "nbformat_minor": 2
}
