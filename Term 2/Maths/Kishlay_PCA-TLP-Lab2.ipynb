{
 "cells": [
  {
   "cell_type": "code",
   "execution_count": 1,
   "metadata": {},
   "outputs": [],
   "source": [
    "import numpy as np\n",
    "import pandas as pd\n",
    "import seaborn as sb\n",
    "import matplotlib.pyplot as plt"
   ]
  },
  {
   "cell_type": "markdown",
   "metadata": {},
   "source": [
    "# Exercise 1"
   ]
  },
  {
   "cell_type": "markdown",
   "metadata": {},
   "source": [
    "### Determine PCA of a 3x2 matrix "
   ]
  },
  {
   "cell_type": "markdown",
   "metadata": {},
   "source": [
    "#### define a matrix"
   ]
  },
  {
   "cell_type": "code",
   "execution_count": 2,
   "metadata": {},
   "outputs": [
    {
     "name": "stdout",
     "output_type": "stream",
     "text": [
      "[[1 2]\n",
      " [3 4]\n",
      " [5 6]]\n"
     ]
    }
   ],
   "source": [
    "A = np.array([[1, 2], [3, 4], [5, 6]])\n",
    "print(A)"
   ]
  },
  {
   "cell_type": "markdown",
   "metadata": {},
   "source": [
    "#### First do it manually!"
   ]
  },
  {
   "cell_type": "markdown",
   "metadata": {},
   "source": [
    "#### 1. Subtract the mean of each variable"
   ]
  },
  {
   "cell_type": "code",
   "execution_count": 3,
   "metadata": {},
   "outputs": [
    {
     "name": "stdout",
     "output_type": "stream",
     "text": [
      "[3. 4.]\n",
      "[[-2. -2.]\n",
      " [ 0.  0.]\n",
      " [ 2.  2.]]\n"
     ]
    }
   ],
   "source": [
    "M = np.mean(A.T, axis=1)\n",
    "print(M)\n",
    "C = A - M\n",
    "print(C)"
   ]
  },
  {
   "cell_type": "markdown",
   "metadata": {},
   "source": [
    "#### 2. Calculate the Covariance Matrix"
   ]
  },
  {
   "cell_type": "code",
   "execution_count": 4,
   "metadata": {},
   "outputs": [
    {
     "data": {
      "text/plain": [
       "array([[4., 4.],\n",
       "       [4., 4.]])"
      ]
     },
     "execution_count": 4,
     "metadata": {},
     "output_type": "execute_result"
    }
   ],
   "source": [
    "CV = np.cov(C.T)\n",
    "CV"
   ]
  },
  {
   "cell_type": "markdown",
   "metadata": {},
   "source": [
    "#### 3. Compute the Eigenvalues and Eigenvectors"
   ]
  },
  {
   "cell_type": "code",
   "execution_count": 5,
   "metadata": {},
   "outputs": [
    {
     "data": {
      "text/plain": [
       "(array([8., 0.]),\n",
       " array([[ 0.70710678, -0.70710678],\n",
       "        [ 0.70710678,  0.70710678]]))"
      ]
     },
     "execution_count": 5,
     "metadata": {},
     "output_type": "execute_result"
    }
   ],
   "source": [
    "vals,vecs = np.linalg.eig(CV)\n",
    "vals,vecs"
   ]
  },
  {
   "cell_type": "markdown",
   "metadata": {},
   "source": [
    "#### 4. project data of the original matrix to the new basis"
   ]
  },
  {
   "cell_type": "code",
   "execution_count": 6,
   "metadata": {},
   "outputs": [
    {
     "name": "stdout",
     "output_type": "stream",
     "text": [
      "[[-2.82842712  0.        ]\n",
      " [ 0.          0.        ]\n",
      " [ 2.82842712  0.        ]]\n"
     ]
    }
   ],
   "source": [
    "P = vecs.T.dot(C.T)      # C\n",
    "print(P.T)"
   ]
  },
  {
   "cell_type": "markdown",
   "metadata": {},
   "source": [
    "#### conclusion?"
   ]
  },
  {
   "cell_type": "markdown",
   "metadata": {},
   "source": [
    "<b> Since one of the eigenvalues is zero, the first principal component can be used to explain 100% of the data (i.e., the variance in data) and the second component is not needed i.e., it can be ignored and no data will be lost. </b>"
   ]
  },
  {
   "cell_type": "markdown",
   "metadata": {},
   "source": [
    "# Exercise 2"
   ]
  },
  {
   "cell_type": "markdown",
   "metadata": {},
   "source": [
    "### Ok Let's do it again but for a larger matrix 20x5"
   ]
  },
  {
   "cell_type": "markdown",
   "metadata": {},
   "source": [
    "#### Generate a dummy dataset."
   ]
  },
  {
   "cell_type": "code",
   "execution_count": 7,
   "metadata": {},
   "outputs": [
    {
     "name": "stdout",
     "output_type": "stream",
     "text": [
      "[[37 36 45 41 13]\n",
      " [31 42 14 11 42]\n",
      " [33 19 26 18 37]\n",
      " [14 41 20 46 43]\n",
      " [25 42 36 41 13]\n",
      " [21 15 40 39 47]\n",
      " [16 30 28 27 33]\n",
      " [47 32 13 32 48]\n",
      " [15 46 47 20 38]\n",
      " [31 25 17 23 32]\n",
      " [41 48 39 34 15]\n",
      " [39 24 37 39 32]\n",
      " [45 33 17 31 45]\n",
      " [14 18 35 24 24]\n",
      " [21 34 24 12 28]\n",
      " [49 10 34 23 45]\n",
      " [31 49 27 13 47]\n",
      " [22 41 25 25 45]\n",
      " [43 30 16 43 34]\n",
      " [21 18 10 39 43]]\n"
     ]
    }
   ],
   "source": [
    "X = np.random.randint(10,50,100).reshape(20,5)\n",
    "print(X)"
   ]
  },
  {
   "cell_type": "markdown",
   "metadata": {},
   "source": [
    "#### 1. Subtract the mean of each variable"
   ]
  },
  {
   "cell_type": "markdown",
   "metadata": {},
   "source": [
    "Subtract the mean of each variable from the dataset so that the dataset should be centered on the origin. Doing this proves to be very helpful when calculating the covariance matrix."
   ]
  },
  {
   "cell_type": "code",
   "execution_count": 8,
   "metadata": {},
   "outputs": [
    {
     "name": "stdout",
     "output_type": "stream",
     "text": [
      "[[  7.2    4.35  17.5   11.95 -22.2 ]\n",
      " [  1.2   10.35 -13.5  -18.05   6.8 ]\n",
      " [  3.2  -12.65  -1.5  -11.05   1.8 ]\n",
      " [-15.8    9.35  -7.5   16.95   7.8 ]\n",
      " [ -4.8   10.35   8.5   11.95 -22.2 ]\n",
      " [ -8.8  -16.65  12.5    9.95  11.8 ]\n",
      " [-13.8   -1.65   0.5   -2.05  -2.2 ]\n",
      " [ 17.2    0.35 -14.5    2.95  12.8 ]\n",
      " [-14.8   14.35  19.5   -9.05   2.8 ]\n",
      " [  1.2   -6.65 -10.5   -6.05  -3.2 ]\n",
      " [ 11.2   16.35  11.5    4.95 -20.2 ]\n",
      " [  9.2   -7.65   9.5    9.95  -3.2 ]\n",
      " [ 15.2    1.35 -10.5    1.95   9.8 ]\n",
      " [-15.8  -13.65   7.5   -5.05 -11.2 ]\n",
      " [ -8.8    2.35  -3.5  -17.05  -7.2 ]\n",
      " [ 19.2  -21.65   6.5   -6.05   9.8 ]\n",
      " [  1.2   17.35  -0.5  -16.05  11.8 ]\n",
      " [ -7.8    9.35  -2.5   -4.05   9.8 ]\n",
      " [ 13.2   -1.65 -11.5   13.95  -1.2 ]\n",
      " [ -8.8  -13.65 -17.5    9.95   7.8 ]]\n"
     ]
    }
   ],
   "source": [
    "M = X - np.mean(X, axis=0)\n",
    "print(M)"
   ]
  },
  {
   "cell_type": "markdown",
   "metadata": {},
   "source": [
    "#### 2. Calculate the Covariance Matrix"
   ]
  },
  {
   "cell_type": "markdown",
   "metadata": {},
   "source": [
    "Calculate the Covariance Matrix of the mean-centered data. "
   ]
  },
  {
   "cell_type": "code",
   "execution_count": 9,
   "metadata": {},
   "outputs": [
    {
     "name": "stdout",
     "output_type": "stream",
     "text": [
      "[[135.32631579 -14.75789474 -19.47368421  11.64210526   5.98947368]\n",
      " [-14.75789474 135.60789474   9.71052632 -14.29736842 -26.82105263]\n",
      " [-19.47368421   9.71052632 124.47368421  10.97368421 -62.89473684]\n",
      " [ 11.64210526 -14.29736842  10.97368421 120.99736842 -28.85263158]\n",
      " [  5.98947368 -26.82105263 -62.89473684 -28.85263158 131.95789474]]\n"
     ]
    }
   ],
   "source": [
    "CV = np.cov(M.T)\n",
    "print(CV)"
   ]
  },
  {
   "cell_type": "markdown",
   "metadata": {},
   "source": [
    "Note: the matrix is symmetrical"
   ]
  },
  {
   "cell_type": "markdown",
   "metadata": {},
   "source": [
    "#### 3. Compute the Eigenvalues and Eigenvectors"
   ]
  },
  {
   "cell_type": "markdown",
   "metadata": {},
   "source": [
    "Now, compute the Eigenvalues and Eigenvectors for the calculated Covariance matrix. "
   ]
  },
  {
   "cell_type": "code",
   "execution_count": 10,
   "metadata": {},
   "outputs": [
    {
     "name": "stdout",
     "output_type": "stream",
     "text": [
      "[211.70390101 156.10551771  58.12762171 124.19352127  98.2325962 ] [[ 0.23471627 -0.57119103  0.10952584 -0.6922827  -0.35692833]\n",
      " [-0.31874492  0.52707392  0.23032689 -0.6769502   0.33057936]\n",
      " [-0.59557014 -0.08323305  0.62108606  0.20224364 -0.46012834]\n",
      " [-0.20431912 -0.59183095  0.24471519  0.07818065  0.73620112]\n",
      " [ 0.66847577  0.19683057  0.69951426  0.12437198  0.09802695]]\n"
     ]
    }
   ],
   "source": [
    "vals, vecs = np.linalg.eig(CV)\n",
    "print(vals, vecs)"
   ]
  },
  {
   "cell_type": "markdown",
   "metadata": {},
   "source": [
    "Note: The Eigenvectors of the Covariance matrix we get are Orthogonal to each other and each vector represents a principal axis.\n",
    "A Higher Eigenvalue corresponds to a higher variability. Hence the principal axis with the higher Eigenvalue will be an axis capturing higher variability in the data."
   ]
  },
  {
   "cell_type": "markdown",
   "metadata": {},
   "source": [
    "#### 4. Sort Eigenvalues in descending order"
   ]
  },
  {
   "cell_type": "markdown",
   "metadata": {},
   "source": [
    "Sort the Eigenvalues in the descending order along with their corresponding Eigenvector."
   ]
  },
  {
   "cell_type": "code",
   "execution_count": 11,
   "metadata": {},
   "outputs": [
    {
     "name": "stdout",
     "output_type": "stream",
     "text": [
      "[[ 0.23471627 -0.57119103 -0.6922827  -0.35692833  0.10952584]\n",
      " [-0.31874492  0.52707392 -0.6769502   0.33057936  0.23032689]\n",
      " [-0.59557014 -0.08323305  0.20224364 -0.46012834  0.62108606]\n",
      " [-0.20431912 -0.59183095  0.07818065  0.73620112  0.24471519]\n",
      " [ 0.66847577  0.19683057  0.12437198  0.09802695  0.69951426]]\n"
     ]
    }
   ],
   "source": [
    "ST = vecs[:,np.argsort(vals)[::-1]]\n",
    "print(ST)"
   ]
  },
  {
   "cell_type": "markdown",
   "metadata": {},
   "source": [
    "Note: Each column in the Eigen vector-matrix corresponds to a principal component, so arranging them in descending order of their Eigenvalue will automatically arrange the principal component in descending order of their variability.\n",
    "Hence the first column in our rearranged Eigen vector-matrix will be a principal component that captures the highest variability."
   ]
  },
  {
   "cell_type": "markdown",
   "metadata": {},
   "source": [
    "#### 5. Select a subset from the rearranged Eigenvalue matrix"
   ]
  },
  {
   "cell_type": "markdown",
   "metadata": {},
   "source": [
    "Select a subset of n first eigenvectors from the rearranged Eigenvector matrix as per our need, n is desired dimension of your final reduced data. i.e. \"n_components=2\" means you selected the first two principal components."
   ]
  },
  {
   "cell_type": "code",
   "execution_count": 12,
   "metadata": {},
   "outputs": [
    {
     "name": "stdout",
     "output_type": "stream",
     "text": [
      "[[ 0.23471627 -0.57119103]\n",
      " [-0.31874492  0.52707392]\n",
      " [-0.59557014 -0.08323305]\n",
      " [-0.20431912 -0.59183095]\n",
      " [ 0.66847577  0.19683057]]\n"
     ]
    }
   ],
   "source": [
    "PC2 = ST[:,:2]\n",
    "print(PC2)"
   ]
  },
  {
   "cell_type": "markdown",
   "metadata": {},
   "source": [
    "Note: The final dimensions of X_reduced will be ( 20, 2 ) and originally the data was of higher dimensions ( 20, 5 )."
   ]
  },
  {
   "cell_type": "markdown",
   "metadata": {},
   "source": [
    "#### 6. Transform the data"
   ]
  },
  {
   "cell_type": "markdown",
   "metadata": {},
   "source": [
    "Finally, transform the data by having a dot product between the Transpose of the Eigenvector subset and the Transpose of the mean-centered data. By transposing the outcome of the dot product, the result we get is the data reduced to lower dimensions from higher dimensions."
   ]
  },
  {
   "cell_type": "code",
   "execution_count": 13,
   "metadata": {},
   "outputs": [
    {
     "data": {
      "text/plain": [
       "array([[-27.40083617, -14.71840093],\n",
       "       [ 13.25644173,  17.91442855],\n",
       "       [  9.13755317,  -1.47641973],\n",
       "       [ -0.47110413,   6.08095122],\n",
       "       [-26.76976973,  -3.95256754],\n",
       "       [  1.65201185,  -8.35582995],\n",
       "       [ -4.06273303,   7.75137398],\n",
       "       [ 20.51507466,  -7.65960062],\n",
       "       [-15.9405881 ,  20.30128916],\n",
       "       [  7.75180794,  -0.3658043 ],\n",
       "       [-23.94630396,  -5.64240197],\n",
       "       [ -5.23222561, -16.59636277],\n",
       "       [ 15.54350844,  -6.32173762],\n",
       "       [-10.27954205,   1.99025539],\n",
       "       [ -2.05944289,  15.22995807],\n",
       "       [ 15.3233673 , -17.40951612],\n",
       "       [  6.21655604,  20.32240723],\n",
       "       [  4.05642832,  13.91736878],\n",
       "       [  6.82081798, -15.94445195],\n",
       "       [ 15.88897823,  -5.06493889]])"
      ]
     },
     "execution_count": 13,
     "metadata": {},
     "output_type": "execute_result"
    }
   ],
   "source": [
    "np.matmul(M, PC2)"
   ]
  },
  {
   "cell_type": "code",
   "execution_count": 14,
   "metadata": {},
   "outputs": [
    {
     "data": {
      "text/plain": [
       "array([211.70390101, 156.10551771, 124.19352127,  98.2325962 ,\n",
       "        58.12762171])"
      ]
     },
     "execution_count": 14,
     "metadata": {},
     "output_type": "execute_result"
    }
   ],
   "source": [
    "vals.sort()\n",
    "vals = vals[::-1]\n",
    "vals"
   ]
  },
  {
   "cell_type": "code",
   "execution_count": 15,
   "metadata": {},
   "outputs": [
    {
     "name": "stdout",
     "output_type": "stream",
     "text": [
      "The explained variance is: 56.72892024145318\n"
     ]
    }
   ],
   "source": [
    "explained_variance  = (sum(vals[:2])/sum(vals))*100\n",
    "print(\"The explained variance is:\", explained_variance)"
   ]
  },
  {
   "cell_type": "markdown",
   "metadata": {},
   "source": [
    "<b> Here as we can see from from the above calculation, 52% of the variance can be explained using the first 2 principal components. </b>"
   ]
  },
  {
   "cell_type": "markdown",
   "metadata": {},
   "source": [
    "# Exercise 3"
   ]
  },
  {
   "cell_type": "markdown",
   "metadata": {},
   "source": [
    "### Now, let’s just combine everything above by making a function and try our Principal Component analysis from scratch on an example."
   ]
  },
  {
   "cell_type": "markdown",
   "metadata": {},
   "source": [
    "#### Create a PCA function accepting data matrix and the number of components as input arguments."
   ]
  },
  {
   "cell_type": "code",
   "execution_count": 16,
   "metadata": {},
   "outputs": [],
   "source": [
    "def PCA(X, n_components=2):\n",
    "    M = np.mean(X.T, axis=1)\n",
    "    C = X - M\n",
    "    CV = np.cov(C.T)\n",
    "    vals,vecs = np.linalg.eig(CV)\n",
    "    vecs_sorted = vecs[:,np.argsort(vals)[::-1]]\n",
    "    return (vals, np.matmul(C, vecs_sorted[:,:n_components]))\n",
    "    "
   ]
  },
  {
   "cell_type": "markdown",
   "metadata": {},
   "source": [
    "#### Let's use the IRIS dataset to test our PCA function, and by the same way see if we can classify the dataset in the projected space"
   ]
  },
  {
   "cell_type": "code",
   "execution_count": 17,
   "metadata": {},
   "outputs": [
    {
     "data": {
      "text/html": [
       "<div>\n",
       "<style scoped>\n",
       "    .dataframe tbody tr th:only-of-type {\n",
       "        vertical-align: middle;\n",
       "    }\n",
       "\n",
       "    .dataframe tbody tr th {\n",
       "        vertical-align: top;\n",
       "    }\n",
       "\n",
       "    .dataframe thead th {\n",
       "        text-align: right;\n",
       "    }\n",
       "</style>\n",
       "<table border=\"1\" class=\"dataframe\">\n",
       "  <thead>\n",
       "    <tr style=\"text-align: right;\">\n",
       "      <th></th>\n",
       "      <th>sepal length</th>\n",
       "      <th>sepal width</th>\n",
       "      <th>petal length</th>\n",
       "      <th>petal width</th>\n",
       "      <th>target</th>\n",
       "    </tr>\n",
       "  </thead>\n",
       "  <tbody>\n",
       "    <tr>\n",
       "      <th>0</th>\n",
       "      <td>5.1</td>\n",
       "      <td>3.5</td>\n",
       "      <td>1.4</td>\n",
       "      <td>0.2</td>\n",
       "      <td>Iris-setosa</td>\n",
       "    </tr>\n",
       "    <tr>\n",
       "      <th>1</th>\n",
       "      <td>4.9</td>\n",
       "      <td>3.0</td>\n",
       "      <td>1.4</td>\n",
       "      <td>0.2</td>\n",
       "      <td>Iris-setosa</td>\n",
       "    </tr>\n",
       "    <tr>\n",
       "      <th>2</th>\n",
       "      <td>4.7</td>\n",
       "      <td>3.2</td>\n",
       "      <td>1.3</td>\n",
       "      <td>0.2</td>\n",
       "      <td>Iris-setosa</td>\n",
       "    </tr>\n",
       "    <tr>\n",
       "      <th>3</th>\n",
       "      <td>4.6</td>\n",
       "      <td>3.1</td>\n",
       "      <td>1.5</td>\n",
       "      <td>0.2</td>\n",
       "      <td>Iris-setosa</td>\n",
       "    </tr>\n",
       "    <tr>\n",
       "      <th>4</th>\n",
       "      <td>5.0</td>\n",
       "      <td>3.6</td>\n",
       "      <td>1.4</td>\n",
       "      <td>0.2</td>\n",
       "      <td>Iris-setosa</td>\n",
       "    </tr>\n",
       "  </tbody>\n",
       "</table>\n",
       "</div>"
      ],
      "text/plain": [
       "   sepal length  sepal width  petal length  petal width       target\n",
       "0           5.1          3.5           1.4          0.2  Iris-setosa\n",
       "1           4.9          3.0           1.4          0.2  Iris-setosa\n",
       "2           4.7          3.2           1.3          0.2  Iris-setosa\n",
       "3           4.6          3.1           1.5          0.2  Iris-setosa\n",
       "4           5.0          3.6           1.4          0.2  Iris-setosa"
      ]
     },
     "execution_count": 17,
     "metadata": {},
     "output_type": "execute_result"
    }
   ],
   "source": [
    "#Get the IRIS dataset\n",
    "url = \"https://archive.ics.uci.edu/ml/machine-learning-databases/iris/iris.data\"\n",
    "data = pd.read_csv(url, names=['sepal length','sepal width','petal length','petal width','target'])\n",
    "data.head()"
   ]
  },
  {
   "cell_type": "markdown",
   "metadata": {},
   "source": [
    "#### 1. prepare the dataset & target set for classification"
   ]
  },
  {
   "cell_type": "code",
   "execution_count": 18,
   "metadata": {},
   "outputs": [],
   "source": [
    "X = np.array(data.drop('target', axis=1))"
   ]
  },
  {
   "cell_type": "markdown",
   "metadata": {},
   "source": [
    "#### 2. Apply the PCA function"
   ]
  },
  {
   "cell_type": "code",
   "execution_count": 19,
   "metadata": {},
   "outputs": [],
   "source": [
    "eigen_vals,res = PCA(X, n_components=2)"
   ]
  },
  {
   "cell_type": "markdown",
   "metadata": {},
   "source": [
    "#### 3. Create a Pandas Dataframe of reduced Dataset with target data"
   ]
  },
  {
   "cell_type": "code",
   "execution_count": 20,
   "metadata": {},
   "outputs": [
    {
     "data": {
      "text/html": [
       "<div>\n",
       "<style scoped>\n",
       "    .dataframe tbody tr th:only-of-type {\n",
       "        vertical-align: middle;\n",
       "    }\n",
       "\n",
       "    .dataframe tbody tr th {\n",
       "        vertical-align: top;\n",
       "    }\n",
       "\n",
       "    .dataframe thead th {\n",
       "        text-align: right;\n",
       "    }\n",
       "</style>\n",
       "<table border=\"1\" class=\"dataframe\">\n",
       "  <thead>\n",
       "    <tr style=\"text-align: right;\">\n",
       "      <th></th>\n",
       "      <th>c1</th>\n",
       "      <th>c2</th>\n",
       "      <th>target</th>\n",
       "    </tr>\n",
       "  </thead>\n",
       "  <tbody>\n",
       "    <tr>\n",
       "      <th>0</th>\n",
       "      <td>-2.684207</td>\n",
       "      <td>-0.326607</td>\n",
       "      <td>Iris-setosa</td>\n",
       "    </tr>\n",
       "    <tr>\n",
       "      <th>1</th>\n",
       "      <td>-2.715391</td>\n",
       "      <td>0.169557</td>\n",
       "      <td>Iris-setosa</td>\n",
       "    </tr>\n",
       "    <tr>\n",
       "      <th>2</th>\n",
       "      <td>-2.889820</td>\n",
       "      <td>0.137346</td>\n",
       "      <td>Iris-setosa</td>\n",
       "    </tr>\n",
       "    <tr>\n",
       "      <th>3</th>\n",
       "      <td>-2.746437</td>\n",
       "      <td>0.311124</td>\n",
       "      <td>Iris-setosa</td>\n",
       "    </tr>\n",
       "    <tr>\n",
       "      <th>4</th>\n",
       "      <td>-2.728593</td>\n",
       "      <td>-0.333925</td>\n",
       "      <td>Iris-setosa</td>\n",
       "    </tr>\n",
       "  </tbody>\n",
       "</table>\n",
       "</div>"
      ],
      "text/plain": [
       "         c1        c2       target\n",
       "0 -2.684207 -0.326607  Iris-setosa\n",
       "1 -2.715391  0.169557  Iris-setosa\n",
       "2 -2.889820  0.137346  Iris-setosa\n",
       "3 -2.746437  0.311124  Iris-setosa\n",
       "4 -2.728593 -0.333925  Iris-setosa"
      ]
     },
     "execution_count": 20,
     "metadata": {},
     "output_type": "execute_result"
    }
   ],
   "source": [
    "res = pd.DataFrame(res, columns=['c1','c2'])\n",
    "res['target'] = data['target']\n",
    "res.head()"
   ]
  },
  {
   "cell_type": "markdown",
   "metadata": {},
   "source": [
    "#### 4. Vizualize the data with one and two principal components"
   ]
  },
  {
   "cell_type": "code",
   "execution_count": 21,
   "metadata": {},
   "outputs": [
    {
     "data": {
      "text/plain": [
       "array(['Iris-setosa', 'Iris-versicolor', 'Iris-virginica'], dtype=object)"
      ]
     },
     "execution_count": 21,
     "metadata": {},
     "output_type": "execute_result"
    }
   ],
   "source": [
    "res['target'].unique()"
   ]
  },
  {
   "cell_type": "code",
   "execution_count": 22,
   "metadata": {},
   "outputs": [
    {
     "data": {
      "text/plain": [
       "<AxesSubplot:xlabel='c1', ylabel='c2'>"
      ]
     },
     "execution_count": 22,
     "metadata": {},
     "output_type": "execute_result"
    },
    {
     "data": {
      "image/png": "[encoded data removed]",
      "text/plain": [
       "<Figure size 640x480 with 1 Axes>"
      ]
     },
     "metadata": {},
     "output_type": "display_data"
    }
   ],
   "source": [
    "colormap = {'Iris-setosa':'tab:blue', 'Iris-versicolor':'tab:orange', 'Iris-virginica':'tab:green'}\n",
    "res.plot(kind='scatter',x='c1',y='c2', c=res['target'].map(colormap))"
   ]
  },
  {
   "cell_type": "code",
   "execution_count": 23,
   "metadata": {},
   "outputs": [
    {
     "data": {
      "text/plain": [
       "<AxesSubplot:xlabel='c1', ylabel='c1'>"
      ]
     },
     "execution_count": 23,
     "metadata": {},
     "output_type": "execute_result"
    },
    {
     "data": {
      "image/png": "[encoded data removed]",
      "text/plain": [
       "<Figure size 640x480 with 1 Axes>"
      ]
     },
     "metadata": {},
     "output_type": "display_data"
    }
   ],
   "source": [
    "colormap = {'Iris-setosa':'tab:blue', 'Iris-versicolor':'tab:orange', 'Iris-virginica':'tab:green'}\n",
    "res[['c1','target']].plot(kind='scatter',x='c1',y='c1', c=res['target'].map(colormap))"
   ]
  },
  {
   "cell_type": "code",
   "execution_count": 24,
   "metadata": {},
   "outputs": [
    {
     "name": "stdout",
     "output_type": "stream",
     "text": [
      "The explained variance for PC1 is: 92.46162071742684\n",
      "The explained variance for PC1+PC2 is: 97.76317750248035\n"
     ]
    }
   ],
   "source": [
    "explained_variance_1  = (sum(eigen_vals[:1])/sum(eigen_vals))*100\n",
    "print(\"The explained variance for PC1 is:\", explained_variance_1)\n",
    "explained_variance_2  = (sum(eigen_vals[:2])/sum(eigen_vals))*100\n",
    "print(\"The explained variance for PC1+PC2 is:\", explained_variance_2)"
   ]
  },
  {
   "cell_type": "markdown",
   "metadata": {},
   "source": [
    "<b>Here we can clearly see that with PC1 92.46% of the data can be explained.\n",
    "\n",
    "With PC1 and PC2, 97.76% of the data can be explained. </b>"
   ]
  },
  {
   "cell_type": "markdown",
   "metadata": {},
   "source": [
    "# More?"
   ]
  },
  {
   "cell_type": "markdown",
   "metadata": {},
   "source": [
    "### Go to: https://jakevdp.github.io/PythonDataScienceHandbook/05.09-principal-component-analysis.html"
   ]
  },
  {
   "cell_type": "code",
   "execution_count": 25,
   "metadata": {},
   "outputs": [
    {
     "data": {
      "text/plain": [
       "(array([[-2.68420713, -0.32660731, -0.02151184],\n",
       "        [-2.71539062,  0.16955685, -0.20352143],\n",
       "        [-2.88981954,  0.13734561,  0.02470924],\n",
       "        [-2.7464372 ,  0.31112432,  0.03767198],\n",
       "        [-2.72859298, -0.33392456,  0.0962297 ],\n",
       "        [-2.27989736, -0.74778271,  0.17432562],\n",
       "        [-2.82089068,  0.08210451,  0.26425109],\n",
       "        [-2.62648199, -0.17040535, -0.01580151],\n",
       "        [-2.88795857,  0.57079803,  0.02733541],\n",
       "        [-2.67384469,  0.1066917 , -0.1915333 ],\n",
       "        [-2.50652679, -0.65193501, -0.069275  ],\n",
       "        [-2.61314272, -0.02152063,  0.10765035],\n",
       "        [-2.78743398,  0.22774019, -0.20032779],\n",
       "        [-3.22520045,  0.50327991,  0.06841363],\n",
       "        [-2.64354322, -1.1861949 , -0.1445057 ],\n",
       "        [-2.38386932, -1.34475434,  0.28373066],\n",
       "        [-2.6225262 , -0.81808967,  0.14531599],\n",
       "        [-2.64832273, -0.31913667,  0.03339425],\n",
       "        [-2.19907796, -0.87924409, -0.11452146],\n",
       "        [-2.58734619, -0.52047364,  0.21957209],\n",
       "        [-2.3105317 , -0.39786782, -0.23369561],\n",
       "        [-2.54323491, -0.44003175,  0.21483637],\n",
       "        [-3.21585769, -0.14161557,  0.29961898],\n",
       "        [-2.30312854, -0.10552268,  0.04568004],\n",
       "        [-2.35617109,  0.03120959,  0.12940758],\n",
       "        [-2.50791723,  0.13905634, -0.24711634],\n",
       "        [-2.469056  , -0.13788731,  0.10126308],\n",
       "        [-2.56239095, -0.37468456, -0.07235916],\n",
       "        [-2.63982127, -0.31929007, -0.13925337],\n",
       "        [-2.63284791,  0.19007583,  0.04646646],\n",
       "        [-2.58846205,  0.19739308, -0.07127507],\n",
       "        [-2.41007734, -0.41808001, -0.13838824],\n",
       "        [-2.64763667, -0.81998263,  0.2305856 ],\n",
       "        [-2.59715948, -1.10002193,  0.16358191],\n",
       "        [-2.67384469,  0.1066917 , -0.1915333 ],\n",
       "        [-2.86699985, -0.0771931 , -0.15684235],\n",
       "        [-2.62522846, -0.60680001, -0.26116316],\n",
       "        [-2.67384469,  0.1066917 , -0.1915333 ],\n",
       "        [-2.98184266,  0.48025005,  0.07972481],\n",
       "        [-2.59032303, -0.23605934, -0.07390124],\n",
       "        [-2.77013891, -0.27105942,  0.08424157],\n",
       "        [-2.85221108,  0.93286537, -0.34096149],\n",
       "        [-2.99829644,  0.33430757,  0.19900842],\n",
       "        [-2.4055141 , -0.19591726,  0.27071707],\n",
       "        [-2.20883295, -0.44269603,  0.30348781],\n",
       "        [-2.71566519,  0.24268148, -0.09051561],\n",
       "        [-2.53757337, -0.51036755,  0.1719184 ],\n",
       "        [-2.8403213 ,  0.22057634,  0.09006138],\n",
       "        [-2.54268576, -0.58628103, -0.01117527],\n",
       "        [-2.70391231, -0.11501085, -0.08269573],\n",
       "        [ 1.28479459, -0.68543919, -0.40612955],\n",
       "        [ 0.93241075, -0.31919809, -0.01712991],\n",
       "        [ 1.46406132, -0.50418983, -0.33826073],\n",
       "        [ 0.18096721,  0.82560394, -0.17708286],\n",
       "        [ 1.08713449, -0.07539039, -0.30654446],\n",
       "        [ 0.64043675,  0.41732348,  0.04118877],\n",
       "        [ 1.09522371, -0.28389121,  0.17002253],\n",
       "        [-0.75146714,  1.00110751,  0.01567219],\n",
       "        [ 1.04329778, -0.22895691, -0.41481457],\n",
       "        [-0.01019007,  0.72057487,  0.28343725],\n",
       "        [-0.5110862 ,  1.26249195, -0.26648995],\n",
       "        [ 0.51109806,  0.10228411,  0.13232789],\n",
       "        [ 0.26233576,  0.5478933 , -0.69194158],\n",
       "        [ 0.98404455,  0.12436042, -0.06215743],\n",
       "        [-0.174864  ,  0.25181557,  0.09365864],\n",
       "        [ 0.92757294, -0.46823621, -0.3132294 ],\n",
       "        [ 0.65959279,  0.35197629,  0.3283843 ],\n",
       "        [ 0.23454059,  0.33192183, -0.27028067],\n",
       "        [ 0.94236171,  0.54182226, -0.49734854],\n",
       "        [ 0.0432464 ,  0.58148945, -0.23296356],\n",
       "        [ 1.11624072,  0.08421401,  0.45984423],\n",
       "        [ 0.35678657,  0.06682383, -0.22747218],\n",
       "        [ 1.29646885,  0.32756152, -0.34751321],\n",
       "        [ 0.92050265,  0.18239036, -0.23161142],\n",
       "        [ 0.71400821, -0.15037915, -0.32037233],\n",
       "        [ 0.89964086, -0.32961098, -0.31477148],\n",
       "        [ 1.33104142, -0.24466952, -0.52124492],\n",
       "        [ 1.55739627, -0.26739258, -0.16463849],\n",
       "        [ 0.81245555,  0.16233157,  0.03634358],\n",
       "        [-0.30733476,  0.36508661, -0.3153372 ],\n",
       "        [-0.07034289,  0.70253793, -0.24175804],\n",
       "        [-0.19188449,  0.67749054, -0.30391654],\n",
       "        [ 0.13499495,  0.31170964, -0.1749733 ],\n",
       "        [ 1.37873698,  0.42120514,  0.0154805 ],\n",
       "        [ 0.58727485,  0.48328427,  0.44458375],\n",
       "        [ 0.8072055 , -0.19505396,  0.38945871],\n",
       "        [ 1.22042897, -0.40803534, -0.23656609],\n",
       "        [ 0.81286779,  0.370679  , -0.61287105],\n",
       "        [ 0.24519516,  0.26672804,  0.18956248],\n",
       "        [ 0.16451343,  0.67966147, -0.05779924],\n",
       "        [ 0.46303099,  0.66952655, -0.02405389],\n",
       "        [ 0.89016045,  0.03381244, -0.00976803],\n",
       "        [ 0.22887905,  0.40225762, -0.22736271],\n",
       "        [-0.70708128,  1.00842476, -0.10206934],\n",
       "        [ 0.35553304,  0.50321849,  0.01788947],\n",
       "        [ 0.33112695,  0.21118014,  0.08380907],\n",
       "        [ 0.37523823,  0.29162202,  0.07907336],\n",
       "        [ 0.64169028, -0.01907118, -0.20417288],\n",
       "        [-0.90846333,  0.75156873, -0.00773658],\n",
       "        [ 0.29780791,  0.34701652,  0.01217914],\n",
       "        [ 2.53172698,  0.01184224,  0.75845865],\n",
       "        [ 1.41407223,  0.57492506,  0.29639822],\n",
       "        [ 2.61648461, -0.34193529, -0.11214137],\n",
       "        [ 1.97081495,  0.18112569,  0.10653915],\n",
       "        [ 2.34975798,  0.04188255,  0.28411068],\n",
       "        [ 3.39687992, -0.54716805, -0.35187316],\n",
       "        [ 0.51938325,  1.19135169,  0.54668553],\n",
       "        [ 2.9320051 , -0.35237701, -0.42369128],\n",
       "        [ 2.31967279,  0.24554817, -0.34992218],\n",
       "        [ 2.91813423, -0.78038063,  0.42173893],\n",
       "        [ 1.66193495, -0.2420384 ,  0.24281526],\n",
       "        [ 1.80234045,  0.21615461, -0.03769533],\n",
       "        [ 2.16537886, -0.21528028,  0.03314818],\n",
       "        [ 1.34459422,  0.77641543,  0.28286802],\n",
       "        [ 1.5852673 ,  0.53930705,  0.63057049],\n",
       "        [ 1.90474358, -0.11881899,  0.48013808],\n",
       "        [ 1.94924878, -0.04073026,  0.04272909],\n",
       "        [ 3.48876538, -1.17154454,  0.12932008],\n",
       "        [ 3.79468686, -0.25326557, -0.51697072],\n",
       "        [ 1.29832982,  0.76101394, -0.34488705],\n",
       "        [ 2.42816726, -0.37678197,  0.21864907],\n",
       "        [ 1.19809737,  0.60557896,  0.51264077],\n",
       "        [ 3.49926548, -0.45677347, -0.57691019],\n",
       "        [ 1.38766825,  0.20403099, -0.06351132],\n",
       "        [ 2.27585365, -0.33338653,  0.28467815],\n",
       "        [ 2.61419383, -0.55836695, -0.20842335],\n",
       "        [ 1.25762518,  0.179137  ,  0.04697781],\n",
       "        [ 1.29066965,  0.11642525,  0.23161356],\n",
       "        [ 2.12285398,  0.21085488,  0.15351589],\n",
       "        [ 2.3875644 , -0.46251925, -0.45202396],\n",
       "        [ 2.84096093, -0.37274259, -0.50103154],\n",
       "        [ 3.2323429 , -1.37052404, -0.11844878],\n",
       "        [ 2.15873837,  0.21832553,  0.20842198],\n",
       "        [ 1.4431026 ,  0.14380129, -0.15408297],\n",
       "        [ 1.77964011,  0.50146479, -0.17581119],\n",
       "        [ 3.07652162, -0.68576444, -0.33642274],\n",
       "        [ 2.14498686, -0.13890661,  0.73418474],\n",
       "        [ 1.90486293, -0.04804751,  0.16047063],\n",
       "        [ 1.16885347,  0.1645025 ,  0.28246088],\n",
       "        [ 2.10765373, -0.37148225,  0.02743786],\n",
       "        [ 2.31430339, -0.18260885,  0.3228604 ],\n",
       "        [ 1.92245088, -0.40927118,  0.11549282],\n",
       "        [ 1.41407223,  0.57492506,  0.29639822],\n",
       "        [ 2.56332271, -0.2759745 ,  0.29125361],\n",
       "        [ 2.41939122, -0.30350394,  0.50430252],\n",
       "        [ 1.94401705, -0.18741522,  0.17930287],\n",
       "        [ 1.52566363,  0.37502085, -0.12063644],\n",
       "        [ 1.76404594, -0.07851919,  0.13078405],\n",
       "        [ 1.90162908, -0.11587675,  0.72287356],\n",
       "        [ 1.38966613,  0.28288671,  0.36231783]]),\n",
       " array([4.22484077, 0.24224357, 0.07852391, 0.02368303]))"
      ]
     },
     "execution_count": 25,
     "metadata": {},
     "output_type": "execute_result"
    }
   ],
   "source": [
    "eigen_vals2,res2 = PCA(X, n_components=3)\n",
    "res2,eigen_vals2"
   ]
  },
  {
   "cell_type": "code",
   "execution_count": null,
   "metadata": {},
   "outputs": [],
   "source": []
  }
 ],
 "metadata": {
  "kernelspec": {
   "display_name": "Python 3.10.8 64-bit (microsoft store)",
   "language": "python",
   "name": "python3"
  },
  "language_info": {
   "codemirror_mode": {
    "name": "ipython",
    "version": 3
   },
   "file_extension": ".py",
   "mimetype": "text/x-python",
   "name": "python",
   "nbconvert_exporter": "python",
   "pygments_lexer": "ipython3",
   "version": "3.10.8"
  },
  "vscode": {
   "interpreter": {
    "hash": "71378fec4b9b0ae51f784db9960b5ea07fb9042b7f7d69b6f196c430cecf08e0"
   }
  }
 },
 "nbformat": 4,
 "nbformat_minor": 4
}
