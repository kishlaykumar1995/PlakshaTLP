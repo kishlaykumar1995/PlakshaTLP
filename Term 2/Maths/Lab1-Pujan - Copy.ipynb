{
 "cells": [
  {
   "cell_type": "code",
   "execution_count": 50,
   "metadata": {},
   "outputs": [],
   "source": [
    "import pandas as pd \n",
    "import numpy as np\n",
    "import scipy.stats as stats"
   ]
  },
  {
   "cell_type": "markdown",
   "metadata": {},
   "source": [
    "## Importing Data and Modifying it"
   ]
  },
  {
   "cell_type": "code",
   "execution_count": 51,
   "metadata": {},
   "outputs": [
    {
     "name": "stdout",
     "output_type": "stream",
     "text": [
      "   customer_id  campaign_name campaign_date mailer_type  signup_flag\n",
      "0           74  delivery_club    2020-07-01     Mailer1            1\n",
      "1          524  delivery_club    2020-07-01     Mailer1            1\n",
      "2          607  delivery_club    2020-07-01     Mailer2            1\n",
      "3          343  delivery_club    2020-07-01     Mailer1            0\n",
      "4          322  delivery_club    2020-07-01     Mailer2            1\n"
     ]
    }
   ],
   "source": [
    "# Importing data\n",
    "campaign_df = pd.read_excel(\"grocery_database.xlsx\", sheet_name= \"campaign_data\")\n",
    "\n",
    "# Removing  rows \"Control\" mailer type\n",
    "campaign_df = campaign_df[campaign_df.mailer_type != \"Control\"]\n",
    "print(campaign_df.head())"
   ]
  },
  {
   "cell_type": "markdown",
   "metadata": {},
   "source": [
    "# Using chisquare test of independence"
   ]
  },
  {
   "cell_type": "markdown",
   "metadata": {},
   "source": [
    "H0: There is no significant relationship between mailer_type and signup_flag.\n",
    "\n",
    "H1: There is a significant relationship between mailer_type and signup_flag."
   ]
  },
  {
   "cell_type": "code",
   "execution_count": 52,
   "metadata": {},
   "outputs": [
    {
     "name": "stdout",
     "output_type": "stream",
     "text": [
      "signup_flag    0    1\n",
      "mailer_type          \n",
      "Mailer1      252  123\n",
      "Mailer2      209  127\n",
      "The signup rate for mailer1 is: 0.328\n",
      "The signup rate for mailer2 is: 0.37797619047619047\n",
      "The chisquare stat is: 1.728424144871394\n",
      "chi-square critical value is: 3.841458820694124\n",
      "The chisquare p-value is: 0.1886122739808747\n"
     ]
    }
   ],
   "source": [
    "contingency_table = pd.crosstab(campaign_df[\"mailer_type\"], campaign_df[\"signup_flag\"])\n",
    "print(contingency_table)\n",
    "\n",
    "contingency_mailer = contingency_table[1]\n",
    "\n",
    "d1 = campaign_df[campaign_df.mailer_type == \"Mailer1\"]\n",
    "mailer1_count = d1.shape[0]\n",
    "\n",
    "d2 = campaign_df[campaign_df.mailer_type == \"Mailer2\"]\n",
    "mailer2_count = d2.shape[0]\n",
    "\n",
    "print(\"The signup rate for mailer1 is: \" + str(contingency_mailer[0]/mailer1_count))\n",
    "print(\"The signup rate for mailer2 is: \" +str(contingency_mailer[1]/mailer2_count))\n",
    "\n",
    "stat,p,dof = stats.chi2_contingency(contingency_table)[0:3]\n",
    "\n",
    "print(\"The chisquare stat is: \" + str(stat))\n",
    "print(\"chi-square critical value is: \" + str(stats.chi2.ppf(1-0.05, df=1)))\n",
    "print(\"The chisquare p-value is: \" + str(p))"
   ]
  },
  {
   "cell_type": "markdown",
   "metadata": {},
   "source": [
    "## Conclusion:"
   ]
  },
  {
   "cell_type": "markdown",
   "metadata": {},
   "source": [
    "Since the p-value is greater than 0.05 or chisquare value is less than critical value, we can not reject the null hypothesis.\n",
    "\n",
    "Therefore, there is no significant relationship between mailer_type and signup_flag."
   ]
  },
  {
   "cell_type": "markdown",
   "metadata": {},
   "source": [
    "## Why are we using chi-square distribution in this case?"
   ]
  },
  {
   "cell_type": "markdown",
   "metadata": {},
   "source": [
    "Incases where-\n",
    "1. we have 1 or more categorical variable(mailer_type) \n",
    "2. all the groups of the categorical variable are mutually exclusive \n",
    "3. all the observations are independent"
   ]
  },
  {
   "cell_type": "markdown",
   "metadata": {},
   "source": [
    "#### Gaussian Distribution"
   ]
  },
  {
   "cell_type": "markdown",
   "metadata": {},
   "source": [
    "1. In order to use gaussian distribution, we need to check the assumption that our data is normally distributed.\n",
    "2. Gaussian distribution is typically used to compare a variable with a value. (eq - a variable is compared to population mean) while in our case we are comparing 2 different variables (mailer1 and mailer2)."
   ]
  },
  {
   "cell_type": "markdown",
   "metadata": {},
   "source": []
  },
  {
   "cell_type": "code",
   "execution_count": 48,
   "metadata": {},
   "outputs": [
    {
     "data": {
      "text/plain": [
       "123"
      ]
     },
     "execution_count": 48,
     "metadata": {},
     "output_type": "execute_result"
    }
   ],
   "source": [
    "d1\n",
    "mailer2_count\n",
    "contigency_mailer[0]"
   ]
  },
  {
   "cell_type": "markdown",
   "metadata": {},
   "source": []
  }
 ],
 "metadata": {
  "kernelspec": {
   "display_name": "Python 3.10.6 64-bit ('3.10.6': pyenv)",
   "language": "python",
   "name": "python3"
  },
  "language_info": {
   "codemirror_mode": {
    "name": "ipython",
    "version": 3
   },
   "file_extension": ".py",
   "mimetype": "text/x-python",
   "name": "python",
   "nbconvert_exporter": "python",
   "pygments_lexer": "ipython3",
   "version": "3.10.6"
  },
  "orig_nbformat": 4,
  "vscode": {
   "interpreter": {
    "hash": "7c01e4bf2bf5ef00b2f0f2b0172999304bf8a5ceb42045b588973583359d647c"
   }
  }
 },
 "nbformat": 4,
 "nbformat_minor": 2
}
