{
 "cells": [
  {
   "cell_type": "code",
   "execution_count": 4,
   "metadata": {},
   "outputs": [],
   "source": [
    "import pandas as pd \n",
    "import numpy as np\n",
    "import scipy.stats as stats"
   ]
  },
  {
   "cell_type": "markdown",
   "metadata": {},
   "source": [
    "## Data Loading"
   ]
  },
  {
   "cell_type": "code",
   "execution_count": 6,
   "metadata": {},
   "outputs": [
    {
     "name": "stdout",
     "output_type": "stream",
     "text": [
      "   customer_id  campaign_name campaign_date mailer_type  signup_flag\n",
      "0           74  delivery_club    2020-07-01     Mailer1            1\n",
      "1          524  delivery_club    2020-07-01     Mailer1            1\n",
      "2          607  delivery_club    2020-07-01     Mailer2            1\n",
      "3          343  delivery_club    2020-07-01     Mailer1            0\n",
      "4          322  delivery_club    2020-07-01     Mailer2            1\n"
     ]
    }
   ],
   "source": [
    "# Importing campaign data amd remove \"Control\" mailer\n",
    "campaign_data = pd.read_excel(\"grocery_database.xlsx\", sheet_name= \"campaign_data\")\n",
    "\n",
    "campaign_data = campaign_data[campaign_data['mailer_type'] != \"Control\"]\n",
    "print(campaign_data.head())"
   ]
  },
  {
   "cell_type": "markdown",
   "metadata": {},
   "source": [
    "# Using chisquare test of independence"
   ]
  },
  {
   "cell_type": "markdown",
   "metadata": {},
   "source": [
    "Null Hypothesis ($H_0$): There is no significant relationship between mailer_type and signup_flag.\n",
    "\n",
    "Alternate Hypothesis $(H_1)$: There is a significant relationship between mailer_type and signup_flag."
   ]
  },
  {
   "cell_type": "code",
   "execution_count": 3,
   "metadata": {},
   "outputs": [
    {
     "name": "stdout",
     "output_type": "stream",
     "text": [
      "\u001b[1;31mSignature:\u001b[0m\n",
      "\u001b[0mpd\u001b[0m\u001b[1;33m.\u001b[0m\u001b[0mcrosstab\u001b[0m\u001b[1;33m(\u001b[0m\u001b[1;33m\n",
      "\u001b[0m    \u001b[0mindex\u001b[0m\u001b[1;33m,\u001b[0m\u001b[1;33m\n",
      "\u001b[0m    \u001b[0mcolumns\u001b[0m\u001b[1;33m,\u001b[0m\u001b[1;33m\n",
      "\u001b[0m    \u001b[0mvalues\u001b[0m\u001b[1;33m=\u001b[0m\u001b[1;32mNone\u001b[0m\u001b[1;33m,\u001b[0m\u001b[1;33m\n",
      "\u001b[0m    \u001b[0mrownames\u001b[0m\u001b[1;33m=\u001b[0m\u001b[1;32mNone\u001b[0m\u001b[1;33m,\u001b[0m\u001b[1;33m\n",
      "\u001b[0m    \u001b[0mcolnames\u001b[0m\u001b[1;33m=\u001b[0m\u001b[1;32mNone\u001b[0m\u001b[1;33m,\u001b[0m\u001b[1;33m\n",
      "\u001b[0m    \u001b[0maggfunc\u001b[0m\u001b[1;33m=\u001b[0m\u001b[1;32mNone\u001b[0m\u001b[1;33m,\u001b[0m\u001b[1;33m\n",
      "\u001b[0m    \u001b[0mmargins\u001b[0m\u001b[1;33m:\u001b[0m \u001b[1;34m'bool'\u001b[0m \u001b[1;33m=\u001b[0m \u001b[1;32mFalse\u001b[0m\u001b[1;33m,\u001b[0m\u001b[1;33m\n",
      "\u001b[0m    \u001b[0mmargins_name\u001b[0m\u001b[1;33m:\u001b[0m \u001b[1;34m'str'\u001b[0m \u001b[1;33m=\u001b[0m \u001b[1;34m'All'\u001b[0m\u001b[1;33m,\u001b[0m\u001b[1;33m\n",
      "\u001b[0m    \u001b[0mdropna\u001b[0m\u001b[1;33m:\u001b[0m \u001b[1;34m'bool'\u001b[0m \u001b[1;33m=\u001b[0m \u001b[1;32mTrue\u001b[0m\u001b[1;33m,\u001b[0m\u001b[1;33m\n",
      "\u001b[0m    \u001b[0mnormalize\u001b[0m\u001b[1;33m=\u001b[0m\u001b[1;32mFalse\u001b[0m\u001b[1;33m,\u001b[0m\u001b[1;33m\n",
      "\u001b[0m\u001b[1;33m)\u001b[0m \u001b[1;33m->\u001b[0m \u001b[1;34m'DataFrame'\u001b[0m\u001b[1;33m\u001b[0m\u001b[1;33m\u001b[0m\u001b[0m\n",
      "\u001b[1;31mDocstring:\u001b[0m\n",
      "Compute a simple cross tabulation of two (or more) factors. By default\n",
      "computes a frequency table of the factors unless an array of values and an\n",
      "aggregation function are passed.\n",
      "\n",
      "Parameters\n",
      "----------\n",
      "index : array-like, Series, or list of arrays/Series\n",
      "    Values to group by in the rows.\n",
      "columns : array-like, Series, or list of arrays/Series\n",
      "    Values to group by in the columns.\n",
      "values : array-like, optional\n",
      "    Array of values to aggregate according to the factors.\n",
      "    Requires `aggfunc` be specified.\n",
      "rownames : sequence, default None\n",
      "    If passed, must match number of row arrays passed.\n",
      "colnames : sequence, default None\n",
      "    If passed, must match number of column arrays passed.\n",
      "aggfunc : function, optional\n",
      "    If specified, requires `values` be specified as well.\n",
      "margins : bool, default False\n",
      "    Add row/column margins (subtotals).\n",
      "margins_name : str, default 'All'\n",
      "    Name of the row/column that will contain the totals\n",
      "    when margins is True.\n",
      "dropna : bool, default True\n",
      "    Do not include columns whose entries are all NaN.\n",
      "normalize : bool, {'all', 'index', 'columns'}, or {0,1}, default False\n",
      "    Normalize by dividing all values by the sum of values.\n",
      "\n",
      "    - If passed 'all' or `True`, will normalize over all values.\n",
      "    - If passed 'index' will normalize over each row.\n",
      "    - If passed 'columns' will normalize over each column.\n",
      "    - If margins is `True`, will also normalize margin values.\n",
      "\n",
      "Returns\n",
      "-------\n",
      "DataFrame\n",
      "    Cross tabulation of the data.\n",
      "\n",
      "See Also\n",
      "--------\n",
      "DataFrame.pivot : Reshape data based on column values.\n",
      "pivot_table : Create a pivot table as a DataFrame.\n",
      "\n",
      "Notes\n",
      "-----\n",
      "Any Series passed will have their name attributes used unless row or column\n",
      "names for the cross-tabulation are specified.\n",
      "\n",
      "Any input passed containing Categorical data will have **all** of its\n",
      "categories included in the cross-tabulation, even if the actual data does\n",
      "not contain any instances of a particular category.\n",
      "\n",
      "In the event that there aren't overlapping indexes an empty DataFrame will\n",
      "be returned.\n",
      "\n",
      "Reference :ref:`the user guide <reshaping.crosstabulations>` for more examples.\n",
      "\n",
      "Examples\n",
      "--------\n",
      ">>> a = np.array([\"foo\", \"foo\", \"foo\", \"foo\", \"bar\", \"bar\",\n",
      "...               \"bar\", \"bar\", \"foo\", \"foo\", \"foo\"], dtype=object)\n",
      ">>> b = np.array([\"one\", \"one\", \"one\", \"two\", \"one\", \"one\",\n",
      "...               \"one\", \"two\", \"two\", \"two\", \"one\"], dtype=object)\n",
      ">>> c = np.array([\"dull\", \"dull\", \"shiny\", \"dull\", \"dull\", \"shiny\",\n",
      "...               \"shiny\", \"dull\", \"shiny\", \"shiny\", \"shiny\"],\n",
      "...              dtype=object)\n",
      ">>> pd.crosstab(a, [b, c], rownames=['a'], colnames=['b', 'c'])\n",
      "b   one        two\n",
      "c   dull shiny dull shiny\n",
      "a\n",
      "bar    1     2    1     0\n",
      "foo    2     2    1     2\n",
      "\n",
      "Here 'c' and 'f' are not represented in the data and will not be\n",
      "shown in the output because dropna is True by default. Set\n",
      "dropna=False to preserve categories with no data.\n",
      "\n",
      ">>> foo = pd.Categorical(['a', 'b'], categories=['a', 'b', 'c'])\n",
      ">>> bar = pd.Categorical(['d', 'e'], categories=['d', 'e', 'f'])\n",
      ">>> pd.crosstab(foo, bar)\n",
      "col_0  d  e\n",
      "row_0\n",
      "a      1  0\n",
      "b      0  1\n",
      ">>> pd.crosstab(foo, bar, dropna=False)\n",
      "col_0  d  e  f\n",
      "row_0\n",
      "a      1  0  0\n",
      "b      0  1  0\n",
      "c      0  0  0\n",
      "\u001b[1;31mFile:\u001b[0m      c:\\users\\kishl\\appdata\\local\\packages\\pythonsoftwarefoundation.python.3.10_qbz5n2kfra8p0\\localcache\\local-packages\\python310\\site-packages\\pandas\\core\\reshape\\pivot.py\n",
      "\u001b[1;31mType:\u001b[0m      function\n"
     ]
    }
   ],
   "source": [
    "pd.crosstab?"
   ]
  },
  {
   "cell_type": "code",
   "execution_count": 3,
   "metadata": {},
   "outputs": [
    {
     "name": "stdout",
     "output_type": "stream",
     "text": [
      "signup_flag    0    1  All\n",
      "mailer_type               \n",
      "Mailer1      252  123  375\n",
      "Mailer2      209  127  336\n",
      "All          461  250  711\n",
      "The signup rate for mailer1 is: 0.328\n",
      "The signup rate for mailer2 is: 0.37797619047619047\n",
      "The chisquare stat is: 1.9414468614812481\n",
      "chi-square critical value is: 3.841458820694124\n",
      "The chisquare p-value is: 0.7465275689990942\n"
     ]
    }
   ],
   "source": [
    "contingency_table = pd.crosstab(campaign_data[\"mailer_type\"], campaign_data[\"signup_flag\"], margins= True)\n",
    "print(contingency_table)\n",
    "\n",
    "signup_rate_mailer = contingency_table[1]/contingency_table[\"All\"]\n",
    "\n",
    "print(\"The signup rate for mailer1 is: \" +str(signup_rate_mailer[0]))\n",
    "print(\"The signup rate for mailer2 is: \" +str(signup_rate_mailer[1]))\n",
    "\n",
    "stat,p,dof = stats.chi2_contingency(contingency_table)[0:3]\n",
    "\n",
    "print(\"The chisquare stat is: \" + str(stat))\n",
    "print(\"chi-square critical value is: \" + str(stats.chi2.ppf(1-0.05, df=1)))\n",
    "print(\"The chisquare p-value is: \" + str(p))"
   ]
  },
  {
   "cell_type": "markdown",
   "metadata": {},
   "source": [
    "## Conclusion:"
   ]
  },
  {
   "cell_type": "markdown",
   "metadata": {},
   "source": [
    "Since the p-value is greater than 0.05 or chisquare value is less than critical value, we can not reject the null hypothesis.\n",
    "\n",
    "Therefore, there is no significant relationship between mailer_type and signup_flag."
   ]
  },
  {
   "cell_type": "markdown",
   "metadata": {},
   "source": [
    "## Why are we using chi-square distribution in this case?"
   ]
  },
  {
   "cell_type": "markdown",
   "metadata": {},
   "source": [
    "Incases where-\n",
    "1. we have 1 or more categorical variable(mailer_type) \n",
    "2. all the groups of the categorical variable are mutually exclusive \n",
    "3. all the observations are independent"
   ]
  },
  {
   "cell_type": "markdown",
   "metadata": {},
   "source": [
    "#### Gaussian Distribution"
   ]
  },
  {
   "cell_type": "markdown",
   "metadata": {},
   "source": [
    "1. In order to use gaussian distribution, we need to check the assumption that our data is normally distributed.\n",
    "2. Gaussian distribution is typically used to compare a variable with a value. (eq - a variable is compared to population mean) while in our case we are comparing 2 different variables (mailer1 and mailer2)."
   ]
  },
  {
   "cell_type": "markdown",
   "metadata": {},
   "source": []
  }
 ],
 "metadata": {
  "kernelspec": {
   "display_name": "Python 3.10.8 64-bit (microsoft store)",
   "language": "python",
   "name": "python3"
  },
  "language_info": {
   "codemirror_mode": {
    "name": "ipython",
    "version": 3
   },
   "file_extension": ".py",
   "mimetype": "text/x-python",
   "name": "python",
   "nbconvert_exporter": "python",
   "pygments_lexer": "ipython3",
   "version": "3.10.8"
  },
  "orig_nbformat": 4,
  "vscode": {
   "interpreter": {
    "hash": "71378fec4b9b0ae51f784db9960b5ea07fb9042b7f7d69b6f196c430cecf08e0"
   }
  }
 },
 "nbformat": 4,
 "nbformat_minor": 2
}
