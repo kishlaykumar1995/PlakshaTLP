{
  "cells": [
    {
      "cell_type": "markdown",
      "metadata": {
        "id": "3Nsuz1H6Fkpn"
      },
      "source": [
        "## Problem 1 : Determine if an array is a subset of another array\n",
        "\n",
        "Given two arrays: A[0..m-1] and B[0..n-1] write a program for determining whether B is a subset of A. Assume that the arrays are not in sorted order and made up of integers. Use Hashtable with chaining.\n",
        "\n",
        "\n"
      ]
    },
    {
      "cell_type": "code",
      "execution_count": 63,
      "metadata": {
        "id": "WMVEOcQjFjmY"
      },
      "outputs": [],
      "source": [
        "# Function to return true if arr2 is a subset of arr1\n",
        "\n",
        "def isSubset(arr1, arr2):\n",
        "    # comment out pass and add code here\n",
        "    hashTable = [[] for i in range(100)]\n",
        "    for i in range(len(arr1)):\n",
        "        key = arr1[i] % len(hashTable)\n",
        "        hashTable[key].append(arr1[i])\n",
        "    for i in range(len(arr2)):\n",
        "        key = arr2[i] % len(hashTable)\n",
        "        if(hashTable[key].count(arr2[i]) <= 0):\n",
        "            return False\n",
        "    return True"
      ]
    },
    {
      "cell_type": "code",
      "execution_count": 65,
      "metadata": {
        "id": "QZotMFh9-5Os"
      },
      "outputs": [
        {
          "name": "stdout",
          "output_type": "stream",
          "text": [
            "arr2 is not a subset of arr1\n"
          ]
        }
      ],
      "source": [
        "# Test your code here\n",
        "\n",
        "if __name__ == '__main__':\n",
        "\tarr1 = [11, 1, 13, 21, 3, 7, 19, 24]\n",
        "\tarr2 = [11, 3, 7, 1, 99]\n",
        "\n",
        "\tif (isSubset(arr1, arr2)):\n",
        "\t\tprint(\"arr2 is subset of arr1\")\n",
        "\telse:\n",
        "\t\tprint(\"arr2 is not a subset of arr1\")"
      ]
    },
    {
      "cell_type": "markdown",
      "metadata": {
        "id": "xu91LhH6EOnF"
      },
      "source": [
        "## Problem 2 : Kth largest element in an unsorted array\n",
        "\n",
        "Given an unsorted array of integers, find out the kth largest element in it using Priority Queue. \n",
        "\n",
        "Below given is a starter code to use a min Heap in PriorityQueue. Create a Priority Queue from below class and write your code."
      ]
    },
    {
      "cell_type": "code",
      "execution_count": 73,
      "metadata": {
        "id": "hDIo3BgYEKPk"
      },
      "outputs": [],
      "source": [
        "# Helper Code\n",
        "\n",
        "# Use this Priority Queue class in the kthSmallest method \n",
        "import sys\n",
        "\n",
        "class PriorityQueue:\n",
        "\n",
        "  # Constructor\n",
        "\tdef __init__(self, arr, size):\n",
        "\t\t# list of elements in the heap\n",
        "\t\tself.harr = arr\n",
        "\t\tself.capacity = None\n",
        "\t\tself.heap_size = size\n",
        "\n",
        "\t\ti = int((self.heap_size - 1) / 2)\n",
        "\t\twhile i >= 0:\n",
        "\t\t\tself.minHeapify(i)\n",
        "\t\t\ti -= 1\n",
        "\n",
        "\tdef parent(self, i):\n",
        "\t\treturn (i - 1) / 2\n",
        "\n",
        "\tdef left(self, i):\n",
        "\t\treturn 2 * i + 1\n",
        "\n",
        "\tdef right(self, i):\n",
        "\t\treturn 2 * i + 2\n",
        "\n",
        "\t# Returns minimum\n",
        "\tdef getMin(self):\n",
        "\t\treturn self.harr[0]\n",
        "\n",
        "\t# Method to remove minimum element (or root) from min heap\n",
        "\tdef extractMin(self):\n",
        "\t\tif self.heap_size == 0:\n",
        "\t\t\treturn float(\"inf\")\n",
        "\n",
        "\t\t# Store the minimum value\n",
        "\t\troot = self.harr[0]\n",
        "\n",
        "\t\t# If there are more than 1 items, move the last item to root and call heapify\n",
        "\t\tif self.heap_size > 1:\n",
        "\t\t\tself.harr[0] = self.harr[self.heap_size - 1]\n",
        "\t\t\tself.minHeapify(0)\n",
        "\t\tself.heap_size -= 1\n",
        "\t\treturn root\n",
        "\n",
        "\t# A method to heapify a subtree with root at given index.\n",
        "\tdef minHeapify(self, i):\n",
        "\t\t# comment out pass and add code here\n",
        "\t\tif(i < self.heap_size):\n",
        "\t\t\tleftChildIndex = self.left(i)\n",
        "\t\t\trightChildIndex = self.right(i)\n",
        "\t\t\tif(leftChildIndex < self.heap_size and rightChildIndex < self.heap_size):\n",
        "\t\t\t\tleftChild = self.harr[leftChildIndex]\n",
        "\t\t\t\trightChild = self.harr[rightChildIndex]\n",
        "\t\t\t\tif(leftChild < rightChild and leftChild < self.harr[i]):\n",
        "\t\t\t\t\tself.harr[i], self.harr[leftChildIndex] = self.harr[leftChildIndex], self.harr[i]\n",
        "\t\t\t\t\tself.minHeapify(leftChildIndex)\n",
        "\t\t\t\telif(rightChild < leftChild and rightChild < self.harr[i]):\n",
        "\t\t\t\t\tself.harr[i], self.harr[rightChildIndex] = self.harr[rightChildIndex], self.harr[i]\n",
        "\t\t\t\t\tself.minHeapify(rightChildIndex)\n",
        "\t\t\telif(leftChildIndex < self.heap_size and rightChildIndex > self.heap_size):\n",
        "\t\t\t\tleftChild = self.harr[leftChildIndex]\n",
        "\t\t\t\tif(leftChild < self.harr[i]):\n",
        "\t\t\t\t\tself.harr[i], self.harr[leftChildIndex] = self.harr[leftChildIndex], self.harr[i]\n",
        "\t\t\t\t\tself.minHeapify(leftChildIndex)\n",
        "\t\t\telif(leftChildIndex > self.heap_size and rightChildIndex < self.heap_size):\n",
        "\t\t\t\trightChild = self.harr[rightChildIndex]\n",
        "\t\t\t\tself.harr[i], self.harr[rightChildIndex] = self.harr[rightChildIndex], self.harr[i]\n",
        "\t\t\t\tself.minHeapify(rightChildIndex)"
      ]
    },
    {
      "cell_type": "code",
      "execution_count": 74,
      "metadata": {
        "id": "4BEni66YFBab"
      },
      "outputs": [],
      "source": [
        "# Function to return the kth largest element in the array\n",
        "\n",
        "def kthLargest(arr, N, K):\n",
        "    # comment out pass and add code here\n",
        "    minHeap = PriorityQueue(arr, N)\n",
        "    #N = 9 ,k = 3, \n",
        "    K = N-K+1\n",
        "    if K > N:\n",
        "        return None\n",
        "    ans = None\n",
        "    while(K > 0):\n",
        "        ans = minHeap.extractMin()\n",
        "        K -= 1\n",
        "    return ans\n"
      ]
    },
    {
      "cell_type": "code",
      "execution_count": 75,
      "metadata": {
        "id": "5dDm7sjIFItC"
      },
      "outputs": [
        {
          "name": "stdout",
          "output_type": "stream",
          "text": [
            "9th largest element is 1\n"
          ]
        }
      ],
      "source": [
        "# Test your code by running this code block\n",
        "\n",
        "if __name__ == '__main__':\n",
        "\tarr = [12, 3, 5, 7, 19, 34, 44, 8, 1]\n",
        "\tN = len(arr)\n",
        "\tK = 9\n",
        "\n",
        "\tprint(\"{}th largest element is\".format(K), kthLargest(arr, N, K))"
      ]
    },
    {
      "cell_type": "code",
      "execution_count": null,
      "metadata": {},
      "outputs": [],
      "source": []
    }
  ],
  "metadata": {
    "colab": {
      "provenance": []
    },
    "kernelspec": {
      "display_name": "base",
      "language": "python",
      "name": "python3"
    },
    "language_info": {
      "codemirror_mode": {
        "name": "ipython",
        "version": 3
      },
      "file_extension": ".py",
      "mimetype": "text/x-python",
      "name": "python",
      "nbconvert_exporter": "python",
      "pygments_lexer": "ipython3",
      "version": "3.9.7"
    },
    "vscode": {
      "interpreter": {
        "hash": "a90aeebcf29d64a654773811cc170cb25061cb2498f10ac689db374c7bf325de"
      }
    }
  },
  "nbformat": 4,
  "nbformat_minor": 0
}
