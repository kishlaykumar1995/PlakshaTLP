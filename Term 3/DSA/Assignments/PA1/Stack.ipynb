{
 "cells": [
  {
   "cell_type": "markdown",
   "metadata": {},
   "source": [
    "# Using Lists"
   ]
  },
  {
   "cell_type": "code",
   "execution_count": 23,
   "metadata": {},
   "outputs": [],
   "source": [
    "class ListStack:\n",
    "    def __init__(self, initial_list=[]):\n",
    "        self.stack = initial_list\n",
    "\n",
    "    def push(self, ele):\n",
    "        self.stack.append(ele)\n",
    "        return True\n",
    "\n",
    "    def pop(self):\n",
    "        if len(self.stack) == 0:\n",
    "            return \"Stack is empty\"\n",
    "        else:\n",
    "            deleted = self.stack[-1]\n",
    "            self.stack = self.stack[:-1]\n",
    "            return deleted\n",
    "\n",
    "    def peek(self):\n",
    "        if not len(self.stack):\n",
    "            print('Stack is empty')\n",
    "            return\n",
    "        return self.stack[-1]\n",
    "    \n",
    "    def display_list(self):\n",
    "        if not len(self.stack):\n",
    "            print('Stack is empty')\n",
    "            return\n",
    "        for ele in self.stack[:-1]:\n",
    "            print(ele, end=',')\n",
    "        print(self.stack[-1])\n",
    "\n",
    "my_stack = ListStack([1,2,3,4,5])\n"
   ]
  },
  {
   "cell_type": "code",
   "execution_count": 24,
   "metadata": {},
   "outputs": [
    {
     "data": {
      "text/plain": [
       "True"
      ]
     },
     "execution_count": 24,
     "metadata": {},
     "output_type": "execute_result"
    }
   ],
   "source": [
    "my_stack.push(6)\n",
    "my_stack.push(7)"
   ]
  },
  {
   "cell_type": "code",
   "execution_count": 25,
   "metadata": {},
   "outputs": [
    {
     "name": "stdout",
     "output_type": "stream",
     "text": [
      "1,2,3,4,5,6,7\n"
     ]
    }
   ],
   "source": [
    "my_stack.display_list()"
   ]
  },
  {
   "cell_type": "code",
   "execution_count": 27,
   "metadata": {},
   "outputs": [
    {
     "data": {
      "text/plain": [
       "6"
      ]
     },
     "execution_count": 27,
     "metadata": {},
     "output_type": "execute_result"
    }
   ],
   "source": [
    "my_stack.pop()\n",
    "my_stack.pop()"
   ]
  },
  {
   "cell_type": "code",
   "execution_count": 28,
   "metadata": {},
   "outputs": [
    {
     "name": "stdout",
     "output_type": "stream",
     "text": [
      "1,2,3,4,5\n"
     ]
    }
   ],
   "source": [
    "my_stack.display_list()"
   ]
  },
  {
   "cell_type": "code",
   "execution_count": 29,
   "metadata": {},
   "outputs": [
    {
     "data": {
      "text/plain": [
       "5"
      ]
     },
     "execution_count": 29,
     "metadata": {},
     "output_type": "execute_result"
    }
   ],
   "source": [
    "my_stack.peek()"
   ]
  },
  {
   "cell_type": "markdown",
   "metadata": {},
   "source": [
    "# Using LinkedList"
   ]
  },
  {
   "cell_type": "code",
   "execution_count": 77,
   "metadata": {},
   "outputs": [],
   "source": [
    "class Node:\n",
    "    def __init__(self, data):\n",
    "        self.data = data\n",
    "        self.next = None\n",
    "    \n",
    "    def add_next(self, new_node):\n",
    "        self.next = new_node\n",
    "        return self\n",
    "\n",
    "class StackLinkedList:\n",
    "    def __init__(self, initial_list=[]):\n",
    "        self.head = None\n",
    "\n",
    "        if len(initial_list):\n",
    "            self.head =  Node(initial_list[0])\n",
    "        \n",
    "            for ele in initial_list[1:]:\n",
    "                cur = Node(ele)\n",
    "                cur.add_next(self.head)\n",
    "                self.head = cur\n",
    "        \n",
    "\n",
    "    def push(self, ele):\n",
    "        if not self.head:\n",
    "            self.head = Node(ele)\n",
    "        else:\n",
    "            new_node = Node(ele)\n",
    "            new_node.add_next(self.head)\n",
    "            self.head = new_node\n",
    "        return True\n",
    "\n",
    "    def pop(self):\n",
    "        if not self.head:\n",
    "            return \"Stack is empty\"\n",
    "        else:\n",
    "            deleted = self.head\n",
    "            deleted_data = deleted.data\n",
    "            self.head = self.head.next\n",
    "            del deleted\n",
    "            return deleted_data\n",
    "\n",
    "    def peek(self):\n",
    "        if not self.head:\n",
    "            print('Stack is empty')\n",
    "            return\n",
    "        return self.head.data\n",
    "    \n",
    "    def display_list(self):\n",
    "        if not self.head:\n",
    "            print('Stack is empty')\n",
    "        else:\n",
    "            self.stack_print(self.head)\n",
    "    \n",
    "    def stack_print(self, node):\n",
    "        if not node:\n",
    "            return\n",
    "        \n",
    "        self.stack_print(node.next)\n",
    "\n",
    "        if node == self.head:\n",
    "            print(node.data)\n",
    "        else:\n",
    "            print(node.data, end=',')"
   ]
  },
  {
   "cell_type": "code",
   "execution_count": 78,
   "metadata": {},
   "outputs": [],
   "source": [
    "my_stack = StackLinkedList([1,2,3,4,5])"
   ]
  },
  {
   "cell_type": "code",
   "execution_count": 79,
   "metadata": {},
   "outputs": [
    {
     "data": {
      "text/plain": [
       "True"
      ]
     },
     "execution_count": 79,
     "metadata": {},
     "output_type": "execute_result"
    }
   ],
   "source": [
    "my_stack.push(6)\n",
    "my_stack.push(7)"
   ]
  },
  {
   "cell_type": "code",
   "execution_count": 80,
   "metadata": {},
   "outputs": [
    {
     "name": "stdout",
     "output_type": "stream",
     "text": [
      "1,2,3,4,5,6,7\n"
     ]
    }
   ],
   "source": [
    "my_stack.display_list()"
   ]
  },
  {
   "cell_type": "code",
   "execution_count": 81,
   "metadata": {},
   "outputs": [
    {
     "data": {
      "text/plain": [
       "6"
      ]
     },
     "execution_count": 81,
     "metadata": {},
     "output_type": "execute_result"
    }
   ],
   "source": [
    "my_stack.pop()\n",
    "my_stack.pop()"
   ]
  },
  {
   "cell_type": "code",
   "execution_count": 82,
   "metadata": {},
   "outputs": [
    {
     "name": "stdout",
     "output_type": "stream",
     "text": [
      "1,2,3,4,5\n"
     ]
    }
   ],
   "source": [
    "my_stack.display_list()"
   ]
  },
  {
   "cell_type": "code",
   "execution_count": 83,
   "metadata": {},
   "outputs": [
    {
     "data": {
      "text/plain": [
       "5"
      ]
     },
     "execution_count": 83,
     "metadata": {},
     "output_type": "execute_result"
    }
   ],
   "source": [
    "my_stack.peek()"
   ]
  },
  {
   "cell_type": "code",
   "execution_count": 92,
   "metadata": {},
   "outputs": [
    {
     "data": {
      "text/plain": [
       "'Stack is empty'"
      ]
     },
     "execution_count": 92,
     "metadata": {},
     "output_type": "execute_result"
    }
   ],
   "source": [
    "my_stack.pop()"
   ]
  },
  {
   "cell_type": "code",
   "execution_count": 93,
   "metadata": {},
   "outputs": [
    {
     "name": "stdout",
     "output_type": "stream",
     "text": [
      "Stack is empty\n"
     ]
    }
   ],
   "source": [
    "my_stack.peek()"
   ]
  },
  {
   "cell_type": "code",
   "execution_count": 94,
   "metadata": {},
   "outputs": [
    {
     "name": "stdout",
     "output_type": "stream",
     "text": [
      "Stack is empty\n"
     ]
    }
   ],
   "source": [
    "my_stack.display_list()"
   ]
  },
  {
   "cell_type": "code",
   "execution_count": 95,
   "metadata": {},
   "outputs": [
    {
     "data": {
      "text/plain": [
       "True"
      ]
     },
     "execution_count": 95,
     "metadata": {},
     "output_type": "execute_result"
    }
   ],
   "source": [
    "my_stack.push(6)\n",
    "my_stack.push(7)"
   ]
  },
  {
   "cell_type": "code",
   "execution_count": 96,
   "metadata": {},
   "outputs": [
    {
     "name": "stdout",
     "output_type": "stream",
     "text": [
      "6,7\n"
     ]
    }
   ],
   "source": [
    "my_stack.display_list()"
   ]
  },
  {
   "cell_type": "code",
   "execution_count": 1,
   "metadata": {},
   "outputs": [
    {
     "data": {
      "text/plain": [
       "[]"
      ]
     },
     "execution_count": 1,
     "metadata": {},
     "output_type": "execute_result"
    }
   ],
   "source": [
    "[1,2,3][4:]"
   ]
  }
 ],
 "metadata": {
  "kernelspec": {
   "display_name": "Python 3.10.8 64-bit (microsoft store)",
   "language": "python",
   "name": "python3"
  },
  "language_info": {
   "codemirror_mode": {
    "name": "ipython",
    "version": 3
   },
   "file_extension": ".py",
   "mimetype": "text/x-python",
   "name": "python",
   "nbconvert_exporter": "python",
   "pygments_lexer": "ipython3",
   "version": "3.10.9"
  },
  "orig_nbformat": 4,
  "vscode": {
   "interpreter": {
    "hash": "71378fec4b9b0ae51f784db9960b5ea07fb9042b7f7d69b6f196c430cecf08e0"
   }
  }
 },
 "nbformat": 4,
 "nbformat_minor": 2
}
