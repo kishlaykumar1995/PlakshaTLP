{
  "cells": [
    {
      "cell_type": "code",
      "source": [
        "!cat /proc/meminfo"
      ],
      "metadata": {
        "colab": {
          "base_uri": "https://localhost:8080/"
        },
        "id": "U6MQpoh4WBXy",
        "outputId": "e7f72bc0-bbcc-450d-8b3c-98f51d7d250c"
      },
      "execution_count": null,
      "outputs": [
        {
          "output_type": "stream",
          "name": "stdout",
          "text": [
            "MemTotal:       13297228 kB\n",
            "MemFree:         8245888 kB\n",
            "MemAvailable:   12257880 kB\n",
            "Buffers:          320696 kB\n",
            "Cached:          3792424 kB\n",
            "SwapCached:            0 kB\n",
            "Active:           477848 kB\n",
            "Inactive:        4333124 kB\n",
            "Active(anon):        876 kB\n",
            "Inactive(anon):   623736 kB\n",
            "Active(file):     476972 kB\n",
            "Inactive(file):  3709388 kB\n",
            "Unevictable:           0 kB\n",
            "Mlocked:               0 kB\n",
            "SwapTotal:             0 kB\n",
            "SwapFree:              0 kB\n",
            "Dirty:               628 kB\n",
            "Writeback:             0 kB\n",
            "AnonPages:        697920 kB\n",
            "Mapped:           225308 kB\n",
            "Shmem:              1172 kB\n",
            "KReclaimable:     134168 kB\n",
            "Slab:             163552 kB\n",
            "SReclaimable:     134168 kB\n",
            "SUnreclaim:        29384 kB\n",
            "KernelStack:        4112 kB\n",
            "PageTables:        14024 kB\n",
            "NFS_Unstable:          0 kB\n",
            "Bounce:                0 kB\n",
            "WritebackTmp:          0 kB\n",
            "CommitLimit:     6648612 kB\n",
            "Committed_AS:    2536596 kB\n",
            "VmallocTotal:   34359738367 kB\n",
            "VmallocUsed:        8856 kB\n",
            "VmallocChunk:          0 kB\n",
            "Percpu:             1328 kB\n",
            "HardwareCorrupted:     0 kB\n",
            "AnonHugePages:         0 kB\n",
            "ShmemHugePages:        0 kB\n",
            "ShmemPmdMapped:        0 kB\n",
            "FileHugePages:         0 kB\n",
            "FilePmdMapped:         0 kB\n",
            "CmaTotal:              0 kB\n",
            "CmaFree:               0 kB\n",
            "HugePages_Total:       0\n",
            "HugePages_Free:        0\n",
            "HugePages_Rsvd:        0\n",
            "HugePages_Surp:        0\n",
            "Hugepagesize:       2048 kB\n",
            "Hugetlb:               0 kB\n",
            "DirectMap4k:       82752 kB\n",
            "DirectMap2M:     4108288 kB\n",
            "DirectMap1G:    11534336 kB\n"
          ]
        }
      ]
    },
    {
      "cell_type": "code",
      "source": [
        "import time\n",
        "from collections import deque\n",
        "import matplotlib.pyplot as plt"
      ],
      "metadata": {
        "id": "Viz9UP1FESPF"
      },
      "execution_count": null,
      "outputs": []
    },
    {
      "cell_type": "code",
      "execution_count": null,
      "metadata": {
        "id": "uc4b56Yg3m1Y"
      },
      "outputs": [],
      "source": [
        "# Implementing Stacks using Arrays \n",
        "\n",
        "class ArrayStack:\n",
        "    \n",
        "    # Constructor for ArrayStack class\n",
        "    def __init__(self, init_size=10):\n",
        "        # your code here\n",
        "        if init_size < 0:\n",
        "          raise Exception(\"Wrong Initial size\")\n",
        "        \n",
        "        self.arr_stack = [None]*init_size             # Initialize with an input size\n",
        "        self.pointer = -1\n",
        "        \n",
        "\n",
        "    # Push: Adds a new element at the back of the list\n",
        "    def push(self, element):\n",
        "        # your code here\n",
        "        self.pointer+=1                               \n",
        "\n",
        "        if self.pointer > len(self.arr_stack)-1:\n",
        "          self.arr_stack = self.arr_stack + [None]*1000                   # If stack is full then increment size by 1000\n",
        "        \n",
        "        self.arr_stack[self.pointer] = element\n",
        "\n",
        "\n",
        "\n",
        "    # Pop: Deletes the element at the last and returns the value of it\n",
        "    def pop(self):\n",
        "        # your code here\n",
        "        if self.isEmpty():\n",
        "          return None                               # Return None if stack is empty else remove the last element\n",
        "        else:\n",
        "          dl = self.arr_stack[self.pointer]\n",
        "          self.arr_stack[self.pointer] = None\n",
        "          self.pointer-=1\n",
        "          return dl\n",
        "\n",
        "\n",
        "    # Returns the size of the stack\n",
        "    def size(self):\n",
        "        # your code here\n",
        "        return self.pointer+1\n",
        "\n",
        "\n",
        "    # Return the element at the top of the stack without removing it\n",
        "    def top(self):\n",
        "      if self.isEmpty():\n",
        "          return None                            # Show the last element if it exists or show None\n",
        "      else:\n",
        "        return self.arr_stack[self.pointer]\n",
        "        \n",
        "\n",
        "\n",
        "    # Returns true is stack is empty, False if not\n",
        "    def isEmpty(self):\n",
        "        # your code here\n",
        "        if not self.size():\n",
        "          return True\n",
        "        return False\n",
        "\n",
        "\n",
        "    def printIsEmpty(self):\n",
        "        print(\"\\nStack is Empty\\n\") if self.isEmpty() else print(\"\\nStack is not Empty\\n\")\n",
        "\n",
        "\n",
        "    def printStack(self):\n",
        "      # Print the stack (list appends forward so reverse order)\n",
        "        if not self.isEmpty():\n",
        "          print(\"Stack: \", self.arr_stack[self.pointer::-1])\n",
        "        else:\n",
        "          print(\"Stack: \",[])"
      ]
    },
    {
      "cell_type": "code",
      "source": [
        "st = ArrayStack()\n",
        "st.push(10)\n",
        "st.push(21)\n",
        "st.push(33)\n",
        "st.printStack()\n",
        "st.printIsEmpty()\n",
        "print(st.pop())\n",
        "print(st.top())\n",
        "print(st.pop())\n",
        "print(st.pop())\n",
        "print(st.pop())\n",
        "print(st.pop())\n",
        "st.printStack()"
      ],
      "metadata": {
        "colab": {
          "base_uri": "https://localhost:8080/"
        },
        "id": "V80eu7miVLrV",
        "outputId": "74337fad-39bf-4e6d-af80-c2448cc2b468"
      },
      "execution_count": null,
      "outputs": [
        {
          "output_type": "stream",
          "name": "stdout",
          "text": [
            "Stack:  [33, 21, 10]\n",
            "\n",
            "Stack is not Empty\n",
            "\n",
            "33\n",
            "21\n",
            "21\n",
            "10\n",
            "None\n",
            "None\n",
            "Stack:  []\n"
          ]
        }
      ]
    },
    {
      "cell_type": "code",
      "source": [
        "# Implementing Stacks using Arrays \n",
        "\n",
        "class DoublingArrayStack:\n",
        "    \n",
        "    # Constructor for ArrayStack class\n",
        "    def __init__(self, init_size=10):\n",
        "        # your code here\n",
        "        if init_size <= 0:\n",
        "          raise Exception(\"Wrong Initial size\")\n",
        "        \n",
        "        self.dbl_arr_stack = [None]*init_size\n",
        "        self.pointer = -1\n",
        "        \n",
        "\n",
        "    # Push: Adds a new element at the back of the list\n",
        "    def push(self, element):\n",
        "        # your code here\n",
        "        self.pointer+=1\n",
        "        if self.pointer > len(self.dbl_arr_stack)-1:\n",
        "          self.dbl_arr_stack = self.dbl_arr_stack + [None]*self.size()          # If stack is full then double the size\n",
        "        \n",
        "        self.dbl_arr_stack[self.pointer] = element\n",
        "\n",
        "\n",
        "\n",
        "    # Pop: Deletes the element at the last and returns the value of it\n",
        "    def pop(self):\n",
        "        # your code here\n",
        "        if self.isEmpty():\n",
        "          return None\n",
        "        else:\n",
        "          dl = self.dbl_arr_stack[self.pointer]\n",
        "          self.dbl_arr_stack[self.pointer] = None\n",
        "          self.pointer-=1\n",
        "          return dl\n",
        "\n",
        "\n",
        "    # Returns the size of the stack\n",
        "    def size(self):\n",
        "        # your code here\n",
        "        return self.pointer+1\n",
        "\n",
        "\n",
        "    # Return the element at the top of the stack without removing it\n",
        "    def top(self):\n",
        "      if self.isEmpty():\n",
        "          return None\n",
        "      else:\n",
        "        return self.dbl_arr_stack[self.pointer]\n",
        "        \n",
        "\n",
        "\n",
        "    # Returns true is stack is empty, False if not\n",
        "    def isEmpty(self):\n",
        "        # your code here\n",
        "        if not self.size():\n",
        "          return True\n",
        "        return False\n",
        "\n",
        "\n",
        "    def printIsEmpty(self):\n",
        "        print(\"\\nStack is Empty\\n\") if self.isEmpty() else print(\"\\nStack is not Empty\\n\")\n",
        "\n",
        "\n",
        "    def printStack(self):\n",
        "        if not self.isEmpty():\n",
        "          print(\"Stack: \", self.dbl_arr_stack[self.pointer::-1])\n",
        "        else:\n",
        "          print(\"Stack: \",[])"
      ],
      "metadata": {
        "id": "LRjU9ABDH0F2"
      },
      "execution_count": null,
      "outputs": []
    },
    {
      "cell_type": "code",
      "source": [
        "dst = DoublingArrayStack()\n",
        "dst.push(10);dst.push(21);dst.push(33);dst.push(34);dst.push(35);dst.push(36);dst.push(37);dst.push(38);dst.push(39);dst.push(40);dst.push(41)\n",
        "dst.printStack()\n",
        "dst.printIsEmpty()\n",
        "print(dst.pop())\n",
        "print(dst.top())\n",
        "print(dst.pop())\n",
        "print(dst.pop())\n",
        "print(dst.pop())\n",
        "print(dst.pop())\n",
        "dst.printStack()"
      ],
      "metadata": {
        "colab": {
          "base_uri": "https://localhost:8080/"
        },
        "id": "f4CIgdeNfUaO",
        "outputId": "bfeccecf-c65f-4d86-c5b3-12e4cdb3374d"
      },
      "execution_count": null,
      "outputs": [
        {
          "output_type": "stream",
          "name": "stdout",
          "text": [
            "Stack:  [41, 40, 39, 38, 37, 36, 35, 34, 33, 21, 10]\n",
            "\n",
            "Stack is not Empty\n",
            "\n",
            "41\n",
            "40\n",
            "40\n",
            "39\n",
            "38\n",
            "37\n",
            "Stack:  [36, 35, 34, 33, 21, 10]\n"
          ]
        }
      ]
    },
    {
      "cell_type": "code",
      "execution_count": null,
      "metadata": {
        "id": "tMH7PoIpBCE0"
      },
      "outputs": [],
      "source": [
        "# Implementing Stacks Linked Lists\n",
        "\n",
        "# Node class for the individual nodes\n",
        "class Node:\n",
        "\n",
        "    # constructor for Node class\n",
        "    def __init__(self, data):\n",
        "        # your code here\n",
        "        self.data = data\n",
        "        self.next = None\n",
        " \n",
        "\n",
        "# Manager class to link the nodes and manage the overall list\n",
        "class LinkedListStack:\n",
        "\n",
        "    # constructor for LinkedListStack class\n",
        "    def __init__(self):\n",
        "        # your code here\n",
        "        self.head = None\n",
        "        self.counter = -1\n",
        "\n",
        "\n",
        "    # Push: Adds a new element at the back of the list\n",
        "    def push(self, data):\n",
        "        # your code here\n",
        "        if self.isEmpty():                              # If stack is empty assign it to head or insert a new element at the head position\n",
        "            self.head = Node(data)\n",
        "        else:\n",
        "            new_node = Node(data)\n",
        "            new_node.next = self.head\n",
        "            self.head = new_node\n",
        "        \n",
        "        self.counter += 1\n",
        "\n",
        "\n",
        "    # Pop: Deletes the element at the last and returns the value of it\n",
        "    def pop(self):\n",
        "        # your code here\n",
        "        if self.isEmpty():                              # If list is empty return None, else pop the last element and delete the node\n",
        "            return None\n",
        "        else:\n",
        "            deleted = self.head\n",
        "            deleted_data = self.head.data\n",
        "            self.head = self.head.next\n",
        "            self.counter -= 1\n",
        "            del deleted\n",
        "            return deleted_data\n",
        "\n",
        "\n",
        "    # Returns the size of the stack\n",
        "    def size(self):\n",
        "        # your code here\n",
        "        return self.counter+1\n",
        "\n",
        "\n",
        "    # Return the element at the top of the stack without removing it\n",
        "    def top(self): \n",
        "        # your code here\n",
        "        if self.isEmpty():\n",
        "            return None\n",
        "        return self.head.data\n",
        "\n",
        "\n",
        "    # Return true is stack is empty, False if not\n",
        "    def isEmpty(self):\n",
        "        # your code here\n",
        "        if not self.head:\n",
        "          return True\n",
        "        return False\n",
        "\n",
        "\n",
        "    def printIsEmpty(self):\n",
        "        print(\"\\nStack is Empty\\n\") if self.isEmpty() else print(\"\\nStack is not Empty\\n\")\n",
        "\n",
        "    # Reverses the stack\n",
        "    def reverseList(self):\n",
        "        # your code here\n",
        "        if self.isEmpty() or self.size() == 1:\n",
        "          return\n",
        "        \n",
        "        prev = self.head                              # Start from the head and reverse the node links one-by-one, keeping track of current previous and next(temp) nodes\n",
        "        cur = self.head.next\n",
        "        self.head.next = None\n",
        "\n",
        "        while cur!=None:\n",
        "          temp = cur.next\n",
        "          cur.next = prev\n",
        "          prev = cur\n",
        "          cur = temp\n",
        "        \n",
        "        self.head = prev\n",
        "\n",
        "\n",
        "    # Print data stored in the stack\n",
        "    def printStack(self):\n",
        "        # your code here\n",
        "        if self.isEmpty():\n",
        "          print(\"Stack: \", [])\n",
        "          return\n",
        "        \n",
        "        print('Stack: ', end='[')\n",
        "        cur = self.head\n",
        "        while cur.next != None:\n",
        "          print(cur.data, end=', ')\n",
        "          cur=cur.next\n",
        "        print(str(cur.data)+']')\n",
        "\n"
      ]
    },
    {
      "cell_type": "code",
      "source": [
        "lst = LinkedListStack()\n",
        "lst.push(10)\n",
        "lst.push(21)\n",
        "lst.push(33)\n",
        "lst.printStack()\n",
        "lst.printIsEmpty()\n",
        "print(lst.pop())\n",
        "print(lst.top())\n",
        "print(lst.pop())\n",
        "print(lst.pop())\n",
        "print(lst.pop())\n",
        "print(lst.pop())\n",
        "lst.printStack()"
      ],
      "metadata": {
        "colab": {
          "base_uri": "https://localhost:8080/"
        },
        "id": "7XSn4oMvAHWE",
        "outputId": "51baa51b-2243-4024-cd64-64d5509d82db"
      },
      "execution_count": null,
      "outputs": [
        {
          "output_type": "stream",
          "name": "stdout",
          "text": [
            "Stack: [33, 21, 10]\n",
            "\n",
            "Stack is not Empty\n",
            "\n",
            "33\n",
            "21\n",
            "21\n",
            "10\n",
            "None\n",
            "None\n",
            "Stack:  []\n"
          ]
        }
      ]
    },
    {
      "cell_type": "code",
      "source": [
        "import random\n",
        "from time import perf_counter\n",
        "from collections import deque\n",
        "\n",
        "# start = time.time()\n",
        "\n",
        "# the program to be timed here\n",
        "iterations = 10_00_000\n",
        "arrayStack = ArrayStack()\n",
        "start = perf_counter()\n",
        "timeList1  = []\n",
        "for i in range(iterations):\n",
        "    arrayStack.push(random.randint(1,1000))\n",
        "    if (i%10000 == 0):\n",
        "      end = perf_counter()\n",
        "      timeList1.append(end-start)\n",
        "\n",
        "\n",
        "dblArrayStack = DoublingArrayStack()\n",
        "start = perf_counter()\n",
        "timeList2  = []\n",
        "for i in range(iterations):\n",
        "    dblArrayStack.push(random.randint(1,1000))\n",
        "    if (i%10000 == 0):\n",
        "      end = perf_counter()\n",
        "      timeList2.append(end-start)\n",
        "\n",
        "\n",
        "linkedListStack = LinkedListStack()\n",
        "start = perf_counter()\n",
        "timeList3  = []\n",
        "for i in range(iterations):\n",
        "    linkedListStack.push(random.randint(1,1000))\n",
        "    if (i%10000 == 0):\n",
        "      end = perf_counter()\n",
        "      timeList3.append(end-start)\n",
        "\n",
        "\n",
        "dequeStack = deque()\n",
        "start = perf_counter()\n",
        "timeList4  = []\n",
        "for i in range(iterations):\n",
        "    dequeStack.append(random.randint(1,1000))\n",
        "    if (i%10000 == 0):\n",
        "      end = perf_counter()\n",
        "      timeList4.append(end-start)\n",
        "\n",
        "# end = time.time()"
      ],
      "metadata": {
        "id": "IVKPhC_PDIFt"
      },
      "execution_count": null,
      "outputs": []
    },
    {
      "cell_type": "code",
      "source": [
        "plt.figure(figsize=(10, 6))\n",
        "plt.plot(timeList1, label='Constant Increase Stack')\n",
        "plt.plot(timeList2, label = 'Doubling Size Stack')\n",
        "plt.plot(timeList3, label = 'Linked List Stack')\n",
        "plt.plot(timeList4, label = 'Deque Stack')\n",
        "plt.legend()"
      ],
      "metadata": {
        "colab": {
          "base_uri": "https://localhost:8080/",
          "height": 393
        },
        "id": "nn3QgnA0Plwn",
        "outputId": "610d0fc2-a0dd-4313-a19e-215d371641c6"
      },
      "execution_count": null,
      "outputs": [
        {
          "output_type": "execute_result",
          "data": {
            "text/plain": [
              "<matplotlib.legend.Legend at 0x7f2af37ab100>"
            ]
          },
          "metadata": {},
          "execution_count": 19
        },
        {
          "output_type": "display_data",
          "data": {
            "text/plain": [
              "<Figure size 720x432 with 1 Axes>"
            ],
            "image/png": "[encoded data removed]"
          },
          "metadata": {
            "needs_background": "light"
          }
        }
      ]
    }
  ],
  "metadata": {
    "colab": {
      "provenance": []
    },
    "kernelspec": {
      "display_name": "Python 3",
      "name": "python3"
    },
    "language_info": {
      "name": "python"
    },
    "gpuClass": "standard"
  },
  "nbformat": 4,
  "nbformat_minor": 0
}