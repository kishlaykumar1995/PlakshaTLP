{
  "cells": [
    {
      "cell_type": "code",
      "execution_count": null,
      "metadata": {
        "id": "3uBPFjclQAYE"
      },
      "outputs": [],
      "source": [
        "class HashTableChain:\n",
        "    def __init__(self, size, file):\n",
        "        self.size = size\n",
        "        self.table = [None] * size\n",
        "        self.g = 31  # positive constant\n",
        "    \n",
        "    # hash function to determine the index for a given key\n",
        "    def hash_function(self, key):\n",
        "      hash = 0\n",
        "      n = len(key) # s is the given word\n",
        "      for i in range(n):\n",
        "        hash += self.g * hash + ord(key[i])     # g is the positive constant chosen by you\n",
        "      index = hash % self.size     # capacity is total memory size allocated for hash table\n",
        "      return index\n",
        "    \n",
        "    # insert a key-value pair to the hash table\n",
        "    def insert(self, key, value):\n",
        "      index = self.hash_function(key)\n",
        "      if not self.table[index]:\n",
        "        self.table[index] = []\n",
        "        self.table[index].append([key, value])\n",
        "        return\n",
        "      for ele in self.table[index]:\n",
        "        if ele[0] == key:\n",
        "          ele[1]+=value\n",
        "          return\n",
        "      self.table[index].append([key, value])\n",
        "      \n",
        "\n",
        "    # retrieve the value for a given key\n",
        "    def search(self, key):\n",
        "      index = self.hash_function(key)\n",
        "      if not self.table[index]:\n",
        "        return None               # Or should we return -1?\n",
        "      for ele in self.table[index]:\n",
        "        if ele[0] == key:\n",
        "          return ele\n",
        "    \n",
        "    def delete(self, key):\n",
        "      index = self.hash_function(key)\n",
        "      if not self.table[index]:\n",
        "        return None\n",
        "      for ele in self.table[index]:\n",
        "        if ele[0] == key:\n",
        "          self.table[index].remove(ele)"
      ]
    },
    {
      "cell_type": "code",
      "execution_count": 18,
      "metadata": {
        "colab": {
          "base_uri": "https://localhost:8080/"
        },
        "id": "JZZ1jx5jiOZJ",
        "outputId": "5ad417b7-e8c0-4d1c-f05b-eae07c12004a"
      },
      "outputs": [
        {
          "name": "stdout",
          "output_type": "stream",
          "text": [
            "[[['appzd', 2]], None, None, [['apple', 2]], [['appmd', 1]], None, [['appnd', 1]], [['mango', 1], ['donkey', 2]], None, None]\n",
            "[[['appzd', 2]], None, None, [['apple', 2]], [['appmd', 1]], None, [['appnd', 1]], [['mango', 1]], None, None]\n"
          ]
        }
      ],
      "source": [
        "htc = HashTableChain(10, None)\n",
        "htc.insert('apple', 1)\n",
        "htc.insert('mango', 1)\n",
        "htc.insert('appmd', 1)\n",
        "htc.insert('apple', 1)\n",
        "htc.insert('appnd', 1)\n",
        "htc.insert('appzd', 1)\n",
        "htc.insert('appzd', 1)\n",
        "htc.insert('donkey', 1)\n",
        "htc.insert('donkey', 1)\n",
        "print(htc.table)\n",
        "htc.delete('donkey')\n",
        "print(htc.table)"
      ]
    },
    {
      "cell_type": "code",
      "execution_count": 26,
      "metadata": {
        "id": "kwVQ_Al7PZfe"
      },
      "outputs": [],
      "source": [
        "class HashTableLinProb:\n",
        "    def __init__(self, size, file):\n",
        "        self.size = size\n",
        "        self.table = [None] * size\n",
        "        self.g = 31  # positive constant\n",
        "    \n",
        "    # hash function to determine the index for a given key\n",
        "    def hash_function(self, key):\n",
        "      hash = 0\n",
        "      n = len(key) # s is the given word\n",
        "      for i in range(n):\n",
        "        hash += self.g * hash + ord(key[i])     # g is the positive constant chosen by you\n",
        "      index = hash % self.size     # capacity is total memory size allocated for hash table\n",
        "      return index\n",
        "    \n",
        "    # insert a key-value pair to the hash table\n",
        "    def insert(self, key, value):\n",
        "      index = self.hash_function(key)\n",
        "      count = 0\n",
        "      while True:\n",
        "        if not self.table[index]:\n",
        "          self.table[index] = [key, value]\n",
        "          return\n",
        "        if self.table[index][0] == key:\n",
        "          self.table[index][1]+=value\n",
        "          return\n",
        "        index = (index+1)%self.size\n",
        "        if count == self.size:\n",
        "          return\n",
        "        count+=1\n",
        "\n",
        "    # retrieve the value for a given key\n",
        "    def search(self, key):\n",
        "      index = self.hash_function(key)\n",
        "      count = 0\n",
        "      while True:\n",
        "        if self.table[index][0] == key:\n",
        "          return self.table[index]\n",
        "        index = (index+1)%self.size\n",
        "        if count == self.size:\n",
        "          return\n",
        "        count+=1\n",
        "    \n",
        "    def delete(self, key):\n",
        "      index = self.hash_function(key)\n",
        "      count = 0\n",
        "      while True:\n",
        "        if self.table[index][0] == key:\n",
        "          self.table[index] = None\n",
        "          return\n",
        "        index = (index+1)%self.size\n",
        "        if count == self.size:\n",
        "          return\n",
        "        count+=1"
      ]
    },
    {
      "cell_type": "code",
      "execution_count": 27,
      "metadata": {
        "colab": {
          "base_uri": "https://localhost:8080/"
        },
        "id": "ROxZphtO9f-G",
        "outputId": "c4119ce9-ee6d-485c-c33f-dae0d5b5e784"
      },
      "outputs": [
        {
          "name": "stdout",
          "output_type": "stream",
          "text": [
            "[None, None, None, ['apple', 2], ['appmd', 1], None, ['appnd', 1], ['mango', 1], ['donkey', 1], None]\n"
          ]
        }
      ],
      "source": [
        "htp = HashTableLinProb(10, None)\n",
        "htp.insert('apple', 1)\n",
        "htp.insert('mango', 1)\n",
        "htp.insert('appmd', 1)\n",
        "htp.insert('apple', 1)\n",
        "htp.insert('appnd', 1)\n",
        "htp.insert('donkey', 1)\n",
        "print(htp.table)"
      ]
    },
    {
      "cell_type": "code",
      "execution_count": null,
      "metadata": {
        "id": "WJkUl0gkPk34"
      },
      "outputs": [],
      "source": [
        "class HashTableChainDouble:\n",
        "    def __init__(self, size, file):\n",
        "        self.size = size\n",
        "        self.table = [None] * size\n",
        "        self.g = 31  # positive constant\n",
        "    \n",
        "    # hash function to determine the index for a given key\n",
        "    def hash_function(self, key):\n",
        "        pass\n",
        "\n",
        "    def secondary_hash_function(self, key):\n",
        "        pass\n",
        "    \n",
        "    # insert a key-value pair to the hash table\n",
        "    def insert(self, key, value):\n",
        "        pass\n",
        "    \n",
        "    # retrieve the value for a given key\n",
        "    def search(self, key):\n",
        "        pass\n",
        "    \n",
        "    def delete(self, key):\n",
        "        pass"
      ]
    },
    {
      "cell_type": "code",
      "execution_count": null,
      "metadata": {
        "colab": {
          "base_uri": "https://localhost:8080/"
        },
        "id": "ElawWjecVXNc",
        "outputId": "a786d84f-c221-42a3-f694-e6a5ab44c93b"
      },
      "outputs": [
        {
          "data": {
            "text/plain": [
              "False"
            ]
          },
          "execution_count": 5,
          "metadata": {},
          "output_type": "execute_result"
        }
      ],
      "source": []
    }
  ],
  "metadata": {
    "colab": {
      "provenance": []
    },
    "kernelspec": {
      "display_name": "Python 3",
      "language": "python",
      "name": "python3"
    },
    "language_info": {
      "name": "python",
      "version": "3.10.9 (tags/v3.10.9:1dd9be6, Dec  6 2022, 20:01:21) [MSC v.1934 64 bit (AMD64)]"
    },
    "vscode": {
      "interpreter": {
        "hash": "71378fec4b9b0ae51f784db9960b5ea07fb9042b7f7d69b6f196c430cecf08e0"
      }
    }
  },
  "nbformat": 4,
  "nbformat_minor": 0
}
