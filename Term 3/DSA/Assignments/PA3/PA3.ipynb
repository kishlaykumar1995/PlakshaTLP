{
  "cells": [
    {
      "cell_type": "code",
      "execution_count": 36,
      "metadata": {},
      "outputs": [],
      "source": [
        "import matplotlib.pyplot as plt\n",
        "import time"
      ]
    },
    {
      "cell_type": "code",
      "execution_count": 410,
      "metadata": {},
      "outputs": [],
      "source": [
        "timelist1,timelist2,timelist3 = [],[],[]\n",
        "cap = 72000"
      ]
    },
    {
      "cell_type": "code",
      "execution_count": 411,
      "metadata": {
        "id": "3uBPFjclQAYE"
      },
      "outputs": [],
      "source": [
        "class HashTableChain:\n",
        "    def __init__(self, size=59000, file=None):\n",
        "        self.size = size\n",
        "        self.table = [None] * size\n",
        "        self.g = 31  # positive constant\n",
        "        with open(file,'r') as f:\n",
        "          t1 = time.perf_counter()\n",
        "          for line in f.readlines():\n",
        "            word = line.split('\\n')[0]\n",
        "            self.insert(word, 1)\n",
        "            timelist1.append(time.perf_counter() - t1)\n",
        "        self.print_contents()\n",
        "\n",
        "    \n",
        "    # hash function to determine the index for a given key\n",
        "    def hash_function(self, key):\n",
        "      hash = 0\n",
        "      n = len(key) # s is the given word\n",
        "      for i in range(n):\n",
        "        hash += self.g * hash + ord(key[i])     # g is the positive constant chosen by you\n",
        "      index = hash % self.size     # capacity is total memory size allocated for hash table\n",
        "      return index\n",
        "    \n",
        "    # insert a key-value pair to the hash table\n",
        "    def insert(self, key, value):\n",
        "      index = self.hash_function(key)\n",
        "      if not self.table[index]:\n",
        "        self.table[index] = []\n",
        "        self.table[index].append([key, value])\n",
        "        return\n",
        "      for ele in self.table[index]:\n",
        "        if ele[0] == key:\n",
        "          ele[1]+=value\n",
        "          return\n",
        "      self.table[index].append([key, value])\n",
        "      \n",
        "\n",
        "    # retrieve the value for a given key\n",
        "    def search(self, key):\n",
        "      index = self.hash_function(key)\n",
        "      if not self.table[index]:\n",
        "        return None               # Or should we return -1?\n",
        "      for ele in self.table[index]:\n",
        "        if ele[0] == key:\n",
        "          return ele\n",
        "    \n",
        "    def delete(self, key):\n",
        "      index = self.hash_function(key)\n",
        "      if not self.table[index]:\n",
        "        return None\n",
        "      for ele in self.table[index]:\n",
        "        if ele[0] == key:\n",
        "          self.table[index].remove(ele)\n",
        "    \n",
        "    def print_contents(self):\n",
        "      # Print the contents of the hash table to a file\n",
        "      with open(\"Chaining.txt\", \"w\") as f:\n",
        "        for chain in self.table:\n",
        "          if chain is not None:\n",
        "            for word, count in chain:\n",
        "              f.write(f\"{word} {count}\\n\")"
      ]
    },
    {
      "cell_type": "code",
      "execution_count": 412,
      "metadata": {
        "colab": {
          "base_uri": "https://localhost:8080/"
        },
        "id": "JZZ1jx5jiOZJ",
        "outputId": "5ad417b7-e8c0-4d1c-f05b-eae07c12004a"
      },
      "outputs": [
        {
          "name": "stdout",
          "output_type": "stream",
          "text": [
            "72000\n"
          ]
        }
      ],
      "source": [
        "htc = HashTableChain(size=cap, file='./dictionary_cpy.txt')\n",
        "# htc.insert('apple', 1)\n",
        "# htc.insert('mango', 1)\n",
        "# htc.insert('appmd', 1)\n",
        "# htc.insert('apple', 1)\n",
        "# htc.insert('appnd', 1)\n",
        "# htc.insert('appzd', 1)\n",
        "# htc.insert('appzd', 1)\n",
        "# htc.insert('donkey', 1)\n",
        "# htc.insert('donkey', 1)\n",
        "# print(htc.table)\n",
        "# htc.delete('donkey')\n",
        "print(len(htc.table))"
      ]
    },
    {
      "cell_type": "code",
      "execution_count": 413,
      "metadata": {
        "id": "kwVQ_Al7PZfe"
      },
      "outputs": [],
      "source": [
        "class HashTableLinProb:\n",
        "    def __init__(self, size=69000, file=None):\n",
        "        self.size = size\n",
        "        self.table = [None] * size\n",
        "        self.g = 31  # positive constant\n",
        "        with open(file,'r') as f:\n",
        "          t1 = time.perf_counter()\n",
        "          for line in f.readlines():\n",
        "            word = line.split('\\n')[0]\n",
        "            self.insert(word, 1)\n",
        "            timelist2.append(time.perf_counter() - t1)\n",
        "        self.print_contents()\n",
        "    \n",
        "    # hash function to determine the index for a given key\n",
        "    def hash_function(self, key):\n",
        "      hash = 0\n",
        "      n = len(key) # s is the given word\n",
        "      for i in range(n):\n",
        "        hash += self.g * hash + ord(key[i])     # g is the positive constant chosen by you\n",
        "      index = hash % self.size     # capacity is total memory size allocated for hash table\n",
        "      return index\n",
        "    \n",
        "    # insert a key-value pair to the hash table\n",
        "    def insert(self, key, value):\n",
        "      index = self.hash_function(key)\n",
        "      count = 0\n",
        "      while True:\n",
        "        if not self.table[index]:\n",
        "          self.table[index] = [key, value]\n",
        "          return\n",
        "        if self.table[index][0] == key:\n",
        "          self.table[index][1]+=value\n",
        "          return\n",
        "        index = (index+1)%self.size\n",
        "        if count == self.size:\n",
        "          return\n",
        "        count+=1\n",
        "\n",
        "    # retrieve the value for a given key\n",
        "    def search(self, key):\n",
        "      index = self.hash_function(key)\n",
        "      count = 0\n",
        "      while True:\n",
        "        if self.table[index][0] == key:\n",
        "          return self.table[index]\n",
        "        index = (index+1)%self.size\n",
        "        if count == self.size:\n",
        "          return\n",
        "        count+=1\n",
        "    \n",
        "    def delete(self, key):\n",
        "      index = self.hash_function(key)\n",
        "      count = 0\n",
        "      while True:\n",
        "        if self.table[index][0] == key:\n",
        "          self.table[index] = None\n",
        "          return\n",
        "        index = (index+1)%self.size\n",
        "        if count == self.size:\n",
        "          return\n",
        "        count+=1\n",
        "    \n",
        "    def print_contents(self):\n",
        "      # Print the contents of the hash table to a file\n",
        "      with open(\"Probing.txt\", \"w\") as f:\n",
        "        for ele in self.table:\n",
        "          if ele:\n",
        "            word,count = ele\n",
        "            f.write(f\"{word} {count}\\n\")\n",
        "\n"
      ]
    },
    {
      "cell_type": "code",
      "execution_count": 414,
      "metadata": {
        "colab": {
          "base_uri": "https://localhost:8080/"
        },
        "id": "ROxZphtO9f-G",
        "outputId": "c4119ce9-ee6d-485c-c33f-dae0d5b5e784"
      },
      "outputs": [
        {
          "name": "stdout",
          "output_type": "stream",
          "text": [
            "72000\n"
          ]
        }
      ],
      "source": [
        "htp = HashTableLinProb(size=cap, file='./dictionary_cpy.txt')\n",
        "# htp.insert('apple', 1)\n",
        "# htp.insert('mango', 1)\n",
        "# htp.insert('appmd', 1)\n",
        "# htp.insert('apple', 1)\n",
        "# htp.insert('appnd', 1)\n",
        "# htp.insert('donkey', 1)\n",
        "print(len(htp.table))"
      ]
    },
    {
      "cell_type": "code",
      "execution_count": 415,
      "metadata": {
        "id": "WJkUl0gkPk34"
      },
      "outputs": [],
      "source": [
        "class HashTableChainDouble:\n",
        "    def __init__(self, size=69000, file=None):\n",
        "        self.size = size\n",
        "        self.table = [None] * size\n",
        "        self.g = 31  # positive constant\n",
        "        with open(file,'r') as f:\n",
        "          t1 = time.perf_counter()\n",
        "          for line in f.readlines():\n",
        "            word = line.split('\\n')[0]\n",
        "            self.insert(word, 1)\n",
        "            timelist3.append(time.perf_counter() - t1)\n",
        "        self.print_contents()\n",
        "    \n",
        "    # hash function to determine the index for a given key\n",
        "    def hash_function(self, key):\n",
        "        hash = 0\n",
        "        n = len(key) # s is the given word\n",
        "        for i in range(n):\n",
        "            hash += self.g * hash + ord(key[i])     # g is the positive constant chosen by you\n",
        "        index = hash % self.size     # capacity is total memory size allocated for hash table\n",
        "        return index\n",
        "\n",
        "    def secondary_hash_function(self, key):\n",
        "        k = len(key)%(self.size-1)\n",
        "        return k\n",
        "    \n",
        "    # insert a key-value pair to the hash table\n",
        "    def insert(self, key, value):\n",
        "      i1 = self.hash_function(key)\n",
        "      index = self.hash_function(key)\n",
        "      count = 1\n",
        "      while True:\n",
        "        if not self.table[index]:\n",
        "          self.table[index] = [key, value]\n",
        "          return\n",
        "        elif self.table[index][0] == key:\n",
        "          self.table[index][1]+=value\n",
        "          return\n",
        "        index = (i1 + count*self.secondary_hash_function(key))%self.size\n",
        "        count+=1\n",
        "        if count == self.size:\n",
        "          return\n",
        "        \n",
        "\n",
        "    # retrieve the value for a given key\n",
        "    def search(self, key):\n",
        "      i1 = self.hash_function(key)\n",
        "      index = self.hash_function(key)\n",
        "      count = 1\n",
        "      while True:\n",
        "        if not self.table[index]:\n",
        "          return\n",
        "        if self.table[index][0] == key:\n",
        "          return self.table[index]\n",
        "        index = (i1 + count*self.secondary_hash_function(key))%self.size\n",
        "        count+=1\n",
        "        if count == self.size:\n",
        "          return\n",
        "    \n",
        "    def delete(self, key):\n",
        "      i1 = self.hash_function(key)\n",
        "      index = self.hash_function(key)\n",
        "      count = 1\n",
        "      while True:\n",
        "        if not self.table[index]:\n",
        "          return\n",
        "        if self.table[index][0] == key:\n",
        "          self.table[index] = None\n",
        "          return\n",
        "        index = (i1 + count*self.secondary_hash_function(key))%self.size\n",
        "        count+=1\n",
        "        if count == self.size:\n",
        "          return\n",
        "    \n",
        "    def print_contents(self):\n",
        "      # Print the contents of the hash table to a file\n",
        "      with open(\"DoubleHashing.txt\", \"w\") as f:\n",
        "        for ele in self.table:\n",
        "          if ele:\n",
        "            word,count = ele\n",
        "            f.write(f\"{word} {count}\\n\")"
      ]
    },
    {
      "cell_type": "code",
      "execution_count": 416,
      "metadata": {
        "colab": {
          "base_uri": "https://localhost:8080/"
        },
        "id": "ElawWjecVXNc",
        "outputId": "a786d84f-c221-42a3-f694-e6a5ab44c93b"
      },
      "outputs": [
        {
          "name": "stdout",
          "output_type": "stream",
          "text": [
            "['astronaut', 38]\n",
            "72000\n"
          ]
        }
      ],
      "source": [
        "htd = HashTableChainDouble(size=cap, file='./dictionary_cpy.txt')\n",
        "# htd = HashTableChainDouble(size=cap, file='./dictionary.txt')\n",
        "# htp.insert('apple', 1)\n",
        "# htp.insert('mango', 1)\n",
        "# htp.insert('appmd', 1)\n",
        "# htp.insert('apple', 1)\n",
        "# htp.insert('appnd', 1)\n",
        "# htp.insert('donkey', 1)\n",
        "print(htd.search('astronaut'))\n",
        "print(len(htd.table))"
      ]
    },
    {
      "cell_type": "code",
      "execution_count": 417,
      "metadata": {},
      "outputs": [
        {
          "data": {
            "image/png": "[encoded data removed]",
            "text/plain": [
              "<Figure size 640x480 with 1 Axes>"
            ]
          },
          "metadata": {},
          "output_type": "display_data"
        }
      ],
      "source": [
        "if __name__ == '__main__':\n",
        "    # fig,axes = plt.subplots(1, 3, figsize=(12,6))\n",
        "    # axes[0].plot(timelist1)\n",
        "    # axes[1].plot(timelist2)\n",
        "    # axes[2].plot(timelist3)\n",
        "    plt.plot(timelist1, label='Chaining (Max Size='+str(cap)+')')\n",
        "    plt.plot(timelist2, label='Linear Probing (Max Size='+str(cap)+')')\n",
        "    plt.plot(timelist3, label='Double Hash Chaining (Max Size='+str(cap)+')')\n",
        "    plt.xlabel('No of Elements')\n",
        "    plt.ylabel('Time')\n",
        "    plt.legend()"
      ]
    },
    {
      "cell_type": "code",
      "execution_count": 385,
      "metadata": {},
      "outputs": [
        {
          "data": {
            "text/plain": [
              "58110"
            ]
          },
          "execution_count": 385,
          "metadata": {},
          "output_type": "execute_result"
        }
      ],
      "source": [
        "l = []\n",
        "with open('dictionary.txt','r') as f1:\n",
        "    with open('dictionary_cpy.txt','w') as f2:\n",
        "        for _ in range(10_00_000):\n",
        "            line = f1.readline()\n",
        "            f2.write(line)\n",
        "            l.append(line)\n",
        "len(set(l))"
      ]
    }
  ],
  "metadata": {
    "colab": {
      "provenance": []
    },
    "kernelspec": {
      "display_name": "Python 3",
      "language": "python",
      "name": "python3"
    },
    "language_info": {
      "codemirror_mode": {
        "name": "ipython",
        "version": 3
      },
      "file_extension": ".py",
      "mimetype": "text/x-python",
      "name": "python",
      "nbconvert_exporter": "python",
      "pygments_lexer": "ipython3",
      "version": "3.10.9 (tags/v3.10.9:1dd9be6, Dec  6 2022, 20:01:21) [MSC v.1934 64 bit (AMD64)]"
    },
    "vscode": {
      "interpreter": {
        "hash": "71378fec4b9b0ae51f784db9960b5ea07fb9042b7f7d69b6f196c430cecf08e0"
      }
    }
  },
  "nbformat": 4,
  "nbformat_minor": 0
}
