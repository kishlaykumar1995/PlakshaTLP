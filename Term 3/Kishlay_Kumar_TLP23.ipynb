{
  "nbformat": 4,
  "nbformat_minor": 0,
  "metadata": {
    "colab": {
      "provenance": []
    },
    "kernelspec": {
      "display_name": "Python 3",
      "language": "python",
      "name": "python3"
    },
    "language_info": {
      "codemirror_mode": {
        "name": "ipython",
        "version": 3
      },
      "file_extension": ".py",
      "mimetype": "text/x-python",
      "name": "python",
      "nbconvert_exporter": "python",
      "pygments_lexer": "ipython3",
      "version": "3.7.6"
    }
  },
  "cells": [
    {
      "cell_type": "markdown",
      "metadata": {
        "id": "8E5wSu_P7r9F"
      },
      "source": [
        "# Programming Test `Instructions`\n",
        "\n",
        "---\n",
        "### <u>Due date:</u> 28.11.2022\n",
        "\n",
        "### <u>Important remarks: </u>\n",
        "\n",
        "1. All of your functions have to **return** the desired values. Do not use a print statement instead of a return statement. Please delete all print statements from your functions before submitting your notebook.\n",
        "2. **Do not rename your functions!** We will only grade functions with the original name.\n",
        "3. Do not use Python's `input()` function. Code cells containing the `input()` function will not be graded.\n",
        "4. Before submitting the notebook, please make sure that the code cells in which you define the functions can be executed without errors.\n",
        "\n",
        "### <u>How to submit: </u>\n",
        "\n",
        "1. Solve the tasks *in a copy of this notebook* and save your edited Notebook as an .ipynb file\n",
        "2. Rename the edited Notebook according to the naming convention stated below!\n",
        "3. Upload the Jupyter Notebook to this course Brightspace assignment module.\n",
        "\n",
        "### <u>Regarding the evaluation: </u>\n",
        "1. The evaluation of your submission is partially automated. Therefore, it is important that you solve the tasks according to the instructions.\n",
        "2. Your functions will be evaluated using tests (unknown to you). These tests are similar to the test cases provided under each task, but differ in the function arguments. Make sure that your functions pass our test cases. These are a good indicator for passing the further tests.\n",
        "3. For a final check, you should do the following: Click \"Runtime\"/\"Kernel\" in the toolbar and select the \"Restart and run all\" option. Then take another look at the self-tests and check if they return True.\n",
        "\n",
        "It is **important** that you name the edited Jupyter Notebook files you want to upload (file identifier \".ipynb\") according to a specific naming convention! If the naming is incorrect, we will not be able to record your submission with regard to your required efforts.\n",
        "\n",
        "Therefore please name your upload as follows:  \n",
        "> Firstname_Lastname_TLP23.ipynb  \n",
        "> e.g. Joseph_Thachil_TLP23.ipynb"
      ]
    },
    {
      "cell_type": "markdown",
      "metadata": {
        "id": "gQM5zcRmsc-f"
      },
      "source": [
        "# 1. What is my grade? [10 points]\n",
        "\n",
        "---"
      ]
    },
    {
      "cell_type": "markdown",
      "metadata": {
        "id": "U0Pwy41ts8-w"
      },
      "source": [
        "Let's assume that, after finishing your study program at Plaksha, you join another university that wants to give letter grades in the future. You are asked to write a small program that turns a score into a grade.\n",
        "\n",
        "**Task:** Write a function that takes the achieved percentage of an exam (a float or integer value) and **returns** the corresponding grade (a string value). Possible grades are `'A'`, `'B'`, `'C'`, `'D'`, `'E'`, and `'F'`. Letter grades are associated with scores as follows:\n",
        "* A: $\\geq$ 90 \n",
        "* B: $<$ 90 and $\\geq$ 80 \n",
        "* C: $<$ 80 and $\\geq$ 70 \n",
        "* D: $<$ 70 and $\\geq$ 60 \n",
        "* E: $<$ 60 and $\\geq$ 50 \n",
        "* F: $<$ 50 "
      ]
    },
    {
      "cell_type": "code",
      "metadata": {
        "id": "58RsrcrYjA_P"
      },
      "source": [
        "def grade(score):\n",
        "    if type(score) != int and type(score) != float:\n",
        "      return 'Invalid input'\n",
        "    elif score <0 or score>100:\n",
        "      return 'Score mst be between 0 and 100'\n",
        "    \n",
        "    if score<50:\n",
        "        return 'F'\n",
        "    elif score>=50 and score <60:\n",
        "        return 'E'\n",
        "    elif score>=60 and score <70:\n",
        "        return 'D'\n",
        "    elif score>=70 and score <80:\n",
        "        return 'C'\n",
        "    elif score>=80 and score <90:\n",
        "        return 'B'\n",
        "    else:\n",
        "        return 'A'\n",
        "    pass"
      ],
      "execution_count": 8,
      "outputs": []
    },
    {
      "cell_type": "code",
      "metadata": {
        "id": "cGdPTLT0SJc2",
        "colab": {
          "base_uri": "https://localhost:8080/"
        },
        "outputId": "3b7394bc-e636-44c9-f804-b81592e36f46"
      },
      "source": [
        "print(grade(70.5) == 'C')   # should print True\n",
        "print(grade(90) == 'A')     # should print True\n",
        "print(grade(50) == 'E')     # should print True"
      ],
      "execution_count": 9,
      "outputs": [
        {
          "output_type": "stream",
          "name": "stdout",
          "text": [
            "True\n",
            "True\n",
            "True\n"
          ]
        }
      ]
    },
    {
      "cell_type": "markdown",
      "metadata": {
        "id": "nAoB-oiaTN9B"
      },
      "source": [
        "# 2. Classifying wrenches [10 points]\n",
        "---\n",
        "\n",
        "You work at a company that produces three different wrenches (\"Type A\", \"Type B\", and \"Type C\"). A sensor can measure the length and width of each wrench. Now, you are asked to implement a function that classifies each wrench based on its length (a float value in mm) and width (float value in mm) according to the following rules:\n",
        "\n",
        "- Type A: $40$ mm $\\leq$ length $\\leq 50$ mm *and*  $9$ mm $\\leq$ width $\\leq 12$ mm \n",
        "- Type B: $58$ mm $\\leq$ length $\\leq 60$ mm *and* $11$ mm $\\leq$ width $\\leq 13$ mm \n",
        "- Type C: $58$ mm $\\leq$ length $\\leq 60$ mm *and* $16$ mm $\\leq$ width $\\leq 18$ mm \n",
        "- Production failure in any other case \n",
        "\n",
        "The function should return a string that specifies the type. For instance, if you pass the arguments 58 and 12 to your function, the return value should be 'Type B'. In case of a production failure, the function shall return 'Production failure'"
      ]
    },
    {
      "cell_type": "code",
      "metadata": {
        "id": "9fPWOwE1TMNM"
      },
      "source": [
        "def classify_wrenches(length, width):\n",
        "  if length>=40.0 and length<=50.0 and width>=9.0 and width<=12.0:\n",
        "    return 'Type A'\n",
        "  elif length>=58.0 and length<=60 and width>=11.0 and width<=13.0:\n",
        "    return 'Type B'\n",
        "  elif length>=58.0 and length<=60.0 and width>=16.0 and width<=18.0:\n",
        "    return 'Type C'\n",
        "  else:\n",
        "    return 'Production failure'"
      ],
      "execution_count": 12,
      "outputs": []
    },
    {
      "cell_type": "code",
      "metadata": {
        "id": "sdpmOPnboklt",
        "colab": {
          "base_uri": "https://localhost:8080/"
        },
        "outputId": "30a6b99d-7938-4059-c923-6cb93c1cc682"
      },
      "source": [
        "print(classify_wrenches(60.1, 17.0) == 'Production failure') # should print True\n",
        "print(classify_wrenches(59.3, 18.0) == 'Type C')             # should print True"
      ],
      "execution_count": 13,
      "outputs": [
        {
          "output_type": "stream",
          "name": "stdout",
          "text": [
            "True\n",
            "True\n"
          ]
        }
      ]
    },
    {
      "cell_type": "markdown",
      "metadata": {
        "id": "fj1CFb9E68Hk"
      },
      "source": [
        "# 3. Overtime [10 points]\n",
        "\n",
        "---"
      ]
    },
    {
      "cell_type": "markdown",
      "metadata": {
        "id": "YO8kRW4T-TXe"
      },
      "source": [
        "You work in the finance department of a small company. At the end of the week, salary transfers are due again. Unfortunately, the company servers have an error that causes overtime to be paid incorrectly. It is now your task to determine the correct weekly salary.\n",
        "\n",
        "**Task:** Write a function that takes a person's weekly work hours (a float value) as well as their regular hourly rate (a float value). **Return** a person's total pay for the week (a float value), considering overtime hours. \n",
        "\n",
        "Every hour worked over $40$ is considered overtime and compensated at $1.4$ times the rate of normal pay. However, if a person works **more than** $50$ hours, they will receive double their hourly wage. Therefore, they are paid at $1.4$ times the normal rate for a maximum of $10$ hours of overtime and *double* ($2.0$ times) the normal rate thereafter. "
      ]
    },
    {
      "cell_type": "code",
      "metadata": {
        "id": "TqlMS17Pn1Sv"
      },
      "source": [
        "def overtime(working_hours, hourly_rate):\n",
        "    if type(working_hours) != float and type(hourly_rate) != float:\n",
        "      return 'Invalid input'\n",
        "    elif working_hours <= 0.0 or hourly_rate <= 0.0:\n",
        "      return 0.0\n",
        "    \n",
        "    if working_hours<=40.0:\n",
        "      return hourly_rate*working_hours\n",
        "    elif working_hours<=50:\n",
        "      return hourly_rate*40 + hourly_rate*1.4*(working_hours-40)\n",
        "    else:\n",
        "      return hourly_rate*40 + hourly_rate*1.4*10 + hourly_rate*2.0*(working_hours-50)"
      ],
      "execution_count": 22,
      "outputs": []
    },
    {
      "cell_type": "code",
      "metadata": {
        "id": "EgKeTUPhSJdF",
        "colab": {
          "base_uri": "https://localhost:8080/"
        },
        "outputId": "65ee1ff7-7781-4c3b-d190-4365926d1b5b"
      },
      "source": [
        "print(overtime(65.0, 16.5) == 1386.0)   # should print True\n",
        "print(overtime(35.0, 12.0) == 420.0)    # should print True"
      ],
      "execution_count": 23,
      "outputs": [
        {
          "output_type": "stream",
          "name": "stdout",
          "text": [
            "True\n",
            "True\n"
          ]
        }
      ]
    },
    {
      "cell_type": "markdown",
      "source": [
        "# 4. List vs Tuple [10 points]\n",
        "\n",
        "---"
      ],
      "metadata": {
        "id": "x4mYCVM-cnQd"
      }
    },
    {
      "cell_type": "markdown",
      "source": [
        "Instantiate a list of 5 real number. Instantiate a tuple of 5 real numbers. What is the difference between the two - demonstrate programmatically."
      ],
      "metadata": {
        "id": "neoDstvIc2px"
      }
    },
    {
      "cell_type": "code",
      "source": [
        "# Instantiate list\n",
        "ls = [1,2,3,4,5]\n",
        "# Instantiate tuple\n",
        "tup = (5,6,7,8,9)"
      ],
      "metadata": {
        "id": "mEhrLsaLczvs"
      },
      "execution_count": 15,
      "outputs": []
    },
    {
      "cell_type": "code",
      "metadata": {
        "id": "73pEc6hLb5HX",
        "colab": {
          "base_uri": "https://localhost:8080/",
          "height": 235
        },
        "outputId": "656711fd-828b-4aa4-da26-30fea141629c"
      },
      "source": [
        "# write a short comment and demonstrate programmatically\n",
        "# List are mutable while tuples are immutable i.e., values in a list can be changed after initialising but the same cannot be done in a tuple\n",
        "\n",
        "ls[2] = 33\n",
        "print(ls)\n",
        "\n",
        "tup[2] = 44\n",
        "print(tup)"
      ],
      "execution_count": 16,
      "outputs": [
        {
          "output_type": "stream",
          "name": "stdout",
          "text": [
            "[1, 2, 33, 4, 5]\n"
          ]
        },
        {
          "output_type": "error",
          "ename": "TypeError",
          "evalue": "ignored",
          "traceback": [
            "\u001b[0;31m---------------------------------------------------------------------------\u001b[0m",
            "\u001b[0;31mTypeError\u001b[0m                                 Traceback (most recent call last)",
            "\u001b[0;32m<ipython-input-16-cff0cebc1eef>\u001b[0m in \u001b[0;36m<module>\u001b[0;34m\u001b[0m\n\u001b[1;32m      5\u001b[0m \u001b[0mprint\u001b[0m\u001b[0;34m(\u001b[0m\u001b[0mls\u001b[0m\u001b[0;34m)\u001b[0m\u001b[0;34m\u001b[0m\u001b[0;34m\u001b[0m\u001b[0m\n\u001b[1;32m      6\u001b[0m \u001b[0;34m\u001b[0m\u001b[0m\n\u001b[0;32m----> 7\u001b[0;31m \u001b[0mtup\u001b[0m\u001b[0;34m[\u001b[0m\u001b[0;36m2\u001b[0m\u001b[0;34m]\u001b[0m \u001b[0;34m=\u001b[0m \u001b[0;36m44\u001b[0m\u001b[0;34m\u001b[0m\u001b[0;34m\u001b[0m\u001b[0m\n\u001b[0m\u001b[1;32m      8\u001b[0m \u001b[0mprint\u001b[0m\u001b[0;34m(\u001b[0m\u001b[0mtup\u001b[0m\u001b[0;34m)\u001b[0m\u001b[0;34m\u001b[0m\u001b[0;34m\u001b[0m\u001b[0m\n",
            "\u001b[0;31mTypeError\u001b[0m: 'tuple' object does not support item assignment"
          ]
        }
      ]
    },
    {
      "cell_type": "markdown",
      "source": [
        "# 5. Python 101 [10 points]\n",
        "\n",
        "---"
      ],
      "metadata": {
        "id": "o8ql6Q57dJ2l"
      }
    },
    {
      "cell_type": "markdown",
      "source": [
        "Instantiate a variable 'alpha' to take integer value 10. Then, pass the character 'a' to this variable. Then pass the boolean value True to it. \n",
        "\n",
        "Do you get any error passing different data types to 'alpha'? Why or Why not? \n",
        "What is this feature of python called? And what is the high-level code to machine code translation paradigm of python that enables this?"
      ],
      "metadata": {
        "id": "DxJkaMu3dgxM"
      }
    },
    {
      "cell_type": "code",
      "source": [
        "'''\n",
        "No error.\n",
        "\n",
        "We won't get any error because Python is a strongly typed and dynamic typed language.\n",
        "In python all the variables are pointers to the memory address in which the value is stored, \n",
        "and when the variable is assigned some other value (even if it is of a different data type), \n",
        "Python moves the pointer from the memory address of previous value to new value'''\n",
        "alpha = 10\n",
        "alpha = 'a'\n",
        "alpha=True"
      ],
      "metadata": {
        "id": "hJfwF90cdQdX"
      },
      "execution_count": null,
      "outputs": []
    },
    {
      "cell_type": "markdown",
      "source": [
        "# 6. Fibonacci [10 points]\n",
        "\n",
        "---"
      ],
      "metadata": {
        "id": "69Lgt90Adwk-"
      }
    },
    {
      "cell_type": "markdown",
      "source": [
        "In a remote island off the coast of India, a scientist finds a connection between the average number of rabbits in each successive generation and the Fibonnaci series. Write for him a generator function that can be called with **the starting index and the number of elements desired** for a Fibonacci series."
      ],
      "metadata": {
        "id": "BSsd9VB7dxQY"
      }
    },
    {
      "cell_type": "code",
      "source": [
        "def fibonacci(index, num):\n",
        "    # Remove the pass and write your code here\n",
        "    x = 0\n",
        "    y = 1\n",
        "      \n",
        "    x=0;y=1\n",
        "    while num>0:\n",
        "\n",
        "      if x==0 and x>=index:\n",
        "        num-=1\n",
        "        yield x\n",
        "      \n",
        "      if y==1 and y>=index:\n",
        "        num-=1\n",
        "        yield y\n",
        "\n",
        "      t=x+y\n",
        "      x=y\n",
        "      y=t\n",
        "      if t>=num:\n",
        "        num-=1\n",
        "        yield t"
      ],
      "metadata": {
        "id": "ReGyDtYYdmCB"
      },
      "execution_count": 51,
      "outputs": []
    },
    {
      "cell_type": "code",
      "source": [
        "print(list(fibonacci(0,5))==[0, 1, 1, 2, 3])\n",
        "print(list(fibonacci(5,5))==[5, 8, 13, 21, 34])"
      ],
      "metadata": {
        "id": "EZU5O5UtfMjV",
        "colab": {
          "base_uri": "https://localhost:8080/"
        },
        "outputId": "6eee0da9-58a4-466f-bb3d-a3e18ade3097"
      },
      "execution_count": 54,
      "outputs": [
        {
          "output_type": "stream",
          "name": "stdout",
          "text": [
            "True\n",
            "True\n"
          ]
        }
      ]
    },
    {
      "cell_type": "markdown",
      "source": [
        "# 7. One-Liner [10 points]\n",
        "\n",
        "---"
      ],
      "metadata": {
        "id": "LrrFl-8gheKz"
      }
    },
    {
      "cell_type": "markdown",
      "source": [
        "Create a one line code to implement x^2-2x on a predefined list of positive integers and return as list"
      ],
      "metadata": {
        "id": "-e0N5JDXhd6d"
      }
    },
    {
      "cell_type": "code",
      "source": [
        "# define list\n",
        "lis = [1,2,3,4]\n",
        "\n",
        "# your code here\n",
        "[x**2-2*x for x in lis]"
      ],
      "metadata": {
        "id": "DydPIDUmf6td",
        "colab": {
          "base_uri": "https://localhost:8080/"
        },
        "outputId": "4f277ebf-1d0b-4f6f-9ba6-705b1367e5aa"
      },
      "execution_count": 14,
      "outputs": [
        {
          "output_type": "execute_result",
          "data": {
            "text/plain": [
              "[-1, 0, 3, 8]"
            ]
          },
          "metadata": {},
          "execution_count": 14
        }
      ]
    },
    {
      "cell_type": "markdown",
      "source": [
        "# 8. Matrix [10 points]\n",
        "\n",
        "---"
      ],
      "metadata": {
        "id": "Ld-5qJO2ij4O"
      }
    },
    {
      "cell_type": "markdown",
      "source": [
        "We have a huge 12x12 matrix defined. We would like to multiply this with a 3x2 kernel matrix in a block by block manner (with 3x3 sub matrices of the 12x12 matrix, without any overlap), as compression strategy. Write a piece of code to take inputs of the above size and return a 12x8 matrix.\n",
        "What would you change if a third dimension was added to the big matrix: it is now of size 12x12x3."
      ],
      "metadata": {
        "id": "a5Hmq5q2in-V"
      }
    },
    {
      "cell_type": "code",
      "source": [
        "from prompt_toolkit.widgets.base import AppendAutoSuggestion\n",
        "import numpy as np\n",
        "\n",
        "np.random.seed(0)\n",
        "array = np.random.randint(10, size=(12, 12))\n",
        "# print(array)\n",
        "kernel = np.random.randint(10, size=(3, 2))\n",
        "# print(kernel)\n",
        "\n",
        "def compress(array, kernel):\n",
        "  fin_mat = np.zeros(96).reshape(12,8)\n",
        "  for i in range(0,10,3):\n",
        "    k=0\n",
        "    for j in range(0,10,3):\n",
        "      fin_mat[i:i+3,k:k+2] = np.matmul(kernel.T, array[i:i+3,j:j+3]).T\n",
        "      k+=2\n",
        "  return fin_mat"
      ],
      "metadata": {
        "id": "LE4sWugPh-11"
      },
      "execution_count": 68,
      "outputs": []
    },
    {
      "cell_type": "code",
      "source": [
        "compressed_arr = compress(array, kernel)\n",
        "print(compressed_arr.shape == (12, 8))"
      ],
      "metadata": {
        "id": "g5NSi4b_-MCV",
        "colab": {
          "base_uri": "https://localhost:8080/"
        },
        "outputId": "c2c80171-c06c-4c08-a3d0-8f152a721367"
      },
      "execution_count": 69,
      "outputs": [
        {
          "output_type": "stream",
          "name": "stdout",
          "text": [
            "True\n"
          ]
        }
      ]
    },
    {
      "cell_type": "markdown",
      "source": [
        "# 9. Sort this out [10 points]\n",
        "\n",
        "---"
      ],
      "metadata": {
        "id": "h4qocjusiuqF"
      }
    },
    {
      "cell_type": "markdown",
      "source": [
        "a) Define a 'sorted_list' class as an abstract class.\n",
        "\n",
        "b) Inherit this into a child class that executes a vanilla sorting algorithm on the list is it intialised with.\n",
        "\n",
        "c) We want this class to provide meta-analytics such as the time and space taken to sort the list. Can you add those as functions to this class.\n",
        "\n",
        "d) Having noted the space and time taken on a list of 10000 elements - we were disconcerted - it takes too long and is memory guzzling. Can we create a new class to override the vanilla sorting algorithm.\n",
        "\n",
        "e) Show programmatically on a list of length 10000 that this new sorting algorithm is better.\n",
        "\n",
        "f) Use this to run the function for comparing the performance at the script call (__name__ == main)"
      ],
      "metadata": {
        "id": "Mx7I6ML7i0XQ"
      }
    },
    {
      "cell_type": "code",
      "source": [
        "from abc import ABC,abstractmethod\n",
        "import time\n",
        "\n",
        "class sorted_list(ABC):\n",
        "  @abstractmethod\n",
        "  def sort1(self, ls):\n",
        "    pass\n",
        "  \n",
        "class noteTime(sorted_list):\n",
        "  def sort1(self, ls):\n",
        "    return sorted(ls)\n",
        "  def note_time(self, ls):\n",
        "    start = time.time()\n",
        "    self.sort1(ls)\n",
        "    end = time.time()\n",
        "    return end-start\n",
        "\n"
      ],
      "metadata": {
        "id": "6FutNIrCizeT"
      },
      "execution_count": 75,
      "outputs": []
    },
    {
      "cell_type": "code",
      "source": [
        "ob = noteTime()\n",
        "ob.note_time(list(np.zeros(10000)))"
      ],
      "metadata": {
        "id": "MmEF9OYFtS_m",
        "colab": {
          "base_uri": "https://localhost:8080/"
        },
        "outputId": "60eee549-19b8-4455-ef86-d6366efb3e9f"
      },
      "execution_count": 76,
      "outputs": [
        {
          "output_type": "execute_result",
          "data": {
            "text/plain": [
              "0.0004024505615234375"
            ]
          },
          "metadata": {},
          "execution_count": 76
        }
      ]
    },
    {
      "cell_type": "code",
      "source": [],
      "metadata": {
        "id": "Vi_e7AA04M0p"
      },
      "execution_count": null,
      "outputs": []
    }
  ]
}