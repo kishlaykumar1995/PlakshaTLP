{
 "cells": [
  {
   "cell_type": "code",
   "execution_count": 69,
   "metadata": {},
   "outputs": [],
   "source": [
    "import numpy as np\n",
    "import pandas as pd\n",
    "import itertools"
   ]
  },
  {
   "cell_type": "code",
   "execution_count": 3,
   "metadata": {},
   "outputs": [],
   "source": [
    "cols = 'x1 x2 x3 x4 x5 x6 x7 y'.split()\n",
    "rows = []\n",
    "rows.append('0.94 0.37 0.76 0.56 0.77 0.51 0.80 0.66'.split())\n",
    "rows.append('-0.88 -0.33 -0.68 -0.51 -0.75 -0.47 -0.76 -0.60'.split())\n",
    "rows.append('1.32 -0.31 0.78 0.23 0.47 0.10 0.90 0.50'.split())\n",
    "rows.append('-0.21 0.79 0.13 0.46 0.27 0.54 0.05 0.29'.split())\n",
    "rows.append('0.75 -0.70 0.28 -0.22 -0.07 -0.34 0.39 0.03'.split())\n",
    "rows.append('-0.33 -1.30 -0.66 -0.98 -0.86 -1.06 -0.57 -0.82'.split())\n",
    "rows.append('1.27 0.81 1.14 0.96 1.08 0.92 1.15 1.04'.split())\n",
    "rows.append('-0.60 0.84 -0.13 0.36 0.35 0.48 -0.24 0.12'.split())\n",
    "rows.append('0.15 -1.35 -0.35 -0.85 -0.47 -0.98 -0.22 -0.60'.split())\n",
    "rows.append('-0.33 0.86 0.07 0.46 0.37 0.56 -0.03 0.26'.split())"
   ]
  },
  {
   "cell_type": "code",
   "execution_count": 4,
   "metadata": {},
   "outputs": [
    {
     "data": {
      "text/plain": [
       "['x1', 'x2', 'x3', 'x4', 'x5', 'x6', 'x7', 'y']"
      ]
     },
     "execution_count": 4,
     "metadata": {},
     "output_type": "execute_result"
    }
   ],
   "source": [
    "cols"
   ]
  },
  {
   "cell_type": "code",
   "execution_count": 5,
   "metadata": {},
   "outputs": [
    {
     "data": {
      "text/plain": [
       "[['0.94', '0.37', '0.76', '0.56', '0.77', '0.51', '0.80', '0.66'],\n",
       " ['-0.88', '-0.33', '-0.68', '-0.51', '-0.75', '-0.47', '-0.76', '-0.60'],\n",
       " ['1.32', '-0.31', '0.78', '0.23', '0.47', '0.10', '0.90', '0.50'],\n",
       " ['-0.21', '0.79', '0.13', '0.46', '0.27', '0.54', '0.05', '0.29'],\n",
       " ['0.75', '-0.70', '0.28', '-0.22', '-0.07', '-0.34', '0.39', '0.03'],\n",
       " ['-0.33', '-1.30', '-0.66', '-0.98', '-0.86', '-1.06', '-0.57', '-0.82'],\n",
       " ['1.27', '0.81', '1.14', '0.96', '1.08', '0.92', '1.15', '1.04'],\n",
       " ['-0.60', '0.84', '-0.13', '0.36', '0.35', '0.48', '-0.24', '0.12'],\n",
       " ['0.15', '-1.35', '-0.35', '-0.85', '-0.47', '-0.98', '-0.22', '-0.60'],\n",
       " ['-0.33', '0.86', '0.07', '0.46', '0.37', '0.56', '-0.03', '0.26']]"
      ]
     },
     "execution_count": 5,
     "metadata": {},
     "output_type": "execute_result"
    }
   ],
   "source": [
    "rows"
   ]
  },
  {
   "cell_type": "code",
   "execution_count": 7,
   "metadata": {},
   "outputs": [
    {
     "data": {
      "text/plain": [
       "array([[ 0.94,  0.37,  0.76,  0.56,  0.77,  0.51,  0.8 ,  0.66],\n",
       "       [-0.88, -0.33, -0.68, -0.51, -0.75, -0.47, -0.76, -0.6 ],\n",
       "       [ 1.32, -0.31,  0.78,  0.23,  0.47,  0.1 ,  0.9 ,  0.5 ],\n",
       "       [-0.21,  0.79,  0.13,  0.46,  0.27,  0.54,  0.05,  0.29],\n",
       "       [ 0.75, -0.7 ,  0.28, -0.22, -0.07, -0.34,  0.39,  0.03],\n",
       "       [-0.33, -1.3 , -0.66, -0.98, -0.86, -1.06, -0.57, -0.82],\n",
       "       [ 1.27,  0.81,  1.14,  0.96,  1.08,  0.92,  1.15,  1.04],\n",
       "       [-0.6 ,  0.84, -0.13,  0.36,  0.35,  0.48, -0.24,  0.12],\n",
       "       [ 0.15, -1.35, -0.35, -0.85, -0.47, -0.98, -0.22, -0.6 ],\n",
       "       [-0.33,  0.86,  0.07,  0.46,  0.37,  0.56, -0.03,  0.26]])"
      ]
     },
     "execution_count": 7,
     "metadata": {},
     "output_type": "execute_result"
    }
   ],
   "source": [
    "data = np.array(rows, dtype=np.float64)\n",
    "data"
   ]
  },
  {
   "cell_type": "code",
   "execution_count": 9,
   "metadata": {},
   "outputs": [],
   "source": [
    "X, y = data[:,:-1], data[:,-1]"
   ]
  },
  {
   "cell_type": "code",
   "execution_count": 20,
   "metadata": {},
   "outputs": [
    {
     "name": "stdout",
     "output_type": "stream",
     "text": [
      "Weights: [-0.3953118  -0.8645866   0.5009334   0.6227428   0.02130627  0.98220859\n",
      "  0.1280508 ]\n",
      "RSS: 6.496738215543912e-05\n"
     ]
    }
   ],
   "source": [
    "class LinearRegression:\n",
    "    \n",
    "    def fit(self, X, y):\n",
    "        self.betas = np.linalg.inv(X.T@X)@X.T@y\n",
    "        self.rss = np.sum((X@model.betas - y)**2)\n",
    "\n",
    "model = LinearRegression()\n",
    "model.fit(X, y)\n",
    "\n",
    "print('Weights:', model.betas)\n",
    "print('RSS:', model.rss)"
   ]
  },
  {
   "cell_type": "code",
   "execution_count": 25,
   "metadata": {},
   "outputs": [
    {
     "data": {
      "text/plain": [
       "array([ 0.65772806, -0.59998192,  0.50364968,  0.29412296,  0.02648216,\n",
       "       -0.81894196,  1.04043711,  0.11818553, -0.59751246,  0.26251405])"
      ]
     },
     "execution_count": 25,
     "metadata": {},
     "output_type": "execute_result"
    }
   ],
   "source": [
    "X@model.betas"
   ]
  },
  {
   "cell_type": "code",
   "execution_count": 66,
   "metadata": {},
   "outputs": [
    {
     "name": "stdout",
     "output_type": "stream",
     "text": [
      "Weights: [-0.01196216 -0.23116543  0.2676414   0.67888933  0.00739528  0.22471634\n",
      "  0.0628182 ]\n",
      "RSS: 6.846491853485228e-05\n",
      "Min Alpha: 1e-05\n"
     ]
    }
   ],
   "source": [
    "class RidgeRegression:\n",
    "    \n",
    "    def fit(self, X, y, alphas = [0.1]):\n",
    "        self.betas = np.array([[0.0]*X.shape[1]]*len(alphas))\n",
    "        self.rss = np.array([0.0]*len(alphas))\n",
    "        for i,alph in enumerate(alphas): \n",
    "            self.betas[i] = np.linalg.inv(X.T@X + alph*np.eye(X.shape[1]))@X.T@y\n",
    "            self.rss[i] = np.sum((X@self.betas[i] - y)**2)\n",
    "\n",
    "model = RidgeRegression()\n",
    "alphas = [1e-5, 1e-4, 1e-3, 1e-2, 1e-1]\n",
    "model.fit(X, y, alphas = [1e-5, 1e-4, 1e-3, 1e-2, 1e-1])\n",
    "\n",
    "\n",
    "print('Weights:', model.betas[model.rss.argmin()])\n",
    "print('RSS:', model.rss.min())\n",
    "print('Min Alpha:', alphas[model.rss.argmin()])"
   ]
  },
  {
   "cell_type": "code",
   "execution_count": 93,
   "metadata": {},
   "outputs": [
    {
     "name": "stdout",
     "output_type": "stream",
     "text": [
      "Min Alpha: 1e-05\n",
      "Weights: [ 5.02872037e-01  5.01412389e-01  7.62630975e-05 -4.42016515e-04\n",
      " -6.84409498e-03  3.62712685e-03 -1.81589038e-04]\n"
     ]
    }
   ],
   "source": [
    "from sklearn.linear_model import Lasso\n",
    "weights = []\n",
    "alphas = [1e-5, 1e-4, 1e-3, 1e-2, 1e-1]\n",
    "score = np.array([0]*len(alphas))\n",
    "for i,alph in enumerate(alphas): \n",
    "    model = Lasso(alpha=alph, max_iter=5000)\n",
    "    model.fit(X,y)\n",
    "    weights.append(model.coef_)\n",
    "    score[i] = model.score(X,y)\n",
    "\n",
    "print('Min Alpha:', alphas[score.argmin()])\n",
    "print('Weights:', weights[score.argmin()])"
   ]
  },
  {
   "cell_type": "code",
   "execution_count": 90,
   "metadata": {},
   "outputs": [
    {
     "name": "stdout",
     "output_type": "stream",
     "text": [
      "Index: [4, 2]\n"
     ]
    }
   ],
   "source": [
    "# Forward Stepwise\n",
    "features = [0,0]\n",
    "rss = []\n",
    "for i in range(7):\n",
    "    temp_x = X[:, i].copy()\n",
    "    temp_x = temp_x.T\n",
    "    xTx = np.matmul(temp_x.T, temp_x)\n",
    "    xTx_inv = 1 / xTx\n",
    "    weight = xTx_inv * np.matmul(temp_x.T, y)\n",
    "    y_hat = weight * temp_x\n",
    "    rss.append(np.sum((y - y_hat) ** 2))\n",
    "rss = np.array(rss)\n",
    "features [0] = rss.argmin()\n",
    "\n",
    "x_5 = X[:, 4].copy()\n",
    "rss = []\n",
    "for i in range(7):\n",
    "    if i == 4:\n",
    "        continue\n",
    "    temp_x = X[:, i].copy()\n",
    "    temp_x = np.array([x_5, temp_x])\n",
    "    temp_x = temp_x.T\n",
    "    xTx = np.matmul(temp_x.T, temp_x)\n",
    "    xTx_inv = np.linalg.inv(xTx)\n",
    "    weights = np.matmul(np.matmul(xTx_inv, temp_x.T), y)\n",
    "    y_hat = np.matmul(temp_x, weights)\n",
    "    rss.append(np.sum((y - y_hat) ** 2))\n",
    "rss = np.array(rss)\n",
    "features[1] = rss.argmin()\n",
    "\n",
    "\n",
    "print('Index:', features)"
   ]
  },
  {
   "cell_type": "code",
   "execution_count": 91,
   "metadata": {},
   "outputs": [
    {
     "name": "stdout",
     "output_type": "stream",
     "text": [
      "Index: [1, 3]\n"
     ]
    }
   ],
   "source": [
    "# Backward Stepwise\n",
    "i = 6\n",
    "features = [0, 1, 2, 3, 4, 5, 6]\n",
    "while i != 1:\n",
    "    comb = list(itertools.combinations(features, i))\n",
    "    rss = []\n",
    "    for j in comb:\n",
    "        temp_x = X.copy()\n",
    "        temp_x = temp_x.T\n",
    "        temp_x = temp_x[list(j)].T\n",
    "        xTx = np.matmul(temp_x.T, temp_x)\n",
    "        xTx_inv = np.linalg.inv(xTx)\n",
    "        weights = np.matmul(np.matmul(xTx_inv, temp_x.T), y)\n",
    "        y_hat = np.matmul(temp_x, weights)\n",
    "        rss_ = np.sum((y - y_hat) ** 2)\n",
    "        rss.append(rss_)\n",
    "    rss = np.array(rss)\n",
    "    features = list(comb[rss.argmin()])\n",
    "    i -= 1\n",
    "print('Index:', features)"
   ]
  },
  {
   "cell_type": "code",
   "execution_count": 92,
   "metadata": {},
   "outputs": [
    {
     "name": "stdout",
     "output_type": "stream",
     "text": [
      "Index: [4, 0]\n"
     ]
    }
   ],
   "source": [
    "# Forward Stagwise\n",
    "rss = []\n",
    "\n",
    "# Since we already know from stepwise that 5 is the best feature so we select it immediately\n",
    "x_5 = X[:, 4].copy() \n",
    "weight_5 = 0.91\n",
    "for i in range(7):\n",
    "    if i == 4:\n",
    "        continue\n",
    "    temp_x = X[:, i].copy()\n",
    "    temp_x = temp_x.T\n",
    "    xTx = np.matmul(temp_x.T, temp_x)\n",
    "    xTx_inv = 1 / xTx\n",
    "    weight = xTx_inv * np.matmul(temp_x.T, y)\n",
    "    temp_x = np.array([x_5, temp_x]).T\n",
    "    weights = np.array([weight_5, weight])\n",
    "    y_hat = np.matmul(temp_x, weights)\n",
    "    rss.append(np.sum((y - y_hat) ** 2))\n",
    "rss = np.array(rss)\n",
    "print('Index:', [4, rss.argmin()])"
   ]
  },
  {
   "cell_type": "code",
   "execution_count": 83,
   "metadata": {},
   "outputs": [
    {
     "name": "stdout",
     "output_type": "stream",
     "text": [
      "(0, 3)\n"
     ]
    }
   ],
   "source": [
    "# Best Subset\n",
    "features = [0, 1, 2, 3, 4, 5, 6]\n",
    "comb = list(itertools.combinations(features, 2))\n",
    "betas = np.array([[0.0]*2]*len(comb))\n",
    "rss = np.array([0.0]*len(comb))\n",
    "for i,j in enumerate(comb):\n",
    "    cur_subset = X[:, j]\n",
    "    betas[i] = np.linalg.inv(cur_subset.T@cur_subset)@cur_subset.T@y\n",
    "    rss[i] = np.sum((cur_subset@betas[i] - y)**2)\n",
    "\n",
    "\n",
    "print('Index:', comb[rss.argmin()])"
   ]
  },
  {
   "cell_type": "code",
   "execution_count": 95,
   "metadata": {},
   "outputs": [
    {
     "data": {
      "text/plain": [
       "0"
      ]
     },
     "execution_count": 95,
     "metadata": {},
     "output_type": "execute_result"
    },
    {
     "ename": "",
     "evalue": "",
     "output_type": "error",
     "traceback": [
      "\u001b[1;31mThe Kernel crashed while executing code in the the current cell or a previous cell. Please review the code in the cell(s) to identify a possible cause of the failure. Click <a href='https://aka.ms/vscodeJupyterKernelCrash'>here</a> for more info. View Jupyter <a href='command:jupyter.viewOutput'>log</a> for further details."
     ]
    }
   ],
   "source": []
  }
 ],
 "metadata": {
  "kernelspec": {
   "display_name": "Python 3",
   "language": "python",
   "name": "python3"
  },
  "language_info": {
   "codemirror_mode": {
    "name": "ipython",
    "version": 3
   },
   "file_extension": ".py",
   "mimetype": "text/x-python",
   "name": "python",
   "nbconvert_exporter": "python",
   "pygments_lexer": "ipython3",
   "version": "3.10.9 (tags/v3.10.9:1dd9be6, Dec  6 2022, 20:01:21) [MSC v.1934 64 bit (AMD64)]"
  },
  "orig_nbformat": 4,
  "vscode": {
   "interpreter": {
    "hash": "71378fec4b9b0ae51f784db9960b5ea07fb9042b7f7d69b6f196c430cecf08e0"
   }
  }
 },
 "nbformat": 4,
 "nbformat_minor": 2
}
