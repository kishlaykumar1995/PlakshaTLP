{
 "cells": [
  {
   "cell_type": "code",
   "execution_count": 49,
   "metadata": {},
   "outputs": [],
   "source": [
    "import numpy as np\n",
    "import pandas as pd\n",
    "import matplotlib.pyplot as plt\n",
    "import math\n",
    "import stat"
   ]
  },
  {
   "attachments": {},
   "cell_type": "markdown",
   "metadata": {},
   "source": [
    "### Question 2"
   ]
  },
  {
   "cell_type": "code",
   "execution_count": 28,
   "metadata": {},
   "outputs": [],
   "source": [
    "R = np.array([[4.4300, 2.9200, 3.6800, 3.9300, 3.4200, 4.0500, 3.3000],\n",
    "            [1.5800, 1.9300, 1.7600, 1.7000, 1.8200, 1.6700, 1.8400],\n",
    "            [0.4400, 0.5500, 0.4900, 0.4800, 0.5100, 0.4700, 0.5200],\n",
    "            [7.4400, 5.4200, 6.4300, 6.7600, 6.0900, 6.9300, 5.9300],\n",
    "            [4.7400, 6.3400, 5.5400, 5.2700, 5.8100, 5.1400, 5.9400],\n",
    "            [6.1500, 8.1200, 7.1400, 6.8100, 7.4600, 6.6500, 7.6300],\n",
    "            [3.1600, 3.7400, 3.4500, 3.3500, 3.5400, 3.3000, 3.5900],\n",
    "            [7.1600, 4.9400, 6.0500, 6.4200, 5.6800, 6.6100, 5.5000],\n",
    "            [2.8200, 7.4500, 5.1300, 4.3600, 5.9100, 3.9700, 6.2900],\n",
    "            [6.1900, 6.3800, 6.2900, 6.2500, 6.3200, 6.2400, 6.3400]])\n",
    "\n",
    "Y = R[:,-1]\n",
    "X = R[:,:-1]\n",
    "lam = 0.1"
   ]
  },
  {
   "cell_type": "code",
   "execution_count": 42,
   "metadata": {},
   "outputs": [
    {
     "data": {
      "text/plain": [
       "3.581129147114439"
      ]
     },
     "execution_count": 42,
     "metadata": {},
     "output_type": "execute_result"
    }
   ],
   "source": [
    "np.linalg.det(X.T@X + lam*np.identity(6))"
   ]
  },
  {
   "attachments": {},
   "cell_type": "markdown",
   "metadata": {},
   "source": [
    "Determinant is non-zero which means the matrix is invertible and this was expeccted as in Ridge Regression, the matrix will always be invertible."
   ]
  },
  {
   "cell_type": "code",
   "execution_count": 55,
   "metadata": {},
   "outputs": [
    {
     "data": {
      "text/plain": [
       "array([-0.05125453,  0.42471989,  0.18631824,  0.10696734,  0.26629343,\n",
       "        0.06744087])"
      ]
     },
     "execution_count": 55,
     "metadata": {},
     "output_type": "execute_result"
    }
   ],
   "source": [
    "Beta = np.linalg.inv(X.T@X + lam*np.identity(6))@X.T@Y\n",
    "Beta"
   ]
  },
  {
   "attachments": {},
   "cell_type": "markdown",
   "metadata": {},
   "source": [
    "Predictions"
   ]
  },
  {
   "cell_type": "code",
   "execution_count": 56,
   "metadata": {},
   "outputs": [
    {
     "name": "stdout",
     "output_type": "stream",
     "text": [
      "[3.30301641 1.84577214 0.52119107 5.93086594 5.93950957 7.62730087\n",
      " 3.59286027 5.50342045 6.2833501  6.33674059]\n",
      "[3.3  1.84 0.52 5.93 5.94 7.63 3.59 5.5  6.29 6.34]\n"
     ]
    }
   ],
   "source": [
    "predicted_Y = X@Beta.T\n",
    "print(predicted_Y)\n",
    "print(Y)"
   ]
  },
  {
   "attachments": {},
   "cell_type": "markdown",
   "metadata": {},
   "source": [
    "Very close predictions so the accuracy is good"
   ]
  },
  {
   "cell_type": "code",
   "execution_count": 54,
   "metadata": {},
   "outputs": [
    {
     "data": {
      "text/plain": [
       "0.003561406280776417"
      ]
     },
     "execution_count": 54,
     "metadata": {},
     "output_type": "execute_result"
    }
   ],
   "source": [
    "RMSE = np.sqrt(np.sum((Y-predicted_Y)**2)/len(Y))\n",
    "RMSE"
   ]
  }
 ],
 "metadata": {
  "kernelspec": {
   "display_name": "Python 3",
   "language": "python",
   "name": "python3"
  },
  "language_info": {
   "codemirror_mode": {
    "name": "ipython",
    "version": 3
   },
   "file_extension": ".py",
   "mimetype": "text/x-python",
   "name": "python",
   "nbconvert_exporter": "python",
   "pygments_lexer": "ipython3",
   "version": "3.10.9 (tags/v3.10.9:1dd9be6, Dec  6 2022, 20:01:21) [MSC v.1934 64 bit (AMD64)]"
  },
  "orig_nbformat": 4,
  "vscode": {
   "interpreter": {
    "hash": "71378fec4b9b0ae51f784db9960b5ea07fb9042b7f7d69b6f196c430cecf08e0"
   }
  }
 },
 "nbformat": 4,
 "nbformat_minor": 2
}
