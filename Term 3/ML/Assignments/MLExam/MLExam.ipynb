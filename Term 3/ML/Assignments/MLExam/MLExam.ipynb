{
 "cells": [
  {
   "cell_type": "code",
   "execution_count": 71,
   "metadata": {},
   "outputs": [],
   "source": [
    "import sys\n",
    "import random\n",
    "import numpy as np\n",
    "np.set_printoptions(suppress=True)"
   ]
  },
  {
   "attachments": {},
   "cell_type": "markdown",
   "metadata": {},
   "source": [
    "# Question 5"
   ]
  },
  {
   "cell_type": "code",
   "execution_count": 233,
   "metadata": {},
   "outputs": [],
   "source": [
    "def dist(x1, y1, x2, y2):\n",
    "    return np.sqrt((x1-x2)**2 + (y1-y2)**2)\n",
    "\n",
    "\n",
    "def choose_centroids(data, k):\n",
    "    centroids = []\n",
    "    data = data.copy()\n",
    "    c = np.random.randint(data.shape[0])\n",
    "    centroids.append((data[c][0], data[0][1]))\n",
    "    np.delete(data, c)\n",
    "\n",
    "    k-=1\n",
    "    for i in range(k):\n",
    "        probabilities = []\n",
    "        for j,(x1,y1) in enumerate(data):\n",
    "            min_dist = distance\n",
    "            for l,(x2,y2) in enumerate(centroids):\n",
    "                distance = dist(x1,y1,x2,y2)\n",
    "                if distance < min_dist:\n",
    "                    min_dist = distance\n",
    "\n",
    "\n",
    "def initialize_centroids(X, k):\n",
    "    # Initialize an empty list to store the centroids\n",
    "    centroids = []\n",
    "    \n",
    "    # Choose the first centroid randomly\n",
    "    centroids.append(X[np.random.randint(X.shape[0])])\n",
    "    \n",
    "    # Initialize an array to store the distances from each point to the closest centroid\n",
    "    distances = np.zeros(X.shape[0])\n",
    "    \n",
    "    for i in range(1, k):\n",
    "        # Calculate the distances from each point to the closest centroid\n",
    "        for j, x in enumerate(X):\n",
    "            distances[j] = np.min([np.linalg.norm(x - c, ord=2) for c in centroids])\n",
    "            distances[j] = distances[j]**2\n",
    "            \n",
    "        # Normalize the distances so they form a probability distribution\n",
    "        print('Distances:',distances)\n",
    "        distances /= np.sum(distances)\n",
    "        print('Probabilities:',distances)\n",
    "        \n",
    "        # Choose the next centroid randomly, with probability proportional to the distance\n",
    "        c = np.random.choice(X.shape[0], p=distances)\n",
    "        print('Choice:',c)\n",
    "        centroids.append(X[c])\n",
    "        \n",
    "    return centroids\n",
    "\n",
    "\n",
    "def kmeans(data, k=2, initial='random'):\n",
    "    # centroids = [(3,8),(7,5),(1,2)]\n",
    "    if initial == '++':\n",
    "        centroids = initialize_centroids(data, k)\n",
    "    else:\n",
    "        centroids = [(random.randint(1,10), random.randint(1,10)) for i in range(k)]\n",
    "    centroids = np.array(centroids)\n",
    "\n",
    "\n",
    "    for i in range(3):\n",
    "        clusters = [[] for i in range(k)]\n",
    "\n",
    "        # Find the closest centroids\n",
    "        for j,(x1,y1) in enumerate(data):\n",
    "            closest_centroid = 0\n",
    "            min_dist = sys.maxsize\n",
    "            for l,(x2,y2) in enumerate(centroids):\n",
    "                distance = dist(x1,y1,x2,y2)\n",
    "                if distance < min_dist:\n",
    "                    min_dist = distance\n",
    "                    closest_centroid = l\n",
    "            # print(closest_centroid,j)\n",
    "            clusters[closest_centroid].append(j)\n",
    "        \n",
    "        print(clusters)\n",
    "        \n",
    "        print(centroids)\n",
    "        # Update the centroids\n",
    "        for l,_ in enumerate(centroids):\n",
    "            centroids[l] = data[np.ix_(clusters[l], list(range(data.shape[1])))].mean(axis=0)\n",
    "        old_clusters = clusters\n",
    "        print(centroids)\n",
    "    \n",
    "    return(clusters, centroids)"
   ]
  },
  {
   "cell_type": "code",
   "execution_count": 245,
   "metadata": {},
   "outputs": [
    {
     "name": "stdout",
     "output_type": "stream",
     "text": [
      "Distances: [72. 37.  0. 25.  2.  4. 53. 41.]\n",
      "Probabilities: [0.30769231 0.15811966 0.         0.10683761 0.00854701 0.01709402\n",
      " 0.22649573 0.17521368]\n",
      "Choice: 1\n",
      "Distances: [25.  0.  0. 18.  2.  4. 10. 20.]\n",
      "Probabilities: [0.3164557  0.         0.         0.2278481  0.02531646 0.05063291\n",
      " 0.12658228 0.25316456]\n",
      "Choice: 0\n",
      "[[2, 4, 5], [1, 6], [0, 3, 7]]\n",
      "[[ 8  4]\n",
      " [ 2  5]\n",
      " [ 2 10]]\n",
      "[[7 4]\n",
      " [1 3]\n",
      " [3 9]]\n",
      "[[2, 4, 5], [1, 6], [0, 3, 7]]\n",
      "[[7 4]\n",
      " [1 3]\n",
      " [3 9]]\n",
      "[[7 4]\n",
      " [1 3]\n",
      " [3 9]]\n",
      "[[2, 4, 5], [1, 6], [0, 3, 7]]\n",
      "[[7 4]\n",
      " [1 3]\n",
      " [3 9]]\n",
      "[[7 4]\n",
      " [1 3]\n",
      " [3 9]]\n"
     ]
    },
    {
     "data": {
      "text/plain": [
       "([[2, 4, 5], [1, 6], [0, 3, 7]],\n",
       " array([[7, 4],\n",
       "        [1, 3],\n",
       "        [3, 9]]))"
      ]
     },
     "execution_count": 245,
     "metadata": {},
     "output_type": "execute_result"
    }
   ],
   "source": [
    "a = np.array([[2,10],[2,5],[8,4],[5,8],[7,5],[6,4],[1,2],[4,9]])\n",
    "kmeans(a, k=3, initial='++')"
   ]
  },
  {
   "cell_type": "code",
   "execution_count": null,
   "metadata": {},
   "outputs": [],
   "source": [
    "np.linalg.norm([1,2])"
   ]
  },
  {
   "cell_type": "code",
   "execution_count": null,
   "metadata": {},
   "outputs": [],
   "source": [
    "a"
   ]
  },
  {
   "cell_type": "code",
   "execution_count": 111,
   "metadata": {},
   "outputs": [
    {
     "data": {
      "text/plain": [
       "array([0, 1, 2, 0, 2, 2, 1, 0])"
      ]
     },
     "execution_count": 111,
     "metadata": {},
     "output_type": "execute_result"
    }
   ],
   "source": [
    "from sklearn.cluster import KMeans\n",
    "km = KMeans(n_clusters=3, init='random')\n",
    "km.fit_predict(a)"
   ]
  },
  {
   "cell_type": "code",
   "execution_count": 24,
   "metadata": {},
   "outputs": [
    {
     "data": {
      "text/plain": [
       "<AxesSubplot:>"
      ]
     },
     "execution_count": 24,
     "metadata": {},
     "output_type": "execute_result"
    },
    {
     "data": {
      "image/png": "[encoded data removed]",
      "text/plain": [
       "<Figure size 640x480 with 1 Axes>"
      ]
     },
     "metadata": {},
     "output_type": "display_data"
    }
   ],
   "source": [
    "import matplotlib.pyplot as plt\n",
    "import seaborn as sns\n",
    "sns.scatterplot(y=a[:,0], x=a[:,1])"
   ]
  },
  {
   "attachments": {},
   "cell_type": "markdown",
   "metadata": {},
   "source": [
    "# Question 1"
   ]
  },
  {
   "cell_type": "code",
   "execution_count": 119,
   "metadata": {},
   "outputs": [
    {
     "data": {
      "text/plain": [
       "array([[0.782, 0.719, 0.521, 0.628, 0.864, 0.563],\n",
       "       [1.075, 0.878, 0.603, 0.929, 1.063, 0.852],\n",
       "       [1.125, 0.725, 0.434, 1.086, 0.893, 1.028],\n",
       "       [0.66 , 0.777, 0.613, 0.429, 0.921, 0.354],\n",
       "       [0.36 , 0.308, 0.216, 0.302, 0.371, 0.275],\n",
       "       [1.227, 0.883, 0.568, 1.13 , 1.079, 1.056],\n",
       "       [0.552, 0.385, 0.243, 0.516, 0.471, 0.484]])"
      ]
     },
     "execution_count": 119,
     "metadata": {},
     "output_type": "execute_result"
    }
   ],
   "source": [
    "mat = np.array([[0.7820, 0.7190, 0.5210, 0.6280, 0.8640, 0.5630],\n",
    "[1.0750, 0.8780, 0.6030, 0.9290, 1.0630, 0.8520],\n",
    "[1.1250, 0.7250, 0.4340, 1.0860, 0.8930, 1.0280],\n",
    "[0.6600, 0.7770, 0.6130, 0.4290, 0.9210, 0.3540],\n",
    "[0.3600, 0.3080, 0.2160, 0.3020, 0.3710, 0.2750],\n",
    "[1.2270, 0.8830, 0.5680, 1.1300, 1.0790, 1.0560],\n",
    "[0.5520, 0.3850, 0.2430, 0.5160, 0.4710, 0.4840]])\n",
    "\n",
    "mat"
   ]
  },
  {
   "cell_type": "code",
   "execution_count": 132,
   "metadata": {},
   "outputs": [
    {
     "data": {
      "text/plain": [
       "array([[2.8578, 3.7676, 3.6595, 2.6586, 1.2805, 4.1267, 1.8386],\n",
       "       [3.7676, 5.009 , 4.9416, 3.4405, 1.6969, 5.5333, 2.4704],\n",
       "       [3.6595, 4.9416, 5.0132, 3.2241, 1.664 , 5.5434, 2.4841],\n",
       "       [2.6586, 3.4405, 3.2241, 2.5727, 1.1779, 3.6964, 1.6389],\n",
       "       [1.2805, 1.6969, 1.664 , 1.1779, 0.5756, 1.8683, 0.8335],\n",
       "       [4.1267, 5.5333, 5.5434, 3.6964, 1.8683, 6.1641, 2.7577],\n",
       "       [1.8386, 2.4704, 2.4841, 1.6389, 0.8335, 2.7577, 1.2343]])"
      ]
     },
     "execution_count": 132,
     "metadata": {},
     "output_type": "execute_result"
    }
   ],
   "source": [
    "np.round(mat@mat.T, 4)"
   ]
  },
  {
   "cell_type": "code",
   "execution_count": 133,
   "metadata": {},
   "outputs": [
    {
     "data": {
      "text/plain": [
       "array([[5.4082, 4.2414, 2.8573, 4.7747, 5.1483, 4.4082],\n",
       "       [4.2414, 3.44  , 2.3566, 3.6773, 4.1659, 3.3767],\n",
       "       [2.8573, 2.3566, 1.6275, 2.4541, 2.8507, 2.2471],\n",
       "       [4.7747, 3.6773, 2.4541, 4.2552, 4.4694, 3.9394],\n",
       "       [5.1483, 4.1659, 2.8507, 4.4694, 5.0459, 4.1056],\n",
       "       [4.4082, 3.3767, 2.2471, 3.9394, 4.1056, 3.65  ]])"
      ]
     },
     "execution_count": 133,
     "metadata": {},
     "output_type": "execute_result"
    }
   ],
   "source": [
    "np.round(mat.T@mat, 4)"
   ]
  },
  {
   "cell_type": "code",
   "execution_count": 143,
   "metadata": {},
   "outputs": [
    {
     "data": {
      "text/plain": [
       "array([[4.7958, 0.    , 0.    , 0.    , 0.    , 0.    ],\n",
       "       [0.    , 0.6536, 0.    , 0.    , 0.    , 0.    ],\n",
       "       [0.    , 0.    , 0.0009, 0.    , 0.    , 0.    ],\n",
       "       [0.    , 0.    , 0.    , 0.0006, 0.    , 0.    ],\n",
       "       [0.    , 0.    , 0.    , 0.    , 0.0004, 0.    ],\n",
       "       [0.    , 0.    , 0.    , 0.    , 0.    , 0.0003],\n",
       "       [0.    , 0.    , 0.    , 0.    , 0.    , 0.    ]])"
      ]
     },
     "execution_count": 143,
     "metadata": {},
     "output_type": "execute_result"
    }
   ],
   "source": [
    "u, singular_values, vt = np.linalg.svd(mat)\n",
    "min_component = min(mat.shape[0], mat.shape[1])\n",
    "sig = np.zeros((u.shape[0], vt.shape[0]), dtype=float)\n",
    "sig[:min_component, :min_component] = np.diag(singular_values)\n",
    "np.round(sig, 4)"
   ]
  },
  {
   "cell_type": "code",
   "execution_count": 161,
   "metadata": {},
   "outputs": [
    {
     "data": {
      "text/plain": [
       "0.653592804632103"
      ]
     },
     "execution_count": 161,
     "metadata": {},
     "output_type": "execute_result"
    }
   ],
   "source": [
    "def rank_r_approx_error(mat, u, sig, vt, r=1):\n",
    "    res = u[:,:r]@sig[:r,:]@vt\n",
    "    error = mat - res\n",
    "    return np.sqrt(np.sum(np.array(error)**2))\n",
    "    return np.sqrt(np.trace(error.T@error))\n",
    "    y, s, vete = np.linalg.svd(error)\n",
    "    return np.sqrt(np.sum(s)**2)\n",
    "\n",
    "\n",
    "rank_r_approx_error(mat, u, sig, vt, r=1)"
   ]
  },
  {
   "cell_type": "code",
   "execution_count": 159,
   "metadata": {},
   "outputs": [
    {
     "data": {
      "text/plain": [
       "30"
      ]
     },
     "execution_count": 159,
     "metadata": {},
     "output_type": "execute_result"
    }
   ],
   "source": [
    "np.sum(np.array([[1,2],[3,4]])**2)"
   ]
  },
  {
   "attachments": {},
   "cell_type": "markdown",
   "metadata": {},
   "source": [
    "# Question 4"
   ]
  },
  {
   "cell_type": "code",
   "execution_count": 134,
   "metadata": {},
   "outputs": [
    {
     "data": {
      "text/html": [
       "<style>#sk-container-id-3 {color: black;background-color: white;}#sk-container-id-3 pre{padding: 0;}#sk-container-id-3 div.sk-toggleable {background-color: white;}#sk-container-id-3 label.sk-toggleable__label {cursor: pointer;display: block;width: 100%;margin-bottom: 0;padding: 0.3em;box-sizing: border-box;text-align: center;}#sk-container-id-3 label.sk-toggleable__label-arrow:before {content: \"▸\";float: left;margin-right: 0.25em;color: #696969;}#sk-container-id-3 label.sk-toggleable__label-arrow:hover:before {color: black;}#sk-container-id-3 div.sk-estimator:hover label.sk-toggleable__label-arrow:before {color: black;}#sk-container-id-3 div.sk-toggleable__content {max-height: 0;max-width: 0;overflow: hidden;text-align: left;background-color: #f0f8ff;}#sk-container-id-3 div.sk-toggleable__content pre {margin: 0.2em;color: black;border-radius: 0.25em;background-color: #f0f8ff;}#sk-container-id-3 input.sk-toggleable__control:checked~div.sk-toggleable__content {max-height: 200px;max-width: 100%;overflow: auto;}#sk-container-id-3 input.sk-toggleable__control:checked~label.sk-toggleable__label-arrow:before {content: \"▾\";}#sk-container-id-3 div.sk-estimator input.sk-toggleable__control:checked~label.sk-toggleable__label {background-color: #d4ebff;}#sk-container-id-3 div.sk-label input.sk-toggleable__control:checked~label.sk-toggleable__label {background-color: #d4ebff;}#sk-container-id-3 input.sk-hidden--visually {border: 0;clip: rect(1px 1px 1px 1px);clip: rect(1px, 1px, 1px, 1px);height: 1px;margin: -1px;overflow: hidden;padding: 0;position: absolute;width: 1px;}#sk-container-id-3 div.sk-estimator {font-family: monospace;background-color: #f0f8ff;border: 1px dotted black;border-radius: 0.25em;box-sizing: border-box;margin-bottom: 0.5em;}#sk-container-id-3 div.sk-estimator:hover {background-color: #d4ebff;}#sk-container-id-3 div.sk-parallel-item::after {content: \"\";width: 100%;border-bottom: 1px solid gray;flex-grow: 1;}#sk-container-id-3 div.sk-label:hover label.sk-toggleable__label {background-color: #d4ebff;}#sk-container-id-3 div.sk-serial::before {content: \"\";position: absolute;border-left: 1px solid gray;box-sizing: border-box;top: 0;bottom: 0;left: 50%;z-index: 0;}#sk-container-id-3 div.sk-serial {display: flex;flex-direction: column;align-items: center;background-color: white;padding-right: 0.2em;padding-left: 0.2em;position: relative;}#sk-container-id-3 div.sk-item {position: relative;z-index: 1;}#sk-container-id-3 div.sk-parallel {display: flex;align-items: stretch;justify-content: center;background-color: white;position: relative;}#sk-container-id-3 div.sk-item::before, #sk-container-id-3 div.sk-parallel-item::before {content: \"\";position: absolute;border-left: 1px solid gray;box-sizing: border-box;top: 0;bottom: 0;left: 50%;z-index: -1;}#sk-container-id-3 div.sk-parallel-item {display: flex;flex-direction: column;z-index: 1;position: relative;background-color: white;}#sk-container-id-3 div.sk-parallel-item:first-child::after {align-self: flex-end;width: 50%;}#sk-container-id-3 div.sk-parallel-item:last-child::after {align-self: flex-start;width: 50%;}#sk-container-id-3 div.sk-parallel-item:only-child::after {width: 0;}#sk-container-id-3 div.sk-dashed-wrapped {border: 1px dashed gray;margin: 0 0.4em 0.5em 0.4em;box-sizing: border-box;padding-bottom: 0.4em;background-color: white;}#sk-container-id-3 div.sk-label label {font-family: monospace;font-weight: bold;display: inline-block;line-height: 1.2em;}#sk-container-id-3 div.sk-label-container {text-align: center;}#sk-container-id-3 div.sk-container {/* jupyter's `normalize.less` sets `[hidden] { display: none; }` but bootstrap.min.css set `[hidden] { display: none !important; }` so we also need the `!important` here to be able to override the default hidden behavior on the sphinx rendered scikit-learn.org. See: https://github.com/scikit-learn/scikit-learn/issues/21755 */display: inline-block !important;position: relative;}#sk-container-id-3 div.sk-text-repr-fallback {display: none;}</style><div id=\"sk-container-id-3\" class=\"sk-top-container\"><div class=\"sk-text-repr-fallback\"><pre>SVC(kernel=&#x27;poly&#x27;)</pre><b>In a Jupyter environment, please rerun this cell to show the HTML representation or trust the notebook. <br />On GitHub, the HTML representation is unable to render, please try loading this page with nbviewer.org.</b></div><div class=\"sk-container\" hidden><div class=\"sk-item\"><div class=\"sk-estimator sk-toggleable\"><input class=\"sk-toggleable__control sk-hidden--visually\" id=\"sk-estimator-id-3\" type=\"checkbox\" checked><label for=\"sk-estimator-id-3\" class=\"sk-toggleable__label sk-toggleable__label-arrow\">SVC</label><div class=\"sk-toggleable__content\"><pre>SVC(kernel=&#x27;poly&#x27;)</pre></div></div></div></div></div>"
      ],
      "text/plain": [
       "SVC(kernel='poly')"
      ]
     },
     "execution_count": 134,
     "metadata": {},
     "output_type": "execute_result"
    }
   ],
   "source": [
    "from sklearn.svm import SVC\n",
    "\n",
    "X,y = np.array([[-1,-1],[-1,1], [1,-1], [1,1]]), np.array([0, 1, 1, 0])\n",
    "\n",
    "model = SVC(C=1.0, kernel='poly')\n",
    "model.fit(X,y)"
   ]
  },
  {
   "cell_type": "code",
   "execution_count": 142,
   "metadata": {},
   "outputs": [
    {
     "data": {
      "text/plain": [
       "array([[-1., -1.],\n",
       "       [ 1.,  1.],\n",
       "       [-1.,  1.],\n",
       "       [ 1., -1.]])"
      ]
     },
     "execution_count": 142,
     "metadata": {},
     "output_type": "execute_result"
    }
   ],
   "source": [
    "model.support_vectors_"
   ]
  },
  {
   "cell_type": "code",
   "execution_count": 141,
   "metadata": {},
   "outputs": [
    {
     "name": "stderr",
     "output_type": "stream",
     "text": [
      "C:\\Users\\kishl\\AppData\\Local\\Temp\\ipykernel_22064\\3085748868.py:36: UserWarning: No contour levels were found within the data range.\n",
      "  plt.contour(\n",
      "C:\\Users\\kishl\\AppData\\Local\\Temp\\ipykernel_22064\\3085748868.py:36: UserWarning: No contour levels were found within the data range.\n",
      "  plt.contour(\n"
     ]
    },
    {
     "data": {
      "image/png": "[encoded data removed]",
      "text/plain": [
       "<Figure size 400x300 with 1 Axes>"
      ]
     },
     "metadata": {},
     "output_type": "display_data"
    },
    {
     "data": {
      "image/png": "[encoded data removed]",
      "text/plain": [
       "<Figure size 400x300 with 1 Axes>"
      ]
     },
     "metadata": {},
     "output_type": "display_data"
    },
    {
     "data": {
      "image/png": "[encoded data removed]",
      "text/plain": [
       "<Figure size 400x300 with 1 Axes>"
      ]
     },
     "metadata": {},
     "output_type": "display_data"
    }
   ],
   "source": [
    "# figure number\n",
    "fignum = 1\n",
    "\n",
    "# fit the model\n",
    "for kernel in (\"linear\", \"poly\", \"rbf\"):\n",
    "    clf = SVC(kernel=kernel, gamma=2)\n",
    "    clf.fit(X, y)\n",
    "\n",
    "    # plot the line, the points, and the nearest vectors to the plane\n",
    "    plt.figure(fignum, figsize=(4, 3))\n",
    "    plt.clf()\n",
    "\n",
    "    plt.scatter(\n",
    "        clf.support_vectors_[:, 0],\n",
    "        clf.support_vectors_[:, 1],\n",
    "        s=80,\n",
    "        facecolors=\"none\",\n",
    "        zorder=10,\n",
    "        edgecolors=\"k\",\n",
    "    )\n",
    "    plt.scatter(X[:, 0], X[:, 1], c=y, zorder=10, cmap=plt.cm.Paired, edgecolors=\"k\")\n",
    "\n",
    "    plt.axis(\"tight\")\n",
    "    x_min = -3\n",
    "    x_max = 3\n",
    "    y_min = -3\n",
    "    y_max = 3\n",
    "\n",
    "    XX, YY = np.mgrid[x_min:x_max:200j, y_min:y_max:200j]\n",
    "    Z = clf.decision_function(np.c_[XX.ravel(), YY.ravel()])\n",
    "\n",
    "    # Put the result into a color plot\n",
    "    Z = Z.reshape(XX.shape)\n",
    "    plt.figure(fignum, figsize=(4, 3))\n",
    "    plt.pcolormesh(XX, YY, Z > 0, cmap=plt.cm.Paired)\n",
    "    plt.contour(\n",
    "        XX,\n",
    "        YY,\n",
    "        Z,\n",
    "        colors=[\"k\", \"k\", \"k\"],\n",
    "        linestyles=[\"--\", \"-\", \"--\"],\n",
    "        levels=[-0.5, 0, 0.5],\n",
    "    )\n",
    "\n",
    "    plt.xlim(x_min, x_max)\n",
    "    plt.ylim(y_min, y_max)\n",
    "\n",
    "    plt.xticks(())\n",
    "    plt.yticks(())\n",
    "    fignum = fignum + 1\n",
    "plt.show()"
   ]
  },
  {
   "attachments": {},
   "cell_type": "markdown",
   "metadata": {},
   "source": [
    "# Question 3"
   ]
  },
  {
   "cell_type": "code",
   "execution_count": null,
   "metadata": {},
   "outputs": [],
   "source": [
    "(0, 1, 1) +\n",
    "(1, 0, 1) +\n",
    "(1, 1, 0) +\n",
    "(1, 1, 1) +\n",
    "(0, −1, −1) –\n",
    "(−1, −1, 0) –\n",
    "(−1, 0, −1) –\n",
    "(−1, −1, 1) "
   ]
  },
  {
   "cell_type": "code",
   "execution_count": 246,
   "metadata": {},
   "outputs": [
    {
     "data": {
      "text/plain": [
       "2.238715618282263"
      ]
     },
     "execution_count": 246,
     "metadata": {},
     "output_type": "execute_result"
    }
   ],
   "source": [
    "from sklearn.svm import LinearSVC\n",
    "X = np.array([[0,1,1],[1,0,1],[1,1,0],[1,1,1],[0,-1,-1],[-1,-1,0],[-1,0,-1],[-1,-1,1]])\n",
    "Y = np.array([1,1,1,1,0,0,0,0])\n",
    "\n",
    "clf = LinearSVC()\n",
    "clf.fit(X, Y)\n",
    "\n",
    "# get the separating hyperplane\n",
    "w = clf.coef_\n",
    "\n",
    "2/np.linalg.norm(w, ord=2)"
   ]
  },
  {
   "cell_type": "code",
   "execution_count": 251,
   "metadata": {},
   "outputs": [
    {
     "data": {
      "text/plain": [
       "array([[ 0.89230899,  0.89231531,  1.13846826,  1.47692882, -0.95383916,\n",
       "        -1.19999843, -0.95384549, -0.86153787]])"
      ]
     },
     "execution_count": 251,
     "metadata": {},
     "output_type": "execute_result"
    }
   ],
   "source": [
    "clf.coef_.dot(X.T) + clf.intercept_"
   ]
  },
  {
   "cell_type": "code",
   "execution_count": null,
   "metadata": {},
   "outputs": [],
   "source": [
    "# figure number\n",
    "fignum = 1\n",
    "\n",
    "# fit the model\n",
    "for name, penalty in ((\"unreg\", 1), (\"reg\", 0.05)):\n",
    "\n",
    "    clf = SVC(kernel=\"linear\", C=penalty)\n",
    "    clf.fit(X, Y)\n",
    "\n",
    "    # get the separating hyperplane\n",
    "    w = clf.coef_[0]\n",
    "    a = -w[0] / w[1]\n",
    "    xx = np.linspace(-5, 5)\n",
    "    yy = a * xx - (clf.intercept_[0]) / w[1]\n",
    "\n",
    "    # plot the parallels to the separating hyperplane that pass through the\n",
    "    # support vectors (margin away from hyperplane in direction\n",
    "    # perpendicular to hyperplane). This is sqrt(1+a^2) away vertically in\n",
    "    # 2-d.\n",
    "    margin = 1 / np.sqrt(np.sum(clf.coef_**2))\n",
    "    yy_down = yy - np.sqrt(1 + a**2) * margin\n",
    "    yy_up = yy + np.sqrt(1 + a**2) * margin\n",
    "\n",
    "    # plot the line, the points, and the nearest vectors to the plane\n",
    "    plt.figure(fignum, figsize=(4, 3))\n",
    "    plt.clf()\n",
    "    plt.plot(xx, yy, \"k-\")\n",
    "    plt.plot(xx, yy_down, \"k--\")\n",
    "    plt.plot(xx, yy_up, \"k--\")\n",
    "\n",
    "    plt.scatter(\n",
    "        clf.support_vectors_[:, 0],\n",
    "        clf.support_vectors_[:, 1],\n",
    "        s=80,\n",
    "        facecolors=\"none\",\n",
    "        zorder=10,\n",
    "        edgecolors=\"k\",\n",
    "        cmap=cm.get_cmap(\"RdBu\"),\n",
    "    )\n",
    "    plt.scatter(\n",
    "        X[:, 0], X[:, 1], c=Y, zorder=10, cmap=cm.get_cmap(\"RdBu\"), edgecolors=\"k\"\n",
    "    )\n",
    "\n",
    "    plt.axis(\"tight\")\n",
    "    x_min = -4.8\n",
    "    x_max = 4.2\n",
    "    y_min = -6\n",
    "    y_max = 6\n",
    "\n",
    "    YY, XX = np.meshgrid(yy, xx)\n",
    "    xy = np.vstack([XX.ravel(), YY.ravel()]).T\n",
    "    Z = clf.decision_function(xy).reshape(XX.shape)\n",
    "\n",
    "    # Put the result into a contour plot\n",
    "    plt.contourf(XX, YY, Z, cmap=cm.get_cmap(\"RdBu\"), alpha=0.5, linestyles=[\"-\"])\n",
    "\n",
    "    plt.xlim(x_min, x_max)\n",
    "    plt.ylim(y_min, y_max)\n",
    "\n",
    "    plt.xticks(())\n",
    "    plt.yticks(())\n",
    "    fignum = fignum + 1\n",
    "\n",
    "plt.show()"
   ]
  }
 ],
 "metadata": {
  "kernelspec": {
   "display_name": "Python 3",
   "language": "python",
   "name": "python3"
  },
  "language_info": {
   "codemirror_mode": {
    "name": "ipython",
    "version": 3
   },
   "file_extension": ".py",
   "mimetype": "text/x-python",
   "name": "python",
   "nbconvert_exporter": "python",
   "pygments_lexer": "ipython3",
   "version": "3.10.9 (tags/v3.10.9:1dd9be6, Dec  6 2022, 20:01:21) [MSC v.1934 64 bit (AMD64)]"
  },
  "orig_nbformat": 4,
  "vscode": {
   "interpreter": {
    "hash": "71378fec4b9b0ae51f784db9960b5ea07fb9042b7f7d69b6f196c430cecf08e0"
   }
  }
 },
 "nbformat": 4,
 "nbformat_minor": 2
}
