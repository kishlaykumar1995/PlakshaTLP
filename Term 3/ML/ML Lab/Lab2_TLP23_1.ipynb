{
  "cells": [
    {
      "cell_type": "markdown",
      "metadata": {
        "id": "IVNxn1z4PSCJ"
      },
      "source": [
        "# Machine Learning Lab 1"
      ]
    },
    {
      "cell_type": "markdown",
      "metadata": {
        "id": "CMO2e5qhPWal"
      },
      "source": [
        "## Assignment 2 (Deadline : 4/12/2022 11:59PM)\n",
        "\n",
        "Total Points : 100\n",
        "\n",
        "Your answers must be entered in LMS by midnight of the day it is due. \n",
        "\n",
        "If the question requires a textual response, you can create a PDF and upload that. \n",
        "\n",
        "The PDF might be generated from MS-WORD, LATEX, the image of a hand- written response, or using any other mechanism. \n",
        "\n",
        "Code must be uploaded and may require demonstration to the TA. \n",
        "\n",
        "Numbers in the parentheses indicate points allocated to the question. \n",
        "\n",
        "**Naming Convention**: FirstName_LastName_Lab2_TLP23.ipynb"
      ]
    },
    {
      "cell_type": "markdown",
      "metadata": {
        "id": "aQ4ykPDrPgvv"
      },
      "source": [
        "# Question 1 (50 points)"
      ]
    },
    {
      "cell_type": "markdown",
      "metadata": {
        "id": "c155js1XPnDT"
      },
      "source": [
        "## 1. Read the data into a numpy array"
      ]
    },
    {
      "cell_type": "code",
      "execution_count": 1,
      "metadata": {},
      "outputs": [],
      "source": [
        "import numpy as np\n",
        "import pandas as pd\n",
        "import matplotlib.pyplot as plt\n",
        "import seaborn as sns\n",
        "sns.set_style('darkgrid')"
      ]
    },
    {
      "cell_type": "code",
      "execution_count": 2,
      "metadata": {
        "id": "pN9dXM6RPV4C"
      },
      "outputs": [
        {
          "data": {
            "text/plain": [
              "array([[  51.87,   79.72, 1249.99],\n",
              "       [ -30.66,  -15.64, -516.61],\n",
              "       [ -57.57,   94.22,  312.09],\n",
              "       ...,\n",
              "       [ -18.6 ,   32.61,  -45.14],\n",
              "       [ -38.31,   77.81,  -20.13],\n",
              "       [ -38.33,   45.69, -460.47]])"
            ]
          },
          "execution_count": 2,
          "metadata": {},
          "output_type": "execute_result"
        }
      ],
      "source": [
        "# Read data from file: 'data.csv'. \n",
        "# Note that the first row has the number of inputs and number of outputs specified.\n",
        "# For your reference: you can use \"np.loadtxt\".\n",
        "data = np.loadtxt('data.csv', delimiter=',', skiprows=1)\n",
        "data"
      ]
    },
    {
      "cell_type": "markdown",
      "metadata": {
        "id": "QXyPyRDIPvML"
      },
      "source": [
        "## 2. Plot and explore the data to get a better understanding"
      ]
    },
    {
      "cell_type": "code",
      "execution_count": 3,
      "metadata": {},
      "outputs": [
        {
          "data": {
            "text/html": [
              "<div>\n",
              "<style scoped>\n",
              "    .dataframe tbody tr th:only-of-type {\n",
              "        vertical-align: middle;\n",
              "    }\n",
              "\n",
              "    .dataframe tbody tr th {\n",
              "        vertical-align: top;\n",
              "    }\n",
              "\n",
              "    .dataframe thead th {\n",
              "        text-align: right;\n",
              "    }\n",
              "</style>\n",
              "<table border=\"1\" class=\"dataframe\">\n",
              "  <thead>\n",
              "    <tr style=\"text-align: right;\">\n",
              "      <th></th>\n",
              "      <th>0</th>\n",
              "      <th>1</th>\n",
              "      <th>2</th>\n",
              "    </tr>\n",
              "  </thead>\n",
              "  <tbody>\n",
              "    <tr>\n",
              "      <th>0</th>\n",
              "      <td>51.87</td>\n",
              "      <td>79.72</td>\n",
              "      <td>1249.99</td>\n",
              "    </tr>\n",
              "    <tr>\n",
              "      <th>1</th>\n",
              "      <td>-30.66</td>\n",
              "      <td>-15.64</td>\n",
              "      <td>-516.61</td>\n",
              "    </tr>\n",
              "    <tr>\n",
              "      <th>2</th>\n",
              "      <td>-57.57</td>\n",
              "      <td>94.22</td>\n",
              "      <td>312.09</td>\n",
              "    </tr>\n",
              "    <tr>\n",
              "      <th>3</th>\n",
              "      <td>-122.10</td>\n",
              "      <td>5.15</td>\n",
              "      <td>-1544.90</td>\n",
              "    </tr>\n",
              "    <tr>\n",
              "      <th>4</th>\n",
              "      <td>-53.45</td>\n",
              "      <td>41.87</td>\n",
              "      <td>-201.57</td>\n",
              "    </tr>\n",
              "  </tbody>\n",
              "</table>\n",
              "</div>"
            ],
            "text/plain": [
              "        0      1        2\n",
              "0   51.87  79.72  1249.99\n",
              "1  -30.66 -15.64  -516.61\n",
              "2  -57.57  94.22   312.09\n",
              "3 -122.10   5.15 -1544.90\n",
              "4  -53.45  41.87  -201.57"
            ]
          },
          "execution_count": 3,
          "metadata": {},
          "output_type": "execute_result"
        }
      ],
      "source": [
        "data_df = pd.DataFrame(data)\n",
        "data_df.head()"
      ]
    },
    {
      "cell_type": "code",
      "execution_count": 4,
      "metadata": {
        "id": "UayaQqiuPDuL"
      },
      "outputs": [
        {
          "data": {
            "text/plain": [
              "<seaborn.axisgrid.FacetGrid at 0x12a48add0c0>"
            ]
          },
          "execution_count": 4,
          "metadata": {},
          "output_type": "execute_result"
        },
        {
          "data": {
            "image/png": "[encoded data removed]",
            "text/plain": [
              "<Figure size 500x500 with 1 Axes>"
            ]
          },
          "metadata": {},
          "output_type": "display_data"
        }
      ],
      "source": [
        "# EDA\n",
        "#sns.FacetGrid()\n",
        "sns.displot(data[:,0])"
      ]
    },
    {
      "cell_type": "code",
      "execution_count": 5,
      "metadata": {},
      "outputs": [
        {
          "data": {
            "text/plain": [
              "<seaborn.axisgrid.FacetGrid at 0x12a2865d600>"
            ]
          },
          "execution_count": 5,
          "metadata": {},
          "output_type": "execute_result"
        },
        {
          "data": {
            "image/png": "[encoded data removed]",
            "text/plain": [
              "<Figure size 500x500 with 1 Axes>"
            ]
          },
          "metadata": {},
          "output_type": "display_data"
        }
      ],
      "source": [
        "sns.displot(data[:,1])"
      ]
    },
    {
      "cell_type": "code",
      "execution_count": 6,
      "metadata": {},
      "outputs": [
        {
          "data": {
            "text/plain": [
              "<AxesSubplot:>"
            ]
          },
          "execution_count": 6,
          "metadata": {},
          "output_type": "execute_result"
        },
        {
          "data": {
            "image/png": "[encoded data removed]",
            "text/plain": [
              "<Figure size 640x480 with 2 Axes>"
            ]
          },
          "metadata": {},
          "output_type": "display_data"
        }
      ],
      "source": [
        "sns.heatmap(data_df.corr(), cmap=\"YlGnBu\", annot=True)"
      ]
    },
    {
      "cell_type": "markdown",
      "metadata": {
        "id": "WYhxih7jP304"
      },
      "source": [
        "## 3. Prepare the data for modelling"
      ]
    },
    {
      "cell_type": "code",
      "execution_count": 7,
      "metadata": {
        "id": "3UqrKgDBP9Jk"
      },
      "outputs": [],
      "source": [
        "# Separate the data: input and output."
      ]
    },
    {
      "cell_type": "code",
      "execution_count": 8,
      "metadata": {
        "id": "FQ4fHTVWQJ0x"
      },
      "outputs": [],
      "source": [
        "# Perform a train-val-test split of 60-20-20.\n",
        "# Use \"random_state=42\".\n",
        "from sklearn.model_selection import train_test_split\n",
        "\n",
        "\n",
        "X_train_val, X_test, y_train_val, y_test = train_test_split(data[:,:-1], data[:,-1], test_size=0.2, random_state=42)\n",
        "X_train, X_val, y_train, y_val = train_test_split(X_train_val, y_train_val, test_size=0.25, random_state=42)"
      ]
    },
    {
      "cell_type": "markdown",
      "metadata": {
        "id": "43fNP30lQUzq"
      },
      "source": [
        " * From your understanding of the dataset, is stratified sampling necessary in this case? Why / Why not? <br><br>\n",
        "<i>Answer: </i>As per my understanding, we do not need stratified sampling in this case because the data is evenly distributed and there are not many visible outliers (as evident from the histplot above)"
      ]
    },
    {
      "cell_type": "markdown",
      "metadata": {
        "id": "zvNv-X4aQdwK"
      },
      "source": [
        "## 4. Modelling"
      ]
    },
    {
      "cell_type": "markdown",
      "metadata": {
        "id": "lDaep4fIQhcq"
      },
      "source": [
        "### 4.1 Linear Regression"
      ]
    },
    {
      "cell_type": "code",
      "execution_count": 9,
      "metadata": {
        "id": "_zweZ855QXUV"
      },
      "outputs": [
        {
          "data": {
            "text/plain": [
              "array([12.73284297,  7.10235207])"
            ]
          },
          "execution_count": 9,
          "metadata": {},
          "output_type": "execute_result"
        }
      ],
      "source": [
        "# Implement Linear Regression.\n",
        "# Use both train and val data for training purpose.\n",
        "# Make preditions on both training(train+val) and test data.\n",
        "from sklearn.linear_model import LinearRegression\n",
        "model_linear = LinearRegression()\n",
        "model_linear.fit(X_train, y_train)\n",
        "model_linear.coef_"
      ]
    },
    {
      "cell_type": "code",
      "execution_count": 10,
      "metadata": {},
      "outputs": [
        {
          "name": "stdout",
          "output_type": "stream",
          "text": [
            "148.51376984258394\n"
          ]
        },
        {
          "data": {
            "text/plain": [
              "0.9513675321883363"
            ]
          },
          "execution_count": 10,
          "metadata": {},
          "output_type": "execute_result"
        }
      ],
      "source": [
        "from sklearn.metrics import mean_squared_error\n",
        "\n",
        "y_pred = model_linear.predict(X_test)\n",
        "print(np.sqrt(mean_squared_error(y_true=y_test, y_pred=y_pred)))\n",
        "model_linear.score(X_test, y_test)"
      ]
    },
    {
      "cell_type": "markdown",
      "metadata": {
        "id": "cYHke4e6Qn2w"
      },
      "source": [
        "### 4.2 Ridge Reegression"
      ]
    },
    {
      "cell_type": "code",
      "execution_count": 11,
      "metadata": {
        "id": "_JVqRAVSQrM2"
      },
      "outputs": [
        {
          "name": "stdout",
          "output_type": "stream",
          "text": [
            "90 90\n",
            "10000.0 0.9446310194027773\n"
          ]
        }
      ],
      "source": [
        "# Implement Ridge Regression.\n",
        "# Perform cross validation to find a good value for your hyper-parameter.\n",
        "# After choosing a good value for your hyper-parameter, use both train and val data for final training purpose of your model.\n",
        "# Make preditions on both training(train+val) and test data.\n",
        "from sklearn.linear_model import Ridge\n",
        "\n",
        "alphas = np.logspace(-5,5, 101)\n",
        "scores_ridge = []\n",
        "errors_ridge = []\n",
        "\n",
        "for alpha in alphas:\n",
        "    model = Ridge(alpha=alpha)\n",
        "    model.fit(X_train, y_train)\n",
        "    scores_ridge.append(model.score(X_val, y_val))\n",
        "    errors_ridge.append(np.sqrt(mean_squared_error(y_true=y_val, y_pred= model.predict(X_val))))\n",
        "\n",
        "print(np.argmax(scores_ridge), np.argmin(errors_ridge))\n",
        "print(alphas[np.argmax(scores_ridge)], max(scores_ridge))"
      ]
    },
    {
      "cell_type": "code",
      "execution_count": 12,
      "metadata": {},
      "outputs": [
        {
          "data": {
            "text/plain": [
              "0.951374777384595"
            ]
          },
          "execution_count": 12,
          "metadata": {},
          "output_type": "execute_result"
        }
      ],
      "source": [
        "model_ridge_final = Ridge(alpha=alphas[np.argmax(scores_ridge)])\n",
        "model_ridge_final.fit(X_train_val, y_train_val)\n",
        "model_ridge_final.score(X_test, y_test)"
      ]
    },
    {
      "cell_type": "markdown",
      "metadata": {
        "id": "TKaw6g3zQvUf"
      },
      "source": [
        "### 4.3 Lasso Regression"
      ]
    },
    {
      "cell_type": "code",
      "execution_count": 13,
      "metadata": {
        "id": "2RuAcem_Qyta"
      },
      "outputs": [
        {
          "name": "stdout",
          "output_type": "stream",
          "text": [
            "70 70\n",
            "100.0 0.9446424980318713\n"
          ]
        }
      ],
      "source": [
        "# Implement Lasso Regression.\n",
        "# Perform cross validation to find a good value for your hyper-parameter.\n",
        "# After choosing a good value for your hyper-parameter, use both train and val data for final training purpose of your model.\n",
        "# Make preditions on both training(train+val) and test data.\n",
        "from sklearn.linear_model import Lasso\n",
        "alphas = np.logspace(-5,5, 101)\n",
        "scores_lasso = []\n",
        "errors_lasso = []\n",
        "\n",
        "for alpha in alphas:\n",
        "    model = Lasso(alpha=alpha)\n",
        "    model.fit(X_train, y_train)\n",
        "    scores_lasso.append(model.score(X_val, y_val))\n",
        "    errors_lasso.append(np.sqrt(mean_squared_error(y_true=y_val, y_pred= model.predict(X_val))))\n",
        "\n",
        "print(np.argmax(scores_lasso), np.argmin(errors_lasso))\n",
        "print(alphas[np.argmax(scores_lasso)], max(scores_lasso))"
      ]
    },
    {
      "cell_type": "code",
      "execution_count": 14,
      "metadata": {},
      "outputs": [
        {
          "data": {
            "text/plain": [
              "0.9514023644195737"
            ]
          },
          "execution_count": 14,
          "metadata": {},
          "output_type": "execute_result"
        }
      ],
      "source": [
        "model_lasso_final = Lasso(alpha=alphas[np.argmax(scores_lasso)])\n",
        "model_lasso_final.fit(X_train_val, y_train_val)\n",
        "model_lasso_final.score(X_test, y_test)"
      ]
    },
    {
      "cell_type": "markdown",
      "metadata": {
        "id": "oBgZa2jcQ6a3"
      },
      "source": [
        "### 4.4 ElasticNet Regression"
      ]
    },
    {
      "cell_type": "code",
      "execution_count": 2,
      "metadata": {
        "id": "xSUtXn8WQ0l1"
      },
      "outputs": [
        {
          "ename": "NameError",
          "evalue": "name 'np' is not defined",
          "output_type": "error",
          "traceback": [
            "\u001b[1;31m---------------------------------------------------------------------------\u001b[0m",
            "\u001b[1;31mNameError\u001b[0m                                 Traceback (most recent call last)",
            "Cell \u001b[1;32mIn [2], line 8\u001b[0m\n\u001b[0;32m      5\u001b[0m \u001b[39mfrom\u001b[39;00m \u001b[39msklearn\u001b[39;00m\u001b[39m.\u001b[39;00m\u001b[39mlinear_model\u001b[39;00m \u001b[39mimport\u001b[39;00m ElasticNet\n\u001b[0;32m      6\u001b[0m \u001b[39mfrom\u001b[39;00m \u001b[39msklearn\u001b[39;00m\u001b[39m.\u001b[39;00m\u001b[39mmodel_selection\u001b[39;00m \u001b[39mimport\u001b[39;00m GridSearchCV\n\u001b[1;32m----> 8\u001b[0m parameters \u001b[39m=\u001b[39m {\u001b[39m'\u001b[39m\u001b[39malpha\u001b[39m\u001b[39m'\u001b[39m: np\u001b[39m.\u001b[39mlogspace(\u001b[39m-\u001b[39m\u001b[39m5\u001b[39m, \u001b[39m5\u001b[39m, \u001b[39m11\u001b[39m), \u001b[39m'\u001b[39m\u001b[39ml1_ratio\u001b[39m\u001b[39m'\u001b[39m: np\u001b[39m.\u001b[39mlogspace(\u001b[39m-\u001b[39m\u001b[39m5\u001b[39m, \u001b[39m-\u001b[39m\u001b[39m1\u001b[39m, \u001b[39m11\u001b[39m)}\n\u001b[0;32m      9\u001b[0m grid_elasticnet_model \u001b[39m=\u001b[39m GridSearchCV(ElasticNet(), param_grid\u001b[39m=\u001b[39mparameters, cv\u001b[39m=\u001b[39m\u001b[39m4\u001b[39m)\n\u001b[0;32m     10\u001b[0m grid_elasticnet_model\u001b[39m.\u001b[39mfit(X_train_val, y_train_val)\n",
            "\u001b[1;31mNameError\u001b[0m: name 'np' is not defined"
          ]
        }
      ],
      "source": [
        "# Implement ElasticNet Regression.\n",
        "# Perform cross validation to find a good value for your hyper-parameters.\n",
        "# After choosing a good value for your hyper-parameter, use both train and val data for final training purpose of your model.\n",
        "# Make preditions on both training(train+val) and test data.\n",
        "from sklearn.linear_model import ElasticNet\n",
        "from sklearn.model_selection import GridSearchCV\n",
        "\n",
        "parameters = {'alpha': np.logspace(-5, 5, 11), 'l1_ratio': np.logspace(-5, -1, 11)}\n",
        "grid_elasticnet_model = GridSearchCV(ElasticNet(), param_grid=parameters)\n",
        "grid_elasticnet_model.fit(X_train_val, y_train_val)"
      ]
    },
    {
      "cell_type": "code",
      "execution_count": 16,
      "metadata": {},
      "outputs": [
        {
          "data": {
            "text/plain": [
              "1e-05"
            ]
          },
          "execution_count": 16,
          "metadata": {},
          "output_type": "execute_result"
        }
      ],
      "source": [
        "grid_elasticnet_model.best_params_['alpha']"
      ]
    },
    {
      "cell_type": "code",
      "execution_count": 17,
      "metadata": {},
      "outputs": [
        {
          "data": {
            "text/plain": [
              "0.9513936533821384"
            ]
          },
          "execution_count": 17,
          "metadata": {},
          "output_type": "execute_result"
        }
      ],
      "source": [
        "best_alpha, best_l1_ratio = grid_elasticnet_model.best_params_['alpha'], grid_elasticnet_model.best_params_['l1_ratio']\n",
        "model_elastic_final = ElasticNet(alpha=best_alpha, l1_ratio=best_l1_ratio)\n",
        "model_elastic_final.fit(X_train_val, y_train_val)\n",
        "model_elastic_final.score(X_test, y_test)"
      ]
    },
    {
      "cell_type": "markdown",
      "metadata": {
        "id": "oRiHfBFAROWi"
      },
      "source": [
        "## 5. Analysis"
      ]
    },
    {
      "cell_type": "code",
      "execution_count": 18,
      "metadata": {
        "id": "I6Go-40ARQW7"
      },
      "outputs": [
        {
          "name": "stdout",
          "output_type": "stream",
          "text": [
            "Linear\n",
            "Y_pred _________________________ Y_true\n",
            "62.229063549126806         |         66.12\n",
            "-577.0922133260448         |         -572.89\n",
            "-111.95518554702412         |         -94.71\n",
            "-412.87624349891786         |         -306.84\n",
            "603.5401341468327         |         580.1\n",
            "-18.728490805591903         |         -34.05\n",
            "-172.01181370750726         |         -81.37\n",
            "602.6830673277927         |         552.6\n",
            "-42.223017798748025         |         -24.39\n",
            "559.9179315894578         |         538.47\n",
            "\n",
            "Ridge\n",
            "Y_pred _________________________ Y_true\n",
            "61.17805680066497         |         66.12\n",
            "-576.6715469798254         |         -572.89\n",
            "-112.62417005329553         |         -94.71\n",
            "-412.09614940002314         |         -306.84\n",
            "599.9897955099202         |         580.1\n",
            "-19.32151310785416         |         -34.05\n",
            "-172.00579580808284         |         -81.37\n",
            "599.4981483185506         |         552.6\n",
            "-43.54511809753688         |         -24.39\n",
            "557.1467852421458         |         538.47\n",
            "\n"
          ]
        }
      ],
      "source": [
        "# Write down the actual value along with the preditions from all the regression models, for the first 10 points in test data.\n",
        "def print_predictions(label1, label2, model_name, y_pred, y_true):\n",
        "    print(model_name)\n",
        "    print(label1, '_________________________', label2)\n",
        "    for i,j in list(zip(y_pred, y_true)):\n",
        "        print(i, '        |        ', j)\n",
        "    print()\n",
        "\n",
        "\n",
        "print_predictions('Y_pred', 'Y_true', 'Linear', model_linear.predict(X_test[:10]), y_test[:10])\n",
        "print_predictions('Y_pred', 'Y_true', 'Ridge', model_ridge_final.predict(X_test[:10]), y_test[:10])"
      ]
    },
    {
      "cell_type": "code",
      "execution_count": 19,
      "metadata": {},
      "outputs": [
        {
          "name": "stdout",
          "output_type": "stream",
          "text": [
            "Lasso\n",
            "Y_pred _________________________ Y_true\n",
            "60.92609738233004         |         66.12\n",
            "-574.3438670127006         |         -572.89\n",
            "-112.15028211276508         |         -94.71\n",
            "-411.32747538538894         |         -306.84\n",
            "599.0770840164985         |         580.1\n",
            "-19.576987466098938         |         -34.05\n",
            "-171.94203776378853         |         -81.37\n",
            "598.1471058455872         |         552.6\n",
            "-42.75381843091256         |         -24.39\n",
            "555.584997533293         |         538.47\n",
            "\n",
            "ElasticNet\n",
            "Y_pred _________________________ Y_true\n",
            "61.23562977940931         |         66.12\n",
            "-576.4740026186645         |         -572.89\n",
            "-112.48928338602805         |         -94.71\n",
            "-413.46016736397536         |         -306.84\n",
            "602.5216068176142         |         580.1\n",
            "-19.80815136309308         |         -34.05\n",
            "-172.96819474776422         |         -81.37\n",
            "601.2782534559232         |         552.6\n",
            "-42.40641978881626         |         -24.39\n",
            "558.2839020844817         |         538.47\n",
            "\n"
          ]
        }
      ],
      "source": [
        "print_predictions('Y_pred', 'Y_true', 'Lasso', model_lasso_final.predict(X_test[:10]), y_test[:10])\n",
        "print_predictions('Y_pred', 'Y_true', 'ElasticNet', model_elastic_final.predict(X_test[:10]), y_test[:10])"
      ]
    },
    {
      "cell_type": "code",
      "execution_count": 20,
      "metadata": {
        "id": "6I-n5D6fRedg"
      },
      "outputs": [
        {
          "name": "stdout",
          "output_type": "stream",
          "text": [
            "Linear\n",
            "RMSE _________________________ MAE\n",
            "148.51376984258394         |         118.7666325852712\n",
            "\n",
            "Ridge\n",
            "RMSE _________________________ MAE\n",
            "148.50270674485625         |         118.77835282188443\n",
            "\n",
            "Lasso\n",
            "RMSE _________________________ MAE\n",
            "148.46057500362826         |         118.71735411119259\n",
            "\n",
            "ElasticNet\n",
            "RMSE _________________________ MAE\n",
            "148.47388005091386         |         118.72866521848829\n",
            "\n"
          ]
        }
      ],
      "source": [
        "# Find both RMSE and MAE for all the regression models on both training(train+val) and testing data.\n",
        "from sklearn.metrics import mean_absolute_error, mean_squared_error\n",
        "print_predictions('RMSE', 'MAE', 'Linear', np.sqrt([mean_squared_error(model_linear.predict(X_test), y_test)]), [mean_absolute_error(model_linear.predict(X_test), y_test)])\n",
        "print_predictions('RMSE', 'MAE', 'Ridge', np.sqrt([mean_squared_error(model_ridge_final.predict(X_test), y_test)]), [mean_absolute_error(model_ridge_final.predict(X_test), y_test)])\n",
        "print_predictions('RMSE', 'MAE', 'Lasso', np.sqrt([mean_squared_error(model_lasso_final.predict(X_test), y_test)]), [mean_absolute_error(model_lasso_final.predict(X_test), y_test)])\n",
        "print_predictions('RMSE', 'MAE', 'ElasticNet', np.sqrt([mean_squared_error(model_elastic_final.predict(X_test), y_test)]), [mean_absolute_error(model_elastic_final.predict(X_test), y_test)])"
      ]
    },
    {
      "cell_type": "markdown",
      "metadata": {
        "id": "93Aod5H3RTNu"
      },
      "source": [
        "## 6. Final Observations\n",
        "Write down your final conclusions and observations"
      ]
    },
    {
      "cell_type": "code",
      "execution_count": null,
      "metadata": {
        "id": "7MRO8pNwRS34"
      },
      "outputs": [],
      "source": []
    },
    {
      "cell_type": "markdown",
      "metadata": {
        "id": "423bWO--Sx0_"
      },
      "source": [
        "# Question 2 (30 points)\n",
        "\n",
        "Given the automobile dataset at https://s3-api.us-geo.objectstorage.softlayer.net/cf-courses-data/CognitiveClass/DA0101EN/automobileEDA.csv , "
      ]
    },
    {
      "cell_type": "markdown",
      "metadata": {
        "id": "aGXZyLX5Txdj"
      },
      "source": [
        "## 1. Load and examine the dataset"
      ]
    },
    {
      "cell_type": "markdown",
      "metadata": {},
      "source": [
        "<b><i>Assuming we need to predict city-mpg</i></b>"
      ]
    },
    {
      "cell_type": "code",
      "execution_count": 21,
      "metadata": {
        "id": "gDd0icwlS1VR"
      },
      "outputs": [],
      "source": [
        "data_auto_original = pd.read_csv('https://s3-api.us-geo.objectstorage.softlayer.net/cf-courses-data/CognitiveClass/DA0101EN/automobileEDA.csv')"
      ]
    },
    {
      "cell_type": "code",
      "execution_count": 22,
      "metadata": {},
      "outputs": [
        {
          "data": {
            "text/html": [
              "<div>\n",
              "<style scoped>\n",
              "    .dataframe tbody tr th:only-of-type {\n",
              "        vertical-align: middle;\n",
              "    }\n",
              "\n",
              "    .dataframe tbody tr th {\n",
              "        vertical-align: top;\n",
              "    }\n",
              "\n",
              "    .dataframe thead th {\n",
              "        text-align: right;\n",
              "    }\n",
              "</style>\n",
              "<table border=\"1\" class=\"dataframe\">\n",
              "  <thead>\n",
              "    <tr style=\"text-align: right;\">\n",
              "      <th></th>\n",
              "      <th>symboling</th>\n",
              "      <th>normalized-losses</th>\n",
              "      <th>make</th>\n",
              "      <th>aspiration</th>\n",
              "      <th>num-of-doors</th>\n",
              "      <th>body-style</th>\n",
              "      <th>drive-wheels</th>\n",
              "      <th>engine-location</th>\n",
              "      <th>wheel-base</th>\n",
              "      <th>length</th>\n",
              "      <th>...</th>\n",
              "      <th>compression-ratio</th>\n",
              "      <th>horsepower</th>\n",
              "      <th>peak-rpm</th>\n",
              "      <th>city-mpg</th>\n",
              "      <th>highway-mpg</th>\n",
              "      <th>price</th>\n",
              "      <th>city-L/100km</th>\n",
              "      <th>horsepower-binned</th>\n",
              "      <th>diesel</th>\n",
              "      <th>gas</th>\n",
              "    </tr>\n",
              "  </thead>\n",
              "  <tbody>\n",
              "    <tr>\n",
              "      <th>0</th>\n",
              "      <td>3</td>\n",
              "      <td>122</td>\n",
              "      <td>alfa-romero</td>\n",
              "      <td>std</td>\n",
              "      <td>two</td>\n",
              "      <td>convertible</td>\n",
              "      <td>rwd</td>\n",
              "      <td>front</td>\n",
              "      <td>88.6</td>\n",
              "      <td>0.811148</td>\n",
              "      <td>...</td>\n",
              "      <td>9.0</td>\n",
              "      <td>111.0</td>\n",
              "      <td>5000.0</td>\n",
              "      <td>21</td>\n",
              "      <td>27</td>\n",
              "      <td>13495.0</td>\n",
              "      <td>11.190476</td>\n",
              "      <td>Medium</td>\n",
              "      <td>0</td>\n",
              "      <td>1</td>\n",
              "    </tr>\n",
              "    <tr>\n",
              "      <th>1</th>\n",
              "      <td>3</td>\n",
              "      <td>122</td>\n",
              "      <td>alfa-romero</td>\n",
              "      <td>std</td>\n",
              "      <td>two</td>\n",
              "      <td>convertible</td>\n",
              "      <td>rwd</td>\n",
              "      <td>front</td>\n",
              "      <td>88.6</td>\n",
              "      <td>0.811148</td>\n",
              "      <td>...</td>\n",
              "      <td>9.0</td>\n",
              "      <td>111.0</td>\n",
              "      <td>5000.0</td>\n",
              "      <td>21</td>\n",
              "      <td>27</td>\n",
              "      <td>16500.0</td>\n",
              "      <td>11.190476</td>\n",
              "      <td>Medium</td>\n",
              "      <td>0</td>\n",
              "      <td>1</td>\n",
              "    </tr>\n",
              "    <tr>\n",
              "      <th>2</th>\n",
              "      <td>1</td>\n",
              "      <td>122</td>\n",
              "      <td>alfa-romero</td>\n",
              "      <td>std</td>\n",
              "      <td>two</td>\n",
              "      <td>hatchback</td>\n",
              "      <td>rwd</td>\n",
              "      <td>front</td>\n",
              "      <td>94.5</td>\n",
              "      <td>0.822681</td>\n",
              "      <td>...</td>\n",
              "      <td>9.0</td>\n",
              "      <td>154.0</td>\n",
              "      <td>5000.0</td>\n",
              "      <td>19</td>\n",
              "      <td>26</td>\n",
              "      <td>16500.0</td>\n",
              "      <td>12.368421</td>\n",
              "      <td>Medium</td>\n",
              "      <td>0</td>\n",
              "      <td>1</td>\n",
              "    </tr>\n",
              "    <tr>\n",
              "      <th>3</th>\n",
              "      <td>2</td>\n",
              "      <td>164</td>\n",
              "      <td>audi</td>\n",
              "      <td>std</td>\n",
              "      <td>four</td>\n",
              "      <td>sedan</td>\n",
              "      <td>fwd</td>\n",
              "      <td>front</td>\n",
              "      <td>99.8</td>\n",
              "      <td>0.848630</td>\n",
              "      <td>...</td>\n",
              "      <td>10.0</td>\n",
              "      <td>102.0</td>\n",
              "      <td>5500.0</td>\n",
              "      <td>24</td>\n",
              "      <td>30</td>\n",
              "      <td>13950.0</td>\n",
              "      <td>9.791667</td>\n",
              "      <td>Medium</td>\n",
              "      <td>0</td>\n",
              "      <td>1</td>\n",
              "    </tr>\n",
              "    <tr>\n",
              "      <th>4</th>\n",
              "      <td>2</td>\n",
              "      <td>164</td>\n",
              "      <td>audi</td>\n",
              "      <td>std</td>\n",
              "      <td>four</td>\n",
              "      <td>sedan</td>\n",
              "      <td>4wd</td>\n",
              "      <td>front</td>\n",
              "      <td>99.4</td>\n",
              "      <td>0.848630</td>\n",
              "      <td>...</td>\n",
              "      <td>8.0</td>\n",
              "      <td>115.0</td>\n",
              "      <td>5500.0</td>\n",
              "      <td>18</td>\n",
              "      <td>22</td>\n",
              "      <td>17450.0</td>\n",
              "      <td>13.055556</td>\n",
              "      <td>Medium</td>\n",
              "      <td>0</td>\n",
              "      <td>1</td>\n",
              "    </tr>\n",
              "  </tbody>\n",
              "</table>\n",
              "<p>5 rows × 29 columns</p>\n",
              "</div>"
            ],
            "text/plain": [
              "   symboling  normalized-losses         make aspiration num-of-doors  \\\n",
              "0          3                122  alfa-romero        std          two   \n",
              "1          3                122  alfa-romero        std          two   \n",
              "2          1                122  alfa-romero        std          two   \n",
              "3          2                164         audi        std         four   \n",
              "4          2                164         audi        std         four   \n",
              "\n",
              "    body-style drive-wheels engine-location  wheel-base    length  ...  \\\n",
              "0  convertible          rwd           front        88.6  0.811148  ...   \n",
              "1  convertible          rwd           front        88.6  0.811148  ...   \n",
              "2    hatchback          rwd           front        94.5  0.822681  ...   \n",
              "3        sedan          fwd           front        99.8  0.848630  ...   \n",
              "4        sedan          4wd           front        99.4  0.848630  ...   \n",
              "\n",
              "   compression-ratio  horsepower  peak-rpm city-mpg highway-mpg    price  \\\n",
              "0                9.0       111.0    5000.0       21          27  13495.0   \n",
              "1                9.0       111.0    5000.0       21          27  16500.0   \n",
              "2                9.0       154.0    5000.0       19          26  16500.0   \n",
              "3               10.0       102.0    5500.0       24          30  13950.0   \n",
              "4                8.0       115.0    5500.0       18          22  17450.0   \n",
              "\n",
              "  city-L/100km  horsepower-binned  diesel  gas  \n",
              "0    11.190476             Medium       0    1  \n",
              "1    11.190476             Medium       0    1  \n",
              "2    12.368421             Medium       0    1  \n",
              "3     9.791667             Medium       0    1  \n",
              "4    13.055556             Medium       0    1  \n",
              "\n",
              "[5 rows x 29 columns]"
            ]
          },
          "execution_count": 22,
          "metadata": {},
          "output_type": "execute_result"
        }
      ],
      "source": [
        "data_auto = data_auto_original.copy()\n",
        "data_auto.head()"
      ]
    },
    {
      "cell_type": "code",
      "execution_count": 23,
      "metadata": {},
      "outputs": [
        {
          "name": "stdout",
          "output_type": "stream",
          "text": [
            "Index(['stroke', 'horsepower-binned'], dtype='object')\n",
            "stroke               4\n",
            "horsepower-binned    1\n",
            "dtype: int64\n"
          ]
        }
      ],
      "source": [
        "# Count no of columns with NA values\n",
        "print(data_auto.columns[data_auto.isna().sum() > 0])\n",
        "print(data_auto.isna().sum()[['stroke','horsepower-binned']])"
      ]
    },
    {
      "cell_type": "code",
      "execution_count": 24,
      "metadata": {},
      "outputs": [
        {
          "name": "stdout",
          "output_type": "stream",
          "text": [
            "Index([], dtype='object')\n"
          ]
        }
      ],
      "source": [
        "# Since only 5 data values have empty columns, we can remove them\n",
        "data_auto.dropna(inplace=True)\n",
        "print(data_auto.columns[data_auto.isna().sum() > 0])"
      ]
    },
    {
      "cell_type": "code",
      "execution_count": 25,
      "metadata": {},
      "outputs": [
        {
          "data": {
            "text/plain": [
              "0      11.190476\n",
              "1      11.190476\n",
              "2      12.368421\n",
              "3       9.791667\n",
              "4      13.055556\n",
              "         ...    \n",
              "196    10.217391\n",
              "197    12.368421\n",
              "198    13.055556\n",
              "199     9.038462\n",
              "200    12.368421\n",
              "Name: city-L/100km, Length: 196, dtype: float64"
            ]
          },
          "execution_count": 25,
          "metadata": {},
          "output_type": "execute_result"
        }
      ],
      "source": [
        "data_auto['city-L/100km']"
      ]
    },
    {
      "cell_type": "code",
      "execution_count": 26,
      "metadata": {},
      "outputs": [
        {
          "data": {
            "text/plain": [
              "Index(['symboling', 'normalized-losses', 'make', 'aspiration', 'num-of-doors',\n",
              "       'body-style', 'drive-wheels', 'engine-location', 'wheel-base', 'length',\n",
              "       'width', 'height', 'curb-weight', 'engine-type', 'num-of-cylinders',\n",
              "       'engine-size', 'fuel-system', 'bore', 'stroke', 'compression-ratio',\n",
              "       'horsepower', 'peak-rpm', 'city-mpg', 'highway-mpg', 'price',\n",
              "       'city-L/100km', 'horsepower-binned', 'diesel', 'gas'],\n",
              "      dtype='object')"
            ]
          },
          "execution_count": 26,
          "metadata": {},
          "output_type": "execute_result"
        }
      ],
      "source": [
        "data_auto.columns"
      ]
    },
    {
      "cell_type": "code",
      "execution_count": 27,
      "metadata": {},
      "outputs": [
        {
          "data": {
            "text/plain": [
              "Index(['symboling', 'normalized-losses', 'make', 'aspiration', 'num-of-doors',\n",
              "       'body-style', 'drive-wheels', 'engine-location', 'wheel-base', 'length',\n",
              "       'width', 'height', 'curb-weight', 'engine-type', 'num-of-cylinders',\n",
              "       'engine-size', 'fuel-system', 'bore', 'stroke', 'compression-ratio',\n",
              "       'horsepower', 'peak-rpm', 'city-mpg', 'price', 'horsepower-binned',\n",
              "       'diesel', 'gas'],\n",
              "      dtype='object')"
            ]
          },
          "execution_count": 27,
          "metadata": {},
          "output_type": "execute_result"
        }
      ],
      "source": [
        "# Dropping other columns that are directly related to mpg column\n",
        "data_auto.drop(['highway-mpg', 'city-L/100km'], axis=1, inplace=True)\n",
        "data_auto.columns"
      ]
    },
    {
      "cell_type": "code",
      "execution_count": 28,
      "metadata": {},
      "outputs": [
        {
          "name": "stdout",
          "output_type": "stream",
          "text": [
            "0    176\n",
            "1     20\n",
            "Name: diesel, dtype: int64 1    176\n",
            "0     20\n",
            "Name: gas, dtype: int64\n",
            "Index(['symboling', 'normalized-losses', 'make', 'aspiration', 'num-of-doors',\n",
            "       'body-style', 'drive-wheels', 'engine-location', 'wheel-base', 'length',\n",
            "       'width', 'height', 'curb-weight', 'engine-type', 'num-of-cylinders',\n",
            "       'engine-size', 'fuel-system', 'bore', 'stroke', 'compression-ratio',\n",
            "       'horsepower', 'peak-rpm', 'city-mpg', 'price', 'horsepower-binned',\n",
            "       'diesel'],\n",
            "      dtype='object')\n"
          ]
        }
      ],
      "source": [
        "print(data_auto['diesel'].value_counts(), data_auto['gas'].value_counts())\n",
        "\n",
        "# Since diesel and gas data are linearly dependent, we can remove it (As it affects the LR model)\n",
        "data_auto.drop(['gas'], axis=1, inplace=True)\n",
        "\n",
        "print(data_auto.columns)"
      ]
    },
    {
      "cell_type": "code",
      "execution_count": 29,
      "metadata": {},
      "outputs": [
        {
          "data": {
            "text/plain": [
              "(196, 26)"
            ]
          },
          "execution_count": 29,
          "metadata": {},
          "output_type": "execute_result"
        }
      ],
      "source": [
        "data_auto.shape"
      ]
    },
    {
      "cell_type": "code",
      "execution_count": 30,
      "metadata": {},
      "outputs": [
        {
          "name": "stdout",
          "output_type": "stream",
          "text": [
            "<class 'pandas.core.frame.DataFrame'>\n",
            "Int64Index: 196 entries, 0 to 200\n",
            "Data columns (total 26 columns):\n",
            " #   Column             Non-Null Count  Dtype  \n",
            "---  ------             --------------  -----  \n",
            " 0   symboling          196 non-null    int64  \n",
            " 1   normalized-losses  196 non-null    int64  \n",
            " 2   make               196 non-null    object \n",
            " 3   aspiration         196 non-null    object \n",
            " 4   num-of-doors       196 non-null    object \n",
            " 5   body-style         196 non-null    object \n",
            " 6   drive-wheels       196 non-null    object \n",
            " 7   engine-location    196 non-null    object \n",
            " 8   wheel-base         196 non-null    float64\n",
            " 9   length             196 non-null    float64\n",
            " 10  width              196 non-null    float64\n",
            " 11  height             196 non-null    float64\n",
            " 12  curb-weight        196 non-null    int64  \n",
            " 13  engine-type        196 non-null    object \n",
            " 14  num-of-cylinders   196 non-null    object \n",
            " 15  engine-size        196 non-null    int64  \n",
            " 16  fuel-system        196 non-null    object \n",
            " 17  bore               196 non-null    float64\n",
            " 18  stroke             196 non-null    float64\n",
            " 19  compression-ratio  196 non-null    float64\n",
            " 20  horsepower         196 non-null    float64\n",
            " 21  peak-rpm           196 non-null    float64\n",
            " 22  city-mpg           196 non-null    int64  \n",
            " 23  price              196 non-null    float64\n",
            " 24  horsepower-binned  196 non-null    object \n",
            " 25  diesel             196 non-null    int64  \n",
            "dtypes: float64(10), int64(6), object(10)\n",
            "memory usage: 41.3+ KB\n"
          ]
        }
      ],
      "source": [
        "data_auto.info()"
      ]
    },
    {
      "cell_type": "markdown",
      "metadata": {
        "id": "uhCZ1KetT9eR"
      },
      "source": [
        "## 2. Visualise/Plot the regression model"
      ]
    },
    {
      "cell_type": "code",
      "execution_count": 41,
      "metadata": {},
      "outputs": [
        {
          "name": "stdout",
          "output_type": "stream",
          "text": [
            "    symboling  normalized-losses       make aspiration num-of-doors  \\\n",
            "17          2                121  chevrolet        std          two   \n",
            "29          2                137      honda        std          two   \n",
            "87          1                128     nissan        std          two   \n",
            "\n",
            "   body-style drive-wheels engine-location  wheel-base    length  ...  \\\n",
            "17  hatchback          fwd           front        88.4  0.678039  ...   \n",
            "29  hatchback          fwd           front        86.6  0.694858  ...   \n",
            "87      sedan          fwd           front        94.5  0.794330  ...   \n",
            "\n",
            "    fuel-system  bore  stroke compression-ratio horsepower  peak-rpm city-mpg  \\\n",
            "17         2bbl  2.91    3.03               9.5   0.382893    5100.0       47   \n",
            "29         1bbl  2.91    3.41               9.6   0.313486    4800.0       49   \n",
            "87          idi  2.99    3.47              21.9   0.332871    4800.0       45   \n",
            "\n",
            "       price  horsepower-binned  diesel  \n",
            "17  0.842232                Low       0  \n",
            "29  0.805762                Low       0  \n",
            "87  0.789281                Low       1  \n",
            "\n",
            "[3 rows x 26 columns]\n"
          ]
        }
      ],
      "source": [
        "print(data_auto[data_auto['city-mpg']>40])\n",
        "\n",
        "data_auto.drop([17,29,87], axis=0,inplace=True)"
      ]
    },
    {
      "cell_type": "markdown",
      "metadata": {
        "id": "z6bwJSrlUB2-"
      },
      "source": [
        "## 3. Generate a Linear Regression equation"
      ]
    },
    {
      "cell_type": "code",
      "execution_count": 45,
      "metadata": {
        "id": "qNJJPKnRUEcA"
      },
      "outputs": [],
      "source": [
        "X_train_q2, X_test_q2, y_train_q2, y_test_q2 = train_test_split(new_df.loc[:, new_df.columns != 'city-mpg'], new_df['city-mpg'], test_size=0.2, random_state=42)"
      ]
    },
    {
      "cell_type": "code",
      "execution_count": 46,
      "metadata": {},
      "outputs": [
        {
          "data": {
            "text/html": [
              "<style>#sk-container-id-2 {color: black;background-color: white;}#sk-container-id-2 pre{padding: 0;}#sk-container-id-2 div.sk-toggleable {background-color: white;}#sk-container-id-2 label.sk-toggleable__label {cursor: pointer;display: block;width: 100%;margin-bottom: 0;padding: 0.3em;box-sizing: border-box;text-align: center;}#sk-container-id-2 label.sk-toggleable__label-arrow:before {content: \"▸\";float: left;margin-right: 0.25em;color: #696969;}#sk-container-id-2 label.sk-toggleable__label-arrow:hover:before {color: black;}#sk-container-id-2 div.sk-estimator:hover label.sk-toggleable__label-arrow:before {color: black;}#sk-container-id-2 div.sk-toggleable__content {max-height: 0;max-width: 0;overflow: hidden;text-align: left;background-color: #f0f8ff;}#sk-container-id-2 div.sk-toggleable__content pre {margin: 0.2em;color: black;border-radius: 0.25em;background-color: #f0f8ff;}#sk-container-id-2 input.sk-toggleable__control:checked~div.sk-toggleable__content {max-height: 200px;max-width: 100%;overflow: auto;}#sk-container-id-2 input.sk-toggleable__control:checked~label.sk-toggleable__label-arrow:before {content: \"▾\";}#sk-container-id-2 div.sk-estimator input.sk-toggleable__control:checked~label.sk-toggleable__label {background-color: #d4ebff;}#sk-container-id-2 div.sk-label input.sk-toggleable__control:checked~label.sk-toggleable__label {background-color: #d4ebff;}#sk-container-id-2 input.sk-hidden--visually {border: 0;clip: rect(1px 1px 1px 1px);clip: rect(1px, 1px, 1px, 1px);height: 1px;margin: -1px;overflow: hidden;padding: 0;position: absolute;width: 1px;}#sk-container-id-2 div.sk-estimator {font-family: monospace;background-color: #f0f8ff;border: 1px dotted black;border-radius: 0.25em;box-sizing: border-box;margin-bottom: 0.5em;}#sk-container-id-2 div.sk-estimator:hover {background-color: #d4ebff;}#sk-container-id-2 div.sk-parallel-item::after {content: \"\";width: 100%;border-bottom: 1px solid gray;flex-grow: 1;}#sk-container-id-2 div.sk-label:hover label.sk-toggleable__label {background-color: #d4ebff;}#sk-container-id-2 div.sk-serial::before {content: \"\";position: absolute;border-left: 1px solid gray;box-sizing: border-box;top: 0;bottom: 0;left: 50%;z-index: 0;}#sk-container-id-2 div.sk-serial {display: flex;flex-direction: column;align-items: center;background-color: white;padding-right: 0.2em;padding-left: 0.2em;position: relative;}#sk-container-id-2 div.sk-item {position: relative;z-index: 1;}#sk-container-id-2 div.sk-parallel {display: flex;align-items: stretch;justify-content: center;background-color: white;position: relative;}#sk-container-id-2 div.sk-item::before, #sk-container-id-2 div.sk-parallel-item::before {content: \"\";position: absolute;border-left: 1px solid gray;box-sizing: border-box;top: 0;bottom: 0;left: 50%;z-index: -1;}#sk-container-id-2 div.sk-parallel-item {display: flex;flex-direction: column;z-index: 1;position: relative;background-color: white;}#sk-container-id-2 div.sk-parallel-item:first-child::after {align-self: flex-end;width: 50%;}#sk-container-id-2 div.sk-parallel-item:last-child::after {align-self: flex-start;width: 50%;}#sk-container-id-2 div.sk-parallel-item:only-child::after {width: 0;}#sk-container-id-2 div.sk-dashed-wrapped {border: 1px dashed gray;margin: 0 0.4em 0.5em 0.4em;box-sizing: border-box;padding-bottom: 0.4em;background-color: white;}#sk-container-id-2 div.sk-label label {font-family: monospace;font-weight: bold;display: inline-block;line-height: 1.2em;}#sk-container-id-2 div.sk-label-container {text-align: center;}#sk-container-id-2 div.sk-container {/* jupyter's `normalize.less` sets `[hidden] { display: none; }` but bootstrap.min.css set `[hidden] { display: none !important; }` so we also need the `!important` here to be able to override the default hidden behavior on the sphinx rendered scikit-learn.org. See: https://github.com/scikit-learn/scikit-learn/issues/21755 */display: inline-block !important;position: relative;}#sk-container-id-2 div.sk-text-repr-fallback {display: none;}</style><div id=\"sk-container-id-2\" class=\"sk-top-container\"><div class=\"sk-text-repr-fallback\"><pre>LinearRegression()</pre><b>In a Jupyter environment, please rerun this cell to show the HTML representation or trust the notebook. <br />On GitHub, the HTML representation is unable to render, please try loading this page with nbviewer.org.</b></div><div class=\"sk-container\" hidden><div class=\"sk-item\"><div class=\"sk-estimator sk-toggleable\"><input class=\"sk-toggleable__control sk-hidden--visually\" id=\"sk-estimator-id-4\" type=\"checkbox\" checked><label for=\"sk-estimator-id-4\" class=\"sk-toggleable__label sk-toggleable__label-arrow\">LinearRegression</label><div class=\"sk-toggleable__content\"><pre>LinearRegression()</pre></div></div></div></div></div>"
            ],
            "text/plain": [
              "LinearRegression()"
            ]
          },
          "execution_count": 46,
          "metadata": {},
          "output_type": "execute_result"
        }
      ],
      "source": [
        "from sklearn.pipeline import make_pipeline\n",
        "from sklearn.preprocessing import StandardScaler\n",
        "\n",
        "#q2_model_linear = make_pipeline(StandardScaler(with_mean=False), LinearRegression())\n",
        "q2_model_linear = LinearRegression()\n",
        "q2_model_linear.fit(X_train_q2, y_train_q2)"
      ]
    },
    {
      "cell_type": "markdown",
      "metadata": {
        "id": "l_c0JMfiUFAs"
      },
      "source": [
        "## 4. Use a residual plot to inspect if LR fits the model"
      ]
    },
    {
      "cell_type": "code",
      "execution_count": null,
      "metadata": {
        "id": "0l78Xd1jUH_0"
      },
      "outputs": [],
      "source": []
    },
    {
      "cell_type": "markdown",
      "metadata": {
        "id": "_0i261n5UIgQ"
      },
      "source": [
        "## 5. Use R2 and MSE to determine the accuracy of the LR fit "
      ]
    },
    {
      "cell_type": "markdown",
      "metadata": {
        "id": "UNRD8r7mUNVU"
      },
      "source": [
        "# Question 3 (20 points)"
      ]
    },
    {
      "cell_type": "markdown",
      "metadata": {
        "id": "ItR7cF5fUY66"
      },
      "source": [
        "### In this assignment, you will experiment with a toy dataset – the Iris dataset."
      ]
    },
    {
      "cell_type": "markdown",
      "metadata": {
        "id": "gtcrm-IDUbr5"
      },
      "source": [
        "## 1. Load the Iris dataset."
      ]
    },
    {
      "cell_type": "code",
      "execution_count": 33,
      "metadata": {
        "id": "hE_vKdz6UQVt"
      },
      "outputs": [
        {
          "data": {
            "text/plain": [
              "dict_keys(['data', 'target', 'frame', 'target_names', 'DESCR', 'feature_names', 'filename', 'data_module'])"
            ]
          },
          "execution_count": 33,
          "metadata": {},
          "output_type": "execute_result"
        }
      ],
      "source": [
        "# use -  sklearn.datasets.load_iris\n",
        "from sklearn.datasets import load_iris\n",
        "iris_data = load_iris()\n",
        "iris_data.keys()"
      ]
    },
    {
      "cell_type": "code",
      "execution_count": 34,
      "metadata": {},
      "outputs": [
        {
          "data": {
            "text/plain": [
              "array(['setosa', 'versicolor', 'virginica'], dtype='<U10')"
            ]
          },
          "execution_count": 34,
          "metadata": {},
          "output_type": "execute_result"
        }
      ],
      "source": [
        "iris_data['target_names']"
      ]
    },
    {
      "cell_type": "code",
      "execution_count": 35,
      "metadata": {},
      "outputs": [
        {
          "data": {
            "text/html": [
              "<div>\n",
              "<style scoped>\n",
              "    .dataframe tbody tr th:only-of-type {\n",
              "        vertical-align: middle;\n",
              "    }\n",
              "\n",
              "    .dataframe tbody tr th {\n",
              "        vertical-align: top;\n",
              "    }\n",
              "\n",
              "    .dataframe thead th {\n",
              "        text-align: right;\n",
              "    }\n",
              "</style>\n",
              "<table border=\"1\" class=\"dataframe\">\n",
              "  <thead>\n",
              "    <tr style=\"text-align: right;\">\n",
              "      <th></th>\n",
              "      <th>sepal length (cm)</th>\n",
              "      <th>sepal width (cm)</th>\n",
              "      <th>petal length (cm)</th>\n",
              "      <th>petal width (cm)</th>\n",
              "      <th>target</th>\n",
              "    </tr>\n",
              "  </thead>\n",
              "  <tbody>\n",
              "    <tr>\n",
              "      <th>0</th>\n",
              "      <td>5.1</td>\n",
              "      <td>3.5</td>\n",
              "      <td>1.4</td>\n",
              "      <td>0.2</td>\n",
              "      <td>0</td>\n",
              "    </tr>\n",
              "    <tr>\n",
              "      <th>1</th>\n",
              "      <td>4.9</td>\n",
              "      <td>3.0</td>\n",
              "      <td>1.4</td>\n",
              "      <td>0.2</td>\n",
              "      <td>0</td>\n",
              "    </tr>\n",
              "    <tr>\n",
              "      <th>2</th>\n",
              "      <td>4.7</td>\n",
              "      <td>3.2</td>\n",
              "      <td>1.3</td>\n",
              "      <td>0.2</td>\n",
              "      <td>0</td>\n",
              "    </tr>\n",
              "    <tr>\n",
              "      <th>3</th>\n",
              "      <td>4.6</td>\n",
              "      <td>3.1</td>\n",
              "      <td>1.5</td>\n",
              "      <td>0.2</td>\n",
              "      <td>0</td>\n",
              "    </tr>\n",
              "    <tr>\n",
              "      <th>4</th>\n",
              "      <td>5.0</td>\n",
              "      <td>3.6</td>\n",
              "      <td>1.4</td>\n",
              "      <td>0.2</td>\n",
              "      <td>0</td>\n",
              "    </tr>\n",
              "  </tbody>\n",
              "</table>\n",
              "</div>"
            ],
            "text/plain": [
              "   sepal length (cm)  sepal width (cm)  petal length (cm)  petal width (cm)  \\\n",
              "0                5.1               3.5                1.4               0.2   \n",
              "1                4.9               3.0                1.4               0.2   \n",
              "2                4.7               3.2                1.3               0.2   \n",
              "3                4.6               3.1                1.5               0.2   \n",
              "4                5.0               3.6                1.4               0.2   \n",
              "\n",
              "   target  \n",
              "0       0  \n",
              "1       0  \n",
              "2       0  \n",
              "3       0  \n",
              "4       0  "
            ]
          },
          "execution_count": 35,
          "metadata": {},
          "output_type": "execute_result"
        }
      ],
      "source": [
        "iris_df = pd.DataFrame(iris_data['data'], columns=iris_data['feature_names'])\n",
        "iris_df['target'] = iris_data['target']\n",
        "iris_df.head()"
      ]
    },
    {
      "cell_type": "markdown",
      "metadata": {
        "id": "0kZJ_PPsVOIS"
      },
      "source": [
        "## 2. The Iris data has 3 classes. For the purpose of this assignment, you will modify it such that it has two classes – specifically, you will merge the “setosa” and “versicolor” classes."
      ]
    },
    {
      "cell_type": "code",
      "execution_count": 36,
      "metadata": {
        "id": "SjHzStWgVSbg"
      },
      "outputs": [],
      "source": [
        "iris_df['target'] = iris_df['target'].apply(lambda x:0 if x==1 else x)"
      ]
    },
    {
      "cell_type": "markdown",
      "metadata": {
        "id": "op2Xh95_VS83"
      },
      "source": [
        "## 3. Construct a training set and a testing set using 80-20 split using random sampling."
      ]
    },
    {
      "cell_type": "code",
      "execution_count": 37,
      "metadata": {
        "id": "sY8bt64fVW7Y"
      },
      "outputs": [],
      "source": [
        "X_q3_rnd_train, X_q3_rnd_test, y_q3_rnd_train, y_q3_rnd_test = train_test_split(iris_df.loc[:, iris_df.columns != 'target'], iris_df['target'], test_size=0.2, random_state=42)"
      ]
    },
    {
      "cell_type": "markdown",
      "metadata": {
        "id": "Hn_mAD5bVX1x"
      },
      "source": [
        "## 4. Use Logistic Regression as a black box classifier and assess the performance."
      ]
    },
    {
      "cell_type": "code",
      "execution_count": 40,
      "metadata": {
        "id": "GxixZXXjV3tn"
      },
      "outputs": [
        {
          "data": {
            "text/plain": [
              "1.0"
            ]
          },
          "execution_count": 40,
          "metadata": {},
          "output_type": "execute_result"
        }
      ],
      "source": [
        "from sklearn.linear_model import LogisticRegressionCV\n",
        "model_q3_rnd = LogisticRegressionCV()\n",
        "model_q3_rnd.fit(X_q3_rnd_train, y_q3_rnd_train)\n",
        "model_q3_rnd.score(X_q3_rnd_test, y_q3_rnd_test)"
      ]
    },
    {
      "cell_type": "markdown",
      "metadata": {
        "id": "Mqnqyj06V5bs"
      },
      "source": [
        "## 5. Implement stratified sampling, again using the 80-20 split. Decide the stratification variable and explain your choice."
      ]
    },
    {
      "cell_type": "code",
      "execution_count": 13,
      "metadata": {},
      "outputs": [
        {
          "data": {
            "text/plain": [
              "<AxesSubplot:xlabel='target', ylabel='sepal length (cm)'>"
            ]
          },
          "execution_count": 13,
          "metadata": {},
          "output_type": "execute_result"
        },
        {
          "data": {
            "image/png": "[encoded data removed]",
            "text/plain": [
              "<Figure size 640x480 with 1 Axes>"
            ]
          },
          "metadata": {},
          "output_type": "display_data"
        }
      ],
      "source": [
        "sns.boxplot(iris_df, y='sepal length (cm)', x='target')"
      ]
    },
    {
      "cell_type": "code",
      "execution_count": 14,
      "metadata": {
        "id": "VqkFW4BgV7x3"
      },
      "outputs": [
        {
          "data": {
            "text/plain": [
              "<AxesSubplot:xlabel='target', ylabel='sepal width (cm)'>"
            ]
          },
          "execution_count": 14,
          "metadata": {},
          "output_type": "execute_result"
        },
        {
          "data": {
            "image/png": "[encoded data removed]",
            "text/plain": [
              "<Figure size 640x480 with 1 Axes>"
            ]
          },
          "metadata": {},
          "output_type": "display_data"
        }
      ],
      "source": [
        "sns.boxplot(iris_df, y='sepal width (cm)', x='target')"
      ]
    },
    {
      "cell_type": "code",
      "execution_count": 15,
      "metadata": {},
      "outputs": [
        {
          "data": {
            "text/plain": [
              "<AxesSubplot:xlabel='target', ylabel='petal length (cm)'>"
            ]
          },
          "execution_count": 15,
          "metadata": {},
          "output_type": "execute_result"
        },
        {
          "data": {
            "image/png": "[encoded data removed]",
            "text/plain": [
              "<Figure size 640x480 with 1 Axes>"
            ]
          },
          "metadata": {},
          "output_type": "display_data"
        }
      ],
      "source": [
        "sns.boxplot(iris_df, y='petal length (cm)', x='target')"
      ]
    },
    {
      "cell_type": "code",
      "execution_count": 16,
      "metadata": {},
      "outputs": [
        {
          "data": {
            "text/plain": [
              "<AxesSubplot:xlabel='target', ylabel='petal width (cm)'>"
            ]
          },
          "execution_count": 16,
          "metadata": {},
          "output_type": "execute_result"
        },
        {
          "data": {
            "image/png": "[encoded data removed]",
            "text/plain": [
              "<Figure size 640x480 with 1 Axes>"
            ]
          },
          "metadata": {},
          "output_type": "display_data"
        }
      ],
      "source": [
        "sns.boxplot(iris_df, y='petal width (cm)', x='target')"
      ]
    },
    {
      "cell_type": "code",
      "execution_count": 46,
      "metadata": {},
      "outputs": [],
      "source": [
        "X_q3_str_train, X_q3_str_test, y_q3_str_train, y_q3_str_test = train_test_split(iris_df.loc[:, iris_df.columns != 'target'], iris_df['target'], test_size=0.2, stratify=iris_df['target'], random_state=42)"
      ]
    },
    {
      "cell_type": "markdown",
      "metadata": {
        "id": "2NDZQWq0V8Ne"
      },
      "source": [
        "## 6. Re-assess the performance. Comment on any changes from the random sampling case. If there is no significant change, comment on why or why not?"
      ]
    },
    {
      "cell_type": "code",
      "execution_count": 47,
      "metadata": {
        "id": "v4DOjn7TV_Kr"
      },
      "outputs": [
        {
          "data": {
            "text/plain": [
              "1.0"
            ]
          },
          "execution_count": 47,
          "metadata": {},
          "output_type": "execute_result"
        }
      ],
      "source": [
        "from sklearn.linear_model import LogisticRegressionCV\n",
        "model_q3_str = LogisticRegressionCV()\n",
        "model_q3_str.fit(X_q3_rnd_train, y_q3_rnd_train)\n",
        "model_q3_str.score(X_q3_rnd_test, y_q3_rnd_test)"
      ]
    },
    {
      "cell_type": "markdown",
      "metadata": {},
      "source": [
        "Both the models are equally good and give 100% accuracy. This is probably because after merging 2 classes we find that the data is very clearly linearly seperable and this is evident in the wide range observed in the boxplots of the 2 classes. Thus, stratified sampling does improve the results in this case."
      ]
    }
  ],
  "metadata": {
    "colab": {
      "provenance": []
    },
    "kernelspec": {
      "display_name": "Python 3.10.8 64-bit (microsoft store)",
      "language": "python",
      "name": "python3"
    },
    "language_info": {
      "codemirror_mode": {
        "name": "ipython",
        "version": 3
      },
      "file_extension": ".py",
      "mimetype": "text/x-python",
      "name": "python",
      "nbconvert_exporter": "python",
      "pygments_lexer": "ipython3",
      "version": "3.10.8"
    },
    "vscode": {
      "interpreter": {
        "hash": "e0acaf148705ed9ed86cc5cad12259d7985e30670e5686e5f55604a9b3b84a55"
      }
    }
  },
  "nbformat": 4,
  "nbformat_minor": 0
}
