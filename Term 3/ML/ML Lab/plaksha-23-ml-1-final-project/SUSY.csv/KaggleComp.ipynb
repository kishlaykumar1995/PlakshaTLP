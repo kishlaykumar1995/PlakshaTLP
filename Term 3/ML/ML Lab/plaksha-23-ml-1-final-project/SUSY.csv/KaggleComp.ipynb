{
 "cells": [
  {
   "cell_type": "code",
   "execution_count": 1,
   "metadata": {},
   "outputs": [],
   "source": [
    "import numpy as np\n",
    "import pandas as pd\n",
    "import matplotlib.pyplot as plt\n",
    "import seaborn as sns"
   ]
  },
  {
   "attachments": {},
   "cell_type": "markdown",
   "metadata": {},
   "source": [
    "# Susy Dataset"
   ]
  },
  {
   "cell_type": "code",
   "execution_count": 2,
   "metadata": {},
   "outputs": [],
   "source": [
    "df = pd.read_csv(\"../train.csv\", index_col=0)\n",
    "df.head()\n",
    "\n",
    "df_test = pd.read_csv(\"../test.csv\", index_col=0)\n",
    "columns = ['class'] + list(df.columns)[:-1]\n",
    "df_full = pd.read_csv(\"./SUSY.csv\", names=columns)\n",
    "df_full = df_full[list(df.columns)]\n",
    "\n",
    "df_full['JOIN'] = df_full['lepton_1_pT'].astype('str').apply(lambda x: x[:7]) + \\\n",
    "                    df_full['lepton_1_eta'].astype('str').apply(lambda x: x[:7]) + \\\n",
    "                        df_full['lepton_1_phi'].astype('str').apply(lambda x: x[:7])\n",
    "\n",
    "df_test['JOIN'] = df_test['lepton_1_pT'].astype('str').apply(lambda x: x[:7]) + \\\n",
    "                    df_test['lepton_1_eta'].astype('str').apply(lambda x: x[:7]) + \\\n",
    "                        df_test['lepton_1_phi'].astype('str').apply(lambda x: x[:7])\n",
    "\n",
    "df_all = df_full.merge(df_test, on=['JOIN'], how='left', indicator=True)\n",
    "\n",
    "df_test = df_full.iloc[(df_all[df_all['_merge'] == 'both']).index].drop('JOIN', axis=1)"
   ]
  },
  {
   "cell_type": "code",
   "execution_count": 3,
   "metadata": {},
   "outputs": [
    {
     "data": {
      "text/html": [
       "<div>\n",
       "<style scoped>\n",
       "    .dataframe tbody tr th:only-of-type {\n",
       "        vertical-align: middle;\n",
       "    }\n",
       "\n",
       "    .dataframe tbody tr th {\n",
       "        vertical-align: top;\n",
       "    }\n",
       "\n",
       "    .dataframe thead th {\n",
       "        text-align: right;\n",
       "    }\n",
       "</style>\n",
       "<table border=\"1\" class=\"dataframe\">\n",
       "  <thead>\n",
       "    <tr style=\"text-align: right;\">\n",
       "      <th></th>\n",
       "      <th>lepton_1_pT</th>\n",
       "      <th>lepton_1_eta</th>\n",
       "      <th>lepton_1_phi</th>\n",
       "      <th>lepton_2_pT</th>\n",
       "      <th>lepton_2_eta</th>\n",
       "      <th>lepton_2_phi</th>\n",
       "      <th>missing_energy_magnitude</th>\n",
       "      <th>missing_energy_phi</th>\n",
       "      <th>MET_rel</th>\n",
       "      <th>axial_MET</th>\n",
       "      <th>M_R</th>\n",
       "      <th>M_TR_2</th>\n",
       "      <th>R</th>\n",
       "      <th>MT2</th>\n",
       "      <th>S_R</th>\n",
       "      <th>M_Delta_R</th>\n",
       "      <th>dPhi_r_b</th>\n",
       "      <th>cos(theta_r1)</th>\n",
       "      <th>class</th>\n",
       "    </tr>\n",
       "  </thead>\n",
       "  <tbody>\n",
       "    <tr>\n",
       "      <th>1</th>\n",
       "      <td>1.667973</td>\n",
       "      <td>0.064191</td>\n",
       "      <td>-1.225171</td>\n",
       "      <td>0.506102</td>\n",
       "      <td>-0.338939</td>\n",
       "      <td>1.672543</td>\n",
       "      <td>3.475464</td>\n",
       "      <td>-1.219136</td>\n",
       "      <td>0.012955</td>\n",
       "      <td>3.775174</td>\n",
       "      <td>1.045977</td>\n",
       "      <td>0.568051</td>\n",
       "      <td>0.481928</td>\n",
       "      <td>0.000000</td>\n",
       "      <td>0.448410</td>\n",
       "      <td>0.205356</td>\n",
       "      <td>1.321893</td>\n",
       "      <td>0.377584</td>\n",
       "      <td>1.0</td>\n",
       "    </tr>\n",
       "    <tr>\n",
       "      <th>12</th>\n",
       "      <td>0.698336</td>\n",
       "      <td>1.689431</td>\n",
       "      <td>-1.134670</td>\n",
       "      <td>0.966594</td>\n",
       "      <td>1.503367</td>\n",
       "      <td>0.880949</td>\n",
       "      <td>0.242573</td>\n",
       "      <td>-0.228654</td>\n",
       "      <td>0.364132</td>\n",
       "      <td>0.109350</td>\n",
       "      <td>0.668554</td>\n",
       "      <td>0.489941</td>\n",
       "      <td>0.650313</td>\n",
       "      <td>0.683634</td>\n",
       "      <td>0.664825</td>\n",
       "      <td>0.510385</td>\n",
       "      <td>0.584092</td>\n",
       "      <td>0.031694</td>\n",
       "      <td>0.0</td>\n",
       "    </tr>\n",
       "    <tr>\n",
       "      <th>13</th>\n",
       "      <td>0.578286</td>\n",
       "      <td>-0.689652</td>\n",
       "      <td>-0.390094</td>\n",
       "      <td>0.480061</td>\n",
       "      <td>-0.632219</td>\n",
       "      <td>1.212005</td>\n",
       "      <td>0.640473</td>\n",
       "      <td>-1.622401</td>\n",
       "      <td>0.872160</td>\n",
       "      <td>-0.186169</td>\n",
       "      <td>0.451853</td>\n",
       "      <td>0.669288</td>\n",
       "      <td>1.314412</td>\n",
       "      <td>0.559444</td>\n",
       "      <td>0.491753</td>\n",
       "      <td>0.559017</td>\n",
       "      <td>1.286520</td>\n",
       "      <td>0.400292</td>\n",
       "      <td>0.0</td>\n",
       "    </tr>\n",
       "    <tr>\n",
       "      <th>14</th>\n",
       "      <td>0.798202</td>\n",
       "      <td>0.099358</td>\n",
       "      <td>-1.095839</td>\n",
       "      <td>0.531147</td>\n",
       "      <td>-0.962327</td>\n",
       "      <td>1.500362</td>\n",
       "      <td>1.273941</td>\n",
       "      <td>0.675408</td>\n",
       "      <td>1.803743</td>\n",
       "      <td>-0.845941</td>\n",
       "      <td>0.685836</td>\n",
       "      <td>1.234757</td>\n",
       "      <td>1.597630</td>\n",
       "      <td>1.864630</td>\n",
       "      <td>0.775854</td>\n",
       "      <td>1.556949</td>\n",
       "      <td>1.245781</td>\n",
       "      <td>0.538010</td>\n",
       "      <td>1.0</td>\n",
       "    </tr>\n",
       "    <tr>\n",
       "      <th>22</th>\n",
       "      <td>1.466649</td>\n",
       "      <td>0.115517</td>\n",
       "      <td>-1.036161</td>\n",
       "      <td>0.877247</td>\n",
       "      <td>0.690861</td>\n",
       "      <td>1.130069</td>\n",
       "      <td>0.890722</td>\n",
       "      <td>0.426515</td>\n",
       "      <td>1.283212</td>\n",
       "      <td>-0.563880</td>\n",
       "      <td>1.090046</td>\n",
       "      <td>1.327570</td>\n",
       "      <td>1.080762</td>\n",
       "      <td>1.588076</td>\n",
       "      <td>1.069615</td>\n",
       "      <td>1.258800</td>\n",
       "      <td>0.443045</td>\n",
       "      <td>0.415406</td>\n",
       "      <td>0.0</td>\n",
       "    </tr>\n",
       "  </tbody>\n",
       "</table>\n",
       "</div>"
      ],
      "text/plain": [
       "    lepton_1_pT  lepton_1_eta  lepton_1_phi  lepton_2_pT  lepton_2_eta  \\\n",
       "1      1.667973      0.064191     -1.225171     0.506102     -0.338939   \n",
       "12     0.698336      1.689431     -1.134670     0.966594      1.503367   \n",
       "13     0.578286     -0.689652     -0.390094     0.480061     -0.632219   \n",
       "14     0.798202      0.099358     -1.095839     0.531147     -0.962327   \n",
       "22     1.466649      0.115517     -1.036161     0.877247      0.690861   \n",
       "\n",
       "    lepton_2_phi  missing_energy_magnitude  missing_energy_phi   MET_rel  \\\n",
       "1       1.672543                  3.475464           -1.219136  0.012955   \n",
       "12      0.880949                  0.242573           -0.228654  0.364132   \n",
       "13      1.212005                  0.640473           -1.622401  0.872160   \n",
       "14      1.500362                  1.273941            0.675408  1.803743   \n",
       "22      1.130069                  0.890722            0.426515  1.283212   \n",
       "\n",
       "    axial_MET       M_R    M_TR_2         R       MT2       S_R  M_Delta_R  \\\n",
       "1    3.775174  1.045977  0.568051  0.481928  0.000000  0.448410   0.205356   \n",
       "12   0.109350  0.668554  0.489941  0.650313  0.683634  0.664825   0.510385   \n",
       "13  -0.186169  0.451853  0.669288  1.314412  0.559444  0.491753   0.559017   \n",
       "14  -0.845941  0.685836  1.234757  1.597630  1.864630  0.775854   1.556949   \n",
       "22  -0.563880  1.090046  1.327570  1.080762  1.588076  1.069615   1.258800   \n",
       "\n",
       "    dPhi_r_b  cos(theta_r1)  class  \n",
       "1   1.321893       0.377584    1.0  \n",
       "12  0.584092       0.031694    0.0  \n",
       "13  1.286520       0.400292    0.0  \n",
       "14  1.245781       0.538010    1.0  \n",
       "22  0.443045       0.415406    0.0  "
      ]
     },
     "execution_count": 3,
     "metadata": {},
     "output_type": "execute_result"
    }
   ],
   "source": [
    "df_test.head()"
   ]
  },
  {
   "cell_type": "code",
   "execution_count": 4,
   "metadata": {},
   "outputs": [
    {
     "data": {
      "text/html": [
       "<div>\n",
       "<style scoped>\n",
       "    .dataframe tbody tr th:only-of-type {\n",
       "        vertical-align: middle;\n",
       "    }\n",
       "\n",
       "    .dataframe tbody tr th {\n",
       "        vertical-align: top;\n",
       "    }\n",
       "\n",
       "    .dataframe thead th {\n",
       "        text-align: right;\n",
       "    }\n",
       "</style>\n",
       "<table border=\"1\" class=\"dataframe\">\n",
       "  <thead>\n",
       "    <tr style=\"text-align: right;\">\n",
       "      <th></th>\n",
       "      <th>lepton_1_pT</th>\n",
       "      <th>lepton_1_eta</th>\n",
       "      <th>lepton_1_phi</th>\n",
       "      <th>lepton_2_pT</th>\n",
       "      <th>lepton_2_eta</th>\n",
       "      <th>lepton_2_phi</th>\n",
       "      <th>missing_energy_magnitude</th>\n",
       "      <th>missing_energy_phi</th>\n",
       "      <th>MET_rel</th>\n",
       "      <th>axial_MET</th>\n",
       "      <th>M_R</th>\n",
       "      <th>M_TR_2</th>\n",
       "      <th>R</th>\n",
       "      <th>MT2</th>\n",
       "      <th>S_R</th>\n",
       "      <th>M_Delta_R</th>\n",
       "      <th>dPhi_r_b</th>\n",
       "      <th>cos(theta_r1)</th>\n",
       "      <th>class</th>\n",
       "    </tr>\n",
       "  </thead>\n",
       "  <tbody>\n",
       "    <tr>\n",
       "      <th>0</th>\n",
       "      <td>0.841381</td>\n",
       "      <td>1.832647</td>\n",
       "      <td>-0.689286</td>\n",
       "      <td>0.781839</td>\n",
       "      <td>0.572864</td>\n",
       "      <td>1.577097</td>\n",
       "      <td>0.398978</td>\n",
       "      <td>-0.683847</td>\n",
       "      <td>0.001826</td>\n",
       "      <td>0.651397</td>\n",
       "      <td>0.865560</td>\n",
       "      <td>0.429017</td>\n",
       "      <td>0.439840</td>\n",
       "      <td>0.000000</td>\n",
       "      <td>0.796105</td>\n",
       "      <td>0.342497</td>\n",
       "      <td>0.461542</td>\n",
       "      <td>0.005710</td>\n",
       "      <td>0.0</td>\n",
       "    </tr>\n",
       "    <tr>\n",
       "      <th>1</th>\n",
       "      <td>0.663798</td>\n",
       "      <td>2.058290</td>\n",
       "      <td>0.681435</td>\n",
       "      <td>1.054036</td>\n",
       "      <td>0.575352</td>\n",
       "      <td>-1.001445</td>\n",
       "      <td>0.462154</td>\n",
       "      <td>-0.833411</td>\n",
       "      <td>0.199734</td>\n",
       "      <td>0.215158</td>\n",
       "      <td>0.949988</td>\n",
       "      <td>0.618046</td>\n",
       "      <td>0.577324</td>\n",
       "      <td>0.000000</td>\n",
       "      <td>0.962927</td>\n",
       "      <td>0.333800</td>\n",
       "      <td>1.455247</td>\n",
       "      <td>0.101246</td>\n",
       "      <td>0.0</td>\n",
       "    </tr>\n",
       "    <tr>\n",
       "      <th>2</th>\n",
       "      <td>1.792225</td>\n",
       "      <td>-1.099978</td>\n",
       "      <td>0.088109</td>\n",
       "      <td>0.573157</td>\n",
       "      <td>-0.472629</td>\n",
       "      <td>1.642084</td>\n",
       "      <td>1.203374</td>\n",
       "      <td>1.506731</td>\n",
       "      <td>0.457695</td>\n",
       "      <td>-0.640507</td>\n",
       "      <td>1.157024</td>\n",
       "      <td>1.585432</td>\n",
       "      <td>1.215963</td>\n",
       "      <td>0.000000</td>\n",
       "      <td>1.113292</td>\n",
       "      <td>0.645729</td>\n",
       "      <td>0.721326</td>\n",
       "      <td>0.613326</td>\n",
       "      <td>1.0</td>\n",
       "    </tr>\n",
       "    <tr>\n",
       "      <th>3</th>\n",
       "      <td>0.893018</td>\n",
       "      <td>0.297782</td>\n",
       "      <td>-1.274870</td>\n",
       "      <td>1.316164</td>\n",
       "      <td>1.593303</td>\n",
       "      <td>0.672115</td>\n",
       "      <td>0.307014</td>\n",
       "      <td>-1.189868</td>\n",
       "      <td>0.064561</td>\n",
       "      <td>0.430909</td>\n",
       "      <td>1.162625</td>\n",
       "      <td>0.548821</td>\n",
       "      <td>0.418897</td>\n",
       "      <td>0.163908</td>\n",
       "      <td>1.157707</td>\n",
       "      <td>0.298163</td>\n",
       "      <td>0.803802</td>\n",
       "      <td>0.038902</td>\n",
       "      <td>0.0</td>\n",
       "    </tr>\n",
       "    <tr>\n",
       "      <th>4</th>\n",
       "      <td>1.338997</td>\n",
       "      <td>0.350023</td>\n",
       "      <td>-1.518510</td>\n",
       "      <td>1.482963</td>\n",
       "      <td>-0.491807</td>\n",
       "      <td>0.340170</td>\n",
       "      <td>0.415071</td>\n",
       "      <td>-1.292034</td>\n",
       "      <td>0.240712</td>\n",
       "      <td>0.611775</td>\n",
       "      <td>1.307798</td>\n",
       "      <td>0.697804</td>\n",
       "      <td>0.473487</td>\n",
       "      <td>0.429977</td>\n",
       "      <td>1.287935</td>\n",
       "      <td>0.330327</td>\n",
       "      <td>0.717237</td>\n",
       "      <td>0.003147</td>\n",
       "      <td>1.0</td>\n",
       "    </tr>\n",
       "  </tbody>\n",
       "</table>\n",
       "</div>"
      ],
      "text/plain": [
       "   lepton_1_pT  lepton_1_eta  lepton_1_phi  lepton_2_pT  lepton_2_eta  \\\n",
       "0     0.841381      1.832647     -0.689286     0.781839      0.572864   \n",
       "1     0.663798      2.058290      0.681435     1.054036      0.575352   \n",
       "2     1.792225     -1.099978      0.088109     0.573157     -0.472629   \n",
       "3     0.893018      0.297782     -1.274870     1.316164      1.593303   \n",
       "4     1.338997      0.350023     -1.518510     1.482963     -0.491807   \n",
       "\n",
       "   lepton_2_phi  missing_energy_magnitude  missing_energy_phi   MET_rel  \\\n",
       "0      1.577097                  0.398978           -0.683847  0.001826   \n",
       "1     -1.001445                  0.462154           -0.833411  0.199734   \n",
       "2      1.642084                  1.203374            1.506731  0.457695   \n",
       "3      0.672115                  0.307014           -1.189868  0.064561   \n",
       "4      0.340170                  0.415071           -1.292034  0.240712   \n",
       "\n",
       "   axial_MET       M_R    M_TR_2         R       MT2       S_R  M_Delta_R  \\\n",
       "0   0.651397  0.865560  0.429017  0.439840  0.000000  0.796105   0.342497   \n",
       "1   0.215158  0.949988  0.618046  0.577324  0.000000  0.962927   0.333800   \n",
       "2  -0.640507  1.157024  1.585432  1.215963  0.000000  1.113292   0.645729   \n",
       "3   0.430909  1.162625  0.548821  0.418897  0.163908  1.157707   0.298163   \n",
       "4   0.611775  1.307798  0.697804  0.473487  0.429977  1.287935   0.330327   \n",
       "\n",
       "   dPhi_r_b  cos(theta_r1)  class  \n",
       "0  0.461542       0.005710    0.0  \n",
       "1  1.455247       0.101246    0.0  \n",
       "2  0.721326       0.613326    1.0  \n",
       "3  0.803802       0.038902    0.0  \n",
       "4  0.717237       0.003147    1.0  "
      ]
     },
     "execution_count": 4,
     "metadata": {},
     "output_type": "execute_result"
    }
   ],
   "source": [
    "df_hc = pd.read_csv('../train.csv', index_col=0)\n",
    "df_hc.head()"
   ]
  },
  {
   "cell_type": "code",
   "execution_count": 5,
   "metadata": {},
   "outputs": [],
   "source": [
    "df_hcc = df_hc.copy()"
   ]
  },
  {
   "attachments": {},
   "cell_type": "markdown",
   "metadata": {},
   "source": [
    "# Preprocessing"
   ]
  },
  {
   "cell_type": "code",
   "execution_count": 6,
   "metadata": {},
   "outputs": [
    {
     "data": {
      "text/plain": [
       "Index(['lepton_1_pT', 'lepton_1_eta', 'lepton_1_phi', 'lepton_2_pT',\n",
       "       'lepton_2_eta', 'lepton_2_phi', 'missing_energy_magnitude',\n",
       "       'missing_energy_phi', 'MET_rel', 'axial_MET', 'M_R', 'M_TR_2', 'R',\n",
       "       'MT2', 'S_R', 'M_Delta_R', 'dPhi_r_b', 'cos(theta_r1)', 'class'],\n",
       "      dtype='object')"
      ]
     },
     "execution_count": 6,
     "metadata": {},
     "output_type": "execute_result"
    }
   ],
   "source": [
    "df_hcc.columns"
   ]
  },
  {
   "cell_type": "code",
   "execution_count": 8,
   "metadata": {},
   "outputs": [
    {
     "data": {
      "text/plain": [
       "(array([1.920925e+06, 1.137938e+06, 3.958780e+05, 4.400300e+04,\n",
       "        1.041000e+03, 9.900000e+01, 5.500000e+01, 3.200000e+01,\n",
       "        1.100000e+01, 8.000000e+00, 4.000000e+00, 2.000000e+00,\n",
       "        1.000000e+00, 0.000000e+00, 1.000000e+00, 0.000000e+00,\n",
       "        1.000000e+00, 0.000000e+00, 0.000000e+00, 1.000000e+00]),\n",
       " array([ 0.        ,  1.03431225,  2.0686245 ,  3.10293674,  4.13724899,\n",
       "         5.17156124,  6.20587349,  7.24018574,  8.27449799,  9.30881023,\n",
       "        10.34312248, 11.37743473, 12.41174698, 13.44605923, 14.48037148,\n",
       "        15.51468372, 16.54899597, 17.58330822, 18.61762047, 19.65193272,\n",
       "        20.68624496]),\n",
       " <BarContainer object of 20 artists>)"
      ]
     },
     "execution_count": 8,
     "metadata": {},
     "output_type": "execute_result"
    },
    {
     "data": {
      "image/png": "[encoded data removed]",
      "text/plain": [
       "<Figure size 1000x600 with 1 Axes>"
      ]
     },
     "metadata": {},
     "output_type": "display_data"
    }
   ],
   "source": [
    "(df_hcc.iloc[:,13] ==0).sum()\n",
    "plt.figure(figsize=(10,6))\n",
    "plt.hist((df_hcc.iloc[:,13]), bins=20)"
   ]
  },
  {
   "cell_type": "code",
   "execution_count": 9,
   "metadata": {},
   "outputs": [
    {
     "data": {
      "text/html": [
       "<div>\n",
       "<style scoped>\n",
       "    .dataframe tbody tr th:only-of-type {\n",
       "        vertical-align: middle;\n",
       "    }\n",
       "\n",
       "    .dataframe tbody tr th {\n",
       "        vertical-align: top;\n",
       "    }\n",
       "\n",
       "    .dataframe thead th {\n",
       "        text-align: right;\n",
       "    }\n",
       "</style>\n",
       "<table border=\"1\" class=\"dataframe\">\n",
       "  <thead>\n",
       "    <tr style=\"text-align: right;\">\n",
       "      <th></th>\n",
       "      <th>lepton_1_pT</th>\n",
       "      <th>lepton_1_eta</th>\n",
       "      <th>lepton_1_phi</th>\n",
       "      <th>lepton_2_pT</th>\n",
       "      <th>lepton_2_eta</th>\n",
       "      <th>lepton_2_phi</th>\n",
       "      <th>missing_energy_magnitude</th>\n",
       "      <th>missing_energy_phi</th>\n",
       "      <th>MET_rel</th>\n",
       "      <th>axial_MET</th>\n",
       "      <th>M_R</th>\n",
       "      <th>M_TR_2</th>\n",
       "      <th>R</th>\n",
       "      <th>MT2</th>\n",
       "      <th>S_R</th>\n",
       "      <th>M_Delta_R</th>\n",
       "      <th>dPhi_r_b</th>\n",
       "      <th>cos(theta_r1)</th>\n",
       "      <th>class</th>\n",
       "    </tr>\n",
       "  </thead>\n",
       "  <tbody>\n",
       "    <tr>\n",
       "      <th>0</th>\n",
       "      <td>0.841381</td>\n",
       "      <td>1.832647</td>\n",
       "      <td>-0.689286</td>\n",
       "      <td>0.781839</td>\n",
       "      <td>0.572864</td>\n",
       "      <td>1.577097</td>\n",
       "      <td>0.398978</td>\n",
       "      <td>-0.683847</td>\n",
       "      <td>0.001826</td>\n",
       "      <td>0.651397</td>\n",
       "      <td>0.865560</td>\n",
       "      <td>0.429017</td>\n",
       "      <td>0.439840</td>\n",
       "      <td>0.000000</td>\n",
       "      <td>0.796105</td>\n",
       "      <td>0.342497</td>\n",
       "      <td>0.461542</td>\n",
       "      <td>0.005710</td>\n",
       "      <td>0.0</td>\n",
       "    </tr>\n",
       "    <tr>\n",
       "      <th>1</th>\n",
       "      <td>0.663798</td>\n",
       "      <td>2.058290</td>\n",
       "      <td>0.681435</td>\n",
       "      <td>1.054036</td>\n",
       "      <td>0.575352</td>\n",
       "      <td>-1.001445</td>\n",
       "      <td>0.462154</td>\n",
       "      <td>-0.833411</td>\n",
       "      <td>0.199734</td>\n",
       "      <td>0.215158</td>\n",
       "      <td>0.949988</td>\n",
       "      <td>0.618046</td>\n",
       "      <td>0.577324</td>\n",
       "      <td>0.000000</td>\n",
       "      <td>0.962927</td>\n",
       "      <td>0.333800</td>\n",
       "      <td>1.455247</td>\n",
       "      <td>0.101246</td>\n",
       "      <td>0.0</td>\n",
       "    </tr>\n",
       "    <tr>\n",
       "      <th>2</th>\n",
       "      <td>1.792225</td>\n",
       "      <td>-1.099978</td>\n",
       "      <td>0.088109</td>\n",
       "      <td>0.573157</td>\n",
       "      <td>-0.472629</td>\n",
       "      <td>1.642084</td>\n",
       "      <td>1.203374</td>\n",
       "      <td>1.506731</td>\n",
       "      <td>0.457695</td>\n",
       "      <td>-0.640507</td>\n",
       "      <td>1.157024</td>\n",
       "      <td>1.585432</td>\n",
       "      <td>1.215963</td>\n",
       "      <td>0.000000</td>\n",
       "      <td>1.113292</td>\n",
       "      <td>0.645729</td>\n",
       "      <td>0.721326</td>\n",
       "      <td>0.613326</td>\n",
       "      <td>1.0</td>\n",
       "    </tr>\n",
       "    <tr>\n",
       "      <th>3</th>\n",
       "      <td>0.893018</td>\n",
       "      <td>0.297782</td>\n",
       "      <td>-1.274870</td>\n",
       "      <td>1.316164</td>\n",
       "      <td>1.593303</td>\n",
       "      <td>0.672115</td>\n",
       "      <td>0.307014</td>\n",
       "      <td>-1.189868</td>\n",
       "      <td>0.064561</td>\n",
       "      <td>0.430909</td>\n",
       "      <td>1.162625</td>\n",
       "      <td>0.548821</td>\n",
       "      <td>0.418897</td>\n",
       "      <td>0.163908</td>\n",
       "      <td>1.157707</td>\n",
       "      <td>0.298163</td>\n",
       "      <td>0.803802</td>\n",
       "      <td>0.038902</td>\n",
       "      <td>0.0</td>\n",
       "    </tr>\n",
       "    <tr>\n",
       "      <th>4</th>\n",
       "      <td>1.338997</td>\n",
       "      <td>0.350023</td>\n",
       "      <td>-1.518510</td>\n",
       "      <td>1.482963</td>\n",
       "      <td>-0.491807</td>\n",
       "      <td>0.340170</td>\n",
       "      <td>0.415071</td>\n",
       "      <td>-1.292034</td>\n",
       "      <td>0.240712</td>\n",
       "      <td>0.611775</td>\n",
       "      <td>1.307798</td>\n",
       "      <td>0.697804</td>\n",
       "      <td>0.473487</td>\n",
       "      <td>0.429977</td>\n",
       "      <td>1.287935</td>\n",
       "      <td>0.330327</td>\n",
       "      <td>0.717237</td>\n",
       "      <td>0.003147</td>\n",
       "      <td>1.0</td>\n",
       "    </tr>\n",
       "  </tbody>\n",
       "</table>\n",
       "</div>"
      ],
      "text/plain": [
       "   lepton_1_pT  lepton_1_eta  lepton_1_phi  lepton_2_pT  lepton_2_eta  \\\n",
       "0     0.841381      1.832647     -0.689286     0.781839      0.572864   \n",
       "1     0.663798      2.058290      0.681435     1.054036      0.575352   \n",
       "2     1.792225     -1.099978      0.088109     0.573157     -0.472629   \n",
       "3     0.893018      0.297782     -1.274870     1.316164      1.593303   \n",
       "4     1.338997      0.350023     -1.518510     1.482963     -0.491807   \n",
       "\n",
       "   lepton_2_phi  missing_energy_magnitude  missing_energy_phi   MET_rel  \\\n",
       "0      1.577097                  0.398978           -0.683847  0.001826   \n",
       "1     -1.001445                  0.462154           -0.833411  0.199734   \n",
       "2      1.642084                  1.203374            1.506731  0.457695   \n",
       "3      0.672115                  0.307014           -1.189868  0.064561   \n",
       "4      0.340170                  0.415071           -1.292034  0.240712   \n",
       "\n",
       "   axial_MET       M_R    M_TR_2         R       MT2       S_R  M_Delta_R  \\\n",
       "0   0.651397  0.865560  0.429017  0.439840  0.000000  0.796105   0.342497   \n",
       "1   0.215158  0.949988  0.618046  0.577324  0.000000  0.962927   0.333800   \n",
       "2  -0.640507  1.157024  1.585432  1.215963  0.000000  1.113292   0.645729   \n",
       "3   0.430909  1.162625  0.548821  0.418897  0.163908  1.157707   0.298163   \n",
       "4   0.611775  1.307798  0.697804  0.473487  0.429977  1.287935   0.330327   \n",
       "\n",
       "   dPhi_r_b  cos(theta_r1)  class  \n",
       "0  0.461542       0.005710    0.0  \n",
       "1  1.455247       0.101246    0.0  \n",
       "2  0.721326       0.613326    1.0  \n",
       "3  0.803802       0.038902    0.0  \n",
       "4  0.717237       0.003147    1.0  "
      ]
     },
     "execution_count": 9,
     "metadata": {},
     "output_type": "execute_result"
    }
   ],
   "source": [
    "df_hcc.head()"
   ]
  },
  {
   "cell_type": "code",
   "execution_count": 10,
   "metadata": {},
   "outputs": [],
   "source": [
    "# df_hcc = pd.concat([df_hcc, df_hcc.iloc[:,[11,12,14,15]].apply(lambda x:np.log(x)).add_suffix('_transformed')], axis=1)\n",
    "# df_hcc = pd.concat([df_hcc, df_hcc.iloc[:,[13]].apply(lambda x:np.sqrt(x)).add_suffix('_transformed')], axis=1)\n",
    "\n",
    "# df_hcc.iloc[:,[0,3,6,8,10,11,12,14,15]] = df_hcc.iloc[:,[0,3,6,8,10,11,12,14,15]].apply(lambda x:np.log(x))\n",
    "# df_hcc.iloc[:,[4,9]] = df_hcc.iloc[:,[4,9]].apply(lambda x:np.log(x**2))\n",
    "# df_hcc.iloc[:,[13,17]] = df_hcc.iloc[:,[13,17]].apply(lambda x:np.sqrt(x))\n",
    "\n",
    "df_hcc.iloc[:,[11,12,14,15]] = df_hcc.iloc[:,[11,12,14,15]].apply(lambda x:np.log(x))\n",
    "df_hcc.iloc[:,[13]] = df_hcc.iloc[:,[13]].apply(lambda x:np.sqrt(x))"
   ]
  },
  {
   "cell_type": "code",
   "execution_count": 11,
   "metadata": {},
   "outputs": [
    {
     "data": {
      "text/plain": [
       "<AxesSubplot:>"
      ]
     },
     "execution_count": 11,
     "metadata": {},
     "output_type": "execute_result"
    },
    {
     "data": {
      "image/png": "[encoded data removed]",
      "text/plain": [
       "<Figure size 640x480 with 2 Axes>"
      ]
     },
     "metadata": {},
     "output_type": "display_data"
    }
   ],
   "source": [
    "sns.heatmap(df_hcc.corr())"
   ]
  },
  {
   "cell_type": "code",
   "execution_count": 12,
   "metadata": {},
   "outputs": [
    {
     "data": {
      "image/png": "[encoded data removed]",
      "text/plain": [
       "<Figure size 640x480 with 1 Axes>"
      ]
     },
     "metadata": {},
     "output_type": "display_data"
    }
   ],
   "source": [
    "sns.boxplot(data=df_hcc, y='lepton_2_pT', x='class')\n",
    "df_hcc=df_hcc[df_hcc['lepton_1_pT'] < 5]"
   ]
  },
  {
   "cell_type": "code",
   "execution_count": 13,
   "metadata": {},
   "outputs": [
    {
     "data": {
      "text/plain": [
       "(3491438, 19)"
      ]
     },
     "execution_count": 13,
     "metadata": {},
     "output_type": "execute_result"
    }
   ],
   "source": [
    "df_hcc.shape"
   ]
  },
  {
   "cell_type": "code",
   "execution_count": 14,
   "metadata": {},
   "outputs": [],
   "source": [
    "df_hcc = df_hcc.drop(columns =['lepton_1_phi', 'missing_energy_phi', 'lepton_2_phi'], axis=1)"
   ]
  },
  {
   "attachments": {},
   "cell_type": "markdown",
   "metadata": {},
   "source": [
    "# Split for Calculation"
   ]
  },
  {
   "cell_type": "code",
   "execution_count": 15,
   "metadata": {},
   "outputs": [],
   "source": [
    "# For imputation\n",
    "# df_hcc.iloc[:,13] = df_hcc.iloc[:,13].apply(lambda x:None if x==0 else x)"
   ]
  },
  {
   "cell_type": "code",
   "execution_count": 16,
   "metadata": {},
   "outputs": [],
   "source": [
    "X = df_hcc.loc[:,df_hcc.columns != 'class'].to_numpy(dtype=np.float_)\n",
    "y = df_hcc['class'].to_numpy(dtype=np.float_)\n",
    "\n",
    "from sklearn.model_selection import train_test_split\n",
    "X_train, X_test, y_train, y_test = train_test_split(X, y, test_size=0.4, random_state=42)"
   ]
  },
  {
   "cell_type": "code",
   "execution_count": 17,
   "metadata": {},
   "outputs": [],
   "source": [
    "# from sklearn.experimental import enable_iterative_imputer\n",
    "# from sklearn.impute import IterativeImputer\n",
    "\n",
    "# imputer_train_test = IterativeImputer()\n",
    "# X_train = imputer_train_test.fit_transform(X_train)\n",
    "# X_test = imputer_train_test.transform(X_test)\n",
    "\n",
    "# imputer_full = IterativeImputer()\n",
    "# X = imputer_full.fit_transform(X)"
   ]
  },
  {
   "cell_type": "code",
   "execution_count": 18,
   "metadata": {},
   "outputs": [],
   "source": [
    "from sklearn.preprocessing import MinMaxScaler, StandardScaler\n",
    "\n",
    "scaler_train_test = StandardScaler()\n",
    "X_train = scaler_train_test.fit_transform(X_train)\n",
    "X_test = scaler_train_test.transform(X_test)\n",
    "\n",
    "scaler_full = StandardScaler()\n",
    "X = scaler_full.fit_transform(X)"
   ]
  },
  {
   "attachments": {},
   "cell_type": "markdown",
   "metadata": {},
   "source": [
    "# Model Training"
   ]
  },
  {
   "cell_type": "markdown",
   "metadata": {},
   "source": [
    "#### Random Forest Model"
   ]
  },
  {
   "cell_type": "code",
   "execution_count": 201,
   "metadata": {},
   "outputs": [],
   "source": [
    "from sklearn.ensemble import RandomForestClassifier"
   ]
  },
  {
   "cell_type": "code",
   "execution_count": 157,
   "metadata": {},
   "outputs": [
    {
     "data": {
      "text/plain": [
       "0.8002692857142857"
      ]
     },
     "execution_count": 157,
     "metadata": {},
     "output_type": "execute_result"
    }
   ],
   "source": [
    "model_rf = RandomForestClassifier(n_estimators=170, n_jobs=-1)\n",
    "model_rf.fit(X_train ,y_train)\n",
    "model_rf.feature_importances_\n",
    "model_rf.score(X_test, y_test)"
   ]
  },
  {
   "cell_type": "code",
   "execution_count": 160,
   "metadata": {},
   "outputs": [
    {
     "data": {
      "text/html": [
       "<style>#sk-container-id-1 {color: black;background-color: white;}#sk-container-id-1 pre{padding: 0;}#sk-container-id-1 div.sk-toggleable {background-color: white;}#sk-container-id-1 label.sk-toggleable__label {cursor: pointer;display: block;width: 100%;margin-bottom: 0;padding: 0.3em;box-sizing: border-box;text-align: center;}#sk-container-id-1 label.sk-toggleable__label-arrow:before {content: \"▸\";float: left;margin-right: 0.25em;color: #696969;}#sk-container-id-1 label.sk-toggleable__label-arrow:hover:before {color: black;}#sk-container-id-1 div.sk-estimator:hover label.sk-toggleable__label-arrow:before {color: black;}#sk-container-id-1 div.sk-toggleable__content {max-height: 0;max-width: 0;overflow: hidden;text-align: left;background-color: #f0f8ff;}#sk-container-id-1 div.sk-toggleable__content pre {margin: 0.2em;color: black;border-radius: 0.25em;background-color: #f0f8ff;}#sk-container-id-1 input.sk-toggleable__control:checked~div.sk-toggleable__content {max-height: 200px;max-width: 100%;overflow: auto;}#sk-container-id-1 input.sk-toggleable__control:checked~label.sk-toggleable__label-arrow:before {content: \"▾\";}#sk-container-id-1 div.sk-estimator input.sk-toggleable__control:checked~label.sk-toggleable__label {background-color: #d4ebff;}#sk-container-id-1 div.sk-label input.sk-toggleable__control:checked~label.sk-toggleable__label {background-color: #d4ebff;}#sk-container-id-1 input.sk-hidden--visually {border: 0;clip: rect(1px 1px 1px 1px);clip: rect(1px, 1px, 1px, 1px);height: 1px;margin: -1px;overflow: hidden;padding: 0;position: absolute;width: 1px;}#sk-container-id-1 div.sk-estimator {font-family: monospace;background-color: #f0f8ff;border: 1px dotted black;border-radius: 0.25em;box-sizing: border-box;margin-bottom: 0.5em;}#sk-container-id-1 div.sk-estimator:hover {background-color: #d4ebff;}#sk-container-id-1 div.sk-parallel-item::after {content: \"\";width: 100%;border-bottom: 1px solid gray;flex-grow: 1;}#sk-container-id-1 div.sk-label:hover label.sk-toggleable__label {background-color: #d4ebff;}#sk-container-id-1 div.sk-serial::before {content: \"\";position: absolute;border-left: 1px solid gray;box-sizing: border-box;top: 0;bottom: 0;left: 50%;z-index: 0;}#sk-container-id-1 div.sk-serial {display: flex;flex-direction: column;align-items: center;background-color: white;padding-right: 0.2em;padding-left: 0.2em;position: relative;}#sk-container-id-1 div.sk-item {position: relative;z-index: 1;}#sk-container-id-1 div.sk-parallel {display: flex;align-items: stretch;justify-content: center;background-color: white;position: relative;}#sk-container-id-1 div.sk-item::before, #sk-container-id-1 div.sk-parallel-item::before {content: \"\";position: absolute;border-left: 1px solid gray;box-sizing: border-box;top: 0;bottom: 0;left: 50%;z-index: -1;}#sk-container-id-1 div.sk-parallel-item {display: flex;flex-direction: column;z-index: 1;position: relative;background-color: white;}#sk-container-id-1 div.sk-parallel-item:first-child::after {align-self: flex-end;width: 50%;}#sk-container-id-1 div.sk-parallel-item:last-child::after {align-self: flex-start;width: 50%;}#sk-container-id-1 div.sk-parallel-item:only-child::after {width: 0;}#sk-container-id-1 div.sk-dashed-wrapped {border: 1px dashed gray;margin: 0 0.4em 0.5em 0.4em;box-sizing: border-box;padding-bottom: 0.4em;background-color: white;}#sk-container-id-1 div.sk-label label {font-family: monospace;font-weight: bold;display: inline-block;line-height: 1.2em;}#sk-container-id-1 div.sk-label-container {text-align: center;}#sk-container-id-1 div.sk-container {/* jupyter's `normalize.less` sets `[hidden] { display: none; }` but bootstrap.min.css set `[hidden] { display: none !important; }` so we also need the `!important` here to be able to override the default hidden behavior on the sphinx rendered scikit-learn.org. See: https://github.com/scikit-learn/scikit-learn/issues/21755 */display: inline-block !important;position: relative;}#sk-container-id-1 div.sk-text-repr-fallback {display: none;}</style><div id=\"sk-container-id-1\" class=\"sk-top-container\"><div class=\"sk-text-repr-fallback\"><pre>RandomForestClassifier(n_estimators=170, n_jobs=-1)</pre><b>In a Jupyter environment, please rerun this cell to show the HTML representation or trust the notebook. <br />On GitHub, the HTML representation is unable to render, please try loading this page with nbviewer.org.</b></div><div class=\"sk-container\" hidden><div class=\"sk-item\"><div class=\"sk-estimator sk-toggleable\"><input class=\"sk-toggleable__control sk-hidden--visually\" id=\"sk-estimator-id-1\" type=\"checkbox\" checked><label for=\"sk-estimator-id-1\" class=\"sk-toggleable__label sk-toggleable__label-arrow\">RandomForestClassifier</label><div class=\"sk-toggleable__content\"><pre>RandomForestClassifier(n_estimators=170, n_jobs=-1)</pre></div></div></div></div></div>"
      ],
      "text/plain": [
       "RandomForestClassifier(n_estimators=170, n_jobs=-1)"
      ]
     },
     "execution_count": 160,
     "metadata": {},
     "output_type": "execute_result"
    }
   ],
   "source": [
    "model_rf.fit(X, y)"
   ]
  },
  {
   "cell_type": "code",
   "execution_count": 161,
   "metadata": {},
   "outputs": [
    {
     "data": {
      "text/plain": [
       "array([0.1064084 , 0.04511328, 0.03257949, 0.03740543, 0.04619206,\n",
       "       0.03243914, 0.14630093, 0.03257975, 0.04986304, 0.08659996,\n",
       "       0.05231644, 0.09358699, 0.03508649, 0.03240472, 0.04388836,\n",
       "       0.04028034, 0.0423919 , 0.04456327])"
      ]
     },
     "execution_count": 161,
     "metadata": {},
     "output_type": "execute_result"
    }
   ],
   "source": [
    "model_rf.feature_importances_"
   ]
  },
  {
   "cell_type": "code",
   "execution_count": 162,
   "metadata": {},
   "outputs": [
    {
     "name": "stderr",
     "output_type": "stream",
     "text": [
      "C:\\Users\\kishl\\AppData\\Local\\Packages\\PythonSoftwareFoundation.Python.3.10_qbz5n2kfra8p0\\LocalCache\\local-packages\\Python310\\site-packages\\sklearn\\base.py:443: UserWarning: X has feature names, but StandardScaler was fitted without feature names\n",
      "  warnings.warn(\n"
     ]
    },
    {
     "data": {
      "text/plain": [
       "0.8012706666666667"
      ]
     },
     "execution_count": 162,
     "metadata": {},
     "output_type": "execute_result"
    }
   ],
   "source": [
    "df_test_2 = df_test.copy()\n",
    "df_test_2.iloc[:,[0,3,6,8,10,11,12,14,15]] = df_test_2.iloc[:,[0,3,6,8,10,11,12,14,15]].apply(lambda x:np.log(x))\n",
    "df_test_2.iloc[:,[4,9]] = df_test_2.iloc[:,[4,9]].apply(lambda x:np.log(x**2))\n",
    "df_test_2.iloc[:,17] = df_test_2.iloc[:,17].apply(lambda x:np.sqrt(x))\n",
    "X_tl, y_tl = scaler_full.transform(df_test_2.loc[:,~df_test_2.columns.isin(['class'])]), df_test_2['class']\n",
    "model_rf.score(X_tl, y_tl)"
   ]
  },
  {
   "attachments": {},
   "cell_type": "markdown",
   "metadata": {},
   "source": [
    "#### Gradient Boost Model"
   ]
  },
  {
   "cell_type": "code",
   "execution_count": 202,
   "metadata": {},
   "outputs": [
    {
     "data": {
      "text/plain": [
       "0.8025103568116311"
      ]
     },
     "execution_count": 202,
     "metadata": {},
     "output_type": "execute_result"
    }
   ],
   "source": [
    "from sklearn.ensemble import HistGradientBoostingClassifier\n",
    "model_xg = HistGradientBoostingClassifier(l2_regularization=2, max_leaf_nodes=150, random_state=42)\n",
    "model_xg.fit(X_train, y_train)\n",
    "model_xg.score(X_test, y_test)"
   ]
  },
  {
   "cell_type": "code",
   "execution_count": null,
   "metadata": {},
   "outputs": [
    {
     "name": "stdout",
     "output_type": "stream",
     "text": [
      "Fitting 5 folds for each of 18 candidates, totalling 90 fits\n"
     ]
    },
    {
     "data": {
      "text/html": [
       "<style>#sk-container-id-1 {color: black;background-color: white;}#sk-container-id-1 pre{padding: 0;}#sk-container-id-1 div.sk-toggleable {background-color: white;}#sk-container-id-1 label.sk-toggleable__label {cursor: pointer;display: block;width: 100%;margin-bottom: 0;padding: 0.3em;box-sizing: border-box;text-align: center;}#sk-container-id-1 label.sk-toggleable__label-arrow:before {content: \"▸\";float: left;margin-right: 0.25em;color: #696969;}#sk-container-id-1 label.sk-toggleable__label-arrow:hover:before {color: black;}#sk-container-id-1 div.sk-estimator:hover label.sk-toggleable__label-arrow:before {color: black;}#sk-container-id-1 div.sk-toggleable__content {max-height: 0;max-width: 0;overflow: hidden;text-align: left;background-color: #f0f8ff;}#sk-container-id-1 div.sk-toggleable__content pre {margin: 0.2em;color: black;border-radius: 0.25em;background-color: #f0f8ff;}#sk-container-id-1 input.sk-toggleable__control:checked~div.sk-toggleable__content {max-height: 200px;max-width: 100%;overflow: auto;}#sk-container-id-1 input.sk-toggleable__control:checked~label.sk-toggleable__label-arrow:before {content: \"▾\";}#sk-container-id-1 div.sk-estimator input.sk-toggleable__control:checked~label.sk-toggleable__label {background-color: #d4ebff;}#sk-container-id-1 div.sk-label input.sk-toggleable__control:checked~label.sk-toggleable__label {background-color: #d4ebff;}#sk-container-id-1 input.sk-hidden--visually {border: 0;clip: rect(1px 1px 1px 1px);clip: rect(1px, 1px, 1px, 1px);height: 1px;margin: -1px;overflow: hidden;padding: 0;position: absolute;width: 1px;}#sk-container-id-1 div.sk-estimator {font-family: monospace;background-color: #f0f8ff;border: 1px dotted black;border-radius: 0.25em;box-sizing: border-box;margin-bottom: 0.5em;}#sk-container-id-1 div.sk-estimator:hover {background-color: #d4ebff;}#sk-container-id-1 div.sk-parallel-item::after {content: \"\";width: 100%;border-bottom: 1px solid gray;flex-grow: 1;}#sk-container-id-1 div.sk-label:hover label.sk-toggleable__label {background-color: #d4ebff;}#sk-container-id-1 div.sk-serial::before {content: \"\";position: absolute;border-left: 1px solid gray;box-sizing: border-box;top: 0;bottom: 0;left: 50%;z-index: 0;}#sk-container-id-1 div.sk-serial {display: flex;flex-direction: column;align-items: center;background-color: white;padding-right: 0.2em;padding-left: 0.2em;position: relative;}#sk-container-id-1 div.sk-item {position: relative;z-index: 1;}#sk-container-id-1 div.sk-parallel {display: flex;align-items: stretch;justify-content: center;background-color: white;position: relative;}#sk-container-id-1 div.sk-item::before, #sk-container-id-1 div.sk-parallel-item::before {content: \"\";position: absolute;border-left: 1px solid gray;box-sizing: border-box;top: 0;bottom: 0;left: 50%;z-index: -1;}#sk-container-id-1 div.sk-parallel-item {display: flex;flex-direction: column;z-index: 1;position: relative;background-color: white;}#sk-container-id-1 div.sk-parallel-item:first-child::after {align-self: flex-end;width: 50%;}#sk-container-id-1 div.sk-parallel-item:last-child::after {align-self: flex-start;width: 50%;}#sk-container-id-1 div.sk-parallel-item:only-child::after {width: 0;}#sk-container-id-1 div.sk-dashed-wrapped {border: 1px dashed gray;margin: 0 0.4em 0.5em 0.4em;box-sizing: border-box;padding-bottom: 0.4em;background-color: white;}#sk-container-id-1 div.sk-label label {font-family: monospace;font-weight: bold;display: inline-block;line-height: 1.2em;}#sk-container-id-1 div.sk-label-container {text-align: center;}#sk-container-id-1 div.sk-container {/* jupyter's `normalize.less` sets `[hidden] { display: none; }` but bootstrap.min.css set `[hidden] { display: none !important; }` so we also need the `!important` here to be able to override the default hidden behavior on the sphinx rendered scikit-learn.org. See: https://github.com/scikit-learn/scikit-learn/issues/21755 */display: inline-block !important;position: relative;}#sk-container-id-1 div.sk-text-repr-fallback {display: none;}</style><div id=\"sk-container-id-1\" class=\"sk-top-container\"><div class=\"sk-text-repr-fallback\"><pre>GridSearchCV(cv=5, estimator=HistGradientBoostingClassifier(), n_jobs=-1,\n",
       "             param_grid={&#x27;l2_regularization&#x27;: (0.3, 0.4, 0.5),\n",
       "                         &#x27;learning_rate&#x27;: (0.01, 0.1),\n",
       "                         &#x27;max_leaf_nodes&#x27;: (200, 250, 300),\n",
       "                         &#x27;random_state&#x27;: [42]},\n",
       "             verbose=2)</pre><b>In a Jupyter environment, please rerun this cell to show the HTML representation or trust the notebook. <br />On GitHub, the HTML representation is unable to render, please try loading this page with nbviewer.org.</b></div><div class=\"sk-container\" hidden><div class=\"sk-item sk-dashed-wrapped\"><div class=\"sk-label-container\"><div class=\"sk-label sk-toggleable\"><input class=\"sk-toggleable__control sk-hidden--visually\" id=\"sk-estimator-id-1\" type=\"checkbox\" ><label for=\"sk-estimator-id-1\" class=\"sk-toggleable__label sk-toggleable__label-arrow\">GridSearchCV</label><div class=\"sk-toggleable__content\"><pre>GridSearchCV(cv=5, estimator=HistGradientBoostingClassifier(), n_jobs=-1,\n",
       "             param_grid={&#x27;l2_regularization&#x27;: (0.3, 0.4, 0.5),\n",
       "                         &#x27;learning_rate&#x27;: (0.01, 0.1),\n",
       "                         &#x27;max_leaf_nodes&#x27;: (200, 250, 300),\n",
       "                         &#x27;random_state&#x27;: [42]},\n",
       "             verbose=2)</pre></div></div></div><div class=\"sk-parallel\"><div class=\"sk-parallel-item\"><div class=\"sk-item\"><div class=\"sk-label-container\"><div class=\"sk-label sk-toggleable\"><input class=\"sk-toggleable__control sk-hidden--visually\" id=\"sk-estimator-id-2\" type=\"checkbox\" ><label for=\"sk-estimator-id-2\" class=\"sk-toggleable__label sk-toggleable__label-arrow\">estimator: HistGradientBoostingClassifier</label><div class=\"sk-toggleable__content\"><pre>HistGradientBoostingClassifier()</pre></div></div></div><div class=\"sk-serial\"><div class=\"sk-item\"><div class=\"sk-estimator sk-toggleable\"><input class=\"sk-toggleable__control sk-hidden--visually\" id=\"sk-estimator-id-3\" type=\"checkbox\" ><label for=\"sk-estimator-id-3\" class=\"sk-toggleable__label sk-toggleable__label-arrow\">HistGradientBoostingClassifier</label><div class=\"sk-toggleable__content\"><pre>HistGradientBoostingClassifier()</pre></div></div></div></div></div></div></div></div></div></div>"
      ],
      "text/plain": [
       "GridSearchCV(cv=5, estimator=HistGradientBoostingClassifier(), n_jobs=-1,\n",
       "             param_grid={'l2_regularization': (0.3, 0.4, 0.5),\n",
       "                         'learning_rate': (0.01, 0.1),\n",
       "                         'max_leaf_nodes': (200, 250, 300),\n",
       "                         'random_state': [42]},\n",
       "             verbose=2)"
      ]
     },
     "execution_count": 13,
     "metadata": {},
     "output_type": "execute_result"
    }
   ],
   "source": [
    "from sklearn.model_selection import GridSearchCV\n",
    "param_grid = {\n",
    "    'learning_rate': (0.01, 0.1),\n",
    "    'random_state': [42],\n",
    "    'max_leaf_nodes': (200, 250, 300),\n",
    "    'l2_regularization': (0.3, 0.4, 0.5)}\n",
    "\n",
    "model_grid_search = GridSearchCV(HistGradientBoostingClassifier(), param_grid=param_grid,\n",
    "                                 n_jobs=-1, cv=5, verbose=2)\n",
    "model_grid_search.fit(X_train, y_train)"
   ]
  },
  {
   "cell_type": "code",
   "execution_count": 14,
   "metadata": {},
   "outputs": [
    {
     "name": "stdout",
     "output_type": "stream",
     "text": [
      "{'l2_regularization': 0.5, 'learning_rate': 0.1, 'max_leaf_nodes': 250, 'random_state': 42}\n",
      "HistGradientBoostingClassifier(l2_regularization=0.5, max_leaf_nodes=250,\n",
      "                               random_state=42)\n"
     ]
    },
    {
     "data": {
      "text/plain": [
       "0.8031893717205508"
      ]
     },
     "execution_count": 14,
     "metadata": {},
     "output_type": "execute_result"
    }
   ],
   "source": [
    "print(model_grid_search.best_params_)\n",
    "print(model_grid_search.best_estimator_)\n",
    "model_grid_search.score(X_test, y_test)"
   ]
  },
  {
   "cell_type": "code",
   "execution_count": 179,
   "metadata": {},
   "outputs": [
    {
     "data": {
      "text/plain": [
       "0.803453589349953"
      ]
     },
     "execution_count": 179,
     "metadata": {},
     "output_type": "execute_result"
    }
   ],
   "source": [
    "# model_xg = HistGradientBoostingClassifier(l2_regularization=model_grid_search.best_params_['l2_regularization'],\n",
    "#                                 learning_rate=model_grid_search.best_params_['learning_rate'],\n",
    "#                                 max_leaf_nodes=model_grid_search.best_params_['max_leaf_nodes'], random_state=42)\n",
    "\n",
    "model_xg = HistGradientBoostingClassifier(l2_regularization=2, max_leaf_nodes=1000, max_iter=1000, learning_rate=0.01, random_state=42)\n",
    "model_xg.fit(X_train, y_train)\n",
    "model_xg.score(X_test, y_test)"
   ]
  },
  {
   "cell_type": "code",
   "execution_count": 22,
   "metadata": {},
   "outputs": [
    {
     "data": {
      "text/html": [
       "<div>\n",
       "<style scoped>\n",
       "    .dataframe tbody tr th:only-of-type {\n",
       "        vertical-align: middle;\n",
       "    }\n",
       "\n",
       "    .dataframe tbody tr th {\n",
       "        vertical-align: top;\n",
       "    }\n",
       "\n",
       "    .dataframe thead th {\n",
       "        text-align: right;\n",
       "    }\n",
       "</style>\n",
       "<table border=\"1\" class=\"dataframe\">\n",
       "  <thead>\n",
       "    <tr style=\"text-align: right;\">\n",
       "      <th></th>\n",
       "      <th>lepton_2_pT</th>\n",
       "      <th>M_TR_2</th>\n",
       "      <th>R</th>\n",
       "      <th>M_R</th>\n",
       "      <th>cos(theta_r1)</th>\n",
       "      <th>lepton_2_eta</th>\n",
       "      <th>MT2</th>\n",
       "      <th>dPhi_r_b</th>\n",
       "      <th>lepton_1_eta</th>\n",
       "      <th>M_Delta_R</th>\n",
       "      <th>S_R</th>\n",
       "      <th>MET_rel</th>\n",
       "      <th>axial_MET</th>\n",
       "      <th>lepton_1_pT</th>\n",
       "      <th>missing_energy_magnitude</th>\n",
       "    </tr>\n",
       "  </thead>\n",
       "  <tbody>\n",
       "    <tr>\n",
       "      <th>0</th>\n",
       "      <td>0.001254</td>\n",
       "      <td>0.001351</td>\n",
       "      <td>0.002318</td>\n",
       "      <td>0.004133</td>\n",
       "      <td>0.005801</td>\n",
       "      <td>0.007325</td>\n",
       "      <td>0.008760</td>\n",
       "      <td>0.009116</td>\n",
       "      <td>0.010937</td>\n",
       "      <td>0.014827</td>\n",
       "      <td>0.015697</td>\n",
       "      <td>0.017563</td>\n",
       "      <td>0.037239</td>\n",
       "      <td>0.088037</td>\n",
       "      <td>0.162172</td>\n",
       "    </tr>\n",
       "    <tr>\n",
       "      <th>1</th>\n",
       "      <td>0.001204</td>\n",
       "      <td>0.001230</td>\n",
       "      <td>0.002392</td>\n",
       "      <td>0.004290</td>\n",
       "      <td>0.005841</td>\n",
       "      <td>0.007397</td>\n",
       "      <td>0.009052</td>\n",
       "      <td>0.009218</td>\n",
       "      <td>0.010705</td>\n",
       "      <td>0.015309</td>\n",
       "      <td>0.015445</td>\n",
       "      <td>0.017603</td>\n",
       "      <td>0.036932</td>\n",
       "      <td>0.088431</td>\n",
       "      <td>0.162062</td>\n",
       "    </tr>\n",
       "    <tr>\n",
       "      <th>2</th>\n",
       "      <td>0.001184</td>\n",
       "      <td>0.001234</td>\n",
       "      <td>0.002221</td>\n",
       "      <td>0.004071</td>\n",
       "      <td>0.005748</td>\n",
       "      <td>0.007490</td>\n",
       "      <td>0.008768</td>\n",
       "      <td>0.009176</td>\n",
       "      <td>0.010873</td>\n",
       "      <td>0.014705</td>\n",
       "      <td>0.015363</td>\n",
       "      <td>0.017716</td>\n",
       "      <td>0.037104</td>\n",
       "      <td>0.088156</td>\n",
       "      <td>0.161315</td>\n",
       "    </tr>\n",
       "    <tr>\n",
       "      <th>3</th>\n",
       "      <td>0.001133</td>\n",
       "      <td>0.001347</td>\n",
       "      <td>0.002353</td>\n",
       "      <td>0.004077</td>\n",
       "      <td>0.005737</td>\n",
       "      <td>0.007606</td>\n",
       "      <td>0.008775</td>\n",
       "      <td>0.009208</td>\n",
       "      <td>0.011038</td>\n",
       "      <td>0.014995</td>\n",
       "      <td>0.015393</td>\n",
       "      <td>0.017456</td>\n",
       "      <td>0.036897</td>\n",
       "      <td>0.087870</td>\n",
       "      <td>0.161632</td>\n",
       "    </tr>\n",
       "    <tr>\n",
       "      <th>4</th>\n",
       "      <td>0.001312</td>\n",
       "      <td>0.001246</td>\n",
       "      <td>0.002287</td>\n",
       "      <td>0.004442</td>\n",
       "      <td>0.005854</td>\n",
       "      <td>0.007611</td>\n",
       "      <td>0.008837</td>\n",
       "      <td>0.009286</td>\n",
       "      <td>0.010756</td>\n",
       "      <td>0.014949</td>\n",
       "      <td>0.015216</td>\n",
       "      <td>0.017489</td>\n",
       "      <td>0.037242</td>\n",
       "      <td>0.088357</td>\n",
       "      <td>0.161945</td>\n",
       "    </tr>\n",
       "    <tr>\n",
       "      <th>5</th>\n",
       "      <td>0.001195</td>\n",
       "      <td>0.001244</td>\n",
       "      <td>0.002268</td>\n",
       "      <td>0.004361</td>\n",
       "      <td>0.005854</td>\n",
       "      <td>0.007657</td>\n",
       "      <td>0.008678</td>\n",
       "      <td>0.009177</td>\n",
       "      <td>0.010814</td>\n",
       "      <td>0.014708</td>\n",
       "      <td>0.015441</td>\n",
       "      <td>0.017500</td>\n",
       "      <td>0.037104</td>\n",
       "      <td>0.087589</td>\n",
       "      <td>0.161638</td>\n",
       "    </tr>\n",
       "    <tr>\n",
       "      <th>6</th>\n",
       "      <td>0.001141</td>\n",
       "      <td>0.001311</td>\n",
       "      <td>0.002275</td>\n",
       "      <td>0.004268</td>\n",
       "      <td>0.005488</td>\n",
       "      <td>0.007424</td>\n",
       "      <td>0.008777</td>\n",
       "      <td>0.009219</td>\n",
       "      <td>0.010922</td>\n",
       "      <td>0.015057</td>\n",
       "      <td>0.015332</td>\n",
       "      <td>0.017672</td>\n",
       "      <td>0.036817</td>\n",
       "      <td>0.088171</td>\n",
       "      <td>0.161465</td>\n",
       "    </tr>\n",
       "    <tr>\n",
       "      <th>7</th>\n",
       "      <td>0.001174</td>\n",
       "      <td>0.001373</td>\n",
       "      <td>0.002250</td>\n",
       "      <td>0.004077</td>\n",
       "      <td>0.005866</td>\n",
       "      <td>0.007581</td>\n",
       "      <td>0.008815</td>\n",
       "      <td>0.009225</td>\n",
       "      <td>0.010956</td>\n",
       "      <td>0.014904</td>\n",
       "      <td>0.015433</td>\n",
       "      <td>0.017790</td>\n",
       "      <td>0.037149</td>\n",
       "      <td>0.088127</td>\n",
       "      <td>0.161732</td>\n",
       "    </tr>\n",
       "    <tr>\n",
       "      <th>8</th>\n",
       "      <td>0.001354</td>\n",
       "      <td>0.001174</td>\n",
       "      <td>0.002288</td>\n",
       "      <td>0.004495</td>\n",
       "      <td>0.005697</td>\n",
       "      <td>0.007468</td>\n",
       "      <td>0.008780</td>\n",
       "      <td>0.009197</td>\n",
       "      <td>0.011095</td>\n",
       "      <td>0.015042</td>\n",
       "      <td>0.015211</td>\n",
       "      <td>0.017680</td>\n",
       "      <td>0.037185</td>\n",
       "      <td>0.087851</td>\n",
       "      <td>0.161547</td>\n",
       "    </tr>\n",
       "    <tr>\n",
       "      <th>9</th>\n",
       "      <td>0.001277</td>\n",
       "      <td>0.001232</td>\n",
       "      <td>0.002331</td>\n",
       "      <td>0.004291</td>\n",
       "      <td>0.005927</td>\n",
       "      <td>0.007344</td>\n",
       "      <td>0.008707</td>\n",
       "      <td>0.009142</td>\n",
       "      <td>0.010890</td>\n",
       "      <td>0.015176</td>\n",
       "      <td>0.015295</td>\n",
       "      <td>0.017688</td>\n",
       "      <td>0.037007</td>\n",
       "      <td>0.087967</td>\n",
       "      <td>0.162112</td>\n",
       "    </tr>\n",
       "  </tbody>\n",
       "</table>\n",
       "</div>"
      ],
      "text/plain": [
       "   lepton_2_pT    M_TR_2         R       M_R  cos(theta_r1)  lepton_2_eta  \\\n",
       "0     0.001254  0.001351  0.002318  0.004133       0.005801      0.007325   \n",
       "1     0.001204  0.001230  0.002392  0.004290       0.005841      0.007397   \n",
       "2     0.001184  0.001234  0.002221  0.004071       0.005748      0.007490   \n",
       "3     0.001133  0.001347  0.002353  0.004077       0.005737      0.007606   \n",
       "4     0.001312  0.001246  0.002287  0.004442       0.005854      0.007611   \n",
       "5     0.001195  0.001244  0.002268  0.004361       0.005854      0.007657   \n",
       "6     0.001141  0.001311  0.002275  0.004268       0.005488      0.007424   \n",
       "7     0.001174  0.001373  0.002250  0.004077       0.005866      0.007581   \n",
       "8     0.001354  0.001174  0.002288  0.004495       0.005697      0.007468   \n",
       "9     0.001277  0.001232  0.002331  0.004291       0.005927      0.007344   \n",
       "\n",
       "        MT2  dPhi_r_b  lepton_1_eta  M_Delta_R       S_R   MET_rel  axial_MET  \\\n",
       "0  0.008760  0.009116      0.010937   0.014827  0.015697  0.017563   0.037239   \n",
       "1  0.009052  0.009218      0.010705   0.015309  0.015445  0.017603   0.036932   \n",
       "2  0.008768  0.009176      0.010873   0.014705  0.015363  0.017716   0.037104   \n",
       "3  0.008775  0.009208      0.011038   0.014995  0.015393  0.017456   0.036897   \n",
       "4  0.008837  0.009286      0.010756   0.014949  0.015216  0.017489   0.037242   \n",
       "5  0.008678  0.009177      0.010814   0.014708  0.015441  0.017500   0.037104   \n",
       "6  0.008777  0.009219      0.010922   0.015057  0.015332  0.017672   0.036817   \n",
       "7  0.008815  0.009225      0.010956   0.014904  0.015433  0.017790   0.037149   \n",
       "8  0.008780  0.009197      0.011095   0.015042  0.015211  0.017680   0.037185   \n",
       "9  0.008707  0.009142      0.010890   0.015176  0.015295  0.017688   0.037007   \n",
       "\n",
       "   lepton_1_pT  missing_energy_magnitude  \n",
       "0     0.088037                  0.162172  \n",
       "1     0.088431                  0.162062  \n",
       "2     0.088156                  0.161315  \n",
       "3     0.087870                  0.161632  \n",
       "4     0.088357                  0.161945  \n",
       "5     0.087589                  0.161638  \n",
       "6     0.088171                  0.161465  \n",
       "7     0.088127                  0.161732  \n",
       "8     0.087851                  0.161547  \n",
       "9     0.087967                  0.162112  "
      ]
     },
     "execution_count": 22,
     "metadata": {},
     "output_type": "execute_result"
    }
   ],
   "source": [
    "from sklearn.inspection import permutation_importance\n",
    "\n",
    "result = permutation_importance(\n",
    "    model_xg, X_test, y_test, n_repeats=10, random_state=42, n_jobs=-1\n",
    ")\n",
    "sorted_importances_idx = result.importances_mean.argsort()\n",
    "importances = pd.DataFrame(\n",
    "    result.importances[sorted_importances_idx].T,\n",
    "    columns=df_hcc.columns[sorted_importances_idx],\n",
    ")\n",
    "importances"
   ]
  },
  {
   "cell_type": "code",
   "execution_count": 180,
   "metadata": {},
   "outputs": [
    {
     "data": {
      "text/plain": [
       "0.8119751804270905"
      ]
     },
     "execution_count": 180,
     "metadata": {},
     "output_type": "execute_result"
    }
   ],
   "source": [
    "# model_xg = HistGradientBoostingClassifier(l2_regularization=model_grid_search.best_params_['l2_regularization'],\n",
    "#                                 learning_rate=model_grid_search.best_params_['learning_rate'],\n",
    "#                                 max_leaf_nodes=model_grid_search.best_params_['max_leaf_nodes'], random_state=42)\n",
    "\n",
    "model_xg = HistGradientBoostingClassifier(l2_regularization=2, max_leaf_nodes=1000, max_iter=1000, learning_rate=0.01, random_state=42)\n",
    "model_xg.fit(X, y)\n",
    "model_xg.score(X, y)"
   ]
  },
  {
   "cell_type": "code",
   "execution_count": 183,
   "metadata": {},
   "outputs": [
    {
     "name": "stderr",
     "output_type": "stream",
     "text": [
      "C:\\Users\\kishl\\AppData\\Local\\Packages\\PythonSoftwareFoundation.Python.3.10_qbz5n2kfra8p0\\LocalCache\\local-packages\\Python310\\site-packages\\sklearn\\base.py:443: UserWarning: X has feature names, but StandardScaler was fitted without feature names\n",
      "  warnings.warn(\n"
     ]
    },
    {
     "data": {
      "text/plain": [
       "0.8040586666666667"
      ]
     },
     "execution_count": 183,
     "metadata": {},
     "output_type": "execute_result"
    }
   ],
   "source": [
    "# df_test_2 = df_test.copy()\n",
    "# df_test_2.iloc[:,[0,3,6,8,10,11,12,14,15]] = df_test_2.iloc[:,[0,3,6,8,10,11,12,14,15]].apply(lambda x:np.log(x))\n",
    "# df_test_2.iloc[:,[4,9]] = df_test_2.iloc[:,[4,9]].apply(lambda x:np.log(x**2))\n",
    "# df_test_2.iloc[:,17] = df_test_2.iloc[:,17].apply(lambda x:np.sqrt(x))\n",
    "X_tl, y_tl = scaler_full.transform(df_test.loc[:,~df_test.columns.isin(['lepton_1_phi', 'missing_energy_phi', 'lepton_2_phi', 'class'])]), df_test['class']\n",
    "model_xg.score(X_tl, y_tl)"
   ]
  },
  {
   "cell_type": "code",
   "execution_count": 184,
   "metadata": {},
   "outputs": [],
   "source": [
    "# X_t = pd.read_csv('../test.csv', index_col=0).to_numpy(dtype=np.float_)\n",
    "X_t = pd.read_csv('../test.csv', index_col=0).drop(columns=['lepton_1_phi', 'missing_energy_phi', 'lepton_2_phi'], axis=1).to_numpy(dtype=np.float_)\n",
    "X_t = scaler_full.transform(X_t)\n",
    "# output_rf = pd.Series(model_rf.predict(X_t), name='class')\n",
    "output_xg = pd.Series(model_xg.predict(X_t).astype(np.float_), name='class')\n",
    "output_xg.to_csv('res_xg.csv', index=True, index_label='Id')"
   ]
  },
  {
   "attachments": {},
   "cell_type": "markdown",
   "metadata": {},
   "source": [
    "#### Adaboost Model"
   ]
  },
  {
   "cell_type": "code",
   "execution_count": 328,
   "metadata": {},
   "outputs": [
    {
     "ename": "TypeError",
     "evalue": "AdaBoostClassifier.__init__() got an unexpected keyword argument 'n_jobs'",
     "output_type": "error",
     "traceback": [
      "\u001b[1;31m---------------------------------------------------------------------------\u001b[0m",
      "\u001b[1;31mTypeError\u001b[0m                                 Traceback (most recent call last)",
      "Cell \u001b[1;32mIn [328], line 2\u001b[0m\n\u001b[0;32m      1\u001b[0m \u001b[39mfrom\u001b[39;00m \u001b[39msklearn\u001b[39;00m\u001b[39m.\u001b[39;00m\u001b[39mensemble\u001b[39;00m \u001b[39mimport\u001b[39;00m AdaBoostClassifier\n\u001b[1;32m----> 2\u001b[0m model_ada \u001b[39m=\u001b[39m AdaBoostClassifier(n_estimators\u001b[39m=\u001b[39;49m\u001b[39m200\u001b[39;49m, learning_rate\u001b[39m=\u001b[39;49m\u001b[39m0.1\u001b[39;49m, n_jobs\u001b[39m=\u001b[39;49m\u001b[39m-\u001b[39;49m\u001b[39m1\u001b[39;49m)\n\u001b[0;32m      3\u001b[0m model_ada\u001b[39m.\u001b[39mfit(X_train, y_train)\n\u001b[0;32m      4\u001b[0m model_ada\u001b[39m.\u001b[39mscore(X_test, y_test)\n",
      "\u001b[1;31mTypeError\u001b[0m: AdaBoostClassifier.__init__() got an unexpected keyword argument 'n_jobs'"
     ]
    }
   ],
   "source": [
    "from sklearn.ensemble import AdaBoostClassifier\n",
    "model_ada = AdaBoostClassifier(n_estimators=150, learning_rate=0.1)\n",
    "model_ada.fit(X_train, y_train)\n",
    "model_ada.score(X_test, y_test)"
   ]
  },
  {
   "attachments": {},
   "cell_type": "markdown",
   "metadata": {},
   "source": [
    "#### SVM"
   ]
  },
  {
   "cell_type": "code",
   "execution_count": 14,
   "metadata": {},
   "outputs": [
    {
     "data": {
      "text/html": [
       "<style>#sk-container-id-2 {color: black;background-color: white;}#sk-container-id-2 pre{padding: 0;}#sk-container-id-2 div.sk-toggleable {background-color: white;}#sk-container-id-2 label.sk-toggleable__label {cursor: pointer;display: block;width: 100%;margin-bottom: 0;padding: 0.3em;box-sizing: border-box;text-align: center;}#sk-container-id-2 label.sk-toggleable__label-arrow:before {content: \"▸\";float: left;margin-right: 0.25em;color: #696969;}#sk-container-id-2 label.sk-toggleable__label-arrow:hover:before {color: black;}#sk-container-id-2 div.sk-estimator:hover label.sk-toggleable__label-arrow:before {color: black;}#sk-container-id-2 div.sk-toggleable__content {max-height: 0;max-width: 0;overflow: hidden;text-align: left;background-color: #f0f8ff;}#sk-container-id-2 div.sk-toggleable__content pre {margin: 0.2em;color: black;border-radius: 0.25em;background-color: #f0f8ff;}#sk-container-id-2 input.sk-toggleable__control:checked~div.sk-toggleable__content {max-height: 200px;max-width: 100%;overflow: auto;}#sk-container-id-2 input.sk-toggleable__control:checked~label.sk-toggleable__label-arrow:before {content: \"▾\";}#sk-container-id-2 div.sk-estimator input.sk-toggleable__control:checked~label.sk-toggleable__label {background-color: #d4ebff;}#sk-container-id-2 div.sk-label input.sk-toggleable__control:checked~label.sk-toggleable__label {background-color: #d4ebff;}#sk-container-id-2 input.sk-hidden--visually {border: 0;clip: rect(1px 1px 1px 1px);clip: rect(1px, 1px, 1px, 1px);height: 1px;margin: -1px;overflow: hidden;padding: 0;position: absolute;width: 1px;}#sk-container-id-2 div.sk-estimator {font-family: monospace;background-color: #f0f8ff;border: 1px dotted black;border-radius: 0.25em;box-sizing: border-box;margin-bottom: 0.5em;}#sk-container-id-2 div.sk-estimator:hover {background-color: #d4ebff;}#sk-container-id-2 div.sk-parallel-item::after {content: \"\";width: 100%;border-bottom: 1px solid gray;flex-grow: 1;}#sk-container-id-2 div.sk-label:hover label.sk-toggleable__label {background-color: #d4ebff;}#sk-container-id-2 div.sk-serial::before {content: \"\";position: absolute;border-left: 1px solid gray;box-sizing: border-box;top: 0;bottom: 0;left: 50%;z-index: 0;}#sk-container-id-2 div.sk-serial {display: flex;flex-direction: column;align-items: center;background-color: white;padding-right: 0.2em;padding-left: 0.2em;position: relative;}#sk-container-id-2 div.sk-item {position: relative;z-index: 1;}#sk-container-id-2 div.sk-parallel {display: flex;align-items: stretch;justify-content: center;background-color: white;position: relative;}#sk-container-id-2 div.sk-item::before, #sk-container-id-2 div.sk-parallel-item::before {content: \"\";position: absolute;border-left: 1px solid gray;box-sizing: border-box;top: 0;bottom: 0;left: 50%;z-index: -1;}#sk-container-id-2 div.sk-parallel-item {display: flex;flex-direction: column;z-index: 1;position: relative;background-color: white;}#sk-container-id-2 div.sk-parallel-item:first-child::after {align-self: flex-end;width: 50%;}#sk-container-id-2 div.sk-parallel-item:last-child::after {align-self: flex-start;width: 50%;}#sk-container-id-2 div.sk-parallel-item:only-child::after {width: 0;}#sk-container-id-2 div.sk-dashed-wrapped {border: 1px dashed gray;margin: 0 0.4em 0.5em 0.4em;box-sizing: border-box;padding-bottom: 0.4em;background-color: white;}#sk-container-id-2 div.sk-label label {font-family: monospace;font-weight: bold;display: inline-block;line-height: 1.2em;}#sk-container-id-2 div.sk-label-container {text-align: center;}#sk-container-id-2 div.sk-container {/* jupyter's `normalize.less` sets `[hidden] { display: none; }` but bootstrap.min.css set `[hidden] { display: none !important; }` so we also need the `!important` here to be able to override the default hidden behavior on the sphinx rendered scikit-learn.org. See: https://github.com/scikit-learn/scikit-learn/issues/21755 */display: inline-block !important;position: relative;}#sk-container-id-2 div.sk-text-repr-fallback {display: none;}</style><div id=\"sk-container-id-2\" class=\"sk-top-container\"><div class=\"sk-text-repr-fallback\"><pre>SGDClassifier(n_jobs=-1)</pre><b>In a Jupyter environment, please rerun this cell to show the HTML representation or trust the notebook. <br />On GitHub, the HTML representation is unable to render, please try loading this page with nbviewer.org.</b></div><div class=\"sk-container\" hidden><div class=\"sk-item\"><div class=\"sk-estimator sk-toggleable\"><input class=\"sk-toggleable__control sk-hidden--visually\" id=\"sk-estimator-id-2\" type=\"checkbox\" checked><label for=\"sk-estimator-id-2\" class=\"sk-toggleable__label sk-toggleable__label-arrow\">SGDClassifier</label><div class=\"sk-toggleable__content\"><pre>SGDClassifier(n_jobs=-1)</pre></div></div></div></div></div>"
      ],
      "text/plain": [
       "SGDClassifier(n_jobs=-1)"
      ]
     },
     "execution_count": 14,
     "metadata": {},
     "output_type": "execute_result"
    }
   ],
   "source": [
    "from sklearn.linear_model import SGDClassifier\n",
    "from sklearn.svm import SVC\n",
    "model_sgd = SGDClassifier(n_jobs=-1)\n",
    "model_sgd.fit(X_train, y_train)"
   ]
  },
  {
   "cell_type": "code",
   "execution_count": 16,
   "metadata": {},
   "outputs": [
    {
     "data": {
      "text/plain": [
       "0.7866854363815503"
      ]
     },
     "execution_count": 16,
     "metadata": {},
     "output_type": "execute_result"
    }
   ],
   "source": [
    "model_sgd.score(X_test, y_test)"
   ]
  },
  {
   "attachments": {},
   "cell_type": "markdown",
   "metadata": {},
   "source": [
    "#### XGB"
   ]
  },
  {
   "cell_type": "code",
   "execution_count": 291,
   "metadata": {},
   "outputs": [
    {
     "name": "stdout",
     "output_type": "stream",
     "text": [
      "Fitting 5 folds for each of 3 candidates, totalling 15 fits\n"
     ]
    },
    {
     "ename": "KeyboardInterrupt",
     "evalue": "",
     "output_type": "error",
     "traceback": [
      "\u001b[1;31m---------------------------------------------------------------------------\u001b[0m",
      "\u001b[1;31mKeyboardInterrupt\u001b[0m                         Traceback (most recent call last)",
      "Cell \u001b[1;32mIn [291], line 17\u001b[0m\n\u001b[0;32m      5\u001b[0m params \u001b[39m=\u001b[39m { \u001b[39m'\u001b[39m\u001b[39mmax_depth\u001b[39m\u001b[39m'\u001b[39m: [\u001b[39m10\u001b[39m,\u001b[39m25\u001b[39m,\u001b[39m30\u001b[39m],\n\u001b[0;32m      6\u001b[0m            \u001b[39m'\u001b[39m\u001b[39mlearning_rate\u001b[39m\u001b[39m'\u001b[39m: [\u001b[39m0.01\u001b[39m],\n\u001b[0;32m      7\u001b[0m            \u001b[39m'\u001b[39m\u001b[39msubsample\u001b[39m\u001b[39m'\u001b[39m:[\u001b[39m0.5\u001b[39m],\n\u001b[1;32m   (...)\u001b[0m\n\u001b[0;32m     14\u001b[0m           \u001b[39m'\u001b[39m\u001b[39mgpu_id\u001b[39m\u001b[39m'\u001b[39m:[\u001b[39m0\u001b[39m]\n\u001b[0;32m     15\u001b[0m          }\n\u001b[0;32m     16\u001b[0m model \u001b[39m=\u001b[39m GridSearchCV(XGBClassifier(), param_grid\u001b[39m=\u001b[39mparams, cv\u001b[39m=\u001b[39m\u001b[39m5\u001b[39m, verbose\u001b[39m=\u001b[39m\u001b[39m1\u001b[39m)\n\u001b[1;32m---> 17\u001b[0m model\u001b[39m.\u001b[39;49mfit(X_train, y_train)\n\u001b[0;32m     18\u001b[0m model\u001b[39m.\u001b[39mscore(X_test, y_test)\n",
      "File \u001b[1;32m~\\AppData\\Local\\Packages\\PythonSoftwareFoundation.Python.3.10_qbz5n2kfra8p0\\LocalCache\\local-packages\\Python310\\site-packages\\sklearn\\model_selection\\_search.py:875\u001b[0m, in \u001b[0;36mBaseSearchCV.fit\u001b[1;34m(self, X, y, groups, **fit_params)\u001b[0m\n\u001b[0;32m    869\u001b[0m     results \u001b[39m=\u001b[39m \u001b[39mself\u001b[39m\u001b[39m.\u001b[39m_format_results(\n\u001b[0;32m    870\u001b[0m         all_candidate_params, n_splits, all_out, all_more_results\n\u001b[0;32m    871\u001b[0m     )\n\u001b[0;32m    873\u001b[0m     \u001b[39mreturn\u001b[39;00m results\n\u001b[1;32m--> 875\u001b[0m \u001b[39mself\u001b[39;49m\u001b[39m.\u001b[39;49m_run_search(evaluate_candidates)\n\u001b[0;32m    877\u001b[0m \u001b[39m# multimetric is determined here because in the case of a callable\u001b[39;00m\n\u001b[0;32m    878\u001b[0m \u001b[39m# self.scoring the return type is only known after calling\u001b[39;00m\n\u001b[0;32m    879\u001b[0m first_test_score \u001b[39m=\u001b[39m all_out[\u001b[39m0\u001b[39m][\u001b[39m\"\u001b[39m\u001b[39mtest_scores\u001b[39m\u001b[39m\"\u001b[39m]\n",
      "File \u001b[1;32m~\\AppData\\Local\\Packages\\PythonSoftwareFoundation.Python.3.10_qbz5n2kfra8p0\\LocalCache\\local-packages\\Python310\\site-packages\\sklearn\\model_selection\\_search.py:1379\u001b[0m, in \u001b[0;36mGridSearchCV._run_search\u001b[1;34m(self, evaluate_candidates)\u001b[0m\n\u001b[0;32m   1377\u001b[0m \u001b[39mdef\u001b[39;00m \u001b[39m_run_search\u001b[39m(\u001b[39mself\u001b[39m, evaluate_candidates):\n\u001b[0;32m   1378\u001b[0m     \u001b[39m\"\"\"Search all candidates in param_grid\"\"\"\u001b[39;00m\n\u001b[1;32m-> 1379\u001b[0m     evaluate_candidates(ParameterGrid(\u001b[39mself\u001b[39;49m\u001b[39m.\u001b[39;49mparam_grid))\n",
      "File \u001b[1;32m~\\AppData\\Local\\Packages\\PythonSoftwareFoundation.Python.3.10_qbz5n2kfra8p0\\LocalCache\\local-packages\\Python310\\site-packages\\sklearn\\model_selection\\_search.py:822\u001b[0m, in \u001b[0;36mBaseSearchCV.fit.<locals>.evaluate_candidates\u001b[1;34m(candidate_params, cv, more_results)\u001b[0m\n\u001b[0;32m    814\u001b[0m \u001b[39mif\u001b[39;00m \u001b[39mself\u001b[39m\u001b[39m.\u001b[39mverbose \u001b[39m>\u001b[39m \u001b[39m0\u001b[39m:\n\u001b[0;32m    815\u001b[0m     \u001b[39mprint\u001b[39m(\n\u001b[0;32m    816\u001b[0m         \u001b[39m\"\u001b[39m\u001b[39mFitting \u001b[39m\u001b[39m{0}\u001b[39;00m\u001b[39m folds for each of \u001b[39m\u001b[39m{1}\u001b[39;00m\u001b[39m candidates,\u001b[39m\u001b[39m\"\u001b[39m\n\u001b[0;32m    817\u001b[0m         \u001b[39m\"\u001b[39m\u001b[39m totalling \u001b[39m\u001b[39m{2}\u001b[39;00m\u001b[39m fits\u001b[39m\u001b[39m\"\u001b[39m\u001b[39m.\u001b[39mformat(\n\u001b[0;32m    818\u001b[0m             n_splits, n_candidates, n_candidates \u001b[39m*\u001b[39m n_splits\n\u001b[0;32m    819\u001b[0m         )\n\u001b[0;32m    820\u001b[0m     )\n\u001b[1;32m--> 822\u001b[0m out \u001b[39m=\u001b[39m parallel(\n\u001b[0;32m    823\u001b[0m     delayed(_fit_and_score)(\n\u001b[0;32m    824\u001b[0m         clone(base_estimator),\n\u001b[0;32m    825\u001b[0m         X,\n\u001b[0;32m    826\u001b[0m         y,\n\u001b[0;32m    827\u001b[0m         train\u001b[39m=\u001b[39;49mtrain,\n\u001b[0;32m    828\u001b[0m         test\u001b[39m=\u001b[39;49mtest,\n\u001b[0;32m    829\u001b[0m         parameters\u001b[39m=\u001b[39;49mparameters,\n\u001b[0;32m    830\u001b[0m         split_progress\u001b[39m=\u001b[39;49m(split_idx, n_splits),\n\u001b[0;32m    831\u001b[0m         candidate_progress\u001b[39m=\u001b[39;49m(cand_idx, n_candidates),\n\u001b[0;32m    832\u001b[0m         \u001b[39m*\u001b[39;49m\u001b[39m*\u001b[39;49mfit_and_score_kwargs,\n\u001b[0;32m    833\u001b[0m     )\n\u001b[0;32m    834\u001b[0m     \u001b[39mfor\u001b[39;49;00m (cand_idx, parameters), (split_idx, (train, test)) \u001b[39min\u001b[39;49;00m product(\n\u001b[0;32m    835\u001b[0m         \u001b[39menumerate\u001b[39;49m(candidate_params), \u001b[39menumerate\u001b[39;49m(cv\u001b[39m.\u001b[39;49msplit(X, y, groups))\n\u001b[0;32m    836\u001b[0m     )\n\u001b[0;32m    837\u001b[0m )\n\u001b[0;32m    839\u001b[0m \u001b[39mif\u001b[39;00m \u001b[39mlen\u001b[39m(out) \u001b[39m<\u001b[39m \u001b[39m1\u001b[39m:\n\u001b[0;32m    840\u001b[0m     \u001b[39mraise\u001b[39;00m \u001b[39mValueError\u001b[39;00m(\n\u001b[0;32m    841\u001b[0m         \u001b[39m\"\u001b[39m\u001b[39mNo fits were performed. \u001b[39m\u001b[39m\"\u001b[39m\n\u001b[0;32m    842\u001b[0m         \u001b[39m\"\u001b[39m\u001b[39mWas the CV iterator empty? \u001b[39m\u001b[39m\"\u001b[39m\n\u001b[0;32m    843\u001b[0m         \u001b[39m\"\u001b[39m\u001b[39mWere there no candidates?\u001b[39m\u001b[39m\"\u001b[39m\n\u001b[0;32m    844\u001b[0m     )\n",
      "File \u001b[1;32m~\\AppData\\Local\\Packages\\PythonSoftwareFoundation.Python.3.10_qbz5n2kfra8p0\\LocalCache\\local-packages\\Python310\\site-packages\\joblib\\parallel.py:1085\u001b[0m, in \u001b[0;36mParallel.__call__\u001b[1;34m(self, iterable)\u001b[0m\n\u001b[0;32m   1076\u001b[0m \u001b[39mtry\u001b[39;00m:\n\u001b[0;32m   1077\u001b[0m     \u001b[39m# Only set self._iterating to True if at least a batch\u001b[39;00m\n\u001b[0;32m   1078\u001b[0m     \u001b[39m# was dispatched. In particular this covers the edge\u001b[39;00m\n\u001b[1;32m   (...)\u001b[0m\n\u001b[0;32m   1082\u001b[0m     \u001b[39m# was very quick and its callback already dispatched all the\u001b[39;00m\n\u001b[0;32m   1083\u001b[0m     \u001b[39m# remaining jobs.\u001b[39;00m\n\u001b[0;32m   1084\u001b[0m     \u001b[39mself\u001b[39m\u001b[39m.\u001b[39m_iterating \u001b[39m=\u001b[39m \u001b[39mFalse\u001b[39;00m\n\u001b[1;32m-> 1085\u001b[0m     \u001b[39mif\u001b[39;00m \u001b[39mself\u001b[39;49m\u001b[39m.\u001b[39;49mdispatch_one_batch(iterator):\n\u001b[0;32m   1086\u001b[0m         \u001b[39mself\u001b[39m\u001b[39m.\u001b[39m_iterating \u001b[39m=\u001b[39m \u001b[39mself\u001b[39m\u001b[39m.\u001b[39m_original_iterator \u001b[39mis\u001b[39;00m \u001b[39mnot\u001b[39;00m \u001b[39mNone\u001b[39;00m\n\u001b[0;32m   1088\u001b[0m     \u001b[39mwhile\u001b[39;00m \u001b[39mself\u001b[39m\u001b[39m.\u001b[39mdispatch_one_batch(iterator):\n",
      "File \u001b[1;32m~\\AppData\\Local\\Packages\\PythonSoftwareFoundation.Python.3.10_qbz5n2kfra8p0\\LocalCache\\local-packages\\Python310\\site-packages\\joblib\\parallel.py:901\u001b[0m, in \u001b[0;36mParallel.dispatch_one_batch\u001b[1;34m(self, iterator)\u001b[0m\n\u001b[0;32m    899\u001b[0m     \u001b[39mreturn\u001b[39;00m \u001b[39mFalse\u001b[39;00m\n\u001b[0;32m    900\u001b[0m \u001b[39melse\u001b[39;00m:\n\u001b[1;32m--> 901\u001b[0m     \u001b[39mself\u001b[39;49m\u001b[39m.\u001b[39;49m_dispatch(tasks)\n\u001b[0;32m    902\u001b[0m     \u001b[39mreturn\u001b[39;00m \u001b[39mTrue\u001b[39;00m\n",
      "File \u001b[1;32m~\\AppData\\Local\\Packages\\PythonSoftwareFoundation.Python.3.10_qbz5n2kfra8p0\\LocalCache\\local-packages\\Python310\\site-packages\\joblib\\parallel.py:819\u001b[0m, in \u001b[0;36mParallel._dispatch\u001b[1;34m(self, batch)\u001b[0m\n\u001b[0;32m    817\u001b[0m \u001b[39mwith\u001b[39;00m \u001b[39mself\u001b[39m\u001b[39m.\u001b[39m_lock:\n\u001b[0;32m    818\u001b[0m     job_idx \u001b[39m=\u001b[39m \u001b[39mlen\u001b[39m(\u001b[39mself\u001b[39m\u001b[39m.\u001b[39m_jobs)\n\u001b[1;32m--> 819\u001b[0m     job \u001b[39m=\u001b[39m \u001b[39mself\u001b[39;49m\u001b[39m.\u001b[39;49m_backend\u001b[39m.\u001b[39;49mapply_async(batch, callback\u001b[39m=\u001b[39;49mcb)\n\u001b[0;32m    820\u001b[0m     \u001b[39m# A job can complete so quickly than its callback is\u001b[39;00m\n\u001b[0;32m    821\u001b[0m     \u001b[39m# called before we get here, causing self._jobs to\u001b[39;00m\n\u001b[0;32m    822\u001b[0m     \u001b[39m# grow. To ensure correct results ordering, .insert is\u001b[39;00m\n\u001b[0;32m    823\u001b[0m     \u001b[39m# used (rather than .append) in the following line\u001b[39;00m\n\u001b[0;32m    824\u001b[0m     \u001b[39mself\u001b[39m\u001b[39m.\u001b[39m_jobs\u001b[39m.\u001b[39minsert(job_idx, job)\n",
      "File \u001b[1;32m~\\AppData\\Local\\Packages\\PythonSoftwareFoundation.Python.3.10_qbz5n2kfra8p0\\LocalCache\\local-packages\\Python310\\site-packages\\joblib\\_parallel_backends.py:208\u001b[0m, in \u001b[0;36mSequentialBackend.apply_async\u001b[1;34m(self, func, callback)\u001b[0m\n\u001b[0;32m    206\u001b[0m \u001b[39mdef\u001b[39;00m \u001b[39mapply_async\u001b[39m(\u001b[39mself\u001b[39m, func, callback\u001b[39m=\u001b[39m\u001b[39mNone\u001b[39;00m):\n\u001b[0;32m    207\u001b[0m     \u001b[39m\"\"\"Schedule a func to be run\"\"\"\u001b[39;00m\n\u001b[1;32m--> 208\u001b[0m     result \u001b[39m=\u001b[39m ImmediateResult(func)\n\u001b[0;32m    209\u001b[0m     \u001b[39mif\u001b[39;00m callback:\n\u001b[0;32m    210\u001b[0m         callback(result)\n",
      "File \u001b[1;32m~\\AppData\\Local\\Packages\\PythonSoftwareFoundation.Python.3.10_qbz5n2kfra8p0\\LocalCache\\local-packages\\Python310\\site-packages\\joblib\\_parallel_backends.py:597\u001b[0m, in \u001b[0;36mImmediateResult.__init__\u001b[1;34m(self, batch)\u001b[0m\n\u001b[0;32m    594\u001b[0m \u001b[39mdef\u001b[39;00m \u001b[39m__init__\u001b[39m(\u001b[39mself\u001b[39m, batch):\n\u001b[0;32m    595\u001b[0m     \u001b[39m# Don't delay the application, to avoid keeping the input\u001b[39;00m\n\u001b[0;32m    596\u001b[0m     \u001b[39m# arguments in memory\u001b[39;00m\n\u001b[1;32m--> 597\u001b[0m     \u001b[39mself\u001b[39m\u001b[39m.\u001b[39mresults \u001b[39m=\u001b[39m batch()\n",
      "File \u001b[1;32m~\\AppData\\Local\\Packages\\PythonSoftwareFoundation.Python.3.10_qbz5n2kfra8p0\\LocalCache\\local-packages\\Python310\\site-packages\\joblib\\parallel.py:288\u001b[0m, in \u001b[0;36mBatchedCalls.__call__\u001b[1;34m(self)\u001b[0m\n\u001b[0;32m    284\u001b[0m \u001b[39mdef\u001b[39;00m \u001b[39m__call__\u001b[39m(\u001b[39mself\u001b[39m):\n\u001b[0;32m    285\u001b[0m     \u001b[39m# Set the default nested backend to self._backend but do not set the\u001b[39;00m\n\u001b[0;32m    286\u001b[0m     \u001b[39m# change the default number of processes to -1\u001b[39;00m\n\u001b[0;32m    287\u001b[0m     \u001b[39mwith\u001b[39;00m parallel_backend(\u001b[39mself\u001b[39m\u001b[39m.\u001b[39m_backend, n_jobs\u001b[39m=\u001b[39m\u001b[39mself\u001b[39m\u001b[39m.\u001b[39m_n_jobs):\n\u001b[1;32m--> 288\u001b[0m         \u001b[39mreturn\u001b[39;00m [func(\u001b[39m*\u001b[39margs, \u001b[39m*\u001b[39m\u001b[39m*\u001b[39mkwargs)\n\u001b[0;32m    289\u001b[0m                 \u001b[39mfor\u001b[39;00m func, args, kwargs \u001b[39min\u001b[39;00m \u001b[39mself\u001b[39m\u001b[39m.\u001b[39mitems]\n",
      "File \u001b[1;32m~\\AppData\\Local\\Packages\\PythonSoftwareFoundation.Python.3.10_qbz5n2kfra8p0\\LocalCache\\local-packages\\Python310\\site-packages\\joblib\\parallel.py:288\u001b[0m, in \u001b[0;36m<listcomp>\u001b[1;34m(.0)\u001b[0m\n\u001b[0;32m    284\u001b[0m \u001b[39mdef\u001b[39;00m \u001b[39m__call__\u001b[39m(\u001b[39mself\u001b[39m):\n\u001b[0;32m    285\u001b[0m     \u001b[39m# Set the default nested backend to self._backend but do not set the\u001b[39;00m\n\u001b[0;32m    286\u001b[0m     \u001b[39m# change the default number of processes to -1\u001b[39;00m\n\u001b[0;32m    287\u001b[0m     \u001b[39mwith\u001b[39;00m parallel_backend(\u001b[39mself\u001b[39m\u001b[39m.\u001b[39m_backend, n_jobs\u001b[39m=\u001b[39m\u001b[39mself\u001b[39m\u001b[39m.\u001b[39m_n_jobs):\n\u001b[1;32m--> 288\u001b[0m         \u001b[39mreturn\u001b[39;00m [func(\u001b[39m*\u001b[39margs, \u001b[39m*\u001b[39m\u001b[39m*\u001b[39mkwargs)\n\u001b[0;32m    289\u001b[0m                 \u001b[39mfor\u001b[39;00m func, args, kwargs \u001b[39min\u001b[39;00m \u001b[39mself\u001b[39m\u001b[39m.\u001b[39mitems]\n",
      "File \u001b[1;32m~\\AppData\\Local\\Packages\\PythonSoftwareFoundation.Python.3.10_qbz5n2kfra8p0\\LocalCache\\local-packages\\Python310\\site-packages\\sklearn\\utils\\fixes.py:117\u001b[0m, in \u001b[0;36m_FuncWrapper.__call__\u001b[1;34m(self, *args, **kwargs)\u001b[0m\n\u001b[0;32m    115\u001b[0m \u001b[39mdef\u001b[39;00m \u001b[39m__call__\u001b[39m(\u001b[39mself\u001b[39m, \u001b[39m*\u001b[39margs, \u001b[39m*\u001b[39m\u001b[39m*\u001b[39mkwargs):\n\u001b[0;32m    116\u001b[0m     \u001b[39mwith\u001b[39;00m config_context(\u001b[39m*\u001b[39m\u001b[39m*\u001b[39m\u001b[39mself\u001b[39m\u001b[39m.\u001b[39mconfig):\n\u001b[1;32m--> 117\u001b[0m         \u001b[39mreturn\u001b[39;00m \u001b[39mself\u001b[39m\u001b[39m.\u001b[39mfunction(\u001b[39m*\u001b[39margs, \u001b[39m*\u001b[39m\u001b[39m*\u001b[39mkwargs)\n",
      "File \u001b[1;32m~\\AppData\\Local\\Packages\\PythonSoftwareFoundation.Python.3.10_qbz5n2kfra8p0\\LocalCache\\local-packages\\Python310\\site-packages\\sklearn\\model_selection\\_validation.py:686\u001b[0m, in \u001b[0;36m_fit_and_score\u001b[1;34m(estimator, X, y, scorer, train, test, verbose, parameters, fit_params, return_train_score, return_parameters, return_n_test_samples, return_times, return_estimator, split_progress, candidate_progress, error_score)\u001b[0m\n\u001b[0;32m    684\u001b[0m         estimator\u001b[39m.\u001b[39mfit(X_train, \u001b[39m*\u001b[39m\u001b[39m*\u001b[39mfit_params)\n\u001b[0;32m    685\u001b[0m     \u001b[39melse\u001b[39;00m:\n\u001b[1;32m--> 686\u001b[0m         estimator\u001b[39m.\u001b[39mfit(X_train, y_train, \u001b[39m*\u001b[39m\u001b[39m*\u001b[39mfit_params)\n\u001b[0;32m    688\u001b[0m \u001b[39mexcept\u001b[39;00m \u001b[39mException\u001b[39;00m:\n\u001b[0;32m    689\u001b[0m     \u001b[39m# Note fit time as time until error\u001b[39;00m\n\u001b[0;32m    690\u001b[0m     fit_time \u001b[39m=\u001b[39m time\u001b[39m.\u001b[39mtime() \u001b[39m-\u001b[39m start_time\n",
      "File \u001b[1;32m~\\AppData\\Local\\Packages\\PythonSoftwareFoundation.Python.3.10_qbz5n2kfra8p0\\LocalCache\\local-packages\\Python310\\site-packages\\xgboost\\core.py:620\u001b[0m, in \u001b[0;36mrequire_keyword_args.<locals>.throw_if.<locals>.inner_f\u001b[1;34m(*args, **kwargs)\u001b[0m\n\u001b[0;32m    618\u001b[0m \u001b[39mfor\u001b[39;00m k, arg \u001b[39min\u001b[39;00m \u001b[39mzip\u001b[39m(sig\u001b[39m.\u001b[39mparameters, args):\n\u001b[0;32m    619\u001b[0m     kwargs[k] \u001b[39m=\u001b[39m arg\n\u001b[1;32m--> 620\u001b[0m \u001b[39mreturn\u001b[39;00m func(\u001b[39m*\u001b[39m\u001b[39m*\u001b[39mkwargs)\n",
      "File \u001b[1;32m~\\AppData\\Local\\Packages\\PythonSoftwareFoundation.Python.3.10_qbz5n2kfra8p0\\LocalCache\\local-packages\\Python310\\site-packages\\xgboost\\sklearn.py:1516\u001b[0m, in \u001b[0;36mXGBClassifier.fit\u001b[1;34m(self, X, y, sample_weight, base_margin, eval_set, eval_metric, early_stopping_rounds, verbose, xgb_model, sample_weight_eval_set, base_margin_eval_set, feature_weights, callbacks)\u001b[0m\n\u001b[0;32m   1488\u001b[0m (\n\u001b[0;32m   1489\u001b[0m     model,\n\u001b[0;32m   1490\u001b[0m     metric,\n\u001b[1;32m   (...)\u001b[0m\n\u001b[0;32m   1495\u001b[0m     xgb_model, eval_metric, params, early_stopping_rounds, callbacks\n\u001b[0;32m   1496\u001b[0m )\n\u001b[0;32m   1497\u001b[0m train_dmatrix, evals \u001b[39m=\u001b[39m _wrap_evaluation_matrices(\n\u001b[0;32m   1498\u001b[0m     missing\u001b[39m=\u001b[39m\u001b[39mself\u001b[39m\u001b[39m.\u001b[39mmissing,\n\u001b[0;32m   1499\u001b[0m     X\u001b[39m=\u001b[39mX,\n\u001b[1;32m   (...)\u001b[0m\n\u001b[0;32m   1513\u001b[0m     feature_types\u001b[39m=\u001b[39m\u001b[39mself\u001b[39m\u001b[39m.\u001b[39mfeature_types,\n\u001b[0;32m   1514\u001b[0m )\n\u001b[1;32m-> 1516\u001b[0m \u001b[39mself\u001b[39m\u001b[39m.\u001b[39m_Booster \u001b[39m=\u001b[39m train(\n\u001b[0;32m   1517\u001b[0m     params,\n\u001b[0;32m   1518\u001b[0m     train_dmatrix,\n\u001b[0;32m   1519\u001b[0m     \u001b[39mself\u001b[39;49m\u001b[39m.\u001b[39;49mget_num_boosting_rounds(),\n\u001b[0;32m   1520\u001b[0m     evals\u001b[39m=\u001b[39;49mevals,\n\u001b[0;32m   1521\u001b[0m     early_stopping_rounds\u001b[39m=\u001b[39;49mearly_stopping_rounds,\n\u001b[0;32m   1522\u001b[0m     evals_result\u001b[39m=\u001b[39;49mevals_result,\n\u001b[0;32m   1523\u001b[0m     obj\u001b[39m=\u001b[39;49mobj,\n\u001b[0;32m   1524\u001b[0m     custom_metric\u001b[39m=\u001b[39;49mmetric,\n\u001b[0;32m   1525\u001b[0m     verbose_eval\u001b[39m=\u001b[39;49mverbose,\n\u001b[0;32m   1526\u001b[0m     xgb_model\u001b[39m=\u001b[39;49mmodel,\n\u001b[0;32m   1527\u001b[0m     callbacks\u001b[39m=\u001b[39;49mcallbacks,\n\u001b[0;32m   1528\u001b[0m )\n\u001b[0;32m   1530\u001b[0m \u001b[39mif\u001b[39;00m \u001b[39mnot\u001b[39;00m callable(\u001b[39mself\u001b[39m\u001b[39m.\u001b[39mobjective):\n\u001b[0;32m   1531\u001b[0m     \u001b[39mself\u001b[39m\u001b[39m.\u001b[39mobjective \u001b[39m=\u001b[39m params[\u001b[39m\"\u001b[39m\u001b[39mobjective\u001b[39m\u001b[39m\"\u001b[39m]\n",
      "File \u001b[1;32m~\\AppData\\Local\\Packages\\PythonSoftwareFoundation.Python.3.10_qbz5n2kfra8p0\\LocalCache\\local-packages\\Python310\\site-packages\\xgboost\\core.py:620\u001b[0m, in \u001b[0;36mrequire_keyword_args.<locals>.throw_if.<locals>.inner_f\u001b[1;34m(*args, **kwargs)\u001b[0m\n\u001b[0;32m    618\u001b[0m \u001b[39mfor\u001b[39;00m k, arg \u001b[39min\u001b[39;00m \u001b[39mzip\u001b[39m(sig\u001b[39m.\u001b[39mparameters, args):\n\u001b[0;32m    619\u001b[0m     kwargs[k] \u001b[39m=\u001b[39m arg\n\u001b[1;32m--> 620\u001b[0m \u001b[39mreturn\u001b[39;00m func(\u001b[39m*\u001b[39m\u001b[39m*\u001b[39mkwargs)\n",
      "File \u001b[1;32m~\\AppData\\Local\\Packages\\PythonSoftwareFoundation.Python.3.10_qbz5n2kfra8p0\\LocalCache\\local-packages\\Python310\\site-packages\\xgboost\\training.py:185\u001b[0m, in \u001b[0;36mtrain\u001b[1;34m(params, dtrain, num_boost_round, evals, obj, feval, maximize, early_stopping_rounds, evals_result, verbose_eval, xgb_model, callbacks, custom_metric)\u001b[0m\n\u001b[0;32m    183\u001b[0m \u001b[39mif\u001b[39;00m cb_container\u001b[39m.\u001b[39mbefore_iteration(bst, i, dtrain, evals):\n\u001b[0;32m    184\u001b[0m     \u001b[39mbreak\u001b[39;00m\n\u001b[1;32m--> 185\u001b[0m bst\u001b[39m.\u001b[39;49mupdate(dtrain, i, obj)\n\u001b[0;32m    186\u001b[0m \u001b[39mif\u001b[39;00m cb_container\u001b[39m.\u001b[39mafter_iteration(bst, i, dtrain, evals):\n\u001b[0;32m    187\u001b[0m     \u001b[39mbreak\u001b[39;00m\n",
      "File \u001b[1;32m~\\AppData\\Local\\Packages\\PythonSoftwareFoundation.Python.3.10_qbz5n2kfra8p0\\LocalCache\\local-packages\\Python310\\site-packages\\xgboost\\core.py:1918\u001b[0m, in \u001b[0;36mBooster.update\u001b[1;34m(self, dtrain, iteration, fobj)\u001b[0m\n\u001b[0;32m   1915\u001b[0m \u001b[39mself\u001b[39m\u001b[39m.\u001b[39m_validate_dmatrix_features(dtrain)\n\u001b[0;32m   1917\u001b[0m \u001b[39mif\u001b[39;00m fobj \u001b[39mis\u001b[39;00m \u001b[39mNone\u001b[39;00m:\n\u001b[1;32m-> 1918\u001b[0m     _check_call(_LIB\u001b[39m.\u001b[39;49mXGBoosterUpdateOneIter(\u001b[39mself\u001b[39;49m\u001b[39m.\u001b[39;49mhandle,\n\u001b[0;32m   1919\u001b[0m                                             ctypes\u001b[39m.\u001b[39;49mc_int(iteration),\n\u001b[0;32m   1920\u001b[0m                                             dtrain\u001b[39m.\u001b[39;49mhandle))\n\u001b[0;32m   1921\u001b[0m \u001b[39melse\u001b[39;00m:\n\u001b[0;32m   1922\u001b[0m     pred \u001b[39m=\u001b[39m \u001b[39mself\u001b[39m\u001b[39m.\u001b[39mpredict(dtrain, output_margin\u001b[39m=\u001b[39m\u001b[39mTrue\u001b[39;00m, training\u001b[39m=\u001b[39m\u001b[39mTrue\u001b[39;00m)\n",
      "\u001b[1;31mKeyboardInterrupt\u001b[0m: "
     ]
    }
   ],
   "source": [
    "import xgboost as xgb\n",
    "from xgboost import XGBClassifier\n",
    "from sklearn.model_selection import GridSearchCV\n",
    "\n",
    "params = { 'max_depth': [10,25,30],\n",
    "           'learning_rate': [0.01],\n",
    "           'subsample':[0.5],\n",
    "           'colsample_bytree':[0.6],\n",
    "           'colsample_bylevel': [0.6],\n",
    "          'min_child_weight':[10],\n",
    "         'gamma':[0.05],\n",
    "          'tree_method':['gpu_hist'],\n",
    "          'n_estimators': [300],\n",
    "          'gpu_id':[0]\n",
    "         }\n",
    "model = GridSearchCV(XGBClassifier(), param_grid=params, cv=5, verbose=1)\n",
    "model.fit(X_train, y_train)\n",
    "model.score(X_test, y_test)"
   ]
  },
  {
   "cell_type": "code",
   "execution_count": 27,
   "metadata": {},
   "outputs": [
    {
     "data": {
      "text/html": [
       "<style>#sk-container-id-5 {color: black;background-color: white;}#sk-container-id-5 pre{padding: 0;}#sk-container-id-5 div.sk-toggleable {background-color: white;}#sk-container-id-5 label.sk-toggleable__label {cursor: pointer;display: block;width: 100%;margin-bottom: 0;padding: 0.3em;box-sizing: border-box;text-align: center;}#sk-container-id-5 label.sk-toggleable__label-arrow:before {content: \"▸\";float: left;margin-right: 0.25em;color: #696969;}#sk-container-id-5 label.sk-toggleable__label-arrow:hover:before {color: black;}#sk-container-id-5 div.sk-estimator:hover label.sk-toggleable__label-arrow:before {color: black;}#sk-container-id-5 div.sk-toggleable__content {max-height: 0;max-width: 0;overflow: hidden;text-align: left;background-color: #f0f8ff;}#sk-container-id-5 div.sk-toggleable__content pre {margin: 0.2em;color: black;border-radius: 0.25em;background-color: #f0f8ff;}#sk-container-id-5 input.sk-toggleable__control:checked~div.sk-toggleable__content {max-height: 200px;max-width: 100%;overflow: auto;}#sk-container-id-5 input.sk-toggleable__control:checked~label.sk-toggleable__label-arrow:before {content: \"▾\";}#sk-container-id-5 div.sk-estimator input.sk-toggleable__control:checked~label.sk-toggleable__label {background-color: #d4ebff;}#sk-container-id-5 div.sk-label input.sk-toggleable__control:checked~label.sk-toggleable__label {background-color: #d4ebff;}#sk-container-id-5 input.sk-hidden--visually {border: 0;clip: rect(1px 1px 1px 1px);clip: rect(1px, 1px, 1px, 1px);height: 1px;margin: -1px;overflow: hidden;padding: 0;position: absolute;width: 1px;}#sk-container-id-5 div.sk-estimator {font-family: monospace;background-color: #f0f8ff;border: 1px dotted black;border-radius: 0.25em;box-sizing: border-box;margin-bottom: 0.5em;}#sk-container-id-5 div.sk-estimator:hover {background-color: #d4ebff;}#sk-container-id-5 div.sk-parallel-item::after {content: \"\";width: 100%;border-bottom: 1px solid gray;flex-grow: 1;}#sk-container-id-5 div.sk-label:hover label.sk-toggleable__label {background-color: #d4ebff;}#sk-container-id-5 div.sk-serial::before {content: \"\";position: absolute;border-left: 1px solid gray;box-sizing: border-box;top: 0;bottom: 0;left: 50%;z-index: 0;}#sk-container-id-5 div.sk-serial {display: flex;flex-direction: column;align-items: center;background-color: white;padding-right: 0.2em;padding-left: 0.2em;position: relative;}#sk-container-id-5 div.sk-item {position: relative;z-index: 1;}#sk-container-id-5 div.sk-parallel {display: flex;align-items: stretch;justify-content: center;background-color: white;position: relative;}#sk-container-id-5 div.sk-item::before, #sk-container-id-5 div.sk-parallel-item::before {content: \"\";position: absolute;border-left: 1px solid gray;box-sizing: border-box;top: 0;bottom: 0;left: 50%;z-index: -1;}#sk-container-id-5 div.sk-parallel-item {display: flex;flex-direction: column;z-index: 1;position: relative;background-color: white;}#sk-container-id-5 div.sk-parallel-item:first-child::after {align-self: flex-end;width: 50%;}#sk-container-id-5 div.sk-parallel-item:last-child::after {align-self: flex-start;width: 50%;}#sk-container-id-5 div.sk-parallel-item:only-child::after {width: 0;}#sk-container-id-5 div.sk-dashed-wrapped {border: 1px dashed gray;margin: 0 0.4em 0.5em 0.4em;box-sizing: border-box;padding-bottom: 0.4em;background-color: white;}#sk-container-id-5 div.sk-label label {font-family: monospace;font-weight: bold;display: inline-block;line-height: 1.2em;}#sk-container-id-5 div.sk-label-container {text-align: center;}#sk-container-id-5 div.sk-container {/* jupyter's `normalize.less` sets `[hidden] { display: none; }` but bootstrap.min.css set `[hidden] { display: none !important; }` so we also need the `!important` here to be able to override the default hidden behavior on the sphinx rendered scikit-learn.org. See: https://github.com/scikit-learn/scikit-learn/issues/21755 */display: inline-block !important;position: relative;}#sk-container-id-5 div.sk-text-repr-fallback {display: none;}</style><div id=\"sk-container-id-5\" class=\"sk-top-container\"><div class=\"sk-text-repr-fallback\"><pre>XGBClassifier(base_score=0.5, booster=&#x27;gbtree&#x27;, callbacks=None,\n",
       "              colsample_bylevel=0.8, colsample_bynode=1, colsample_bytree=0.8,\n",
       "              early_stopping_rounds=None, enable_categorical=False,\n",
       "              eval_metric=&#x27;merror&#x27;, feature_types=None, gamma=0.09, gpu_id=-1,\n",
       "              grow_policy=&#x27;depthwise&#x27;, importance_type=None,\n",
       "              interaction_constraints=&#x27;&#x27;, learning_rate=0.03, max_bin=256,\n",
       "              max_cat_threshold=64, max_cat_to_onehot=4, max_delta_step=0,\n",
       "              max_depth=10, max_leaves=0, min_child_weight=13, missing=nan,\n",
       "              monotone_constraints=&#x27;()&#x27;, n_estimators=1000, n_jobs=-1,\n",
       "              num_parallel_tree=4, predictor=&#x27;auto&#x27;, random_state=42, ...)</pre><b>In a Jupyter environment, please rerun this cell to show the HTML representation or trust the notebook. <br />On GitHub, the HTML representation is unable to render, please try loading this page with nbviewer.org.</b></div><div class=\"sk-container\" hidden><div class=\"sk-item\"><div class=\"sk-estimator sk-toggleable\"><input class=\"sk-toggleable__control sk-hidden--visually\" id=\"sk-estimator-id-5\" type=\"checkbox\" checked><label for=\"sk-estimator-id-5\" class=\"sk-toggleable__label sk-toggleable__label-arrow\">XGBClassifier</label><div class=\"sk-toggleable__content\"><pre>XGBClassifier(base_score=0.5, booster=&#x27;gbtree&#x27;, callbacks=None,\n",
       "              colsample_bylevel=0.8, colsample_bynode=1, colsample_bytree=0.8,\n",
       "              early_stopping_rounds=None, enable_categorical=False,\n",
       "              eval_metric=&#x27;merror&#x27;, feature_types=None, gamma=0.09, gpu_id=-1,\n",
       "              grow_policy=&#x27;depthwise&#x27;, importance_type=None,\n",
       "              interaction_constraints=&#x27;&#x27;, learning_rate=0.03, max_bin=256,\n",
       "              max_cat_threshold=64, max_cat_to_onehot=4, max_delta_step=0,\n",
       "              max_depth=10, max_leaves=0, min_child_weight=13, missing=nan,\n",
       "              monotone_constraints=&#x27;()&#x27;, n_estimators=1000, n_jobs=-1,\n",
       "              num_parallel_tree=4, predictor=&#x27;auto&#x27;, random_state=42, ...)</pre></div></div></div></div></div>"
      ],
      "text/plain": [
       "XGBClassifier(base_score=0.5, booster='gbtree', callbacks=None,\n",
       "              colsample_bylevel=0.8, colsample_bynode=1, colsample_bytree=0.8,\n",
       "              early_stopping_rounds=None, enable_categorical=False,\n",
       "              eval_metric='merror', feature_types=None, gamma=0.09, gpu_id=-1,\n",
       "              grow_policy='depthwise', importance_type=None,\n",
       "              interaction_constraints='', learning_rate=0.03, max_bin=256,\n",
       "              max_cat_threshold=64, max_cat_to_onehot=4, max_delta_step=0,\n",
       "              max_depth=10, max_leaves=0, min_child_weight=13, missing=nan,\n",
       "              monotone_constraints='()', n_estimators=1000, n_jobs=-1,\n",
       "              num_parallel_tree=4, predictor='auto', random_state=42, ...)"
      ]
     },
     "execution_count": 27,
     "metadata": {},
     "output_type": "execute_result"
    }
   ],
   "source": [
    "import xgboost as xgb\n",
    "from xgboost import XGBClassifier\n",
    "\n",
    "model_xgb = XGBClassifier(max_depth=10,\n",
    "           learning_rate=0.03,\n",
    "           subsample=0.8,\n",
    "           colsample_bytree=0.8,\n",
    "          colsample_bylevel=0.8,\n",
    "          min_child_weight=13,\n",
    "         gamma=0.09,\n",
    "         num_parallel_tree=4,\n",
    " objective='binary:logistic',\n",
    " # sampling_method='gradient_based',\n",
    "         eval_metric='merror',\n",
    "         tree_method='hist',\n",
    "          n_estimators=1000,\n",
    "          random_state=42, # gpu_id=0,\n",
    "          n_jobs=-1\n",
    "          )\n",
    "model_xgb.fit(X, y)"
   ]
  },
  {
   "cell_type": "code",
   "execution_count": 28,
   "metadata": {},
   "outputs": [
    {
     "name": "stderr",
     "output_type": "stream",
     "text": [
      "C:\\Users\\kishl\\AppData\\Local\\Packages\\PythonSoftwareFoundation.Python.3.10_qbz5n2kfra8p0\\LocalCache\\local-packages\\Python310\\site-packages\\sklearn\\base.py:443: UserWarning: X has feature names, but StandardScaler was fitted without feature names\n",
      "  warnings.warn(\n"
     ]
    },
    {
     "data": {
      "text/plain": [
       "0.8044473333333333"
      ]
     },
     "execution_count": 28,
     "metadata": {},
     "output_type": "execute_result"
    }
   ],
   "source": [
    "df_test_2 = df_test.copy()\n",
    "\n",
    "# df_test_2.iloc[:,[0,3,6,8,10,11,12,14,15]] = df_test_2.iloc[:,[0,3,6,8,10,11,12,14,15]].apply(lambda x:np.log(x))\n",
    "# df_test_2.iloc[:,[4,9]] = df_test_2.iloc[:,[4,9]].apply(lambda x:np.log(x**2))\n",
    "# df_test_2.iloc[:,[13,17]] = df_test_2.iloc[:,[13,17]].apply(lambda x:np.sqrt(x))\n",
    "\n",
    "df_test_2.iloc[:,[11,12,14,15]] = df_test_2.iloc[:,[11,12,14,15]].apply(lambda x:np.log(x))\n",
    "df_test_2.iloc[:,[13]] = df_test_2.iloc[:,[13]].apply(lambda x:np.sqrt(x))\n",
    "\n",
    "df_test_2 = df_test_2.drop(['lepton_1_phi', 'missing_energy_phi', 'lepton_2_phi'], axis=1)\n",
    "X_tl, y_tl = df_test_2.loc[:,~df_test_2.columns.isin(['class'])], df_test_2['class']\n",
    "\n",
    "# X_tl = imputer_full.transform(X_tl)\n",
    "X_tl = scaler_full.transform(X_tl)\n",
    "\n",
    "model_xgb.score(X_tl, y_tl)"
   ]
  },
  {
   "cell_type": "code",
   "execution_count": 27,
   "metadata": {},
   "outputs": [],
   "source": [
    "bad = (model_xgb.predict(X_tl)!=y_tl)\n",
    "good = (model_xgb.predict(X_tl)==y_tl)"
   ]
  },
  {
   "cell_type": "code",
   "execution_count": 28,
   "metadata": {},
   "outputs": [
    {
     "data": {
      "text/html": [
       "<div>\n",
       "<style scoped>\n",
       "    .dataframe tbody tr th:only-of-type {\n",
       "        vertical-align: middle;\n",
       "    }\n",
       "\n",
       "    .dataframe tbody tr th {\n",
       "        vertical-align: top;\n",
       "    }\n",
       "\n",
       "    .dataframe thead th {\n",
       "        text-align: right;\n",
       "    }\n",
       "</style>\n",
       "<table border=\"1\" class=\"dataframe\">\n",
       "  <thead>\n",
       "    <tr style=\"text-align: right;\">\n",
       "      <th></th>\n",
       "      <th>0</th>\n",
       "      <th>1</th>\n",
       "    </tr>\n",
       "  </thead>\n",
       "  <tbody>\n",
       "    <tr>\n",
       "      <th>count</th>\n",
       "      <td>1.206725e+06</td>\n",
       "      <td>1.206725e+06</td>\n",
       "    </tr>\n",
       "    <tr>\n",
       "      <th>mean</th>\n",
       "      <td>5.329040e-01</td>\n",
       "      <td>4.670960e-01</td>\n",
       "    </tr>\n",
       "    <tr>\n",
       "      <th>std</th>\n",
       "      <td>3.541679e-01</td>\n",
       "      <td>3.541679e-01</td>\n",
       "    </tr>\n",
       "    <tr>\n",
       "      <th>min</th>\n",
       "      <td>3.218651e-06</td>\n",
       "      <td>8.266995e-03</td>\n",
       "    </tr>\n",
       "    <tr>\n",
       "      <th>25%</th>\n",
       "      <td>1.378038e-01</td>\n",
       "      <td>1.426999e-01</td>\n",
       "    </tr>\n",
       "    <tr>\n",
       "      <th>50%</th>\n",
       "      <td>6.718651e-01</td>\n",
       "      <td>3.281349e-01</td>\n",
       "    </tr>\n",
       "    <tr>\n",
       "      <th>75%</th>\n",
       "      <td>8.573000e-01</td>\n",
       "      <td>8.621962e-01</td>\n",
       "    </tr>\n",
       "    <tr>\n",
       "      <th>max</th>\n",
       "      <td>9.917330e-01</td>\n",
       "      <td>9.999968e-01</td>\n",
       "    </tr>\n",
       "  </tbody>\n",
       "</table>\n",
       "</div>"
      ],
      "text/plain": [
       "                  0             1\n",
       "count  1.206725e+06  1.206725e+06\n",
       "mean   5.329040e-01  4.670960e-01\n",
       "std    3.541679e-01  3.541679e-01\n",
       "min    3.218651e-06  8.266995e-03\n",
       "25%    1.378038e-01  1.426999e-01\n",
       "50%    6.718651e-01  3.281349e-01\n",
       "75%    8.573000e-01  8.621962e-01\n",
       "max    9.917330e-01  9.999968e-01"
      ]
     },
     "execution_count": 28,
     "metadata": {},
     "output_type": "execute_result"
    }
   ],
   "source": [
    "pd.DataFrame(model_xgb.predict_proba(X_tl[good])).describe()"
   ]
  },
  {
   "cell_type": "code",
   "execution_count": 22,
   "metadata": {},
   "outputs": [
    {
     "data": {
      "text/plain": [
       "array([0.16153808, 0.02685192, 0.00820947, 0.02046912, 0.35240406,\n",
       "       0.02017223, 0.08709232, 0.04713774, 0.15880756, 0.01598843,\n",
       "       0.01751463, 0.02074286, 0.01574262, 0.02321202, 0.02411691],\n",
       "      dtype=float32)"
      ]
     },
     "execution_count": 22,
     "metadata": {},
     "output_type": "execute_result"
    }
   ],
   "source": [
    "model_xgb.feature_importances_"
   ]
  },
  {
   "cell_type": "code",
   "execution_count": 45,
   "metadata": {},
   "outputs": [],
   "source": [
    "X_t = pd.read_csv('../test.csv', index_col=0)\n",
    "\n",
    "# X_t.iloc[:,[0,3,6,8,10,11,12,14,15]] = X_t.iloc[:,[0,3,6,8,10,11,12,14,15]].apply(lambda x:np.log(x))\n",
    "# df_test_2.iloc[:,[4,9]] = df_test_2.iloc[:,[4,9]].apply(lambda x:np.log(x**2))\n",
    "# X_t.iloc[:,[13,17]] = X_t.iloc[:,[13,17]].apply(lambda x:np.sqrt(x))\n",
    "\n",
    "X_t.iloc[:,[11,12,14,15]] = X_t.iloc[:,[11,12,14,15]].apply(lambda x:np.log(x))\n",
    "X_t.iloc[:,[13]] = X_t.iloc[:,[13]].apply(lambda x:np.sqrt(x))\n",
    "\n",
    "X_t = X_t.drop(columns=['lepton_1_phi', 'missing_energy_phi', 'lepton_2_phi'], axis=1)\n",
    "X_t = X_t.to_numpy(dtype=np.float_)\n",
    "\n",
    "# X_t = imputer_full.transform(X_t)\n",
    "X_t = scaler_full.transform(X_t)\n",
    "\n",
    "output_xgb = pd.Series(model_xgb.predict(X_t).astype(np.float_), name='class')\n",
    "output_xgb.to_csv('res_xgb.csv', index=True, index_label='Id')"
   ]
  },
  {
   "attachments": {},
   "cell_type": "markdown",
   "metadata": {},
   "source": [
    "#### VC"
   ]
  },
  {
   "cell_type": "code",
   "execution_count": null,
   "metadata": {},
   "outputs": [],
   "source": [
    "from sklearn.ensemble import VotingClassifier"
   ]
  },
  {
   "attachments": {},
   "cell_type": "markdown",
   "metadata": {},
   "source": [
    "# Final Predictions "
   ]
  },
  {
   "cell_type": "code",
   "execution_count": 68,
   "metadata": {},
   "outputs": [],
   "source": [
    "X_t = pd.read_csv('../test.csv', index_col=0).to_numpy(dtype=np.float_)\n",
    "# X_t = pd.read_csv('../test.csv', index_col=0).drop(columns=['lepton_1_phi', 'missing_energy_phi', 'lepton_2_phi'], axis=1).to_numpy(dtype=np.float_)\n",
    "X_t = scaler_full.transform(X_t)\n",
    "# output_rf = pd.Series(model_rf.predict(X_t), name='class')\n",
    "output_xgb = pd.Series(model_xgb.predict(X_t).astype(np.float_), name='class')"
   ]
  },
  {
   "cell_type": "code",
   "execution_count": 69,
   "metadata": {},
   "outputs": [],
   "source": [
    "# output_rf.to_csv('res_rf.csv', index=True, index_label='Id')\n",
    "output_xgb.to_csv('res_xgb.csv', index=True, index_label='Id')"
   ]
  },
  {
   "cell_type": "code",
   "execution_count": 70,
   "metadata": {},
   "outputs": [
    {
     "name": "stderr",
     "output_type": "stream",
     "text": [
      "C:\\Users\\kishl\\AppData\\Local\\Packages\\PythonSoftwareFoundation.Python.3.10_qbz5n2kfra8p0\\LocalCache\\local-packages\\Python310\\site-packages\\sklearn\\base.py:443: UserWarning: X has feature names, but StandardScaler was fitted without feature names\n",
      "  warnings.warn(\n"
     ]
    },
    {
     "ename": "ValueError",
     "evalue": "X has 15 features, but StandardScaler is expecting 18 features as input.",
     "output_type": "error",
     "traceback": [
      "\u001b[1;31m---------------------------------------------------------------------------\u001b[0m",
      "\u001b[1;31mValueError\u001b[0m                                Traceback (most recent call last)",
      "Cell \u001b[1;32mIn [70], line 1\u001b[0m\n\u001b[1;32m----> 1\u001b[0m X_tl, y_tl \u001b[39m=\u001b[39m scaler_full\u001b[39m.\u001b[39;49mtransform(df_test\u001b[39m.\u001b[39;49mloc[:,\u001b[39m~\u001b[39;49mdf_test\u001b[39m.\u001b[39;49mcolumns\u001b[39m.\u001b[39;49misin([\u001b[39m'\u001b[39;49m\u001b[39mlepton_1_phi\u001b[39;49m\u001b[39m'\u001b[39;49m, \u001b[39m'\u001b[39;49m\u001b[39mmissing_energy_phi\u001b[39;49m\u001b[39m'\u001b[39;49m, \u001b[39m'\u001b[39;49m\u001b[39mlepton_2_phi\u001b[39;49m\u001b[39m'\u001b[39;49m, \u001b[39m'\u001b[39;49m\u001b[39mclass\u001b[39;49m\u001b[39m'\u001b[39;49m])]), df_test[\u001b[39m'\u001b[39m\u001b[39mclass\u001b[39m\u001b[39m'\u001b[39m]\n\u001b[0;32m      2\u001b[0m model_xg\u001b[39m.\u001b[39mscore(X_tl, y_tl)\n",
      "File \u001b[1;32m~\\AppData\\Local\\Packages\\PythonSoftwareFoundation.Python.3.10_qbz5n2kfra8p0\\LocalCache\\local-packages\\Python310\\site-packages\\sklearn\\preprocessing\\_data.py:975\u001b[0m, in \u001b[0;36mStandardScaler.transform\u001b[1;34m(self, X, copy)\u001b[0m\n\u001b[0;32m    972\u001b[0m check_is_fitted(\u001b[39mself\u001b[39m)\n\u001b[0;32m    974\u001b[0m copy \u001b[39m=\u001b[39m copy \u001b[39mif\u001b[39;00m copy \u001b[39mis\u001b[39;00m \u001b[39mnot\u001b[39;00m \u001b[39mNone\u001b[39;00m \u001b[39melse\u001b[39;00m \u001b[39mself\u001b[39m\u001b[39m.\u001b[39mcopy\n\u001b[1;32m--> 975\u001b[0m X \u001b[39m=\u001b[39m \u001b[39mself\u001b[39;49m\u001b[39m.\u001b[39;49m_validate_data(\n\u001b[0;32m    976\u001b[0m     X,\n\u001b[0;32m    977\u001b[0m     reset\u001b[39m=\u001b[39;49m\u001b[39mFalse\u001b[39;49;00m,\n\u001b[0;32m    978\u001b[0m     accept_sparse\u001b[39m=\u001b[39;49m\u001b[39m\"\u001b[39;49m\u001b[39mcsr\u001b[39;49m\u001b[39m\"\u001b[39;49m,\n\u001b[0;32m    979\u001b[0m     copy\u001b[39m=\u001b[39;49mcopy,\n\u001b[0;32m    980\u001b[0m     dtype\u001b[39m=\u001b[39;49mFLOAT_DTYPES,\n\u001b[0;32m    981\u001b[0m     force_all_finite\u001b[39m=\u001b[39;49m\u001b[39m\"\u001b[39;49m\u001b[39mallow-nan\u001b[39;49m\u001b[39m\"\u001b[39;49m,\n\u001b[0;32m    982\u001b[0m )\n\u001b[0;32m    984\u001b[0m \u001b[39mif\u001b[39;00m sparse\u001b[39m.\u001b[39missparse(X):\n\u001b[0;32m    985\u001b[0m     \u001b[39mif\u001b[39;00m \u001b[39mself\u001b[39m\u001b[39m.\u001b[39mwith_mean:\n",
      "File \u001b[1;32m~\\AppData\\Local\\Packages\\PythonSoftwareFoundation.Python.3.10_qbz5n2kfra8p0\\LocalCache\\local-packages\\Python310\\site-packages\\sklearn\\base.py:600\u001b[0m, in \u001b[0;36mBaseEstimator._validate_data\u001b[1;34m(self, X, y, reset, validate_separately, **check_params)\u001b[0m\n\u001b[0;32m    597\u001b[0m     out \u001b[39m=\u001b[39m X, y\n\u001b[0;32m    599\u001b[0m \u001b[39mif\u001b[39;00m \u001b[39mnot\u001b[39;00m no_val_X \u001b[39mand\u001b[39;00m check_params\u001b[39m.\u001b[39mget(\u001b[39m\"\u001b[39m\u001b[39mensure_2d\u001b[39m\u001b[39m\"\u001b[39m, \u001b[39mTrue\u001b[39;00m):\n\u001b[1;32m--> 600\u001b[0m     \u001b[39mself\u001b[39;49m\u001b[39m.\u001b[39;49m_check_n_features(X, reset\u001b[39m=\u001b[39;49mreset)\n\u001b[0;32m    602\u001b[0m \u001b[39mreturn\u001b[39;00m out\n",
      "File \u001b[1;32m~\\AppData\\Local\\Packages\\PythonSoftwareFoundation.Python.3.10_qbz5n2kfra8p0\\LocalCache\\local-packages\\Python310\\site-packages\\sklearn\\base.py:400\u001b[0m, in \u001b[0;36mBaseEstimator._check_n_features\u001b[1;34m(self, X, reset)\u001b[0m\n\u001b[0;32m    397\u001b[0m     \u001b[39mreturn\u001b[39;00m\n\u001b[0;32m    399\u001b[0m \u001b[39mif\u001b[39;00m n_features \u001b[39m!=\u001b[39m \u001b[39mself\u001b[39m\u001b[39m.\u001b[39mn_features_in_:\n\u001b[1;32m--> 400\u001b[0m     \u001b[39mraise\u001b[39;00m \u001b[39mValueError\u001b[39;00m(\n\u001b[0;32m    401\u001b[0m         \u001b[39mf\u001b[39m\u001b[39m\"\u001b[39m\u001b[39mX has \u001b[39m\u001b[39m{\u001b[39;00mn_features\u001b[39m}\u001b[39;00m\u001b[39m features, but \u001b[39m\u001b[39m{\u001b[39;00m\u001b[39mself\u001b[39m\u001b[39m.\u001b[39m\u001b[39m__class__\u001b[39m\u001b[39m.\u001b[39m\u001b[39m__name__\u001b[39m\u001b[39m}\u001b[39;00m\u001b[39m \u001b[39m\u001b[39m\"\u001b[39m\n\u001b[0;32m    402\u001b[0m         \u001b[39mf\u001b[39m\u001b[39m\"\u001b[39m\u001b[39mis expecting \u001b[39m\u001b[39m{\u001b[39;00m\u001b[39mself\u001b[39m\u001b[39m.\u001b[39mn_features_in_\u001b[39m}\u001b[39;00m\u001b[39m features as input.\u001b[39m\u001b[39m\"\u001b[39m\n\u001b[0;32m    403\u001b[0m     )\n",
      "\u001b[1;31mValueError\u001b[0m: X has 15 features, but StandardScaler is expecting 18 features as input."
     ]
    }
   ],
   "source": [
    "X_tl, y_tl = scaler_full.transform(df_test.loc[:,~df_test.columns.isin(['lepton_1_phi', 'missing_energy_phi', 'lepton_2_phi', 'class'])]), df_test['class']\n",
    "model_xg.score(X_tl, y_tl)"
   ]
  }
 ],
 "metadata": {
  "kernelspec": {
   "display_name": "Python 3",
   "language": "python",
   "name": "python3"
  },
  "language_info": {
   "codemirror_mode": {
    "name": "ipython",
    "version": 3
   },
   "file_extension": ".py",
   "mimetype": "text/x-python",
   "name": "python",
   "nbconvert_exporter": "python",
   "pygments_lexer": "ipython3",
   "version": "3.10.9 (tags/v3.10.9:1dd9be6, Dec  6 2022, 20:01:21) [MSC v.1934 64 bit (AMD64)]"
  },
  "orig_nbformat": 4,
  "vscode": {
   "interpreter": {
    "hash": "71378fec4b9b0ae51f784db9960b5ea07fb9042b7f7d69b6f196c430cecf08e0"
   }
  }
 },
 "nbformat": 4,
 "nbformat_minor": 2
}
