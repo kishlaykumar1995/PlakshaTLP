{
 "cells": [
  {
   "cell_type": "code",
   "execution_count": 1,
   "metadata": {},
   "outputs": [],
   "source": [
    "import numpy as np\n",
    "import pandas as pd\n",
    "import matplotlib.pyplot as plt\n",
    "import seaborn as sns"
   ]
  },
  {
   "cell_type": "code",
   "execution_count": 2,
   "metadata": {},
   "outputs": [
    {
     "data": {
      "text/html": [
       "<div>\n",
       "<style scoped>\n",
       "    .dataframe tbody tr th:only-of-type {\n",
       "        vertical-align: middle;\n",
       "    }\n",
       "\n",
       "    .dataframe tbody tr th {\n",
       "        vertical-align: top;\n",
       "    }\n",
       "\n",
       "    .dataframe thead th {\n",
       "        text-align: right;\n",
       "    }\n",
       "</style>\n",
       "<table border=\"1\" class=\"dataframe\">\n",
       "  <thead>\n",
       "    <tr style=\"text-align: right;\">\n",
       "      <th></th>\n",
       "      <th>lepton_1_pT</th>\n",
       "      <th>lepton_1_eta</th>\n",
       "      <th>lepton_1_phi</th>\n",
       "      <th>lepton_2_pT</th>\n",
       "      <th>lepton_2_eta</th>\n",
       "      <th>lepton_2_phi</th>\n",
       "      <th>missing_energy_magnitude</th>\n",
       "      <th>missing_energy_phi</th>\n",
       "      <th>MET_rel</th>\n",
       "      <th>axial_MET</th>\n",
       "      <th>M_R</th>\n",
       "      <th>M_TR_2</th>\n",
       "      <th>R</th>\n",
       "      <th>MT2</th>\n",
       "      <th>S_R</th>\n",
       "      <th>M_Delta_R</th>\n",
       "      <th>dPhi_r_b</th>\n",
       "      <th>cos(theta_r1)</th>\n",
       "      <th>class</th>\n",
       "    </tr>\n",
       "  </thead>\n",
       "  <tbody>\n",
       "    <tr>\n",
       "      <th>0</th>\n",
       "      <td>0.841381</td>\n",
       "      <td>1.832647</td>\n",
       "      <td>-0.689286</td>\n",
       "      <td>0.781839</td>\n",
       "      <td>0.572864</td>\n",
       "      <td>1.577097</td>\n",
       "      <td>0.398978</td>\n",
       "      <td>-0.683847</td>\n",
       "      <td>0.001826</td>\n",
       "      <td>0.651397</td>\n",
       "      <td>0.865560</td>\n",
       "      <td>0.429017</td>\n",
       "      <td>0.439840</td>\n",
       "      <td>0.000000</td>\n",
       "      <td>0.796105</td>\n",
       "      <td>0.342497</td>\n",
       "      <td>0.461542</td>\n",
       "      <td>0.005710</td>\n",
       "      <td>0.0</td>\n",
       "    </tr>\n",
       "    <tr>\n",
       "      <th>1</th>\n",
       "      <td>0.663798</td>\n",
       "      <td>2.058290</td>\n",
       "      <td>0.681435</td>\n",
       "      <td>1.054036</td>\n",
       "      <td>0.575352</td>\n",
       "      <td>-1.001445</td>\n",
       "      <td>0.462154</td>\n",
       "      <td>-0.833411</td>\n",
       "      <td>0.199734</td>\n",
       "      <td>0.215158</td>\n",
       "      <td>0.949988</td>\n",
       "      <td>0.618046</td>\n",
       "      <td>0.577324</td>\n",
       "      <td>0.000000</td>\n",
       "      <td>0.962927</td>\n",
       "      <td>0.333800</td>\n",
       "      <td>1.455247</td>\n",
       "      <td>0.101246</td>\n",
       "      <td>0.0</td>\n",
       "    </tr>\n",
       "    <tr>\n",
       "      <th>2</th>\n",
       "      <td>1.792225</td>\n",
       "      <td>-1.099978</td>\n",
       "      <td>0.088109</td>\n",
       "      <td>0.573157</td>\n",
       "      <td>-0.472629</td>\n",
       "      <td>1.642084</td>\n",
       "      <td>1.203374</td>\n",
       "      <td>1.506731</td>\n",
       "      <td>0.457695</td>\n",
       "      <td>-0.640507</td>\n",
       "      <td>1.157024</td>\n",
       "      <td>1.585432</td>\n",
       "      <td>1.215963</td>\n",
       "      <td>0.000000</td>\n",
       "      <td>1.113292</td>\n",
       "      <td>0.645729</td>\n",
       "      <td>0.721326</td>\n",
       "      <td>0.613326</td>\n",
       "      <td>1.0</td>\n",
       "    </tr>\n",
       "    <tr>\n",
       "      <th>3</th>\n",
       "      <td>0.893018</td>\n",
       "      <td>0.297782</td>\n",
       "      <td>-1.274870</td>\n",
       "      <td>1.316164</td>\n",
       "      <td>1.593303</td>\n",
       "      <td>0.672115</td>\n",
       "      <td>0.307014</td>\n",
       "      <td>-1.189868</td>\n",
       "      <td>0.064561</td>\n",
       "      <td>0.430909</td>\n",
       "      <td>1.162625</td>\n",
       "      <td>0.548821</td>\n",
       "      <td>0.418897</td>\n",
       "      <td>0.163908</td>\n",
       "      <td>1.157707</td>\n",
       "      <td>0.298163</td>\n",
       "      <td>0.803802</td>\n",
       "      <td>0.038902</td>\n",
       "      <td>0.0</td>\n",
       "    </tr>\n",
       "    <tr>\n",
       "      <th>4</th>\n",
       "      <td>1.338997</td>\n",
       "      <td>0.350023</td>\n",
       "      <td>-1.518510</td>\n",
       "      <td>1.482963</td>\n",
       "      <td>-0.491807</td>\n",
       "      <td>0.340170</td>\n",
       "      <td>0.415071</td>\n",
       "      <td>-1.292034</td>\n",
       "      <td>0.240712</td>\n",
       "      <td>0.611775</td>\n",
       "      <td>1.307798</td>\n",
       "      <td>0.697804</td>\n",
       "      <td>0.473487</td>\n",
       "      <td>0.429977</td>\n",
       "      <td>1.287935</td>\n",
       "      <td>0.330327</td>\n",
       "      <td>0.717237</td>\n",
       "      <td>0.003147</td>\n",
       "      <td>1.0</td>\n",
       "    </tr>\n",
       "  </tbody>\n",
       "</table>\n",
       "</div>"
      ],
      "text/plain": [
       "   lepton_1_pT  lepton_1_eta  lepton_1_phi  lepton_2_pT  lepton_2_eta  \\\n",
       "0     0.841381      1.832647     -0.689286     0.781839      0.572864   \n",
       "1     0.663798      2.058290      0.681435     1.054036      0.575352   \n",
       "2     1.792225     -1.099978      0.088109     0.573157     -0.472629   \n",
       "3     0.893018      0.297782     -1.274870     1.316164      1.593303   \n",
       "4     1.338997      0.350023     -1.518510     1.482963     -0.491807   \n",
       "\n",
       "   lepton_2_phi  missing_energy_magnitude  missing_energy_phi   MET_rel  \\\n",
       "0      1.577097                  0.398978           -0.683847  0.001826   \n",
       "1     -1.001445                  0.462154           -0.833411  0.199734   \n",
       "2      1.642084                  1.203374            1.506731  0.457695   \n",
       "3      0.672115                  0.307014           -1.189868  0.064561   \n",
       "4      0.340170                  0.415071           -1.292034  0.240712   \n",
       "\n",
       "   axial_MET       M_R    M_TR_2         R       MT2       S_R  M_Delta_R  \\\n",
       "0   0.651397  0.865560  0.429017  0.439840  0.000000  0.796105   0.342497   \n",
       "1   0.215158  0.949988  0.618046  0.577324  0.000000  0.962927   0.333800   \n",
       "2  -0.640507  1.157024  1.585432  1.215963  0.000000  1.113292   0.645729   \n",
       "3   0.430909  1.162625  0.548821  0.418897  0.163908  1.157707   0.298163   \n",
       "4   0.611775  1.307798  0.697804  0.473487  0.429977  1.287935   0.330327   \n",
       "\n",
       "   dPhi_r_b  cos(theta_r1)  class  \n",
       "0  0.461542       0.005710    0.0  \n",
       "1  1.455247       0.101246    0.0  \n",
       "2  0.721326       0.613326    1.0  \n",
       "3  0.803802       0.038902    0.0  \n",
       "4  0.717237       0.003147    1.0  "
      ]
     },
     "execution_count": 2,
     "metadata": {},
     "output_type": "execute_result"
    }
   ],
   "source": [
    "df_hc = pd.read_csv('train.csv', index_col=0)\n",
    "df_hc.head()"
   ]
  },
  {
   "cell_type": "code",
   "execution_count": 3,
   "metadata": {},
   "outputs": [],
   "source": [
    "df_hcc = df_hc.copy()"
   ]
  },
  {
   "attachments": {},
   "cell_type": "markdown",
   "metadata": {},
   "source": [
    "# Preprocessing"
   ]
  },
  {
   "cell_type": "code",
   "execution_count": 4,
   "metadata": {},
   "outputs": [
    {
     "data": {
      "text/plain": [
       "Index(['lepton_1_pT', 'lepton_1_eta', 'lepton_1_phi', 'lepton_2_pT',\n",
       "       'lepton_2_eta', 'lepton_2_phi', 'missing_energy_magnitude',\n",
       "       'missing_energy_phi', 'MET_rel', 'axial_MET', 'M_R', 'M_TR_2', 'R',\n",
       "       'MT2', 'S_R', 'M_Delta_R', 'dPhi_r_b', 'cos(theta_r1)', 'class'],\n",
       "      dtype='object')"
      ]
     },
     "execution_count": 4,
     "metadata": {},
     "output_type": "execute_result"
    }
   ],
   "source": [
    "df_hcc.columns"
   ]
  },
  {
   "cell_type": "code",
   "execution_count": 5,
   "metadata": {},
   "outputs": [
    {
     "data": {
      "text/plain": [
       "<AxesSubplot:>"
      ]
     },
     "execution_count": 5,
     "metadata": {},
     "output_type": "execute_result"
    },
    {
     "data": {
      "image/png": "[encoded data removed]",
      "text/plain": [
       "<Figure size 640x480 with 2 Axes>"
      ]
     },
     "metadata": {},
     "output_type": "display_data"
    }
   ],
   "source": [
    "sns.heatmap(df_hcc.corr())"
   ]
  },
  {
   "cell_type": "code",
   "execution_count": 6,
   "metadata": {},
   "outputs": [
    {
     "data": {
      "image/png": "[encoded data removed]",
      "text/plain": [
       "<Figure size 640x480 with 1 Axes>"
      ]
     },
     "metadata": {},
     "output_type": "display_data"
    }
   ],
   "source": [
    "sns.boxplot(data=df_hcc, y='lepton_1_pT', x='class')\n",
    "df_hcc=df_hcc[df_hcc['lepton_1_pT'] < 5]"
   ]
  },
  {
   "cell_type": "code",
   "execution_count": 7,
   "metadata": {},
   "outputs": [],
   "source": [
    "# sns.boxplot(data=df_hcc, y='lepton_2_pT', x='class')\n",
    "# df_hcc=df_hcc[df_hcc['lepton_2_pT'] < 3]"
   ]
  },
  {
   "cell_type": "code",
   "execution_count": 8,
   "metadata": {},
   "outputs": [
    {
     "data": {
      "text/plain": [
       "(3491438, 19)"
      ]
     },
     "execution_count": 8,
     "metadata": {},
     "output_type": "execute_result"
    }
   ],
   "source": [
    "df_hcc.shape"
   ]
  },
  {
   "cell_type": "code",
   "execution_count": 9,
   "metadata": {},
   "outputs": [],
   "source": [
    "df_hcc = df_hcc.drop(columns =['lepton_1_phi', 'missing_energy_phi', 'lepton_2_phi'], axis=1)"
   ]
  },
  {
   "attachments": {},
   "cell_type": "markdown",
   "metadata": {},
   "source": [
    "# Split for Calculation"
   ]
  },
  {
   "cell_type": "code",
   "execution_count": 10,
   "metadata": {},
   "outputs": [],
   "source": [
    "X, y = df_hcc.loc[:, df_hcc.columns != 'class'].to_numpy(dtype=np.float_), df_hcc['class'].to_numpy(dtype=np.float_)\n",
    "from sklearn.model_selection import train_test_split\n",
    "X_train, X_test, y_train, y_test = train_test_split(X, y, test_size=0.4, random_state=42)"
   ]
  },
  {
   "cell_type": "code",
   "execution_count": 11,
   "metadata": {},
   "outputs": [],
   "source": [
    "from sklearn.preprocessing import MinMaxScaler, StandardScaler\n",
    "scaler_train_test = StandardScaler()\n",
    "X_train = scaler_train_test.fit_transform(X_train)\n",
    "X_test = scaler_train_test.transform(X_test)\n",
    "\n",
    "scaler_full = StandardScaler()\n",
    "X = scaler_full.fit_transform(X)"
   ]
  },
  {
   "attachments": {},
   "cell_type": "markdown",
   "metadata": {},
   "source": [
    "# Model Training"
   ]
  },
  {
   "cell_type": "markdown",
   "metadata": {},
   "source": [
    "#### Random Forest Model"
   ]
  },
  {
   "cell_type": "code",
   "execution_count": 68,
   "metadata": {},
   "outputs": [],
   "source": [
    "from sklearn.ensemble import RandomForestClassifier"
   ]
  },
  {
   "cell_type": "code",
   "execution_count": 259,
   "metadata": {},
   "outputs": [
    {
     "data": {
      "text/plain": [
       "0.8003259400132896"
      ]
     },
     "execution_count": 259,
     "metadata": {},
     "output_type": "execute_result"
    }
   ],
   "source": [
    "model_rf = RandomForestClassifier(n_estimators=160, n_jobs=-1)\n",
    "model_rf.fit(X_train ,y_train)\n",
    "model_rf.feature_importances_\n",
    "model_rf.score(X_test, y_test)"
   ]
  },
  {
   "cell_type": "code",
   "execution_count": 286,
   "metadata": {},
   "outputs": [
    {
     "data": {
      "text/plain": [
       "0.9999979950954306"
      ]
     },
     "execution_count": 286,
     "metadata": {},
     "output_type": "execute_result"
    }
   ],
   "source": [
    "model_rf = RandomForestClassifier(n_estimators=130, n_jobs=-1, warm_start=True)\n",
    "model_rf.fit(X, y)\n",
    "model_rf.score(X, y)"
   ]
  },
  {
   "cell_type": "code",
   "execution_count": 287,
   "metadata": {},
   "outputs": [
    {
     "data": {
      "text/plain": [
       "array([0., 0., 1., ..., 1., 0., 0.])"
      ]
     },
     "execution_count": 287,
     "metadata": {},
     "output_type": "execute_result"
    }
   ],
   "source": [
    "model_rf.predict(X)"
   ]
  },
  {
   "cell_type": "code",
   "execution_count": 288,
   "metadata": {},
   "outputs": [
    {
     "data": {
      "text/plain": [
       "0.9999799509543059"
      ]
     },
     "execution_count": 288,
     "metadata": {},
     "output_type": "execute_result"
    }
   ],
   "source": [
    "model_rf.n_estimators=160\n",
    "bad = (model_rf.predict(X) !=  y)\n",
    "X_bad, y_bad = X[bad], y[bad]\n",
    "model_rf.fit(X_bad, y_bad)\n",
    "model_rf.score(X, y)"
   ]
  },
  {
   "attachments": {},
   "cell_type": "markdown",
   "metadata": {},
   "source": [
    "#### Gradient Boost Model"
   ]
  },
  {
   "cell_type": "code",
   "execution_count": 15,
   "metadata": {},
   "outputs": [
    {
     "data": {
      "text/plain": [
       "0.8031385330980914"
      ]
     },
     "execution_count": 15,
     "metadata": {},
     "output_type": "execute_result"
    }
   ],
   "source": [
    "from sklearn.ensemble import HistGradientBoostingClassifier\n",
    "model_xg = HistGradientBoostingClassifier(l2_regularization=0.2, max_leaf_nodes=150, random_state=42)\n",
    "model_xg.fit(X_train, y_train)\n",
    "model_xg.score(X_test, y_test)"
   ]
  },
  {
   "cell_type": "code",
   "execution_count": null,
   "metadata": {},
   "outputs": [
    {
     "name": "stdout",
     "output_type": "stream",
     "text": [
      "Fitting 5 folds for each of 12 candidates, totalling 60 fits\n"
     ]
    },
    {
     "data": {
      "text/html": [
       "<style>#sk-container-id-2 {color: black;background-color: white;}#sk-container-id-2 pre{padding: 0;}#sk-container-id-2 div.sk-toggleable {background-color: white;}#sk-container-id-2 label.sk-toggleable__label {cursor: pointer;display: block;width: 100%;margin-bottom: 0;padding: 0.3em;box-sizing: border-box;text-align: center;}#sk-container-id-2 label.sk-toggleable__label-arrow:before {content: \"▸\";float: left;margin-right: 0.25em;color: #696969;}#sk-container-id-2 label.sk-toggleable__label-arrow:hover:before {color: black;}#sk-container-id-2 div.sk-estimator:hover label.sk-toggleable__label-arrow:before {color: black;}#sk-container-id-2 div.sk-toggleable__content {max-height: 0;max-width: 0;overflow: hidden;text-align: left;background-color: #f0f8ff;}#sk-container-id-2 div.sk-toggleable__content pre {margin: 0.2em;color: black;border-radius: 0.25em;background-color: #f0f8ff;}#sk-container-id-2 input.sk-toggleable__control:checked~div.sk-toggleable__content {max-height: 200px;max-width: 100%;overflow: auto;}#sk-container-id-2 input.sk-toggleable__control:checked~label.sk-toggleable__label-arrow:before {content: \"▾\";}#sk-container-id-2 div.sk-estimator input.sk-toggleable__control:checked~label.sk-toggleable__label {background-color: #d4ebff;}#sk-container-id-2 div.sk-label input.sk-toggleable__control:checked~label.sk-toggleable__label {background-color: #d4ebff;}#sk-container-id-2 input.sk-hidden--visually {border: 0;clip: rect(1px 1px 1px 1px);clip: rect(1px, 1px, 1px, 1px);height: 1px;margin: -1px;overflow: hidden;padding: 0;position: absolute;width: 1px;}#sk-container-id-2 div.sk-estimator {font-family: monospace;background-color: #f0f8ff;border: 1px dotted black;border-radius: 0.25em;box-sizing: border-box;margin-bottom: 0.5em;}#sk-container-id-2 div.sk-estimator:hover {background-color: #d4ebff;}#sk-container-id-2 div.sk-parallel-item::after {content: \"\";width: 100%;border-bottom: 1px solid gray;flex-grow: 1;}#sk-container-id-2 div.sk-label:hover label.sk-toggleable__label {background-color: #d4ebff;}#sk-container-id-2 div.sk-serial::before {content: \"\";position: absolute;border-left: 1px solid gray;box-sizing: border-box;top: 0;bottom: 0;left: 50%;z-index: 0;}#sk-container-id-2 div.sk-serial {display: flex;flex-direction: column;align-items: center;background-color: white;padding-right: 0.2em;padding-left: 0.2em;position: relative;}#sk-container-id-2 div.sk-item {position: relative;z-index: 1;}#sk-container-id-2 div.sk-parallel {display: flex;align-items: stretch;justify-content: center;background-color: white;position: relative;}#sk-container-id-2 div.sk-item::before, #sk-container-id-2 div.sk-parallel-item::before {content: \"\";position: absolute;border-left: 1px solid gray;box-sizing: border-box;top: 0;bottom: 0;left: 50%;z-index: -1;}#sk-container-id-2 div.sk-parallel-item {display: flex;flex-direction: column;z-index: 1;position: relative;background-color: white;}#sk-container-id-2 div.sk-parallel-item:first-child::after {align-self: flex-end;width: 50%;}#sk-container-id-2 div.sk-parallel-item:last-child::after {align-self: flex-start;width: 50%;}#sk-container-id-2 div.sk-parallel-item:only-child::after {width: 0;}#sk-container-id-2 div.sk-dashed-wrapped {border: 1px dashed gray;margin: 0 0.4em 0.5em 0.4em;box-sizing: border-box;padding-bottom: 0.4em;background-color: white;}#sk-container-id-2 div.sk-label label {font-family: monospace;font-weight: bold;display: inline-block;line-height: 1.2em;}#sk-container-id-2 div.sk-label-container {text-align: center;}#sk-container-id-2 div.sk-container {/* jupyter's `normalize.less` sets `[hidden] { display: none; }` but bootstrap.min.css set `[hidden] { display: none !important; }` so we also need the `!important` here to be able to override the default hidden behavior on the sphinx rendered scikit-learn.org. See: https://github.com/scikit-learn/scikit-learn/issues/21755 */display: inline-block !important;position: relative;}#sk-container-id-2 div.sk-text-repr-fallback {display: none;}</style><div id=\"sk-container-id-2\" class=\"sk-top-container\"><div class=\"sk-text-repr-fallback\"><pre>GridSearchCV(cv=5, estimator=HistGradientBoostingClassifier(), n_jobs=-1,\n",
       "             param_grid={&#x27;l2_regularization&#x27;: (0.3, 0.4, 0.5),\n",
       "                         &#x27;learning_rate&#x27;: (0.01, 0.1),\n",
       "                         &#x27;max_leaf_nodes&#x27;: (250, 300)},\n",
       "             verbose=2)</pre><b>In a Jupyter environment, please rerun this cell to show the HTML representation or trust the notebook. <br />On GitHub, the HTML representation is unable to render, please try loading this page with nbviewer.org.</b></div><div class=\"sk-container\" hidden><div class=\"sk-item sk-dashed-wrapped\"><div class=\"sk-label-container\"><div class=\"sk-label sk-toggleable\"><input class=\"sk-toggleable__control sk-hidden--visually\" id=\"sk-estimator-id-4\" type=\"checkbox\" ><label for=\"sk-estimator-id-4\" class=\"sk-toggleable__label sk-toggleable__label-arrow\">GridSearchCV</label><div class=\"sk-toggleable__content\"><pre>GridSearchCV(cv=5, estimator=HistGradientBoostingClassifier(), n_jobs=-1,\n",
       "             param_grid={&#x27;l2_regularization&#x27;: (0.3, 0.4, 0.5),\n",
       "                         &#x27;learning_rate&#x27;: (0.01, 0.1),\n",
       "                         &#x27;max_leaf_nodes&#x27;: (250, 300)},\n",
       "             verbose=2)</pre></div></div></div><div class=\"sk-parallel\"><div class=\"sk-parallel-item\"><div class=\"sk-item\"><div class=\"sk-label-container\"><div class=\"sk-label sk-toggleable\"><input class=\"sk-toggleable__control sk-hidden--visually\" id=\"sk-estimator-id-5\" type=\"checkbox\" ><label for=\"sk-estimator-id-5\" class=\"sk-toggleable__label sk-toggleable__label-arrow\">estimator: HistGradientBoostingClassifier</label><div class=\"sk-toggleable__content\"><pre>HistGradientBoostingClassifier()</pre></div></div></div><div class=\"sk-serial\"><div class=\"sk-item\"><div class=\"sk-estimator sk-toggleable\"><input class=\"sk-toggleable__control sk-hidden--visually\" id=\"sk-estimator-id-6\" type=\"checkbox\" ><label for=\"sk-estimator-id-6\" class=\"sk-toggleable__label sk-toggleable__label-arrow\">HistGradientBoostingClassifier</label><div class=\"sk-toggleable__content\"><pre>HistGradientBoostingClassifier()</pre></div></div></div></div></div></div></div></div></div></div>"
      ],
      "text/plain": [
       "GridSearchCV(cv=5, estimator=HistGradientBoostingClassifier(), n_jobs=-1,\n",
       "             param_grid={'l2_regularization': (0.3, 0.4, 0.5),\n",
       "                         'learning_rate': (0.01, 0.1),\n",
       "                         'max_leaf_nodes': (250, 300)},\n",
       "             verbose=2)"
      ]
     },
     "metadata": {},
     "output_type": "display_data"
    }
   ],
   "source": [
    "from sklearn.model_selection import GridSearchCV\n",
    "param_grid = {\n",
    "    'learning_rate': (0.01, 0.1),\n",
    "    'random_state': (42),\n",
    "    'max_leaf_nodes': (200, 250, 300),\n",
    "    'l2_regularization': (0.3, 0.4, 0.5)}\n",
    "\n",
    "model_grid_search = GridSearchCV(HistGradientBoostingClassifier(), param_grid=param_grid,\n",
    "                                 n_jobs=-1, cv=5, verbose=2)\n",
    "model_grid_search.fit(X_train, y_train)"
   ]
  },
  {
   "cell_type": "code",
   "execution_count": 29,
   "metadata": {},
   "outputs": [
    {
     "name": "stdout",
     "output_type": "stream",
     "text": [
      "{'l2_regularization': 0.5, 'learning_rate': 0.1, 'max_leaf_nodes': 250}\n",
      "HistGradientBoostingClassifier(l2_regularization=0.5, max_leaf_nodes=250)\n"
     ]
    },
    {
     "data": {
      "text/plain": [
       "0.8026578571428571"
      ]
     },
     "execution_count": 29,
     "metadata": {},
     "output_type": "execute_result"
    }
   ],
   "source": [
    "print(model_grid_search.best_params_)\n",
    "print(model_grid_search.best_estimator_)\n",
    "model_grid_search.score(X_test, y_test)"
   ]
  },
  {
   "cell_type": "code",
   "execution_count": 16,
   "metadata": {},
   "outputs": [
    {
     "data": {
      "text/plain": [
       "0.8032624074880279"
      ]
     },
     "execution_count": 16,
     "metadata": {},
     "output_type": "execute_result"
    }
   ],
   "source": [
    "# model_xg = HistGradientBoostingClassifier(l2_regularization=model_grid_search.best_params_['l2_regularization'],\n",
    "#                                 learning_rate=model_grid_search.best_params_['learning_rate'],\n",
    "#                                 max_leaf_nodes=model_grid_search.best_params_['max_leaf_nodes'], random_state=42)\n",
    "\n",
    "model_xg = HistGradientBoostingClassifier(l2_regularization=0.4, max_leaf_nodes=300, learning_rate=0.1, random_state=42)\n",
    "model_xg.fit(X_train, y_train)\n",
    "model_xg.score(X_test, y_test)"
   ]
  },
  {
   "cell_type": "code",
   "execution_count": 58,
   "metadata": {},
   "outputs": [
    {
     "data": {
      "text/html": [
       "<div>\n",
       "<style scoped>\n",
       "    .dataframe tbody tr th:only-of-type {\n",
       "        vertical-align: middle;\n",
       "    }\n",
       "\n",
       "    .dataframe tbody tr th {\n",
       "        vertical-align: top;\n",
       "    }\n",
       "\n",
       "    .dataframe thead th {\n",
       "        text-align: right;\n",
       "    }\n",
       "</style>\n",
       "<table border=\"1\" class=\"dataframe\">\n",
       "  <thead>\n",
       "    <tr style=\"text-align: right;\">\n",
       "      <th></th>\n",
       "      <th>lepton_2_phi</th>\n",
       "      <th>lepton_2_pT</th>\n",
       "      <th>M_TR_2</th>\n",
       "      <th>R</th>\n",
       "      <th>M_R</th>\n",
       "      <th>cos(theta_r1)</th>\n",
       "      <th>lepton_2_eta</th>\n",
       "      <th>MT2</th>\n",
       "      <th>dPhi_r_b</th>\n",
       "      <th>lepton_1_eta</th>\n",
       "      <th>S_R</th>\n",
       "      <th>M_Delta_R</th>\n",
       "      <th>MET_rel</th>\n",
       "      <th>axial_MET</th>\n",
       "      <th>lepton_1_pT</th>\n",
       "      <th>missing_energy_magnitude</th>\n",
       "    </tr>\n",
       "  </thead>\n",
       "  <tbody>\n",
       "    <tr>\n",
       "      <th>0</th>\n",
       "      <td>0.000021</td>\n",
       "      <td>0.000599</td>\n",
       "      <td>0.001191</td>\n",
       "      <td>0.001973</td>\n",
       "      <td>0.002737</td>\n",
       "      <td>0.005312</td>\n",
       "      <td>0.006392</td>\n",
       "      <td>0.006668</td>\n",
       "      <td>0.007922</td>\n",
       "      <td>0.010072</td>\n",
       "      <td>0.012138</td>\n",
       "      <td>0.013403</td>\n",
       "      <td>0.016369</td>\n",
       "      <td>0.034832</td>\n",
       "      <td>0.085533</td>\n",
       "      <td>0.160604</td>\n",
       "    </tr>\n",
       "    <tr>\n",
       "      <th>1</th>\n",
       "      <td>0.000019</td>\n",
       "      <td>0.000639</td>\n",
       "      <td>0.001044</td>\n",
       "      <td>0.002061</td>\n",
       "      <td>0.002881</td>\n",
       "      <td>0.005556</td>\n",
       "      <td>0.006708</td>\n",
       "      <td>0.007049</td>\n",
       "      <td>0.008086</td>\n",
       "      <td>0.009826</td>\n",
       "      <td>0.011669</td>\n",
       "      <td>0.013686</td>\n",
       "      <td>0.016316</td>\n",
       "      <td>0.034630</td>\n",
       "      <td>0.086081</td>\n",
       "      <td>0.160135</td>\n",
       "    </tr>\n",
       "    <tr>\n",
       "      <th>2</th>\n",
       "      <td>0.000028</td>\n",
       "      <td>0.000614</td>\n",
       "      <td>0.001044</td>\n",
       "      <td>0.001845</td>\n",
       "      <td>0.002788</td>\n",
       "      <td>0.005516</td>\n",
       "      <td>0.006536</td>\n",
       "      <td>0.006683</td>\n",
       "      <td>0.008064</td>\n",
       "      <td>0.010035</td>\n",
       "      <td>0.011613</td>\n",
       "      <td>0.013257</td>\n",
       "      <td>0.016366</td>\n",
       "      <td>0.034716</td>\n",
       "      <td>0.085586</td>\n",
       "      <td>0.159514</td>\n",
       "    </tr>\n",
       "    <tr>\n",
       "      <th>3</th>\n",
       "      <td>-0.000004</td>\n",
       "      <td>0.000584</td>\n",
       "      <td>0.001075</td>\n",
       "      <td>0.001884</td>\n",
       "      <td>0.002828</td>\n",
       "      <td>0.005481</td>\n",
       "      <td>0.006565</td>\n",
       "      <td>0.006772</td>\n",
       "      <td>0.007969</td>\n",
       "      <td>0.010090</td>\n",
       "      <td>0.011840</td>\n",
       "      <td>0.013497</td>\n",
       "      <td>0.016255</td>\n",
       "      <td>0.034389</td>\n",
       "      <td>0.085687</td>\n",
       "      <td>0.159897</td>\n",
       "    </tr>\n",
       "    <tr>\n",
       "      <th>4</th>\n",
       "      <td>0.000039</td>\n",
       "      <td>0.000655</td>\n",
       "      <td>0.001023</td>\n",
       "      <td>0.002086</td>\n",
       "      <td>0.002920</td>\n",
       "      <td>0.005543</td>\n",
       "      <td>0.006561</td>\n",
       "      <td>0.006879</td>\n",
       "      <td>0.007876</td>\n",
       "      <td>0.009744</td>\n",
       "      <td>0.011638</td>\n",
       "      <td>0.013606</td>\n",
       "      <td>0.016293</td>\n",
       "      <td>0.034760</td>\n",
       "      <td>0.085899</td>\n",
       "      <td>0.160349</td>\n",
       "    </tr>\n",
       "    <tr>\n",
       "      <th>5</th>\n",
       "      <td>-0.000011</td>\n",
       "      <td>0.000480</td>\n",
       "      <td>0.001239</td>\n",
       "      <td>0.001942</td>\n",
       "      <td>0.002943</td>\n",
       "      <td>0.005527</td>\n",
       "      <td>0.006642</td>\n",
       "      <td>0.006449</td>\n",
       "      <td>0.007751</td>\n",
       "      <td>0.009862</td>\n",
       "      <td>0.011777</td>\n",
       "      <td>0.013415</td>\n",
       "      <td>0.016434</td>\n",
       "      <td>0.034746</td>\n",
       "      <td>0.085237</td>\n",
       "      <td>0.159877</td>\n",
       "    </tr>\n",
       "    <tr>\n",
       "      <th>6</th>\n",
       "      <td>0.000004</td>\n",
       "      <td>0.000646</td>\n",
       "      <td>0.001106</td>\n",
       "      <td>0.001955</td>\n",
       "      <td>0.002853</td>\n",
       "      <td>0.005303</td>\n",
       "      <td>0.006556</td>\n",
       "      <td>0.006996</td>\n",
       "      <td>0.007879</td>\n",
       "      <td>0.009935</td>\n",
       "      <td>0.011348</td>\n",
       "      <td>0.013653</td>\n",
       "      <td>0.016325</td>\n",
       "      <td>0.034434</td>\n",
       "      <td>0.085939</td>\n",
       "      <td>0.159915</td>\n",
       "    </tr>\n",
       "    <tr>\n",
       "      <th>7</th>\n",
       "      <td>-0.000009</td>\n",
       "      <td>0.000547</td>\n",
       "      <td>0.001209</td>\n",
       "      <td>0.001983</td>\n",
       "      <td>0.002566</td>\n",
       "      <td>0.005453</td>\n",
       "      <td>0.006661</td>\n",
       "      <td>0.006986</td>\n",
       "      <td>0.007961</td>\n",
       "      <td>0.009961</td>\n",
       "      <td>0.011780</td>\n",
       "      <td>0.013470</td>\n",
       "      <td>0.016277</td>\n",
       "      <td>0.034928</td>\n",
       "      <td>0.085734</td>\n",
       "      <td>0.159958</td>\n",
       "    </tr>\n",
       "    <tr>\n",
       "      <th>8</th>\n",
       "      <td>0.000044</td>\n",
       "      <td>0.000564</td>\n",
       "      <td>0.000841</td>\n",
       "      <td>0.001910</td>\n",
       "      <td>0.002941</td>\n",
       "      <td>0.005326</td>\n",
       "      <td>0.006629</td>\n",
       "      <td>0.006776</td>\n",
       "      <td>0.007917</td>\n",
       "      <td>0.010030</td>\n",
       "      <td>0.011613</td>\n",
       "      <td>0.013624</td>\n",
       "      <td>0.016244</td>\n",
       "      <td>0.034833</td>\n",
       "      <td>0.085687</td>\n",
       "      <td>0.159764</td>\n",
       "    </tr>\n",
       "    <tr>\n",
       "      <th>9</th>\n",
       "      <td>0.000006</td>\n",
       "      <td>0.000741</td>\n",
       "      <td>0.000931</td>\n",
       "      <td>0.002040</td>\n",
       "      <td>0.003026</td>\n",
       "      <td>0.005559</td>\n",
       "      <td>0.006485</td>\n",
       "      <td>0.006840</td>\n",
       "      <td>0.007750</td>\n",
       "      <td>0.009934</td>\n",
       "      <td>0.011671</td>\n",
       "      <td>0.013624</td>\n",
       "      <td>0.016248</td>\n",
       "      <td>0.034581</td>\n",
       "      <td>0.085798</td>\n",
       "      <td>0.160231</td>\n",
       "    </tr>\n",
       "  </tbody>\n",
       "</table>\n",
       "</div>"
      ],
      "text/plain": [
       "   lepton_2_phi  lepton_2_pT    M_TR_2         R       M_R  cos(theta_r1)  \\\n",
       "0      0.000021     0.000599  0.001191  0.001973  0.002737       0.005312   \n",
       "1      0.000019     0.000639  0.001044  0.002061  0.002881       0.005556   \n",
       "2      0.000028     0.000614  0.001044  0.001845  0.002788       0.005516   \n",
       "3     -0.000004     0.000584  0.001075  0.001884  0.002828       0.005481   \n",
       "4      0.000039     0.000655  0.001023  0.002086  0.002920       0.005543   \n",
       "5     -0.000011     0.000480  0.001239  0.001942  0.002943       0.005527   \n",
       "6      0.000004     0.000646  0.001106  0.001955  0.002853       0.005303   \n",
       "7     -0.000009     0.000547  0.001209  0.001983  0.002566       0.005453   \n",
       "8      0.000044     0.000564  0.000841  0.001910  0.002941       0.005326   \n",
       "9      0.000006     0.000741  0.000931  0.002040  0.003026       0.005559   \n",
       "\n",
       "   lepton_2_eta       MT2  dPhi_r_b  lepton_1_eta       S_R  M_Delta_R  \\\n",
       "0      0.006392  0.006668  0.007922      0.010072  0.012138   0.013403   \n",
       "1      0.006708  0.007049  0.008086      0.009826  0.011669   0.013686   \n",
       "2      0.006536  0.006683  0.008064      0.010035  0.011613   0.013257   \n",
       "3      0.006565  0.006772  0.007969      0.010090  0.011840   0.013497   \n",
       "4      0.006561  0.006879  0.007876      0.009744  0.011638   0.013606   \n",
       "5      0.006642  0.006449  0.007751      0.009862  0.011777   0.013415   \n",
       "6      0.006556  0.006996  0.007879      0.009935  0.011348   0.013653   \n",
       "7      0.006661  0.006986  0.007961      0.009961  0.011780   0.013470   \n",
       "8      0.006629  0.006776  0.007917      0.010030  0.011613   0.013624   \n",
       "9      0.006485  0.006840  0.007750      0.009934  0.011671   0.013624   \n",
       "\n",
       "    MET_rel  axial_MET  lepton_1_pT  missing_energy_magnitude  \n",
       "0  0.016369   0.034832     0.085533                  0.160604  \n",
       "1  0.016316   0.034630     0.086081                  0.160135  \n",
       "2  0.016366   0.034716     0.085586                  0.159514  \n",
       "3  0.016255   0.034389     0.085687                  0.159897  \n",
       "4  0.016293   0.034760     0.085899                  0.160349  \n",
       "5  0.016434   0.034746     0.085237                  0.159877  \n",
       "6  0.016325   0.034434     0.085939                  0.159915  \n",
       "7  0.016277   0.034928     0.085734                  0.159958  \n",
       "8  0.016244   0.034833     0.085687                  0.159764  \n",
       "9  0.016248   0.034581     0.085798                  0.160231  "
      ]
     },
     "execution_count": 58,
     "metadata": {},
     "output_type": "execute_result"
    }
   ],
   "source": [
    "from sklearn.inspection import permutation_importance\n",
    "\n",
    "result = permutation_importance(\n",
    "    model_xg, X_test, y_test, n_repeats=10, random_state=42, n_jobs=-1\n",
    ")\n",
    "sorted_importances_idx = result.importances_mean.argsort()\n",
    "importances = pd.DataFrame(\n",
    "    result.importances[sorted_importances_idx].T,\n",
    "    columns=df_hcc.columns[sorted_importances_idx],\n",
    ")\n",
    "importances"
   ]
  },
  {
   "cell_type": "code",
   "execution_count": 17,
   "metadata": {},
   "outputs": [
    {
     "data": {
      "text/plain": [
       "0.8065184030190425"
      ]
     },
     "execution_count": 17,
     "metadata": {},
     "output_type": "execute_result"
    }
   ],
   "source": [
    "# model_xg = HistGradientBoostingClassifier(l2_regularization=model_grid_search.best_params_['l2_regularization'],\n",
    "#                                 learning_rate=model_grid_search.best_params_['learning_rate'],\n",
    "#                                 max_leaf_nodes=model_grid_search.best_params_['max_leaf_nodes'], random_state=42)\n",
    "\n",
    "model_xg = HistGradientBoostingClassifier(l2_regularization=0.4, max_leaf_nodes=300, learning_rate=0.1, random_state=42)\n",
    "model_xg.fit(X, y)\n",
    "model_xg.score(X, y)"
   ]
  },
  {
   "attachments": {},
   "cell_type": "markdown",
   "metadata": {},
   "source": [
    "#### Adaboost Model"
   ]
  },
  {
   "cell_type": "code",
   "execution_count": 328,
   "metadata": {},
   "outputs": [
    {
     "ename": "TypeError",
     "evalue": "AdaBoostClassifier.__init__() got an unexpected keyword argument 'n_jobs'",
     "output_type": "error",
     "traceback": [
      "\u001b[1;31m---------------------------------------------------------------------------\u001b[0m",
      "\u001b[1;31mTypeError\u001b[0m                                 Traceback (most recent call last)",
      "Cell \u001b[1;32mIn [328], line 2\u001b[0m\n\u001b[0;32m      1\u001b[0m \u001b[39mfrom\u001b[39;00m \u001b[39msklearn\u001b[39;00m\u001b[39m.\u001b[39;00m\u001b[39mensemble\u001b[39;00m \u001b[39mimport\u001b[39;00m AdaBoostClassifier\n\u001b[1;32m----> 2\u001b[0m model_ada \u001b[39m=\u001b[39m AdaBoostClassifier(n_estimators\u001b[39m=\u001b[39;49m\u001b[39m200\u001b[39;49m, learning_rate\u001b[39m=\u001b[39;49m\u001b[39m0.1\u001b[39;49m, n_jobs\u001b[39m=\u001b[39;49m\u001b[39m-\u001b[39;49m\u001b[39m1\u001b[39;49m)\n\u001b[0;32m      3\u001b[0m model_ada\u001b[39m.\u001b[39mfit(X_train, y_train)\n\u001b[0;32m      4\u001b[0m model_ada\u001b[39m.\u001b[39mscore(X_test, y_test)\n",
      "\u001b[1;31mTypeError\u001b[0m: AdaBoostClassifier.__init__() got an unexpected keyword argument 'n_jobs'"
     ]
    }
   ],
   "source": [
    "from sklearn.ensemble import AdaBoostClassifier\n",
    "model_ada = AdaBoostClassifier(n_estimators=150, learning_rate=0.1)\n",
    "model_ada.fit(X_train, y_train)\n",
    "model_ada.score(X_test, y_test)"
   ]
  },
  {
   "attachments": {},
   "cell_type": "markdown",
   "metadata": {},
   "source": [
    "#### VC"
   ]
  },
  {
   "cell_type": "code",
   "execution_count": null,
   "metadata": {},
   "outputs": [],
   "source": []
  },
  {
   "attachments": {},
   "cell_type": "markdown",
   "metadata": {},
   "source": [
    "# Final Predictions "
   ]
  },
  {
   "cell_type": "code",
   "execution_count": 18,
   "metadata": {},
   "outputs": [],
   "source": [
    "# X_t = pd.read_csv('test.csv', index_col=0).to_numpy(dtype=np.float_)\n",
    "X_t = pd.read_csv('test.csv', index_col=0).drop(columns=['lepton_1_phi', 'missing_energy_phi', 'lepton_2_phi'], axis=1).to_numpy(dtype=np.float_)\n",
    "X_t = scaler_full.transform(X_t)\n",
    "# output_rf = pd.Series(model_rf.predict(X_t), name='class')\n",
    "output_xg = pd.Series(model_xg.predict(X_t), name='class')"
   ]
  },
  {
   "cell_type": "code",
   "execution_count": 19,
   "metadata": {},
   "outputs": [],
   "source": [
    "# output_rf.to_csv('res_rf.csv', index=True, index_label='Id')\n",
    "output_xg.to_csv('res_xg.csv', index=True, index_label='Id')"
   ]
  },
  {
   "cell_type": "code",
   "execution_count": 20,
   "metadata": {},
   "outputs": [
    {
     "name": "stdout",
     "output_type": "stream",
     "text": [
      "0.9742386666666667\n"
     ]
    }
   ],
   "source": [
    "y_ay = pd.read_csv('y_ayush.csv', index_col=0)\n",
    "y_ay['class']\n",
    "# print(np.sum(output_rf == y_ay['class'])/len(output_rf))\n",
    "print(np.sum(output_xg == y_ay['class'])/len(output_xg))"
   ]
  }
 ],
 "metadata": {
  "kernelspec": {
   "display_name": "Python 3",
   "language": "python",
   "name": "python3"
  },
  "language_info": {
   "codemirror_mode": {
    "name": "ipython",
    "version": 3
   },
   "file_extension": ".py",
   "mimetype": "text/x-python",
   "name": "python",
   "nbconvert_exporter": "python",
   "pygments_lexer": "ipython3",
   "version": "3.10.9 (tags/v3.10.9:1dd9be6, Dec  6 2022, 20:01:21) [MSC v.1934 64 bit (AMD64)]"
  },
  "orig_nbformat": 4,
  "vscode": {
   "interpreter": {
    "hash": "71378fec4b9b0ae51f784db9960b5ea07fb9042b7f7d69b6f196c430cecf08e0"
   }
  }
 },
 "nbformat": 4,
 "nbformat_minor": 2
}
