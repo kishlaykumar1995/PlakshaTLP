{
 "cells": [
  {
   "cell_type": "code",
   "execution_count": 1,
   "metadata": {},
   "outputs": [],
   "source": [
    "import numpy as np\n",
    "import pandas as pd\n",
    "import matplotlib.pyplot as plt\n",
    "import seaborn as sns"
   ]
  },
  {
   "cell_type": "code",
   "execution_count": 2,
   "metadata": {},
   "outputs": [
    {
     "data": {
      "text/html": [
       "<div>\n",
       "<style scoped>\n",
       "    .dataframe tbody tr th:only-of-type {\n",
       "        vertical-align: middle;\n",
       "    }\n",
       "\n",
       "    .dataframe tbody tr th {\n",
       "        vertical-align: top;\n",
       "    }\n",
       "\n",
       "    .dataframe thead th {\n",
       "        text-align: right;\n",
       "    }\n",
       "</style>\n",
       "<table border=\"1\" class=\"dataframe\">\n",
       "  <thead>\n",
       "    <tr style=\"text-align: right;\">\n",
       "      <th></th>\n",
       "      <th>lepton_1_pT</th>\n",
       "      <th>lepton_1_eta</th>\n",
       "      <th>lepton_1_phi</th>\n",
       "      <th>lepton_2_pT</th>\n",
       "      <th>lepton_2_eta</th>\n",
       "      <th>lepton_2_phi</th>\n",
       "      <th>missing_energy_magnitude</th>\n",
       "      <th>missing_energy_phi</th>\n",
       "      <th>MET_rel</th>\n",
       "      <th>axial_MET</th>\n",
       "      <th>M_R</th>\n",
       "      <th>M_TR_2</th>\n",
       "      <th>R</th>\n",
       "      <th>MT2</th>\n",
       "      <th>S_R</th>\n",
       "      <th>M_Delta_R</th>\n",
       "      <th>dPhi_r_b</th>\n",
       "      <th>cos(theta_r1)</th>\n",
       "      <th>class</th>\n",
       "    </tr>\n",
       "  </thead>\n",
       "  <tbody>\n",
       "    <tr>\n",
       "      <th>0</th>\n",
       "      <td>0.841381</td>\n",
       "      <td>1.832647</td>\n",
       "      <td>-0.689286</td>\n",
       "      <td>0.781839</td>\n",
       "      <td>0.572864</td>\n",
       "      <td>1.577097</td>\n",
       "      <td>0.398978</td>\n",
       "      <td>-0.683847</td>\n",
       "      <td>0.001826</td>\n",
       "      <td>0.651397</td>\n",
       "      <td>0.865560</td>\n",
       "      <td>0.429017</td>\n",
       "      <td>0.439840</td>\n",
       "      <td>0.000000</td>\n",
       "      <td>0.796105</td>\n",
       "      <td>0.342497</td>\n",
       "      <td>0.461542</td>\n",
       "      <td>0.005710</td>\n",
       "      <td>0.0</td>\n",
       "    </tr>\n",
       "    <tr>\n",
       "      <th>1</th>\n",
       "      <td>0.663798</td>\n",
       "      <td>2.058290</td>\n",
       "      <td>0.681435</td>\n",
       "      <td>1.054036</td>\n",
       "      <td>0.575352</td>\n",
       "      <td>-1.001445</td>\n",
       "      <td>0.462154</td>\n",
       "      <td>-0.833411</td>\n",
       "      <td>0.199734</td>\n",
       "      <td>0.215158</td>\n",
       "      <td>0.949988</td>\n",
       "      <td>0.618046</td>\n",
       "      <td>0.577324</td>\n",
       "      <td>0.000000</td>\n",
       "      <td>0.962927</td>\n",
       "      <td>0.333800</td>\n",
       "      <td>1.455247</td>\n",
       "      <td>0.101246</td>\n",
       "      <td>0.0</td>\n",
       "    </tr>\n",
       "    <tr>\n",
       "      <th>2</th>\n",
       "      <td>1.792225</td>\n",
       "      <td>-1.099978</td>\n",
       "      <td>0.088109</td>\n",
       "      <td>0.573157</td>\n",
       "      <td>-0.472629</td>\n",
       "      <td>1.642084</td>\n",
       "      <td>1.203374</td>\n",
       "      <td>1.506731</td>\n",
       "      <td>0.457695</td>\n",
       "      <td>-0.640507</td>\n",
       "      <td>1.157024</td>\n",
       "      <td>1.585432</td>\n",
       "      <td>1.215963</td>\n",
       "      <td>0.000000</td>\n",
       "      <td>1.113292</td>\n",
       "      <td>0.645729</td>\n",
       "      <td>0.721326</td>\n",
       "      <td>0.613326</td>\n",
       "      <td>1.0</td>\n",
       "    </tr>\n",
       "    <tr>\n",
       "      <th>3</th>\n",
       "      <td>0.893018</td>\n",
       "      <td>0.297782</td>\n",
       "      <td>-1.274870</td>\n",
       "      <td>1.316164</td>\n",
       "      <td>1.593303</td>\n",
       "      <td>0.672115</td>\n",
       "      <td>0.307014</td>\n",
       "      <td>-1.189868</td>\n",
       "      <td>0.064561</td>\n",
       "      <td>0.430909</td>\n",
       "      <td>1.162625</td>\n",
       "      <td>0.548821</td>\n",
       "      <td>0.418897</td>\n",
       "      <td>0.163908</td>\n",
       "      <td>1.157707</td>\n",
       "      <td>0.298163</td>\n",
       "      <td>0.803802</td>\n",
       "      <td>0.038902</td>\n",
       "      <td>0.0</td>\n",
       "    </tr>\n",
       "    <tr>\n",
       "      <th>4</th>\n",
       "      <td>1.338997</td>\n",
       "      <td>0.350023</td>\n",
       "      <td>-1.518510</td>\n",
       "      <td>1.482963</td>\n",
       "      <td>-0.491807</td>\n",
       "      <td>0.340170</td>\n",
       "      <td>0.415071</td>\n",
       "      <td>-1.292034</td>\n",
       "      <td>0.240712</td>\n",
       "      <td>0.611775</td>\n",
       "      <td>1.307798</td>\n",
       "      <td>0.697804</td>\n",
       "      <td>0.473487</td>\n",
       "      <td>0.429977</td>\n",
       "      <td>1.287935</td>\n",
       "      <td>0.330327</td>\n",
       "      <td>0.717237</td>\n",
       "      <td>0.003147</td>\n",
       "      <td>1.0</td>\n",
       "    </tr>\n",
       "  </tbody>\n",
       "</table>\n",
       "</div>"
      ],
      "text/plain": [
       "   lepton_1_pT  lepton_1_eta  lepton_1_phi  lepton_2_pT  lepton_2_eta  \\\n",
       "0     0.841381      1.832647     -0.689286     0.781839      0.572864   \n",
       "1     0.663798      2.058290      0.681435     1.054036      0.575352   \n",
       "2     1.792225     -1.099978      0.088109     0.573157     -0.472629   \n",
       "3     0.893018      0.297782     -1.274870     1.316164      1.593303   \n",
       "4     1.338997      0.350023     -1.518510     1.482963     -0.491807   \n",
       "\n",
       "   lepton_2_phi  missing_energy_magnitude  missing_energy_phi   MET_rel  \\\n",
       "0      1.577097                  0.398978           -0.683847  0.001826   \n",
       "1     -1.001445                  0.462154           -0.833411  0.199734   \n",
       "2      1.642084                  1.203374            1.506731  0.457695   \n",
       "3      0.672115                  0.307014           -1.189868  0.064561   \n",
       "4      0.340170                  0.415071           -1.292034  0.240712   \n",
       "\n",
       "   axial_MET       M_R    M_TR_2         R       MT2       S_R  M_Delta_R  \\\n",
       "0   0.651397  0.865560  0.429017  0.439840  0.000000  0.796105   0.342497   \n",
       "1   0.215158  0.949988  0.618046  0.577324  0.000000  0.962927   0.333800   \n",
       "2  -0.640507  1.157024  1.585432  1.215963  0.000000  1.113292   0.645729   \n",
       "3   0.430909  1.162625  0.548821  0.418897  0.163908  1.157707   0.298163   \n",
       "4   0.611775  1.307798  0.697804  0.473487  0.429977  1.287935   0.330327   \n",
       "\n",
       "   dPhi_r_b  cos(theta_r1)  class  \n",
       "0  0.461542       0.005710    0.0  \n",
       "1  1.455247       0.101246    0.0  \n",
       "2  0.721326       0.613326    1.0  \n",
       "3  0.803802       0.038902    0.0  \n",
       "4  0.717237       0.003147    1.0  "
      ]
     },
     "execution_count": 2,
     "metadata": {},
     "output_type": "execute_result"
    }
   ],
   "source": [
    "df_hc = pd.read_csv('train.csv', index_col=0)\n",
    "df_hc.head()"
   ]
  },
  {
   "cell_type": "code",
   "execution_count": 3,
   "metadata": {},
   "outputs": [],
   "source": [
    "df_hcc = df_hc.copy()"
   ]
  },
  {
   "attachments": {},
   "cell_type": "markdown",
   "metadata": {},
   "source": [
    "# Preprocessing"
   ]
  },
  {
   "cell_type": "code",
   "execution_count": null,
   "metadata": {},
   "outputs": [],
   "source": []
  },
  {
   "attachments": {},
   "cell_type": "markdown",
   "metadata": {},
   "source": [
    "# Split for Calculation"
   ]
  },
  {
   "cell_type": "code",
   "execution_count": 23,
   "metadata": {},
   "outputs": [],
   "source": [
    "X, y = df_hcc.loc[:, df_hcc.columns != 'class'].to_numpy(dtype=np.float_), df_hcc['class'].to_numpy(dtype=np.float_)\n",
    "from sklearn.model_selection import train_test_split\n",
    "X_train, X_test, y_train, y_test = train_test_split(X, y, test_size=0.4, random_state=42)"
   ]
  },
  {
   "attachments": {},
   "cell_type": "markdown",
   "metadata": {},
   "source": [
    "# Model Training"
   ]
  },
  {
   "cell_type": "markdown",
   "metadata": {},
   "source": [
    "#### Random Forest Model"
   ]
  },
  {
   "cell_type": "code",
   "execution_count": 24,
   "metadata": {},
   "outputs": [],
   "source": [
    "from sklearn.ensemble import RandomForestClassifier\n",
    "model = RandomForestClassifier(n_estimators=150, n_jobs=-1)"
   ]
  },
  {
   "cell_type": "code",
   "execution_count": 25,
   "metadata": {},
   "outputs": [
    {
     "data": {
      "text/html": [
       "<style>#sk-container-id-3 {color: black;background-color: white;}#sk-container-id-3 pre{padding: 0;}#sk-container-id-3 div.sk-toggleable {background-color: white;}#sk-container-id-3 label.sk-toggleable__label {cursor: pointer;display: block;width: 100%;margin-bottom: 0;padding: 0.3em;box-sizing: border-box;text-align: center;}#sk-container-id-3 label.sk-toggleable__label-arrow:before {content: \"▸\";float: left;margin-right: 0.25em;color: #696969;}#sk-container-id-3 label.sk-toggleable__label-arrow:hover:before {color: black;}#sk-container-id-3 div.sk-estimator:hover label.sk-toggleable__label-arrow:before {color: black;}#sk-container-id-3 div.sk-toggleable__content {max-height: 0;max-width: 0;overflow: hidden;text-align: left;background-color: #f0f8ff;}#sk-container-id-3 div.sk-toggleable__content pre {margin: 0.2em;color: black;border-radius: 0.25em;background-color: #f0f8ff;}#sk-container-id-3 input.sk-toggleable__control:checked~div.sk-toggleable__content {max-height: 200px;max-width: 100%;overflow: auto;}#sk-container-id-3 input.sk-toggleable__control:checked~label.sk-toggleable__label-arrow:before {content: \"▾\";}#sk-container-id-3 div.sk-estimator input.sk-toggleable__control:checked~label.sk-toggleable__label {background-color: #d4ebff;}#sk-container-id-3 div.sk-label input.sk-toggleable__control:checked~label.sk-toggleable__label {background-color: #d4ebff;}#sk-container-id-3 input.sk-hidden--visually {border: 0;clip: rect(1px 1px 1px 1px);clip: rect(1px, 1px, 1px, 1px);height: 1px;margin: -1px;overflow: hidden;padding: 0;position: absolute;width: 1px;}#sk-container-id-3 div.sk-estimator {font-family: monospace;background-color: #f0f8ff;border: 1px dotted black;border-radius: 0.25em;box-sizing: border-box;margin-bottom: 0.5em;}#sk-container-id-3 div.sk-estimator:hover {background-color: #d4ebff;}#sk-container-id-3 div.sk-parallel-item::after {content: \"\";width: 100%;border-bottom: 1px solid gray;flex-grow: 1;}#sk-container-id-3 div.sk-label:hover label.sk-toggleable__label {background-color: #d4ebff;}#sk-container-id-3 div.sk-serial::before {content: \"\";position: absolute;border-left: 1px solid gray;box-sizing: border-box;top: 0;bottom: 0;left: 50%;z-index: 0;}#sk-container-id-3 div.sk-serial {display: flex;flex-direction: column;align-items: center;background-color: white;padding-right: 0.2em;padding-left: 0.2em;position: relative;}#sk-container-id-3 div.sk-item {position: relative;z-index: 1;}#sk-container-id-3 div.sk-parallel {display: flex;align-items: stretch;justify-content: center;background-color: white;position: relative;}#sk-container-id-3 div.sk-item::before, #sk-container-id-3 div.sk-parallel-item::before {content: \"\";position: absolute;border-left: 1px solid gray;box-sizing: border-box;top: 0;bottom: 0;left: 50%;z-index: -1;}#sk-container-id-3 div.sk-parallel-item {display: flex;flex-direction: column;z-index: 1;position: relative;background-color: white;}#sk-container-id-3 div.sk-parallel-item:first-child::after {align-self: flex-end;width: 50%;}#sk-container-id-3 div.sk-parallel-item:last-child::after {align-self: flex-start;width: 50%;}#sk-container-id-3 div.sk-parallel-item:only-child::after {width: 0;}#sk-container-id-3 div.sk-dashed-wrapped {border: 1px dashed gray;margin: 0 0.4em 0.5em 0.4em;box-sizing: border-box;padding-bottom: 0.4em;background-color: white;}#sk-container-id-3 div.sk-label label {font-family: monospace;font-weight: bold;display: inline-block;line-height: 1.2em;}#sk-container-id-3 div.sk-label-container {text-align: center;}#sk-container-id-3 div.sk-container {/* jupyter's `normalize.less` sets `[hidden] { display: none; }` but bootstrap.min.css set `[hidden] { display: none !important; }` so we also need the `!important` here to be able to override the default hidden behavior on the sphinx rendered scikit-learn.org. See: https://github.com/scikit-learn/scikit-learn/issues/21755 */display: inline-block !important;position: relative;}#sk-container-id-3 div.sk-text-repr-fallback {display: none;}</style><div id=\"sk-container-id-3\" class=\"sk-top-container\"><div class=\"sk-text-repr-fallback\"><pre>RandomForestClassifier(n_estimators=150, n_jobs=-1)</pre><b>In a Jupyter environment, please rerun this cell to show the HTML representation or trust the notebook. <br />On GitHub, the HTML representation is unable to render, please try loading this page with nbviewer.org.</b></div><div class=\"sk-container\" hidden><div class=\"sk-item\"><div class=\"sk-estimator sk-toggleable\"><input class=\"sk-toggleable__control sk-hidden--visually\" id=\"sk-estimator-id-3\" type=\"checkbox\" checked><label for=\"sk-estimator-id-3\" class=\"sk-toggleable__label sk-toggleable__label-arrow\">RandomForestClassifier</label><div class=\"sk-toggleable__content\"><pre>RandomForestClassifier(n_estimators=150, n_jobs=-1)</pre></div></div></div></div></div>"
      ],
      "text/plain": [
       "RandomForestClassifier(n_estimators=150, n_jobs=-1)"
      ]
     },
     "execution_count": 25,
     "metadata": {},
     "output_type": "execute_result"
    }
   ],
   "source": [
    "model.fit(X_train ,y_train)"
   ]
  },
  {
   "cell_type": "code",
   "execution_count": 26,
   "metadata": {},
   "outputs": [
    {
     "data": {
      "text/plain": [
       "0.8001971428571428"
      ]
     },
     "execution_count": 26,
     "metadata": {},
     "output_type": "execute_result"
    }
   ],
   "source": [
    "model.score(X_test, y_test)"
   ]
  },
  {
   "attachments": {},
   "cell_type": "markdown",
   "metadata": {},
   "source": [
    "#### Gradient Boost Model"
   ]
  },
  {
   "cell_type": "code",
   "execution_count": 27,
   "metadata": {},
   "outputs": [],
   "source": [
    "from sklearn.ensemble import HistGradientBoostingClassifier"
   ]
  },
  {
   "attachments": {},
   "cell_type": "markdown",
   "metadata": {},
   "source": [
    "# Final Predictions "
   ]
  },
  {
   "cell_type": "code",
   "execution_count": 28,
   "metadata": {},
   "outputs": [],
   "source": [
    "X_t = pd.read_csv('test.csv', index_col=0).to_numpy(dtype=np.float_)\n",
    "# X_t, y_t = df_test.loc[:, df_test.columns != 'class'].to_numpy(dtype=np.float_), df_test['class'].to_numpy(dtype=np.float_)\n",
    "output = pd.Series(model.predict(X_t), name='class')"
   ]
  },
  {
   "cell_type": "code",
   "execution_count": 29,
   "metadata": {},
   "outputs": [],
   "source": [
    "output.to_csv('res.csv', index=True, index_label='Id')"
   ]
  },
  {
   "cell_type": "code",
   "execution_count": 31,
   "metadata": {},
   "outputs": [
    {
     "data": {
      "text/plain": [
       "Id\n",
       "0          1\n",
       "1          0\n",
       "2          0\n",
       "3          1\n",
       "4          1\n",
       "          ..\n",
       "1499995    0\n",
       "1499996    1\n",
       "1499997    0\n",
       "1499998    1\n",
       "1499999    0\n",
       "Name: class, Length: 1500000, dtype: int64"
      ]
     },
     "execution_count": 31,
     "metadata": {},
     "output_type": "execute_result"
    }
   ],
   "source": [
    "# y_ay = pd.read_csv('y_ayush.csv', index_col=0)\n",
    "# y_ay['class']\n",
    "# np.sum(output == y_ay['class'])/len(output)"
   ]
  },
  {
   "cell_type": "code",
   "execution_count": 40,
   "metadata": {},
   "outputs": [
    {
     "data": {
      "text/plain": [
       "0.9566733333333334"
      ]
     },
     "execution_count": 40,
     "metadata": {},
     "output_type": "execute_result"
    }
   ],
   "source": []
  }
 ],
 "metadata": {
  "kernelspec": {
   "display_name": "Python 3",
   "language": "python",
   "name": "python3"
  },
  "language_info": {
   "codemirror_mode": {
    "name": "ipython",
    "version": 3
   },
   "file_extension": ".py",
   "mimetype": "text/x-python",
   "name": "python",
   "nbconvert_exporter": "python",
   "pygments_lexer": "ipython3",
   "version": "3.10.9 (tags/v3.10.9:1dd9be6, Dec  6 2022, 20:01:21) [MSC v.1934 64 bit (AMD64)]"
  },
  "orig_nbformat": 4,
  "vscode": {
   "interpreter": {
    "hash": "71378fec4b9b0ae51f784db9960b5ea07fb9042b7f7d69b6f196c430cecf08e0"
   }
  }
 },
 "nbformat": 4,
 "nbformat_minor": 2
}
