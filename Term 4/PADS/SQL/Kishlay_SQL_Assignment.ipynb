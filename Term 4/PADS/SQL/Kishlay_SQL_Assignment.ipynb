{
 "cells": [
  {
   "cell_type": "markdown",
   "id": "b3d08535",
   "metadata": {},
   "source": [
    "<img src=\"https://raw.githubusercontent.com/afo/data-x-plaksha/master/imgsource/dx_logo.png\" align=\"left\"></img><br><br><br><br>"
   ]
  },
  {
   "cell_type": "markdown",
   "id": "4c408082",
   "metadata": {},
   "source": [
    "## Plaksha SQL assignment"
   ]
  },
  {
   "cell_type": "markdown",
   "id": "7f7d4113-c3a9-47b2-b7df-b844d49abd22",
   "metadata": {},
   "source": [
    "---\n",
    "\n",
    "## Submission details:\n",
    "\n",
    "Please submit this as a Jupyter Notebook and a PDF of your results (both should show output). Also push your solutions to Github.\n",
    "\n",
    "For the submision create a local database with `sqlite3` or `sqlalchemy` in a Jupyter notebook and make the queries either with a cursor object (and then print the results) or by using pandas `pd.read_sql_query()`."
   ]
  },
  {
   "cell_type": "markdown",
   "id": "0c551f03-7eff-43e2-89a7-a53b54098223",
   "metadata": {},
   "source": [
    "___\n",
    "\n",
    "When completing this homework you can experiment with SQL commands by utilizing this great online editor:\n",
    "\n",
    "https://www.w3schools.com/sql/trysql.asp?filename=trysql_select_all\n",
    "\n",
    "There are already some tables in the online Database, namely:\n",
    "\n",
    "`Categories, Employees, OrderDetails, Orders, Products, Shippers, and Suppliers.`\n",
    "\n",
    "If you want you can drop them by running  `DROP TABLE [table-name];` (or just keep them)."
   ]
  },
  {
   "cell_type": "markdown",
   "id": "dccc820f-21b0-4b2c-9ca8-9cb9eab76023",
   "metadata": {},
   "source": [
    "___\n",
    "\n",
    "## Exercises:\n",
    "\n",
    "First create a table called students. It has the columns: 'student_id', 'name', 'major', 'gpa' and 'enrollment_date' We will use a new form of `CREATE TABLE` expression to produce this table.\n",
    "\n",
    "Note that you can improve this and are welcome to do so -- e.g. by specifying for example a PRIMARY KEY and a FOREIGN KEY in Q2 :)\n",
    "\n",
    "    CREATE TABLE students AS\n",
    "        SELECT 1 AS student_id, \"John\" AS name, \"Computer Science\" AS major, 3.5 AS gpa, \"01-01-2022\" AS enrollment_date UNION\n",
    "        SELECT 2, \"Jane\", \"Physics\", 3.8, \"01-02-2022\" UNION\n",
    "        SELECT 3, \"Bob\", \"Engineering\", 3.0, \"01-03-2022\" UNION\n",
    "        SELECT 4, \"Samantha\", \"Physics\", 3.9, \"01-04-2022\" UNION\n",
    "        SELECT 5, \"James\", \"Engineering\", 3.7, \"01-05-2022\" UNION\n",
    "        SELECT 6, \"Emily\", \"Computer Science\", 3.6, \"01-06-2022\" UNION\n",
    "        SELECT 7, \"Michael\", \"Computer Science\", 3.2, \"01-07-2022\" UNION\n",
    "        SELECT 8, \"Jessica\", \"Engineering\", 3.8, \"01-08-2022\" UNION\n",
    "        SELECT 9, \"Jacob\", \"Physics\", 3.4, \"01-09-2022\" UNION\n",
    "        SELECT 10, \"Ashley\", \"Physics\", 3.9, \"01-10-2022\";\n",
    "\n",
    "\n",
    "## Q1 Simple SELECTS (on the students table)\n",
    "1. SELECT all records in the table.\n",
    "2. SELECT students whose major is \"Computer Science\".\n",
    "3. SELECT all unique majors (use SELECT DISTINCT) and order them by name, descending order (i.e. Physics first).\n",
    "4. SELECT all students that have an 'e' in their name and order them by gpa in ascending order.\n",
    "\n",
    "\n",
    "## Q2 Joins\n",
    "\n",
    "Create a new table called courses, which indicates the courses taken by the students. \n",
    "\n",
    "Create the table by running:\n",
    "\t\n",
    "    CREATE TABLE courses AS\n",
    "        SELECT 1 AS course_id, \"Python programming\" AS course_name, 1 AS student_id, \"A\" AS grade UNION\n",
    "        SELECT 2, \"Data Structures\", 2, \"B\" UNION\n",
    "        SELECT 3, \"Database Systems\", 3, \"B\" UNION\n",
    "        SELECT 1, \"Python programming\", 4, \"A\" UNION\n",
    "        SELECT 4, \"Quantum Mechanics\", 5, \"C\" UNION\n",
    "        SELECT 1, \"Python programming\", 6, \"F\" UNION\n",
    "        SELECT 2, \"Data Structures\", 7, \"C\" UNION\n",
    "        SELECT 3, \"Database Systems\", 8, \"A\" UNION\n",
    "        SELECT 4, \"Quantum Mechanics\", 9, \"A\" UNION\n",
    "        SELECT 2, \"Data Structures\", 10, \"F\";\n",
    "\n",
    "1. COUNT the number of unique courses.\n",
    "2. JOIN the tables students and courses and COUNT the number of students with the major Computer Science taking the course Python programming.\n",
    "3. JOIN the tables students and courses and select the students who have grades higher than \"C\", only show their name, major, gpa, course_name and grade.\n",
    "\n",
    "\n",
    "## Q3 Aggregate functions, numerical logic and grouping\n",
    "\n",
    "1. Find the average gpa of all students.\n",
    "2. SELECT the student with the maximum gpa, display only their student_id, major and gpa\n",
    "3. SELECT the student with the minimum gpa, display only their student_id, major and gpa\n",
    "4. SELECT the students with a gpa greater than 3.6 in the majors of \"Physics\" and \"Engineering\", display only their student_id, major and gpa\n",
    "5. Group the students by their major and retrieve the average grade of each major.\n",
    "6. SELECT the top 2 students with the highest GPA in each major and order the results by major in ascending order, then by GPA in descending order"
   ]
  },
  {
   "cell_type": "markdown",
   "id": "3ab84519",
   "metadata": {},
   "source": [
    "# Your solution"
   ]
  },
  {
   "cell_type": "code",
   "execution_count": 22,
   "id": "c7cff114",
   "metadata": {},
   "outputs": [],
   "source": [
    "import sqlite3\n",
    "import pandas as pd"
   ]
  },
  {
   "cell_type": "code",
   "execution_count": 20,
   "id": "ccb84e13",
   "metadata": {},
   "outputs": [],
   "source": [
    "conn = sqlite3.connect('assignment3.db')\n",
    "cur = conn.cursor()"
   ]
  },
  {
   "attachments": {},
   "cell_type": "markdown",
   "id": "e0127e9a",
   "metadata": {},
   "source": [
    "## Q1"
   ]
  },
  {
   "cell_type": "code",
   "execution_count": 21,
   "id": "ab19b1d3",
   "metadata": {},
   "outputs": [
    {
     "data": {
      "text/plain": [
       "<sqlite3.Cursor at 0x192314f5040>"
      ]
     },
     "execution_count": 21,
     "metadata": {},
     "output_type": "execute_result"
    }
   ],
   "source": [
    "cur.execute('''CREATE TABLE students AS\n",
    "        SELECT 1 AS student_id, \"John\" AS name, \"Computer Science\" AS major, 3.5 AS gpa, \"01-01-2022\" AS enrollment_date UNION\n",
    "        SELECT 2, \"Jane\", \"Physics\", 3.8, \"01-02-2022\" UNION\n",
    "        SELECT 3, \"Bob\", \"Engineering\", 3.0, \"01-03-2022\" UNION\n",
    "        SELECT 4, \"Samantha\", \"Physics\", 3.9, \"01-04-2022\" UNION\n",
    "        SELECT 5, \"James\", \"Engineering\", 3.7, \"01-05-2022\" UNION\n",
    "        SELECT 6, \"Emily\", \"Computer Science\", 3.6, \"01-06-2022\" UNION\n",
    "        SELECT 7, \"Michael\", \"Computer Science\", 3.2, \"01-07-2022\" UNION\n",
    "        SELECT 8, \"Jessica\", \"Engineering\", 3.8, \"01-08-2022\" UNION\n",
    "        SELECT 9, \"Jacob\", \"Physics\", 3.4, \"01-09-2022\" UNION\n",
    "        SELECT 10, \"Ashley\", \"Physics\", 3.9, \"01-10-2022\";''')"
   ]
  },
  {
   "cell_type": "code",
   "execution_count": 40,
   "id": "d7d78dbf",
   "metadata": {},
   "outputs": [
    {
     "name": "stdout",
     "output_type": "stream",
     "text": [
      "   student_id      name             major  gpa enrollment_date\n",
      "0           1      John  Computer Science  3.5      01-01-2022\n",
      "1           2      Jane           Physics  3.8      01-02-2022\n",
      "2           3       Bob       Engineering  3.0      01-03-2022\n",
      "3           4  Samantha           Physics  3.9      01-04-2022\n",
      "4           5     James       Engineering  3.7      01-05-2022\n",
      "5           6     Emily  Computer Science  3.6      01-06-2022\n",
      "6           7   Michael  Computer Science  3.2      01-07-2022\n",
      "7           8   Jessica       Engineering  3.8      01-08-2022\n",
      "8           9     Jacob           Physics  3.4      01-09-2022\n",
      "9          10    Ashley           Physics  3.9      01-10-2022\n"
     ]
    }
   ],
   "source": [
    "# 1.\n",
    "res = cur.execute('''SELECT * FROM students;''')\n",
    "print(pd.DataFrame(res.fetchall(), columns=['student_id','name','major','gpa', 'enrollment_date']))"
   ]
  },
  {
   "cell_type": "code",
   "execution_count": 41,
   "id": "2c8eb03f",
   "metadata": {},
   "outputs": [
    {
     "name": "stdout",
     "output_type": "stream",
     "text": [
      "   student_id     name             major  gpa enrollment_date\n",
      "0           1     John  Computer Science  3.5      01-01-2022\n",
      "1           6    Emily  Computer Science  3.6      01-06-2022\n",
      "2           7  Michael  Computer Science  3.2      01-07-2022\n"
     ]
    }
   ],
   "source": [
    "# 2.\n",
    "res = cur.execute('''SELECT * FROM students where major='Computer Science';''')\n",
    "print(pd.DataFrame(res.fetchall(), columns=['student_id','name','major','gpa', 'enrollment_date']))"
   ]
  },
  {
   "cell_type": "code",
   "execution_count": 42,
   "id": "4cc8a7b6",
   "metadata": {},
   "outputs": [
    {
     "name": "stdout",
     "output_type": "stream",
     "text": [
      "              major\n",
      "0           Physics\n",
      "1       Engineering\n",
      "2  Computer Science\n"
     ]
    }
   ],
   "source": [
    "# 3.\n",
    "res = cur.execute('''SELECT DISTINCT major FROM students ORDER by major DESC;''')\n",
    "print(pd.DataFrame(res.fetchall(), columns=['major']))"
   ]
  },
  {
   "cell_type": "code",
   "execution_count": 43,
   "id": "b12dbc84",
   "metadata": {},
   "outputs": [
    {
     "name": "stdout",
     "output_type": "stream",
     "text": [
      "   student_id     name             major  gpa enrollment_date\n",
      "0           7  Michael  Computer Science  3.2      01-07-2022\n",
      "1           6    Emily  Computer Science  3.6      01-06-2022\n",
      "2           5    James       Engineering  3.7      01-05-2022\n",
      "3           2     Jane           Physics  3.8      01-02-2022\n",
      "4           8  Jessica       Engineering  3.8      01-08-2022\n",
      "5          10   Ashley           Physics  3.9      01-10-2022\n"
     ]
    }
   ],
   "source": [
    "# 4.\n",
    "res = cur.execute('''SELECT * FROM students where name like '%e%' ORDER by gpa ASC;''')\n",
    "print(pd.DataFrame(res.fetchall(), columns=['student_id','name','major','gpa', 'enrollment_date']))"
   ]
  },
  {
   "attachments": {},
   "cell_type": "markdown",
   "id": "313eddb7",
   "metadata": {},
   "source": [
    "## Q2"
   ]
  },
  {
   "cell_type": "code",
   "execution_count": 28,
   "id": "d31ae95b",
   "metadata": {},
   "outputs": [
    {
     "data": {
      "text/plain": [
       "<sqlite3.Cursor at 0x192314f5040>"
      ]
     },
     "execution_count": 28,
     "metadata": {},
     "output_type": "execute_result"
    }
   ],
   "source": [
    "cur.execute('''CREATE TABLE courses AS\n",
    "        SELECT 1 AS course_id, \"Python programming\" AS course_name, 1 AS student_id, \"A\" AS grade UNION\n",
    "        SELECT 2, \"Data Structures\", 2, \"B\" UNION\n",
    "        SELECT 3, \"Database Systems\", 3, \"B\" UNION\n",
    "        SELECT 1, \"Python programming\", 4, \"A\" UNION\n",
    "        SELECT 4, \"Quantum Mechanics\", 5, \"C\" UNION\n",
    "        SELECT 1, \"Python programming\", 6, \"F\" UNION\n",
    "        SELECT 2, \"Data Structures\", 7, \"C\" UNION\n",
    "        SELECT 3, \"Database Systems\", 8, \"A\" UNION\n",
    "        SELECT 4, \"Quantum Mechanics\", 9, \"A\" UNION\n",
    "        SELECT 2, \"Data Structures\", 10, \"F\";''')"
   ]
  },
  {
   "cell_type": "code",
   "execution_count": 50,
   "id": "638539cb",
   "metadata": {},
   "outputs": [
    {
     "name": "stdout",
     "output_type": "stream",
     "text": [
      "Courses Count = 4\n"
     ]
    }
   ],
   "source": [
    "# 1.\n",
    "res = cur.execute('''SELECT COUNT (DISTINCT course_id) FROM courses;''')\n",
    "print(\"Courses Count =\", res.fetchall()[0][0])"
   ]
  },
  {
   "cell_type": "code",
   "execution_count": 51,
   "id": "eb92ef63",
   "metadata": {},
   "outputs": [
    {
     "name": "stdout",
     "output_type": "stream",
     "text": [
      "Students in Computer Science taking Python Programming = 2\n"
     ]
    }
   ],
   "source": [
    "# 2.\n",
    "res = cur.execute('''SELECT COUNT(*) FROM students JOIN courses ON students.student_id=courses.student_id \n",
    "WHERE major='Computer Science' AND course_name='Python programming';''')\n",
    "print(\"Students in Computer Science taking Python Programming =\", res.fetchall()[0][0])"
   ]
  },
  {
   "cell_type": "code",
   "execution_count": 52,
   "id": "17d6c442",
   "metadata": {},
   "outputs": [
    {
     "name": "stdout",
     "output_type": "stream",
     "text": [
      "       name             major  gpa         course_name grade\n",
      "0      John  Computer Science  3.5  Python programming     A\n",
      "1  Samantha           Physics  3.9  Python programming     A\n",
      "2      Jane           Physics  3.8     Data Structures     B\n",
      "3       Bob       Engineering  3.0    Database Systems     B\n",
      "4   Jessica       Engineering  3.8    Database Systems     A\n",
      "5     Jacob           Physics  3.4   Quantum Mechanics     A\n"
     ]
    }
   ],
   "source": [
    "# 3.\n",
    "res = cur.execute('''SELECT name, major, gpa, course_name, grade FROM students JOIN courses ON students.student_id=courses.student_id \n",
    "WHERE grade < 'C';''')\n",
    "print(pd.DataFrame(res.fetchall(), columns=['name','major','gpa','course_name', 'grade']))"
   ]
  },
  {
   "attachments": {},
   "cell_type": "markdown",
   "id": "803ba38c",
   "metadata": {},
   "source": [
    "## Q3"
   ]
  },
  {
   "cell_type": "code",
   "execution_count": 53,
   "id": "4f7e3014",
   "metadata": {},
   "outputs": [
    {
     "name": "stdout",
     "output_type": "stream",
     "text": [
      "Avg GPA =  3.5800000000000005\n"
     ]
    }
   ],
   "source": [
    "# 1.\n",
    "res = cur.execute('''SELECT AVG(gpa) FROM students;''')\n",
    "print('Avg GPA = ',res.fetchall()[0][0])"
   ]
  },
  {
   "cell_type": "code",
   "execution_count": 54,
   "id": "0d97fc2e",
   "metadata": {},
   "outputs": [
    {
     "name": "stdout",
     "output_type": "stream",
     "text": [
      "   student_id    major  gpa\n",
      "0           4  Physics  3.9\n",
      "1          10  Physics  3.9\n"
     ]
    }
   ],
   "source": [
    "# 2.\n",
    "res = cur.execute('''SELECT student_id,major,gpa FROM students WHERE gpa=(SELECT MAX(gpa) FROM students);''')\n",
    "print(pd.DataFrame(res.fetchall(), columns = ['student_id', 'major', 'gpa']))"
   ]
  },
  {
   "cell_type": "code",
   "execution_count": 55,
   "id": "cee68d18",
   "metadata": {},
   "outputs": [
    {
     "name": "stdout",
     "output_type": "stream",
     "text": [
      "   student_id        major  gpa\n",
      "0           3  Engineering  3.0\n"
     ]
    }
   ],
   "source": [
    "# 3.\n",
    "res = cur.execute('''SELECT student_id,major,gpa FROM students WHERE gpa=(SELECT MIN(gpa) FROM students);''')\n",
    "print(pd.DataFrame(res.fetchall(), columns = ['student_id', 'major', 'gpa']))"
   ]
  },
  {
   "cell_type": "code",
   "execution_count": 56,
   "id": "4e821ed5",
   "metadata": {},
   "outputs": [
    {
     "name": "stdout",
     "output_type": "stream",
     "text": [
      "   student_id        major  gpa\n",
      "0           2      Physics  3.8\n",
      "1           4      Physics  3.9\n",
      "2           5  Engineering  3.7\n",
      "3           8  Engineering  3.8\n",
      "4          10      Physics  3.9\n"
     ]
    }
   ],
   "source": [
    "# 4.\n",
    "res = cur.execute('''SELECT student_id,major,gpa FROM students WHERE major in ('Physics','Engineering') AND gpa>3.6;''')\n",
    "print(pd.DataFrame(res.fetchall(), columns = ['student_id', 'major', 'gpa']))"
   ]
  },
  {
   "cell_type": "code",
   "execution_count": 57,
   "id": "cf7c6c6f",
   "metadata": {},
   "outputs": [
    {
     "name": "stdout",
     "output_type": "stream",
     "text": [
      "              major  AVG(gpa)\n",
      "0  Computer Science  3.433333\n",
      "1       Engineering  3.500000\n",
      "2           Physics  3.750000\n"
     ]
    }
   ],
   "source": [
    "# 5.\n",
    "res = cur.execute('''SELECT major,AVG(gpa) FROM students GROUP BY major;''')\n",
    "print(pd.DataFrame(res.fetchall(), columns = ['major', 'AVG(gpa)']))"
   ]
  },
  {
   "cell_type": "code",
   "execution_count": 58,
   "id": "981b0edd",
   "metadata": {},
   "outputs": [
    {
     "name": "stdout",
     "output_type": "stream",
     "text": [
      "   student_id      name             major  gpa enrollment_date\n",
      "0           6     Emily  Computer Science  3.6      01-06-2022\n",
      "1           1      John  Computer Science  3.5      01-01-2022\n",
      "2           8   Jessica       Engineering  3.8      01-08-2022\n",
      "3           5     James       Engineering  3.7      01-05-2022\n",
      "4           4  Samantha           Physics  3.9      01-04-2022\n",
      "5          10    Ashley           Physics  3.9      01-10-2022\n"
     ]
    }
   ],
   "source": [
    "# 6.\n",
    "res = cur.execute('''SELECT student_id,name,major,gpa,enrollment_date FROM (SELECT *,ROW_NUMBER() OVER (PARTITION BY major ORDER BY major ASC,gpa DESC) AS top2 FROM students) WHERE top2<=2;''')\n",
    "print(pd.DataFrame(res.fetchall(), columns = ['student_id', 'name', 'major', 'gpa', 'enrollment_date']))"
   ]
  },
  {
   "cell_type": "code",
   "execution_count": 18,
   "id": "43f997bc",
   "metadata": {},
   "outputs": [],
   "source": [
    "conn.close()"
   ]
  }
 ],
 "metadata": {
  "kernelspec": {
   "display_name": "Python 3",
   "language": "python",
   "name": "python3"
  },
  "language_info": {
   "codemirror_mode": {
    "name": "ipython",
    "version": 3
   },
   "file_extension": ".py",
   "mimetype": "text/x-python",
   "name": "python",
   "nbconvert_exporter": "python",
   "pygments_lexer": "ipython3",
   "version": "3.10.9"
  },
  "vscode": {
   "interpreter": {
    "hash": "71378fec4b9b0ae51f784db9960b5ea07fb9042b7f7d69b6f196c430cecf08e0"
   }
  }
 },
 "nbformat": 4,
 "nbformat_minor": 5
}
