{
 "cells": [
  {
   "cell_type": "markdown",
   "metadata": {},
   "source": [
    "# Extract useful data from text"
   ]
  },
  {
   "cell_type": "code",
   "execution_count": 1,
   "metadata": {},
   "outputs": [],
   "source": [
    "import PyPDF2"
   ]
  },
  {
   "cell_type": "code",
   "execution_count": 2,
   "metadata": {},
   "outputs": [],
   "source": [
    "pdf_obj = PyPDF2.PdfReader(open('Reliance_AR_2021-22.pdf', 'rb'))"
   ]
  },
  {
   "cell_type": "code",
   "execution_count": 4,
   "metadata": {},
   "outputs": [
    {
     "data": {
      "text/plain": [
       "{'/CreationDate': \"D:20220806214543+05'30'\",\n",
       " '/Creator': 'Adobe InDesign 17.3 (Windows)',\n",
       " '/Trapped': '/False',\n",
       " '/Producer': 'iLovePDF',\n",
       " '/ModDate': 'D:20220806162858Z'}"
      ]
     },
     "execution_count": 4,
     "metadata": {},
     "output_type": "execute_result"
    }
   ],
   "source": [
    "pdf_obj.getDocumentInfo()"
   ]
  },
  {
   "cell_type": "code",
   "execution_count": 6,
   "metadata": {},
   "outputs": [
    {
     "name": "stdout",
     "output_type": "stream",
     "text": [
      "{'/Type': '/Page', '/CropBox': [0, 0, 1190.55, 841.89], '/MediaBox': [0, 0, 1190.55, 841.89], '/Rotate': 0, '/Resources': {'/ExtGState': {'/GS0': IndirectObject(257, 0, 2066722491408), '/GS1': IndirectObject(252, 0, 2066722491408)}, '/XObject': {'/X11': IndirectObject(308, 0, 2066722491408), '/X12': IndirectObject(356, 0, 2066722491408), '/X13': IndirectObject(361, 0, 2066722491408), '/X14': IndirectObject(366, 0, 2066722491408), '/X15': IndirectObject(371, 0, 2066722491408), '/X16': IndirectObject(376, 0, 2066722491408), '/X17': IndirectObject(381, 0, 2066722491408)}, '/Font': {'/T1_0': IndirectObject(309, 0, 2066722491408), '/T1_1': IndirectObject(314, 0, 2066722491408), '/T1_2': IndirectObject(319, 0, 2066722491408), '/T1_3': IndirectObject(324, 0, 2066722491408), '/T1_4': IndirectObject(253, 0, 2066722491408), '/TT0': IndirectObject(329, 0, 2066722491408), '/T1_5': IndirectObject(333, 0, 2066722491408), '/T1_6': IndirectObject(337, 0, 2066722491408), '/T1_7': IndirectObject(342, 0, 2066722491408), '/T1_8': IndirectObject(347, 0, 2066722491408)}}, '/Contents': IndirectObject(303, 0, 2066722491408), '/Annots': [IndirectObject(382, 0, 2066722491408), IndirectObject(384, 0, 2066722491408), IndirectObject(386, 0, 2066722491408), IndirectObject(388, 0, 2066722491408), IndirectObject(390, 0, 2066722491408), IndirectObject(392, 0, 2066722491408), IndirectObject(394, 0, 2066722491408), IndirectObject(396, 0, 2066722491408), IndirectObject(398, 0, 2066722491408), IndirectObject(400, 0, 2066722491408), IndirectObject(402, 0, 2066722491408), IndirectObject(404, 0, 2066722491408), IndirectObject(406, 0, 2066722491408), IndirectObject(408, 0, 2066722491408), IndirectObject(410, 0, 2066722491408), IndirectObject(412, 0, 2066722491408), IndirectObject(414, 0, 2066722491408), IndirectObject(416, 0, 2066722491408), IndirectObject(418, 0, 2066722491408), IndirectObject(420, 0, 2066722491408), IndirectObject(422, 0, 2066722491408), IndirectObject(424, 0, 2066722491408), IndirectObject(426, 0, 2066722491408), IndirectObject(428, 0, 2066722491408), IndirectObject(430, 0, 2066722491408), IndirectObject(432, 0, 2066722491408), IndirectObject(434, 0, 2066722491408), IndirectObject(436, 0, 2066722491408), IndirectObject(438, 0, 2066722491408), IndirectObject(440, 0, 2066722491408), IndirectObject(442, 0, 2066722491408), IndirectObject(444, 0, 2066722491408), IndirectObject(446, 0, 2066722491408), IndirectObject(448, 0, 2066722491408), IndirectObject(450, 0, 2066722491408), IndirectObject(452, 0, 2066722491408), IndirectObject(454, 0, 2066722491408), IndirectObject(456, 0, 2066722491408), IndirectObject(458, 0, 2066722491408), IndirectObject(460, 0, 2066722491408), IndirectObject(462, 0, 2066722491408), IndirectObject(464, 0, 2066722491408), IndirectObject(466, 0, 2066722491408), IndirectObject(468, 0, 2066722491408), IndirectObject(470, 0, 2066722491408), IndirectObject(472, 0, 2066722491408), IndirectObject(474, 0, 2066722491408), IndirectObject(476, 0, 2066722491408), IndirectObject(478, 0, 2066722491408), IndirectObject(480, 0, 2066722491408), IndirectObject(482, 0, 2066722491408), IndirectObject(484, 0, 2066722491408), IndirectObject(486, 0, 2066722491408), IndirectObject(488, 0, 2066722491408), IndirectObject(490, 0, 2066722491408), IndirectObject(492, 0, 2066722491408), IndirectObject(494, 0, 2066722491408)], '/ArtBox': [0, 0, 1190.55, 841.89], '/BleedBox': [0, 0, 1190.55, 841.89], '/Group': IndirectObject(496, 0, 2066722491408), '/TrimBox': [0, 0, 1190.55, 841.89], '/Parent': IndirectObject(2, 0, 2066722491408)}\n"
     ]
    }
   ],
   "source": [
    "page = pdf_obj.getPage(1)\n",
    "print(page)"
   ]
  },
  {
   "cell_type": "code",
   "execution_count": 13,
   "metadata": {},
   "outputs": [
    {
     "name": "stdout",
     "output_type": "stream",
     "text": [
      "Page type: <class 'PyPDF2._page.PageObject'>\n",
      "the most expansive digital and retail footprint in the country, RIL is India’s largest corporate value creator and the highest valued company. \n",
      "Business OverviewCorporate Overview\n",
      "218 Report on Corporate Governance\n"
     ]
    }
   ],
   "source": [
    "print('Page type: {}'.format(str(type(page))))\n",
    "text = page.extractText()\n",
    "for tx in text.split('\\n'):\n",
    "    if 'corporate' in tx.lower():\n",
    "        print(tx)"
   ]
  },
  {
   "cell_type": "code",
   "execution_count": null,
   "metadata": {},
   "outputs": [],
   "source": []
  }
 ],
 "metadata": {
  "kernelspec": {
   "display_name": "Python 3.10.8 64-bit (microsoft store)",
   "language": "python",
   "name": "python3"
  },
  "language_info": {
   "codemirror_mode": {
    "name": "ipython",
    "version": 3
   },
   "file_extension": ".py",
   "mimetype": "text/x-python",
   "name": "python",
   "nbconvert_exporter": "python",
   "pygments_lexer": "ipython3",
   "version": "3.10.8"
  },
  "orig_nbformat": 4,
  "vscode": {
   "interpreter": {
    "hash": "71378fec4b9b0ae51f784db9960b5ea07fb9042b7f7d69b6f196c430cecf08e0"
   }
  }
 },
 "nbformat": 4,
 "nbformat_minor": 2
}
