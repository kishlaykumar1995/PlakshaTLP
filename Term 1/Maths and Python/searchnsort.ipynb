{
 "cells": [
  {
   "cell_type": "code",
   "execution_count": 5,
   "metadata": {},
   "outputs": [
    {
     "name": "stdout",
     "output_type": "stream",
     "text": [
      "0\n",
      "0\n",
      "0\n",
      "0\n",
      "0\n",
      "0\n",
      "0\n",
      "0\n",
      "0\n",
      "0\n",
      "0\n",
      "0\n",
      "0\n",
      "0\n",
      "0\n",
      "0\n",
      "0\n",
      "0\n",
      "0\n",
      "0\n",
      "1\n",
      "0\n",
      "0\n",
      "0\n",
      "0\n",
      "0\n",
      "0\n",
      "0\n",
      "0\n",
      "0\n",
      "0\n",
      "0\n",
      "0\n",
      "0\n",
      "0\n",
      "0\n",
      "0\n",
      "0\n",
      "0\n",
      "0\n",
      "0\n",
      "0\n",
      "0\n",
      "0\n",
      "0\n",
      "0\n",
      "0\n",
      "0\n",
      "0\n",
      "0\n"
     ]
    },
    {
     "data": {
      "text/plain": [
       "[None,\n",
       " None,\n",
       " None,\n",
       " None,\n",
       " None,\n",
       " None,\n",
       " None,\n",
       " None,\n",
       " None,\n",
       " None,\n",
       " None,\n",
       " None,\n",
       " None,\n",
       " None,\n",
       " None,\n",
       " None,\n",
       " None,\n",
       " None,\n",
       " None,\n",
       " None,\n",
       " None,\n",
       " None,\n",
       " None,\n",
       " None,\n",
       " None,\n",
       " None,\n",
       " None,\n",
       " None,\n",
       " None,\n",
       " None,\n",
       " None,\n",
       " None,\n",
       " None,\n",
       " None,\n",
       " None,\n",
       " None,\n",
       " None,\n",
       " None,\n",
       " None,\n",
       " None,\n",
       " None,\n",
       " None,\n",
       " None,\n",
       " None,\n",
       " None,\n",
       " None,\n",
       " None,\n",
       " None,\n",
       " None,\n",
       " None]"
      ]
     },
     "execution_count": 5,
     "metadata": {},
     "output_type": "execute_result"
    }
   ],
   "source": [
    "import random\n",
    "ls = [i for i in range(50)]\n",
    "random.shuffle(ls)\n",
    "ser = 23\n",
    "res = [1 if ele==ser else 0 for ele in ls]"
   ]
  },
  {
   "cell_type": "code",
   "execution_count": 6,
   "metadata": {},
   "outputs": [
    {
     "name": "stdout",
     "output_type": "stream",
     "text": [
      "23 found at index 46\n",
      "52 not found in the list\n"
     ]
    }
   ],
   "source": [
    "import random\n",
    "def linear_search(arr, ser):\n",
    "    \"\"\"\n",
    "    This function performs linear search by iterating over each element in the array\n",
    "    and comparing it with the element to be searched\n",
    "    \"\"\"\n",
    "    for ind in range(len(arr)):\n",
    "        if arr[ind] == ser:\n",
    "            print(ser, \"found at index\", ind)\n",
    "            return\n",
    "    print(ser, \"not found in the list\")      # Return -1 if not found\n",
    "\n",
    "a = [i for i in range(50)]\n",
    "random.shuffle(a)\n",
    "\n",
    "linear_search(a, 23)\n",
    "linear_search(a, 52)"
   ]
  },
  {
   "cell_type": "code",
   "execution_count": 9,
   "metadata": {},
   "outputs": [
    {
     "name": "stdout",
     "output_type": "stream",
     "text": [
      "40  found at index 3\n",
      "197  found at index 9\n",
      "1001  not found in the list\n"
     ]
    },
    {
     "data": {
      "text/plain": [
       "-1"
      ]
     },
     "execution_count": 9,
     "metadata": {},
     "output_type": "execute_result"
    }
   ],
   "source": [
    "def binary_search(arr, ser, lb, ub):\n",
    "    \"\"\"\n",
    "    This function performs binary search by eliminating atleast half of a given list\n",
    "    in each iteration(Needs a sorted list).\n",
    "    Requires 4 parameters: 1) arr - array, 2)ser - search element, 3) lb = lower bound (Pass 0 here)\n",
    "                           4) ub - upper bound (pass (length of array-1))  \n",
    "    \"\"\"\n",
    "    if lb > ub:          # This means the list is exhausted\n",
    "        print(ser, \" not found in the list\")\n",
    "        return -1\n",
    "    mid = (lb+ub)//2\n",
    "    if arr[mid]==ser:    # Element found, return index\n",
    "        print(ser, \" found at index\", mid)\n",
    "        return mid\n",
    "    elif arr[mid] < ser: # Element is larger than mid, search upper half of list\n",
    "        return binary_search(arr, ser, mid + 1, ub)\n",
    "    else:                # Element is smaller than mid, search lower half of list\n",
    "        return binary_search(arr, ser, lb, mid - 1)\n",
    "\n",
    "\n",
    "a = [random.randint(1,1000) for i in range(50)]\n",
    "ser1,ser2 = a[0], a[-1]\n",
    "a.sort()\n",
    "\n",
    "binary_search(a, ser1, 0, len(a)-1)\n",
    "binary_search(a, ser2, 0, len(a)-1)\n",
    "binary_search(a, 1001, 0, len(a)-1)"
   ]
  },
  {
   "cell_type": "code",
   "execution_count": 13,
   "metadata": {},
   "outputs": [
    {
     "name": "stdout",
     "output_type": "stream",
     "text": [
      "Original: [760, 499, 847, 525, 146, 986, 496, 260, 345, 396]\n",
      "Sorted: [146, 260, 345, 396, 496, 499, 525, 760, 847, 986]\n"
     ]
    }
   ],
   "source": [
    "def bubble_sort(arr):\n",
    "    \"\"\"\n",
    "    This function performs bubble sort by pushing the largest element to\n",
    "    the end of the list in each iteration.\n",
    "    \"\"\"\n",
    "    terminate = True                    # Flag to terminate early in case list is sorted\n",
    "    for i in range(len(arr)-1):\n",
    "        terminate = True\n",
    "        for j in range(len(arr)-1-i):\n",
    "            if arr[j] > arr[j+1]:       # if any element is smaller than the next then swap and update the terminate flag\n",
    "                terminate = False      \n",
    "                arr[j],arr[j+1] = arr[j+1],arr[j]\n",
    "        if terminate:                   # if no swaps, exit the loop as the list is already sorted\n",
    "            break\n",
    "\n",
    "a = [random.randint(1,1000) for i in range(10)]\n",
    "print(\"Original:\", a)\n",
    "bubble_sort(a)\n",
    "print(\"Sorted:\", a)\n"
   ]
  },
  {
   "cell_type": "code",
   "execution_count": 24,
   "metadata": {},
   "outputs": [
    {
     "name": "stdout",
     "output_type": "stream",
     "text": [
      "Original: [325, 741, 588, 165, 628, 977, 768, 845, 923, 546]\n",
      "Sorted: [165, 325, 546, 588, 628, 741, 768, 845, 923, 977]\n"
     ]
    }
   ],
   "source": [
    "def selection_sort(arr):\n",
    "    \"\"\"\n",
    "    This function performs selection sort by pulling the smallest element to\n",
    "    the back of the list in each iteration.\n",
    "    \"\"\"\n",
    "\n",
    "    for i in range(len(arr)-1):\n",
    "        min_index = i                                          # Chose initial minimum index\n",
    "        for j in range(i+1, len(arr)):\n",
    "            if arr[j] < arr[min_index]:                        # Update minimum index if a smaller element is found\n",
    "                min_index = j\n",
    "        arr[i], arr[min_index] = arr[min_index], arr[i]        # Swap current element with minimum index\n",
    "\n",
    "a = [random.randint(1,1000) for i in range(10)]\n",
    "print(\"Original:\", a)\n",
    "selection_sort(a)\n",
    "print(\"Sorted:\", a)"
   ]
  },
  {
   "cell_type": "code",
   "execution_count": null,
   "metadata": {},
   "outputs": [],
   "source": []
  }
 ],
 "metadata": {
  "kernelspec": {
   "display_name": "Python 3.10.7 64-bit (microsoft store)",
   "language": "python",
   "name": "python3"
  },
  "language_info": {
   "codemirror_mode": {
    "name": "ipython",
    "version": 3
   },
   "file_extension": ".py",
   "mimetype": "text/x-python",
   "name": "python",
   "nbconvert_exporter": "python",
   "pygments_lexer": "ipython3",
   "version": "3.10.7"
  },
  "orig_nbformat": 4,
  "vscode": {
   "interpreter": {
    "hash": "71378fec4b9b0ae51f784db9960b5ea07fb9042b7f7d69b6f196c430cecf08e0"
   }
  }
 },
 "nbformat": 4,
 "nbformat_minor": 2
}
