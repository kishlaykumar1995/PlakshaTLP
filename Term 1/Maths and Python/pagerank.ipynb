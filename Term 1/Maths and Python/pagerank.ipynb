{
 "cells": [
  {
   "cell_type": "markdown",
   "metadata": {},
   "source": [
    "### Question 1"
   ]
  },
  {
   "cell_type": "code",
   "execution_count": 11,
   "metadata": {},
   "outputs": [
    {
     "name": "stdout",
     "output_type": "stream",
     "text": [
      "Multiplied Vector: [0.41597356 0.90937671]\n"
     ]
    }
   ],
   "source": [
    "import numpy as np\n",
    "\n",
    "def q1():\n",
    "    mat = np.array([[1,2],\n",
    "                    [3,4]])\n",
    "    a = np.array([2,3])\n",
    "    a = a/np.linalg.norm(a)\n",
    "    for i in range(100):\n",
    "        a = mat@a\n",
    "        a = a/np.linalg.norm(a)\n",
    "    print(\"Multiplied Vector:\",a)\n",
    "q1()"
   ]
  },
  {
   "cell_type": "markdown",
   "metadata": {},
   "source": [
    "### Question 2"
   ]
  },
  {
   "cell_type": "code",
   "execution_count": 21,
   "metadata": {},
   "outputs": [
    {
     "name": "stdout",
     "output_type": "stream",
     "text": [
      "Eigen Vector: [-0.41597356 -0.90937671]\n"
     ]
    }
   ],
   "source": [
    "def q2():\n",
    "    mat = np.array([[1,2],\n",
    "                    [3,4]])\n",
    "    print(\"Eigen Vector:\",np.linalg.eig(mat)[1][:,1])\n",
    "q2()"
   ]
  },
  {
   "cell_type": "markdown",
   "metadata": {},
   "source": [
    "We see that the eigenvector is here has the same value as the normalized version of the result we obtain in Q1(direction is opposite but along the same line)"
   ]
  },
  {
   "cell_type": "markdown",
   "metadata": {},
   "source": [
    "### Question 3"
   ]
  },
  {
   "cell_type": "code",
   "execution_count": 30,
   "metadata": {},
   "outputs": [
    {
     "name": "stdout",
     "output_type": "stream",
     "text": [
      "Converged Vector: [[0.30769231]\n",
      " [0.15384615]\n",
      " [0.15384615]\n",
      " [0.07692308]\n",
      " [0.07692308]\n",
      " [0.07692308]\n",
      " [0.07692308]\n",
      " [0.07692308]]\n"
     ]
    }
   ],
   "source": [
    "def q3():\n",
    "    a = np.matrix([\n",
    "        [0,0,0,0.5,0.5,1,1,1],\n",
    "        [0.5,0,0,0,0,0,0,0],\n",
    "        [0.5,0,0,0,0,0,0,0],\n",
    "        [0,0.5,0,0,0,0,0,0],\n",
    "        [0,0.5,0,0,0,0,0,0],\n",
    "        [0,0,0.5,0,0,0,0,0],\n",
    "        [0,0,0.5,0,0,0,0,0],\n",
    "        [0,0,0,0.5,0.5,0,0,0]\n",
    "    ])\n",
    "\n",
    "    for i in range(100):\n",
    "        a = a@a\n",
    "    print(\"Converged Vector:\",a[:,0])\n",
    "q3()"
   ]
  },
  {
   "cell_type": "code",
   "execution_count": 35,
   "metadata": {},
   "outputs": [
    {
     "name": "stdout",
     "output_type": "stream",
     "text": [
      "Eigen Vector: [[0.29711254]\n",
      " [0.14855627]\n",
      " [0.14855627]\n",
      " [0.07427814]\n",
      " [0.07427814]\n",
      " [0.07427814]\n",
      " [0.07427814]\n",
      " [0.07427814]]\n"
     ]
    }
   ],
   "source": [
    "a = np.matrix([\n",
    "        [0,0,0,0.5,0.5,1,1,1],\n",
    "        [0.5,0,0,0,0,0,0,0],\n",
    "        [0.5,0,0,0,0,0,0,0],\n",
    "        [0,0.5,0,0,0,0,0,0],\n",
    "        [0,0.5,0,0,0,0,0,0],\n",
    "        [0,0,0.5,0,0,0,0,0],\n",
    "        [0,0,0.5,0,0,0,0,0],\n",
    "        [0,0,0,0.5,0.5,0,0,0]\n",
    "    ])\n",
    "print(\"Eigen Vector:\",(np.linalg.eig(a)[1][:,0]/2.5).real)"
   ]
  },
  {
   "cell_type": "markdown",
   "metadata": {},
   "source": [
    "We see that on multiplying the matrix with itself multiple times it converges to (a scaled version of) principal eigenvector."
   ]
  },
  {
   "cell_type": "markdown",
   "metadata": {},
   "source": [
    "### Question 4 - Random Walk"
   ]
  },
  {
   "cell_type": "code",
   "execution_count": 31,
   "metadata": {},
   "outputs": [],
   "source": [
    "import networkx\n",
    "import random\n",
    "import matplotlib.pyplot as plt"
   ]
  },
  {
   "cell_type": "code",
   "execution_count": 33,
   "metadata": {},
   "outputs": [
    {
     "name": "stdout",
     "output_type": "stream",
     "text": [
      "{'A': 3081, 'B': 1521, 'C': 1560, 'D': 772, 'E': 749, 'F': 772, 'G': 788, 'H': 757}\n",
      "Visit distribution Ratio: [0.3081 0.1521 0.156  0.0772 0.0749 0.0772 0.0788 0.0757]\n"
     ]
    }
   ],
   "source": [
    "d = {'A':['B','C'],\n",
    "     'B':['D','E'],\n",
    "     'C':['F','G'],\n",
    "     'D':['A','H'],\n",
    "     'E':['A','H'],\n",
    "     'F':['A'],\n",
    "     'G':['A'],\n",
    "     'H':['A']}\n",
    "\n",
    "node = random.choice(list(d.keys()))\n",
    "final_ls = {k:0 for k in d.keys()}\n",
    "\n",
    "for j in range(10000):\n",
    "     node = random.choice(d[node])\n",
    "     final_ls[node]+=1\n",
    "\n",
    "print(final_ls)\n",
    "print(\"Visit distribution Ratio:\",np.array(list(final_ls.values()))/sum(final_ls.values()))"
   ]
  },
  {
   "cell_type": "markdown",
   "metadata": {},
   "source": [
    "Distribution of visits is the same as principal eigenvector obtained using the convergence method used in the previous question."
   ]
  },
  {
   "cell_type": "code",
   "execution_count": 104,
   "metadata": {},
   "outputs": [
    {
     "data": {
      "text/plain": [
       "<BarContainer object of 8 artists>"
      ]
     },
     "execution_count": 104,
     "metadata": {},
     "output_type": "execute_result"
    },
    {
     "data": {
      "image/png": "[encoded data removed]",
      "text/plain": [
       "<Figure size 640x480 with 1 Axes>"
      ]
     },
     "metadata": {},
     "output_type": "display_data"
    }
   ],
   "source": [
    "plt.bar(final_ls.keys(), final_ls.values())"
   ]
  },
  {
   "cell_type": "code",
   "execution_count": null,
   "metadata": {},
   "outputs": [],
   "source": [
    "plt.bar(final_ls.keys(), final_ls.values())"
   ]
  },
  {
   "cell_type": "markdown",
   "metadata": {},
   "source": [
    "### Question 5"
   ]
  },
  {
   "cell_type": "code",
   "execution_count": 45,
   "metadata": {},
   "outputs": [
    {
     "name": "stdout",
     "output_type": "stream",
     "text": [
      "Head count: 1812\n",
      "Tail count: 1838\n"
     ]
    }
   ],
   "source": [
    "a = []\n",
    "x = []\n",
    "y = []\n",
    "for i in range(3650):\n",
    "    a.append(random.choice(['h','t']))\n",
    "    x.append(a.count('h')*1000)\n",
    "    y.append(a.count('t')*1000)\n",
    "print(\"Head count:\", a.count('h'))\n",
    "print(\"Tail count:\", a.count('t'))"
   ]
  },
  {
   "cell_type": "code",
   "execution_count": 49,
   "metadata": {},
   "outputs": [
    {
     "data": {
      "text/plain": [
       "<matplotlib.legend.Legend at 0x24541b3d8d0>"
      ]
     },
     "execution_count": 49,
     "metadata": {},
     "output_type": "execute_result"
    },
    {
     "data": {
      "image/png": "[encoded data removed]",
      "text/plain": [
       "<Figure size 640x480 with 1 Axes>"
      ]
     },
     "metadata": {},
     "output_type": "display_data"
    }
   ],
   "source": [
    "plt.plot(x,y, label='Equal')\n",
    "plt.plot([500*x for x in range(3650)],\n",
    "         [500*x for x in range(3650)],label='Random')\n",
    "plt.legend()"
   ]
  },
  {
   "cell_type": "markdown",
   "metadata": {},
   "source": [
    "These two statements essesntially represent the idea of 'Equal Distribution' and 'Random Walk' which is the same for large values. In the long run the number of heads and number of tails for an unbiased coin is likely to remain the same provided the coin is unbiased as shown in the code above. Hence, by the end of the year both daughters are likely to receive, more or less the same amount of money, irrespective of the method we use."
   ]
  },
  {
   "cell_type": "markdown",
   "metadata": {},
   "source": [
    "### Question 6"
   ]
  },
  {
   "cell_type": "code",
   "execution_count": 64,
   "metadata": {},
   "outputs": [
    {
     "name": "stdout",
     "output_type": "stream",
     "text": [
      "(array([ 1.72775350e+00+0.j        , -6.20853041e-01+1.41285018j,\n",
      "       -6.20853041e-01-1.41285018j, -4.86047418e-01+0.j        ,\n",
      "        9.02999445e-09+0.j        , -9.02999445e-09+0.j        ,\n",
      "       -2.49044648e-17+0.j        ,  3.23415489e-17+0.j        ]), matrix([[ 6.63834069e-01+0.j        , -5.93276700e-01+0.j        ,\n",
      "         -5.93276700e-01-0.j        ,  5.09966481e-02+0.j        ,\n",
      "         -1.25204240e-16+0.j        , -1.33097250e-16+0.j        ,\n",
      "         -9.39208632e-17+0.j        , -1.27427145e-16+0.j        ],\n",
      "        [ 3.84218043e-01+0.j        ,  1.54659475e-01+0.35195232j,\n",
      "          1.54659475e-01-0.35195232j, -1.04921138e-01+0.j        ,\n",
      "          1.38845105e-16+0.j        ,  2.74725694e-16+0.j        ,\n",
      "          1.00101035e-16+0.j        ,  1.89093010e-16+0.j        ],\n",
      "        [ 3.84218043e-01+0.j        ,  1.54659475e-01+0.35195232j,\n",
      "          1.54659475e-01-0.35195232j, -1.04921138e-01+0.j        ,\n",
      "          3.68647997e-09+0.j        , -3.68647951e-09+0.j        ,\n",
      "          6.00606208e-17+0.j        ,  4.72732524e-17+0.j        ],\n",
      "        [ 2.22380127e-01+0.j        ,  1.68472621e-01-0.18349873j,\n",
      "          1.68472621e-01+0.18349873j,  2.15866053e-01+0.j        ,\n",
      "         -6.29321457e-09+0.j        ,  6.29321472e-09+0.j        ,\n",
      "         -2.48556325e-01+0.j        , -4.66314405e-01+0.j        ],\n",
      "        [ 2.22380127e-01+0.j        ,  1.68472621e-01-0.18349873j,\n",
      "          1.68472621e-01+0.18349873j,  2.15866053e-01+0.j        ,\n",
      "         -1.07974474e-09+0.j        ,  1.07974509e-09+0.j        ,\n",
      "          2.48556325e-01+0.j        ,  4.66314405e-01+0.j        ],\n",
      "        [ 2.22380127e-01+0.j        ,  1.68472621e-01-0.18349873j,\n",
      "          1.68472621e-01+0.18349873j,  2.15866053e-01+0.j        ,\n",
      "          4.08248293e-01+0.j        ,  4.08248288e-01+0.j        ,\n",
      "         -2.32093482e-01+0.j        ,  4.45986147e-01+0.j        ],\n",
      "        [ 2.22380127e-01+0.j        ,  1.68472621e-01-0.18349873j,\n",
      "          1.68472621e-01+0.18349873j,  2.15866053e-01+0.j        ,\n",
      "          4.08248293e-01+0.j        ,  4.08248288e-01+0.j        ,\n",
      "          7.46775855e-01+0.j        ,  1.42209806e-01+0.j        ],\n",
      "        [ 2.57421127e-01+0.j        , -3.05552842e-01-0.10421617j,\n",
      "         -3.05552842e-01+0.10421617j, -8.88251001e-01+0.j        ,\n",
      "         -8.16496578e-01+0.j        , -8.16496583e-01+0.j        ,\n",
      "         -5.14682373e-01+0.j        , -5.88195953e-01+0.j        ]]))\n"
     ]
    }
   ],
   "source": [
    "adj = np.matrix([\n",
    "        [0,0,0,1,1,1,1,1],\n",
    "        [1,0,0,0,0,0,0,0],\n",
    "        [1,0,0,0,0,0,0,0],\n",
    "        [0,1,0,0,0,0,0,0],\n",
    "        [0,1,0,0,0,0,0,0],\n",
    "        [0,0,1,0,0,0,0,0],\n",
    "        [0,0,1,0,0,0,0,0],\n",
    "        [0,0,0,1,1,0,0,0]\n",
    "    ])                                                 # Adjacency Matrix\n",
    "\n",
    "print(np.linalg.eig(adj))"
   ]
  },
  {
   "cell_type": "markdown",
   "metadata": {},
   "source": [
    "### Question 7"
   ]
  },
  {
   "cell_type": "markdown",
   "metadata": {},
   "source": [
    "For a network of vertices in the order of thousands, it is extremely inefficient to calculate the eigenvectors through matrix multiplication convergence as it is of the order $O(n^2)$. Random walk with teleportation is much more effecient since any random walk for n-steps takes only $O(n)$ time."
   ]
  },
  {
   "cell_type": "markdown",
   "metadata": {},
   "source": [
    "### Question 8 - Pseudocode for line intersection"
   ]
  },
  {
   "cell_type": "markdown",
   "metadata": {},
   "source": [
    "$y_1=m_1x+c_1$\n",
    "\n",
    "$y_2=m_2x+c_2$\n",
    "\n",
    "Thus, we can calculate:\n",
    "\n",
    "$x = \\frac{(c_2-c_1)}{(m_1-m_2)}$\n",
    "\n",
    "$y = m_1x + c_1$"
   ]
  },
  {
   "cell_type": "code",
   "execution_count": 57,
   "metadata": {},
   "outputs": [
    {
     "name": "stdout",
     "output_type": "stream",
     "text": [
      "Intersection: (-3.0, -5.0)\n"
     ]
    }
   ],
   "source": [
    "def calculate_intersection(s1,s2):\n",
    "    m1,c1 = s1\n",
    "    m2,c2 = s2\n",
    "    if m1 == m2:\n",
    "        return \"Invalid\"\n",
    "    x = (c2-c1)/(m1-m2)\n",
    "    y = m1*x+c1\n",
    "    print(\"Intersection:\",(x,y))\n",
    "\n",
    "calculate_intersection((2,1),(3,4))\n"
   ]
  },
  {
   "cell_type": "code",
   "execution_count": 3,
   "metadata": {},
   "outputs": [
    {
     "name": "stdout",
     "output_type": "stream",
     "text": [
      "[[0.1538466  0.15384793 0.1538453  0.15384463]\n",
      " [0.30768993 0.30769124 0.30769586 0.30769059]\n",
      " [0.30769322 0.30769026 0.30769124 0.30769586]\n",
      " [0.23077024 0.23077058 0.23076761 0.23076892]]\n"
     ]
    }
   ],
   "source": [
    "import numpy as np\n",
    "a = np.matrix([\n",
    "    [0,0.5,0,0],\n",
    "    [0,0,1,0],\n",
    "    [0.5,0,0,1],\n",
    "    [0.5,0.5,0,0]\n",
    "])\n",
    "print(np.linalg.matrix_power(a,100))"
   ]
  },
  {
   "cell_type": "code",
   "execution_count": 8,
   "metadata": {},
   "outputs": [
    {
     "data": {
      "text/plain": [
       "matrix([[-0.2981424 +0.j],\n",
       "        [-0.59628479+0.j],\n",
       "        [-0.59628479+0.j],\n",
       "        [-0.4472136 +0.j]])"
      ]
     },
     "execution_count": 8,
     "metadata": {},
     "output_type": "execute_result"
    }
   ],
   "source": [
    "np.linalg.eig(a)[1][:,0]"
   ]
  },
  {
   "cell_type": "code",
   "execution_count": null,
   "metadata": {},
   "outputs": [],
   "source": []
  }
 ],
 "metadata": {
  "kernelspec": {
   "display_name": "Python 3.10.7 64-bit (microsoft store)",
   "language": "python",
   "name": "python3"
  },
  "language_info": {
   "codemirror_mode": {
    "name": "ipython",
    "version": 3
   },
   "file_extension": ".py",
   "mimetype": "text/x-python",
   "name": "python",
   "nbconvert_exporter": "python",
   "pygments_lexer": "ipython3",
   "version": "3.10.7"
  },
  "orig_nbformat": 4,
  "vscode": {
   "interpreter": {
    "hash": "71378fec4b9b0ae51f784db9960b5ea07fb9042b7f7d69b6f196c430cecf08e0"
   }
  }
 },
 "nbformat": 4,
 "nbformat_minor": 2
}
